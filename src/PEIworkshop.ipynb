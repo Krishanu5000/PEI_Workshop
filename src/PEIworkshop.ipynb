{
 "cells": [
  {
   "cell_type": "code",
   "execution_count": 0,
   "metadata": {
    "application/vnd.databricks.v1+cell": {
     "cellMetadata": {
      "byteLimit": 2048000,
      "implicitDf": true,
      "rowLimit": 10000
     },
     "inputWidgets": {},
     "nuid": "2cf8f87c-2ad4-4849-8c1a-d4e1eb2f317c",
     "showTitle": false,
     "tableResultSettingsMap": {},
     "title": ""
    }
   },
   "outputs": [
    {
     "output_type": "display_data",
     "data": {
      "text/html": [
       "<style scoped>\n",
       "  .table-result-container {\n",
       "    max-height: 300px;\n",
       "    overflow: auto;\n",
       "  }\n",
       "  table, th, td {\n",
       "    border: 1px solid black;\n",
       "    border-collapse: collapse;\n",
       "  }\n",
       "  th, td {\n",
       "    padding: 5px;\n",
       "  }\n",
       "  th {\n",
       "    text-align: left;\n",
       "  }\n",
       "</style><div class='table-result-container'><table class='table-result'><thead style='background-color: white'><tr></tr></thead><tbody></tbody></table></div>"
      ]
     },
     "metadata": {
      "application/vnd.databricks.v1+output": {
       "addedWidgets": {},
       "aggData": [],
       "aggError": "",
       "aggOverflow": false,
       "aggSchema": [],
       "aggSeriesLimitReached": false,
       "aggType": "",
       "arguments": {},
       "columnCustomDisplayInfos": {},
       "data": [],
       "datasetInfos": [],
       "dbfsResultPath": null,
       "isJsonSchema": true,
       "metadata": {},
       "overflow": false,
       "plotOptions": {
        "customPlotOptions": {},
        "displayType": "table",
        "pivotAggregation": null,
        "pivotColumns": null,
        "xColumns": null,
        "yColumns": null
       },
       "removedWidgets": [],
       "schema": [],
       "type": "table"
      }
     },
     "output_type": "display_data"
    }
   ],
   "source": [
    "%sql\n",
    "truncate table raw_customer_data;\n",
    "truncate table raw_product_data;\n",
    "truncate table raw_order_data;\n",
    "truncate table enriched_customer_data;\n",
    "truncate table enriched_product_data;\n",
    "truncate table enriched_order_with_cust_and_product;\n",
    "truncate table enriched_aggregated_data;\n",
    "\n",
    "-- CREATE TABLE IF NOT EXISTS raw_customer_data (\n",
    "--   Customer_ID STRING,\n",
    "--   Customer_Name STRING,\n",
    "--   email STRING,\n",
    "--   phone STRING,\n",
    "--   address STRING,\n",
    "--   Segment STRING,\n",
    "--   Country STRING,\n",
    "--   City STRING,\n",
    "--   State STRING,\n",
    "--   Postal_Code STRING,\n",
    "--   Region STRING\n",
    "-- )\n",
    "-- USING DELTA\n",
    "-- LOCATION '/mnt/raw/customer_data';\n",
    "--select * from raw_customer_data;\n",
    "--show create table raw_customer_data;\n",
    "--vacuum  raw_customer_data;\n",
    "\n",
    "\n",
    "-- CREATE TABLE raw_product_data (\n",
    "--   Product_ID STRING,\n",
    "--   Category STRING,\n",
    "--   Sub_Category STRING,\n",
    "--   Product_Name STRING,\n",
    "--   State STRING,\n",
    "--   Price_per_product DECIMAL(27,2)\n",
    "-- )\n",
    "-- USING DELTA\n",
    "-- LOCATION '/mnt/raw/product_data';\n",
    "--select * from raw_product_data\n",
    "--vacuum raw_product_data\n",
    "--drop table raw_product_data\n",
    "\n",
    "\n",
    "\n",
    "-- CREATE TABLE raw_order_data (\n",
    "--   `Row_ID` BIGINT,\n",
    "--   `Order_ID` STRING,\n",
    "--   `Order_Date` STRING,\n",
    "--   `Ship_Date` STRING,\n",
    "--   `Ship_Mode` STRING,\n",
    "--   `Customer_ID` STRING,\n",
    "--   `Product_ID` STRING,\n",
    "--    Quantity INTEGER,\n",
    "--    Price DECIMAL(27,6),\n",
    "--    Discount DECIMAL(27,6),\n",
    "--    Profit DECIMAL(27,6)\n",
    "-- )\n",
    "-- USING DELTA\n",
    "-- LOCATION '/mnt/raw/order_data_1';\n",
    "--select * from raw_order_data\n",
    "--vacuum raw_order_data\n",
    "--drop table raw_order_data\n",
    "\n",
    "\n",
    "-- CREATE TABLE IF NOT EXISTS enriched_customer_data (\n",
    "--   Customer_ID STRING,\n",
    "--   Customer_Name STRING,\n",
    "--   email STRING,\n",
    "--   phone STRING,\n",
    "--   address STRING,\n",
    "--   Segment STRING,\n",
    "--   Country STRING,\n",
    "--   City STRING,\n",
    "--   State STRING,\n",
    "--   Postal_Code STRING,\n",
    "--   Region STRING\n",
    "-- )\n",
    "-- USING DELTA\n",
    "-- LOCATION '/mnt/enriched/customer_data';\n",
    "--select * from enriched_customer_data;\n",
    "\n",
    "\n",
    "-- CREATE TABLE enriched_product_data (\n",
    "--   Product_ID STRING,\n",
    "--   Category STRING,\n",
    "--   Sub_Category STRING,\n",
    "--   Product_Name STRING,\n",
    "--   State STRING,\n",
    "--   Price_per_product DECIMAL(27,2)\n",
    "-- )\n",
    "-- USING DELTA\n",
    "-- LOCATION '/mnt/enriched/product_data';\n",
    "--select * from enriched_product_data;\n",
    "--select Product_ID from enriched_product_data group by Product_ID having count(*)>1;\n",
    "\n",
    "-- CREATE TABLE enriched_order_with_cust_and_product(\n",
    "-- Order_ID STRING,\n",
    "-- Order_Date DATE,\n",
    "-- Ship_Date DATE,\n",
    "-- Ship_Mode STRING,\n",
    "-- Customer_ID STRING,\n",
    "-- Product_ID STRING,\n",
    "-- Customer_Name STRING,\n",
    "-- Country STRING,\n",
    "-- Category STRING,\n",
    "-- Sub_Category STRING,\n",
    "-- Quantity INTEGER,\n",
    "-- Price DECIMAL(27,2),\n",
    "-- Discount DECIMAL(27,2),\n",
    "-- Profit DECIMAL(27,2))\n",
    "-- USING DELTA\n",
    "-- LOCATION '/mnt/enriched/enriched_order_with_cust_and_product';\n",
    "-- drop table enriched_order_with_cust_and_product;\n",
    "-- select * from enriched_order_with_cust_and_product;\n",
    "\n",
    "-- CREATE TABLE enriched_aggregated_data(\n",
    "--     `year` int,\n",
    "--     product_category STRING,\n",
    "--     product_sub_category STRING,\n",
    "--     customer_id STRING,\n",
    "--     customer_name STRING,\n",
    "--     net_proft DECIMAL(27,2))\n",
    "--     USING DELTA\n",
    "--     LOCATION '/mnt/enriched/enriched_aggregated_data';\n",
    "\n",
    "-- drop table enriched_aggregated_data;\n",
    "--select * from enriched_aggregated_data;"
   ]
  },
  {
   "cell_type": "code",
   "execution_count": 0,
   "metadata": {
    "application/vnd.databricks.v1+cell": {
     "cellMetadata": {
      "byteLimit": 2048000,
      "rowLimit": 10000
     },
     "inputWidgets": {},
     "nuid": "d6cf01e5-f1c8-467a-950a-5839db656fda",
     "showTitle": false,
     "tableResultSettingsMap": {},
     "title": ""
    }
   },
   "outputs": [],
   "source": [
    "# ------------------- Step 1: Extract From file and load into raw table ------------------- #\n",
    "\n",
    "from pyspark.sql import SparkSession\n",
    "from pyspark.sql.types import StructType, StructField, StringType, DecimalType, DoubleType, LongType, IntegerType\n",
    "from decimal import Decimal\n",
    "from pyspark.sql.functions import col\n",
    "\n",
    "class RawExtractAndLoad():\n",
    "    def __init__(self):\n",
    "        self.spark = SparkSession.builder.getOrCreate()\n",
    "        self.spark.conf.set(\"spark.databricks.delta.schema.autoMerge.enabled\", \"true\")\n",
    "        self.customer_source_path = '/FileStore/tables/Customer.xlsx'\n",
    "        self.product_source_path = '/FileStore/tables/Products.csv'\n",
    "        self.order_source_path = '/FileStore/tables/Orders.json'\n",
    "\n",
    "        self.customer_schema = StructType([\n",
    "            StructField(\"Customer_ID\", StringType(), True),\n",
    "            StructField(\"Customer_Name\", StringType(), True),\n",
    "            StructField(\"email\", StringType(), True),\n",
    "            StructField(\"phone\", StringType(), True),\n",
    "            StructField(\"address\", StringType(), True),\n",
    "            StructField(\"Segment\", StringType(), True),\n",
    "            StructField(\"Country\", StringType(), True),\n",
    "            StructField(\"City\", StringType(), True),\n",
    "            StructField(\"State\", StringType(), True),\n",
    "            StructField(\"Postal_Code\", StringType(), True),\n",
    "            StructField(\"Region\", StringType(), True)\n",
    "        ])\n",
    "\n",
    "        self.product_schema = StructType([\n",
    "            StructField(\"Product_ID\", StringType(), True),\n",
    "            StructField(\"Category\", StringType(), True),\n",
    "            StructField(\"Sub_Category\", StringType(), True),\n",
    "            StructField(\"Product_Name\", StringType(), True),\n",
    "            StructField(\"State\", StringType(), True),\n",
    "            StructField(\"Price_per_product\", DecimalType(27,2), True) \n",
    "        ])\n",
    "\n",
    "    def customer_file_read(self, customer_schema=None, customer_source_path=None):\n",
    "        if customer_schema is None:\n",
    "            customer_schema = self.customer_schema\n",
    "        if customer_source_path is None:\n",
    "            customer_source_path = self.customer_source_path\n",
    "\n",
    "        customer = spark.read.format(\"com.crealytics.spark.excel\")\\\n",
    "            .schema(customer_schema)\\\n",
    "            .option(\"header\", \"true\")\\\n",
    "            .load(customer_source_path)\n",
    "\n",
    "        return customer\n",
    "\n",
    "    def customer_raw_data_load(self):\n",
    "        self.customer_file_read().write.format(\"delta\").mode(\"append\").saveAsTable(\"raw_customer_data\")\n",
    "    \n",
    "    def product_file_read(self, product_schema=None, product_source_path=None):\n",
    "        if product_schema is None:\n",
    "            product_schema = self.product_schema\n",
    "        if product_source_path is None:\n",
    "            product_source_path = self.product_source_path\n",
    "\n",
    "        product = spark.read.format(\"csv\").schema(product_schema).option(\"header\",\"true\").option(\"quote\", \"\\\"\").option(\"escape\", \"\\\"\").load(product_source_path)\n",
    "\n",
    "        return product\n",
    "\n",
    "    def product_raw_data_load(self):\n",
    "        self.product_file_read().write.format(\"delta\").mode(\"append\").saveAsTable(\"raw_product_data\")\n",
    "\n",
    "\n",
    "    def order_file_read(self, order_source_path=None):\n",
    "        if order_source_path is None:\n",
    "            order_source_path = self.order_source_path\n",
    "\n",
    "        order = spark.read.format(\"json\").option(\"multiline\", \"true\").option(\"header\",\"true\").load(order_source_path)\n",
    "\n",
    "        order_renamed = order.toDF(*[c.strip().replace(\" \", \"_\") for c in order.columns])\n",
    "        order_casted = order_renamed \\\n",
    "            .withColumn(\"Price\", col(\"Price\").cast(DecimalType(27, 6))) \\\n",
    "            .withColumn(\"Discount\", col(\"Discount\").cast(DecimalType(27, 6))) \\\n",
    "            .withColumn(\"Profit\", col(\"Profit\").cast(DecimalType(27, 6))) \\\n",
    "            .withColumn(\"Quantity\", col(\"Quantity\").cast(\"int\")) \\\n",
    "            .withColumn(\"Row_ID\", col(\"Row_ID\").cast(\"long\"))\n",
    "\n",
    "        return order_casted\n",
    "\n",
    "    def order_raw_data_load(self):\n",
    "        self.order_file_read().write.format(\"delta\").mode(\"append\").saveAsTable(\"raw_order_data\")\n",
    "\n",
    "\n",
    "\n",
    "\n",
    "\n"
   ]
  },
  {
   "cell_type": "code",
   "execution_count": 0,
   "metadata": {
    "application/vnd.databricks.v1+cell": {
     "cellMetadata": {
      "byteLimit": 2048000,
      "rowLimit": 10000
     },
     "inputWidgets": {},
     "nuid": "970487a2-1c69-484f-8d12-2f80ef658e37",
     "showTitle": false,
     "tableResultSettingsMap": {},
     "title": ""
    }
   },
   "outputs": [
    {
     "output_type": "stream",
     "name": "stdout",
     "output_type": "stream",
     "text": [
      "All theTest passed for the raw_customet table ✅\n"
     ]
    }
   ],
   "source": [
    "# ------------------- Step 2: Unit Test Cases for raw data sets ------------------- #\n",
    "import pytest\n",
    "from pyspark.sql import SparkSession\n",
    "from pyspark.sql.functions import col, round, lit\n",
    "from decimal import Decimal\n",
    "\n",
    "spark = SparkSession.builder.getOrCreate()\n",
    "\n",
    "\n",
    "def test_raw_data_check(spark):\n",
    "    # Arrange\n",
    "    raw_obj = RawExtractAndLoad()\n",
    "    \n",
    "    # Act\n",
    "    df = raw_obj.customer_file_read(None,'/FileStore/tables/Customer_test.xlsx')\n",
    "    \n",
    "    # Assert: check that the DataFrame has expected columns for raw_customer table.\n",
    "    expected_columns = [\n",
    "        \"Customer_ID\", \"Customer_Name\", \"email\", \"phone\", \"address\",\n",
    "        \"Segment\", \"Country\", \"City\", \"State\", \"Postal_Code\", \"Region\"\n",
    "    ]\n",
    "    assert df.columns == expected_columns\n",
    "    # print(df.count())\n",
    "    assert df.count() == 2\n",
    "    assert dict(df.dtypes)[\"Postal_Code\"] == \"string\"\n",
    "    row = df.filter(col(\"Customer_ID\") == 'PW-19240').first()\n",
    "    assert row[\"Customer_Name\"] == \"Pierre Wener\"\n",
    "\n",
    "    # Assert: check that the DataFrame has expected columns for raw_product table.\n",
    "    df = raw_obj.product_file_read(None,'/FileStore/tables/Products_test.csv')\n",
    "\n",
    "    expected_columns = [\n",
    "        \"Product_ID\", \"Category\", \"Sub_Category\",\n",
    "        \"Product_Name\", \"State\", \"Price_per_product\"\n",
    "    ]\n",
    "    assert df.columns == expected_columns\n",
    "    # print(df.count())\n",
    "    assert df.count() == 2\n",
    "    assert dict(df.dtypes)[\"Price_per_product\"] == \"decimal(27,2)\"\n",
    "    row = df.filter(col(\"Product_ID\") == 'FUR-CH-10002961').first()\n",
    "    assert row[\"Price_per_product\"] == Decimal(\"81.88\")\n",
    "\n",
    "    print(\"All theTest passed for the raw_customet table ✅\")\n",
    "    \n",
    "\n",
    "test_raw_data_check(spark)\n"
   ]
  },
  {
   "cell_type": "code",
   "execution_count": 0,
   "metadata": {
    "application/vnd.databricks.v1+cell": {
     "cellMetadata": {
      "byteLimit": 2048000,
      "rowLimit": 10000
     },
     "inputWidgets": {},
     "nuid": "e0b4a0e2-69e0-4570-bd14-8514cbee6bb0",
     "showTitle": false,
     "tableResultSettingsMap": {},
     "title": ""
    }
   },
   "outputs": [],
   "source": [
    "# ------------------- Step 3: Loads Data in raw tables ------------------- #\n",
    "\n",
    "raw_obj = RawExtractAndLoad()\n",
    "# Loading data in raw_customer table\n",
    "raw_obj.customer_raw_data_load()\n",
    "\n",
    "# Loading data in raw_product table\n",
    "raw_obj.product_raw_data_load()\n",
    "\n",
    "# Loading data in raw_order table\n",
    "raw_obj.order_raw_data_load()"
   ]
  },
  {
   "cell_type": "code",
   "execution_count": 0,
   "metadata": {
    "application/vnd.databricks.v1+cell": {
     "cellMetadata": {
      "byteLimit": 2048000,
      "rowLimit": 10000
     },
     "inputWidgets": {},
     "nuid": "fef93ce9-4a7a-4e6f-97af-d7a0f8b8a24e",
     "showTitle": false,
     "tableResultSettingsMap": {},
     "title": ""
    }
   },
   "outputs": [],
   "source": [
    "# ------------------- Step 4: Extract data from raw tables and Do some standardization on raw date --------------------- Then Load To enriched tables-----------------------------------------------#\n",
    "\n",
    "import re\n",
    "from pyspark.sql import SparkSession\n",
    "from pyspark.sql.functions import (\n",
    "    regexp_replace, trim, coalesce, split, size, when, element_at, concat, col, lit, count, row_number, to_date, date_format, year, sum\n",
    ")\n",
    "from pyspark.sql.types import StringType, DecimalType\n",
    "from pyspark.sql.functions import udf\n",
    "from pyspark.sql import Window\n",
    "\n",
    "class EnrichedTableLoad:\n",
    "    def __init__(self):\n",
    "        self.spark = SparkSession.builder.getOrCreate()\n",
    "\n",
    "    @staticmethod\n",
    "    def normalize_phone_static(phone):\n",
    "        if not phone or phone.startswith(\"#\") or (phone.startswith(\"-\") and len(phone.strip()) < 10):\n",
    "            return None\n",
    "\n",
    "        phone = str(phone).strip()\n",
    "        pattern = re.compile(r\"\"\"^\n",
    "            (?:001[-\\.])?                   # Optional country code\n",
    "            (?:\\(?(\\d{3})\\)?[-\\.]?)         # Area code\n",
    "            (\\d{3})[-\\.]?(\\d{4})            # Main number\n",
    "            (?:x(\\d{1,6}))?                 # Optional extension\n",
    "            $\"\"\", re.VERBOSE)\n",
    "\n",
    "        match = pattern.match(phone)\n",
    "        if not match:\n",
    "            return None\n",
    "\n",
    "        area, mid, last, ext = match.groups()\n",
    "        formatted = f\"+1-{area}-{mid}-{last}\"\n",
    "        if ext:\n",
    "            formatted += f\" x{ext}\"\n",
    "        return formatted\n",
    "\n",
    "    @staticmethod\n",
    "    def is_valid_email_static(email):\n",
    "        if email is None:\n",
    "            return \"Invalid email\"\n",
    "        pattern = re.compile(r\"^[a-zA-Z0-9_.+-]+@[a-zA-Z0-9-]+\\.[a-zA-Z0-9-.]+$\")\n",
    "        return email if pattern.match(email.strip()) else \"Invalid email\"\n",
    "\n",
    "    def enriched_cutomer_data(self, df=None):\n",
    "        if df is None:\n",
    "            df = self.spark.table(\"raw_customer_data\")\n",
    "\n",
    "        # Clean and transform customer name\n",
    "        df = df.withColumn(\n",
    "            \"Customer_Name\",\n",
    "            coalesce(\n",
    "                regexp_replace(\n",
    "                    regexp_replace(col(\"Customer_Name\"), r\"[^a-zA-Zö' ]|\\.\\s*\\.\\s*|[0-9]\", \"  \"),\n",
    "                    r\" {2,}\",\n",
    "                    \"\"\n",
    "                ),\n",
    "                lit('NA')\n",
    "            )\n",
    "        )\n",
    "\n",
    "        df = df.withColumn(\"word_count\", size(split(col(\"Customer_Name\"), \" \"))) \\\n",
    "               .withColumn(\"Customer_Name_final\",\n",
    "                   when(col(\"word_count\") > 2,\n",
    "                        concat(\n",
    "                            element_at(split(col(\"Customer_Name\"), \" \"), 1),\n",
    "                            element_at(split(col(\"Customer_Name\"), \" \"), 2),\n",
    "                            lit(\" \"),\n",
    "                            element_at(split(col(\"Customer_Name\"), \" \"), 3)\n",
    "                        )\n",
    "                   ).otherwise(col(\"Customer_Name\"))\n",
    "               )\n",
    "\n",
    "        # Register UDFs\n",
    "        normalize_phone_udf = udf(self.normalize_phone_static, StringType())\n",
    "        valid_email_udf = udf(self.is_valid_email_static, StringType())\n",
    "\n",
    "        df = df.withColumn(\"normalized_phone\", coalesce(normalize_phone_udf(col(\"phone\")), lit(\"Invalid Phone number\")))\n",
    "        df = df.withColumn(\"valid_email\", valid_email_udf(col(\"email\")))\n",
    "\n",
    "        # Final selection\n",
    "        df = df.select(\n",
    "            trim(col(\"Customer_ID\")).alias(\"Customer_ID\"),\n",
    "            trim(col(\"Customer_Name_final\")).alias(\"Customer_Name\"),\n",
    "            trim(col(\"valid_email\")).alias(\"email\"),\n",
    "            trim(col(\"normalized_phone\")).alias(\"phone\"),\n",
    "            trim(col(\"address\")).alias(\"address\"),\n",
    "            trim(col(\"Segment\")).alias(\"Segment\"),\n",
    "            trim(col(\"Country\")).alias(\"Country\"),\n",
    "            trim(col(\"State\")).alias(\"State\"),\n",
    "            trim(col(\"Postal_Code\")).alias(\"Postal_Code\"),\n",
    "            trim(col(\"Region\")).alias(\"Region\")\n",
    "        )\n",
    "        return df\n",
    "\n",
    "    def load_enriched_cutomer_data(self):\n",
    "        self.enriched_cutomer_data().write.format(\"delta\").mode(\"append\").saveAsTable(\"enriched_customer_data\")\n",
    "\n",
    "    def enriched_product_data(self, df=None):\n",
    "        if df is None:\n",
    "            df = self.spark.table(\"raw_product_data\")\n",
    "        \n",
    "        w = Window.partitionBy(col(\"Product_Id\")).orderBy(col(\"Product_Id\"))\n",
    "        rnum = row_number().over(w)\n",
    "        df = df\\\n",
    "            .withColumn(\"rnum\", rnum)\\\n",
    "                .filter(col(\"rnum\") == 1)\\\n",
    "                    .select(trim(col(\"Product_ID\")).alias(\"Product_ID\"),\n",
    "                            trim(col(\"Category\")).alias(\"Category\"),\n",
    "                            trim(col(\"Sub_Category\")).alias(\"Sub_Category\"),\n",
    "                            trim(col(\"Product_Name\")).alias(\"Product_Name\"),\n",
    "                            trim(col(\"State\")).alias(\"State\"),\n",
    "                            coalesce(col(\"Price_per_product\"),lit(0)).alias(\"Price_per_product\"))\n",
    "        \n",
    "        \n",
    "        return df\n",
    "\n",
    "    def load_enriched_product_data(self):\n",
    "        self.enriched_product_data().write.format(\"delta\").mode(\"append\").saveAsTable(\"enriched_product_data\")\n",
    "\n",
    "\n",
    "    def transformed_data_order_cust_product(self, order=None, cust=None, product=None):\n",
    "        if order is None:\n",
    "            order = self.spark.table(\"raw_order_data\")\n",
    "        if cust is None:\n",
    "            cust = self.spark.table(\"enriched_customer_data\")\n",
    "        if product is None:\n",
    "            product = self.spark.table(\"enriched_product_data\")\n",
    "        \n",
    "        df = order.alias(\"o\")\\\n",
    "            .join(cust.alias(\"c\"), regexp_replace(trim(col(\"o.Customer_ID\")),\"-\",\"\") == regexp_replace(trim((\"c.Customer_ID\")),\"-\",\"\"),\"left\")\\\n",
    "                .join(product.alias(\"p\"), regexp_replace(trim(col(\"o.Product_ID\")),'-','') == regexp_replace(trim((\"p.Product_ID\")),'-',''),\"left\")\n",
    "        \n",
    "        df = df\\\n",
    "            .select(\\\n",
    "                trim(col(\"o.Order_ID\")).alias(\"Order_ID\"),\n",
    "                to_date(to_date(col(\"o.Order_Date\"), \"d/M/yyyy\"), \"yyyy-MM-dd\").alias(\"Order_Date\"),\n",
    "                to_date(to_date(col(\"o.Ship_Date\"), \"d/M/yyyy\"), \"yyyy-MM-dd\").alias(\"Ship_Date\"),\n",
    "                trim(col(\"o.Ship_Mode\")).alias(\"Ship_Mode\"),\n",
    "                trim(col(\"o.Customer_ID\")).alias(\"Customer_ID\"),\n",
    "                trim(col(\"o.Product_ID\")).alias(\"Product_ID\"),\n",
    "                trim(col(\"c.Customer_Name\")).alias(\"Customer_Name\"),\n",
    "                trim(col(\"c.Country\")).alias(\"Country\"),\n",
    "                trim(col(\"p.Category\")).alias(\"Category\"),\n",
    "                trim(col(\"p.Sub_Category\")).alias(\"Sub_Category\"),\n",
    "                col(\"o.Quantity\").cast(\"int\").alias(\"Quantity\"),\n",
    "                col(\"o.Price\").cast(DecimalType(27, 2)).alias(\"Price\"),\n",
    "                col(\"o.Discount\").cast(DecimalType(27, 2)).alias(\"Discount\"),\n",
    "                col(\"o.Profit\").cast(DecimalType(27, 2)).alias(\"Profit\")\n",
    "                )\n",
    "        return df\n",
    "    \n",
    "    def load_transformed_data_order_cust_product(self):\n",
    "        self.transformed_data_order_cust_product().write.format(\"delta\").mode(\"append\").saveAsTable(\"enriched_order_with_cust_and_product\")\n",
    "\n",
    "    def aggregated_data_derivation(self, df=None):\n",
    "        if df is None:\n",
    "            df = self.spark.table(\"enriched_order_with_cust_and_product\")\n",
    "        \n",
    "        df = df\\\n",
    "            .select(\\\n",
    "                year(col(\"Order_Date\")).alias(\"year\"),\n",
    "                col(\"Category\").alias(\"product_category\"),\n",
    "                col(\"Sub_Category\").alias(\"product_sub_category\"),\n",
    "                col(\"Customer_ID\").alias(\"Customer_ID\"),\n",
    "                col(\"Customer_Name\").alias(\"Customer_Name\"),\n",
    "                col(\"Profit\").alias(\"Profit\")\n",
    "                ).groupBy(\\\n",
    "                    col(\"year\"),\n",
    "                    col(\"product_category\"),\n",
    "                    col(\"product_sub_category\"),\n",
    "                    col(\"Customer_ID\"),\n",
    "                    col(\"Customer_Name\")\n",
    "                    ).agg(sum(col(\"Profit\")).cast(DecimalType(27,2)).alias(\"net_proft\"))\n",
    "        return df\n",
    "    \n",
    "    def load_aggregated_data(self):\n",
    "        self.aggregated_data_derivation().write.format(\"delta\").mode(\"append\").saveAsTable(\"enriched_aggregated_data\")\n",
    "\n",
    "        \n",
    "        \n",
    "\n"
   ]
  },
  {
   "cell_type": "code",
   "execution_count": 0,
   "metadata": {
    "application/vnd.databricks.v1+cell": {
     "cellMetadata": {
      "byteLimit": 2048000,
      "rowLimit": 10000
     },
     "inputWidgets": {},
     "nuid": "a9f9e794-6c70-4c9e-9e84-fe89bf02a095",
     "showTitle": false,
     "tableResultSettingsMap": {},
     "title": ""
    }
   },
   "outputs": [
    {
     "output_type": "display_data",
     "data": {
      "text/html": [
       "<style scoped>\n",
       "  .table-result-container {\n",
       "    max-height: 300px;\n",
       "    overflow: auto;\n",
       "  }\n",
       "  table, th, td {\n",
       "    border: 1px solid black;\n",
       "    border-collapse: collapse;\n",
       "  }\n",
       "  th, td {\n",
       "    padding: 5px;\n",
       "  }\n",
       "  th {\n",
       "    text-align: left;\n",
       "  }\n",
       "</style><div class='table-result-container'><table class='table-result'><thead style='background-color: white'><tr><th>Order_ID</th><th>Order_Date</th><th>Ship_Date</th><th>Ship_Mode</th><th>Customer_ID</th><th>Product_ID</th><th>Customer_Name</th><th>Country</th><th>Category</th><th>Sub_Category</th><th>Quantity</th><th>Price</th><th>Discount</th><th>Profit</th></tr></thead><tbody></tbody></table></div>"
      ]
     },
     "metadata": {
      "application/vnd.databricks.v1+output": {
       "addedWidgets": {},
       "aggData": [],
       "aggError": "",
       "aggOverflow": false,
       "aggSchema": [],
       "aggSeriesLimitReached": false,
       "aggType": "",
       "arguments": {},
       "columnCustomDisplayInfos": {},
       "data": [],
       "datasetInfos": [],
       "dbfsResultPath": null,
       "isJsonSchema": true,
       "metadata": {},
       "overflow": false,
       "plotOptions": {
        "customPlotOptions": {},
        "displayType": "table",
        "pivotAggregation": null,
        "pivotColumns": null,
        "xColumns": null,
        "yColumns": null
       },
       "removedWidgets": [],
       "schema": [
        {
         "metadata": "{}",
         "name": "Order_ID",
         "type": "\"string\""
        },
        {
         "metadata": "{}",
         "name": "Order_Date",
         "type": "\"string\""
        },
        {
         "metadata": "{}",
         "name": "Ship_Date",
         "type": "\"string\""
        },
        {
         "metadata": "{}",
         "name": "Ship_Mode",
         "type": "\"string\""
        },
        {
         "metadata": "{}",
         "name": "Customer_ID",
         "type": "\"string\""
        },
        {
         "metadata": "{}",
         "name": "Product_ID",
         "type": "\"string\""
        },
        {
         "metadata": "{}",
         "name": "Customer_Name",
         "type": "\"string\""
        },
        {
         "metadata": "{}",
         "name": "Country",
         "type": "\"string\""
        },
        {
         "metadata": "{}",
         "name": "Category",
         "type": "\"string\""
        },
        {
         "metadata": "{}",
         "name": "Sub_Category",
         "type": "\"string\""
        },
        {
         "metadata": "{}",
         "name": "Quantity",
         "type": "\"integer\""
        },
        {
         "metadata": "{}",
         "name": "Price",
         "type": "\"decimal(27,2)\""
        },
        {
         "metadata": "{}",
         "name": "Discount",
         "type": "\"decimal(27,2)\""
        },
        {
         "metadata": "{}",
         "name": "Profit",
         "type": "\"decimal(27,2)\""
        }
       ],
       "type": "table"
      }
     },
     "output_type": "display_data"
    },
    {
     "output_type": "stream",
     "name": "stdout",
     "output_type": "stream",
     "text": [
      "result_df\n"
     ]
    },
    {
     "output_type": "display_data",
     "data": {
      "text/html": [
       "<style scoped>\n",
       "  .table-result-container {\n",
       "    max-height: 300px;\n",
       "    overflow: auto;\n",
       "  }\n",
       "  table, th, td {\n",
       "    border: 1px solid black;\n",
       "    border-collapse: collapse;\n",
       "  }\n",
       "  th, td {\n",
       "    padding: 5px;\n",
       "  }\n",
       "  th {\n",
       "    text-align: left;\n",
       "  }\n",
       "</style><div class='table-result-container'><table class='table-result'><thead style='background-color: white'><tr><th>year</th><th>product_category</th><th>product_sub_category</th><th>Customer_ID</th><th>Customer_Name</th><th>net_proft</th></tr></thead><tbody><tr><td>2016</td><td>Office Supplies</td><td>Binders</td><td>MV-18190</td><td>Mike Vittorini</td><td>86.39</td></tr><tr><td>2014</td><td>null</td><td>null</td><td>MV-18190</td><td>Mike Vittorini</td><td>6.90</td></tr></tbody></table></div>"
      ]
     },
     "metadata": {
      "application/vnd.databricks.v1+output": {
       "addedWidgets": {},
       "aggData": [],
       "aggError": "",
       "aggOverflow": false,
       "aggSchema": [],
       "aggSeriesLimitReached": false,
       "aggType": "",
       "arguments": {},
       "columnCustomDisplayInfos": {},
       "data": [
        [
         2016,
         "Office Supplies",
         "Binders",
         "MV-18190",
         "Mike Vittorini",
         "86.39"
        ],
        [
         2014,
         null,
         null,
         "MV-18190",
         "Mike Vittorini",
         "6.90"
        ]
       ],
       "datasetInfos": [],
       "dbfsResultPath": null,
       "isJsonSchema": true,
       "metadata": {},
       "overflow": false,
       "plotOptions": {
        "customPlotOptions": {},
        "displayType": "table",
        "pivotAggregation": null,
        "pivotColumns": null,
        "xColumns": null,
        "yColumns": null
       },
       "removedWidgets": [],
       "schema": [
        {
         "metadata": "{}",
         "name": "year",
         "type": "\"integer\""
        },
        {
         "metadata": "{}",
         "name": "product_category",
         "type": "\"string\""
        },
        {
         "metadata": "{}",
         "name": "product_sub_category",
         "type": "\"string\""
        },
        {
         "metadata": "{}",
         "name": "Customer_ID",
         "type": "\"string\""
        },
        {
         "metadata": "{}",
         "name": "Customer_Name",
         "type": "\"string\""
        },
        {
         "metadata": "{}",
         "name": "net_proft",
         "type": "\"decimal(27,2)\""
        }
       ],
       "type": "table"
      }
     },
     "output_type": "display_data"
    },
    {
     "output_type": "stream",
     "name": "stdout",
     "output_type": "stream",
     "text": [
      "expected_df\n"
     ]
    },
    {
     "output_type": "display_data",
     "data": {
      "text/html": [
       "<style scoped>\n",
       "  .table-result-container {\n",
       "    max-height: 300px;\n",
       "    overflow: auto;\n",
       "  }\n",
       "  table, th, td {\n",
       "    border: 1px solid black;\n",
       "    border-collapse: collapse;\n",
       "  }\n",
       "  th, td {\n",
       "    padding: 5px;\n",
       "  }\n",
       "  th {\n",
       "    text-align: left;\n",
       "  }\n",
       "</style><div class='table-result-container'><table class='table-result'><thead style='background-color: white'><tr><th>Order_Year</th><th>Category</th><th>Sub_Category</th><th>Customer_ID</th><th>Customer_Name</th><th>Total_Profit</th></tr></thead><tbody><tr><td>2016</td><td>Office Supplies</td><td>Binders</td><td>MV-18190</td><td>Mike Vittorini</td><td>86.39</td></tr><tr><td>2014</td><td>null</td><td>null</td><td>MV-18190</td><td>Mike Vittorini</td><td>6.90</td></tr></tbody></table></div>"
      ]
     },
     "metadata": {
      "application/vnd.databricks.v1+output": {
       "addedWidgets": {},
       "aggData": [],
       "aggError": "",
       "aggOverflow": false,
       "aggSchema": [],
       "aggSeriesLimitReached": false,
       "aggType": "",
       "arguments": {},
       "columnCustomDisplayInfos": {},
       "data": [
        [
         2016,
         "Office Supplies",
         "Binders",
         "MV-18190",
         "Mike Vittorini",
         "86.39"
        ],
        [
         2014,
         null,
         null,
         "MV-18190",
         "Mike Vittorini",
         "6.90"
        ]
       ],
       "datasetInfos": [],
       "dbfsResultPath": null,
       "isJsonSchema": true,
       "metadata": {},
       "overflow": false,
       "plotOptions": {
        "customPlotOptions": {},
        "displayType": "table",
        "pivotAggregation": null,
        "pivotColumns": null,
        "xColumns": null,
        "yColumns": null
       },
       "removedWidgets": [],
       "schema": [
        {
         "metadata": "{}",
         "name": "Order_Year",
         "type": "\"integer\""
        },
        {
         "metadata": "{}",
         "name": "Category",
         "type": "\"string\""
        },
        {
         "metadata": "{}",
         "name": "Sub_Category",
         "type": "\"string\""
        },
        {
         "metadata": "{}",
         "name": "Customer_ID",
         "type": "\"string\""
        },
        {
         "metadata": "{}",
         "name": "Customer_Name",
         "type": "\"string\""
        },
        {
         "metadata": "{}",
         "name": "Total_Profit",
         "type": "\"decimal(27,2)\""
        }
       ],
       "type": "table"
      }
     },
     "output_type": "display_data"
    },
    {
     "output_type": "stream",
     "name": "stdout",
     "output_type": "stream",
     "text": [
      "dffs\n"
     ]
    },
    {
     "output_type": "display_data",
     "data": {
      "text/html": [
       "<style scoped>\n",
       "  .table-result-container {\n",
       "    max-height: 300px;\n",
       "    overflow: auto;\n",
       "  }\n",
       "  table, th, td {\n",
       "    border: 1px solid black;\n",
       "    border-collapse: collapse;\n",
       "  }\n",
       "  th, td {\n",
       "    padding: 5px;\n",
       "  }\n",
       "  th {\n",
       "    text-align: left;\n",
       "  }\n",
       "</style><div class='table-result-container'><table class='table-result'><thead style='background-color: white'><tr><th>year</th><th>product_category</th><th>product_sub_category</th><th>Customer_ID</th><th>Customer_Name</th><th>net_proft</th></tr></thead><tbody></tbody></table></div>"
      ]
     },
     "metadata": {
      "application/vnd.databricks.v1+output": {
       "addedWidgets": {},
       "aggData": [],
       "aggError": "",
       "aggOverflow": false,
       "aggSchema": [],
       "aggSeriesLimitReached": false,
       "aggType": "",
       "arguments": {},
       "columnCustomDisplayInfos": {},
       "data": [],
       "datasetInfos": [],
       "dbfsResultPath": null,
       "isJsonSchema": true,
       "metadata": {},
       "overflow": false,
       "plotOptions": {
        "customPlotOptions": {},
        "displayType": "table",
        "pivotAggregation": null,
        "pivotColumns": null,
        "xColumns": null,
        "yColumns": null
       },
       "removedWidgets": [],
       "schema": [
        {
         "metadata": "{}",
         "name": "year",
         "type": "\"integer\""
        },
        {
         "metadata": "{}",
         "name": "product_category",
         "type": "\"string\""
        },
        {
         "metadata": "{}",
         "name": "product_sub_category",
         "type": "\"string\""
        },
        {
         "metadata": "{}",
         "name": "Customer_ID",
         "type": "\"string\""
        },
        {
         "metadata": "{}",
         "name": "Customer_Name",
         "type": "\"string\""
        },
        {
         "metadata": "{}",
         "name": "net_proft",
         "type": "\"decimal(27,2)\""
        }
       ],
       "type": "table"
      }
     },
     "output_type": "display_data"
    }
   ],
   "source": [
    "# ------------------- Step 5: Unit Test cases for enriched transformations and aggregations------------------- #\n",
    "\n",
    "import pytest\n",
    "import json\n",
    "from pyspark.sql import SparkSession\n",
    "from pyspark.sql.types import StructType, StructField, StringType, DecimalType, FloatType\n",
    "from pyspark.sql.functions import from_json\n",
    "from decimal import Decimal\n",
    "\n",
    "\n",
    "def spark():\n",
    "    return SparkSession.builder.master(\"local[*]\").appName(\"pytest\").getOrCreate()\n",
    "\n",
    "\n",
    "def sample_data():\n",
    "    return [\n",
    "        (\"MV-18190\", \"_Mike Vitt 12313orini\", \"juliesimon499@gmail.com\", \"(359)650-7737x153\", \"Address\", \"Consumer\", \"United States\", \"New York City\", \"New York\", \"10035\", \"East\"),\n",
    "        (\"AO-10810\", \"Anthony O'Donnell\", \"kimshaw310@gmail.com\", \"#ERROR!\", \"Unit 9987 Box 4002\\nDPO AA 15069\", \"Corporate\", \"United States\", \"Los Angeles\", \"California\", \"90045\", \"West\")\n",
    "    ]\n",
    "\n",
    "\n",
    "def customer_schema():\n",
    "    return StructType([\n",
    "        StructField(\"Customer_ID\", StringType()),\n",
    "        StructField(\"Customer_Name\", StringType()),\n",
    "        StructField(\"email\", StringType()),\n",
    "        StructField(\"phone\", StringType()),\n",
    "        StructField(\"address\", StringType()),\n",
    "        StructField(\"Segment\", StringType()),\n",
    "        StructField(\"Country\", StringType()),\n",
    "        StructField(\"City\", StringType()),\n",
    "        StructField(\"State\", StringType()),\n",
    "        StructField(\"Postal_Code\", StringType()),\n",
    "        StructField(\"Region\", StringType()),\n",
    "    ])\n",
    "\n",
    "def test_enriched_customer_data_transformation(spark, sample_data, customer_schema):\n",
    "    etl = EnrichedTableLoad()\n",
    "    df = spark.createDataFrame(sample_data, schema=customer_schema)\n",
    "    result_df = etl.enriched_cutomer_data(df)\n",
    "\n",
    "    # display(result_df)\n",
    "    result = result_df.collect()\n",
    "    \n",
    "    assert result[0][\"email\"] == \"juliesimon499@gmail.com\"\n",
    "    assert result[1][\"phone\"] == \"Invalid Phone number\"\n",
    "    assert result[0][\"Customer_Name\"].startswith(\"Mike\")\n",
    "\n",
    "def smaple_product_data():\n",
    "    return [\n",
    "    (\"TEC-PH-10003811\", \"Office Supplies\", \"Binders\", \"VariCap6 Expandable Binder\", \"California\", \"13.84\"),\n",
    "    (\"TEC-PH-10003811\", \"Office Supplies\", \"Binders\", \"Avery Binding System Hidden Tab Executive Style Index Sets\", \"Oklahoma\", \"5.77\")\n",
    "]\n",
    "\n",
    "def product_schema():\n",
    "    return StructType([\n",
    "            StructField(\"Product_ID\", StringType(), True),\n",
    "            StructField(\"Category\", StringType(), True),\n",
    "            StructField(\"Sub_Category\", StringType(), True),\n",
    "            StructField(\"Product_Name\", StringType(), True),\n",
    "            StructField(\"State\", StringType(), True),\n",
    "            StructField(\"Price_per_product\", StringType(), True) \n",
    "        ])\n",
    "\n",
    "def test_enriched_product_data_transformation(spark, smaple_product_data, product_schema):\n",
    "    etl = EnrichedTableLoad()\n",
    "    df = spark.createDataFrame(smaple_product_data, schema=product_schema)\n",
    "    result_df = etl.enriched_product_data(df)\n",
    "\n",
    "    # display(result_df)  \n",
    "    assert result_df.count() == 1\n",
    "\n",
    "\n",
    "def test_transformed_data(order_df, cust, product, expected_df):\n",
    "    etl = EnrichedTableLoad()\n",
    "    result_df = etl.transformed_data_order_cust_product(order_df, cust, product)\n",
    "    # print(\"result_df\")\n",
    "    # display(result_df)\n",
    "    # print(\"expected_df\")\n",
    "    # display(expected_df)\n",
    "    # print(\"diffs\")\n",
    "    display(result_df.exceptAll(expected_df))\n",
    " \n",
    "    assert result_df.exceptAll(expected_df).count() == 0\n",
    "    assert expected_df.exceptAll(result_df).count() == 0\n",
    "\n",
    "def test_aggregated_data(input_df, expected_df):\n",
    "    etl = EnrichedTableLoad()\n",
    "    result_df = etl.aggregated_data_derivation(input_df)\n",
    "    print(\"result_df\")\n",
    "    display(result_df)\n",
    "    print(\"expected_df\")\n",
    "    display(expected_df)\n",
    "    print(\"dffs\")\n",
    "    display(result_df.exceptAll(expected_df))\n",
    "    assert result_df.exceptAll(expected_df).count() == 0\n",
    "    assert expected_df.exceptAll(result_df).count() == 0\n",
    "\n",
    "\n",
    "\n",
    "\n",
    "# Executing test cases for enriched customer data.\n",
    "spark = spark()\n",
    "sample_data = sample_data()\n",
    "customer_schema = customer_schema()\n",
    "test_enriched_customer_data_transformation(spark,sample_data,customer_schema)\n",
    "\n",
    "# Executing test cases for enriched product data.\n",
    "smaple_product_data = smaple_product_data()\n",
    "product_schema = product_schema()\n",
    "test_enriched_product_data_transformation(spark, smaple_product_data, product_schema)\n",
    "\n",
    "# Executing test cases for enriched table which is loaded with order information along with product and customer.\n",
    "sample_order_data = '''[{\n",
    "    \"Row_ID\": 2050,\n",
    "    \"Order_ID\": \"CA-2016-127698\",\n",
    "    \"Order_Date\": \"1/12/2016\",\n",
    "    \"Ship_Date\": \"1/12/2016\",\n",
    "    \"Ship_Mode\": \"Same Day\",\n",
    "    \"Customer_ID\": \"MV-18190\",\n",
    "    \"Product_ID\": \"TEC-PH-10003811\",\n",
    "    \"Quantity\": 9,\n",
    "    \"Price\": 863.93,\n",
    "    \"Discount\": 0.2,\n",
    "    \"Profit\": 86.39\n",
    "  },\n",
    "  {\n",
    "    \"Row_ID\": 3184,\n",
    "    \"Order_ID\": \"CA-2014-134103\",\n",
    "    \"Order_Date\": \"30/1/2014\",\n",
    "    \"Ship_Date\": \"4/2/2014\",\n",
    "    \"Ship_Mode\": \"Standard Class\",\n",
    "    \"Customer_ID\": \"MV-18190\",\n",
    "    \"Product_ID\": \"OFF-ST-10000991\",\n",
    "    \"Quantity\": 2,\n",
    "    \"Price\": 229.94,\n",
    "    \"Discount\": 0.0,\n",
    "    \"Profit\": 6.9\n",
    "  }]'''\n",
    "\n",
    "order_schema = StructType([\n",
    "    StructField(\"Row_ID\", IntegerType()),\n",
    "    StructField(\"Order_ID\", StringType()),\n",
    "    StructField(\"Order_Date\", StringType()),\n",
    "    StructField(\"Ship_Date\", StringType()),\n",
    "    StructField(\"Ship_Mode\", StringType()),\n",
    "    StructField(\"Customer_ID\", StringType()),\n",
    "    StructField(\"Product_ID\", StringType()),\n",
    "    StructField(\"Quantity\", IntegerType()),\n",
    "    StructField(\"Price\", FloatType()),     # <-- changed\n",
    "    StructField(\"Discount\", FloatType()),  # <-- changed\n",
    "    StructField(\"Profit\", FloatType())     # <-- changed\n",
    "])\n",
    "parsed_data = json.loads(sample_order_data)\n",
    "order_df = spark.createDataFrame(parsed_data, schema=order_schema)\n",
    "# display(order_df)\n",
    "etl = EnrichedTableLoad()\n",
    "product = spark.createDataFrame(smaple_product_data, schema=product_schema)\n",
    "product = etl.enriched_product_data(product)\n",
    "cust = spark.createDataFrame(sample_data, schema=customer_schema)\n",
    "cust = etl.enriched_cutomer_data(cust)\n",
    "# display(cust)\n",
    "# display(product)\n",
    "expected_data = [\n",
    "    (\"CA-2016-127698\", \"2016-12-01\", \"2016-12-01\", \"Same Day\", \"MV-18190\", \"TEC-PH-10003811\", \"Mike Vittorini\", \"United States\", \"Office Supplies\", \"Binders\", 9, Decimal(863.93), Decimal(0.20), Decimal(86.39)),\n",
    "    (\"CA-2014-134103\", \"2014-01-30\", \"2014-02-04\", \"Standard Class\", \"MV-18190\", \"OFF-ST-10000991\", \"Mike Vittorini\", \"United States\", None, None, 2, Decimal(229.94), Decimal(0.00), Decimal(6.9))\n",
    "]\n",
    "\n",
    "expected_schema = schema = StructType([\n",
    "    StructField(\"Order_ID\", StringType()),\n",
    "    StructField(\"Order_Date\", StringType()),\n",
    "    StructField(\"Ship_Date\", StringType()),\n",
    "    StructField(\"Ship_Mode\", StringType()),\n",
    "    StructField(\"Customer_ID\", StringType()),\n",
    "    StructField(\"Product_ID\", StringType()),\n",
    "    StructField(\"Customer_Name\", StringType()),\n",
    "    StructField(\"Country\", StringType()),\n",
    "    StructField(\"Category\", StringType()),\n",
    "    StructField(\"Sub_Category\", StringType()),\n",
    "    StructField(\"Quantity\", IntegerType()),\n",
    "    StructField(\"Price\", DecimalType(27, 2)),\n",
    "    StructField(\"Discount\", DecimalType(27, 2)),\n",
    "    StructField(\"Profit\", DecimalType(27, 2))\n",
    "])\n",
    "\n",
    "expected_df = spark.createDataFrame(expected_data, expected_schema)\n",
    "# display(expected_df)\n",
    "test_transformed_data(order_df, cust, product, expected_df)\n",
    "\n",
    "# Aggregated test\n",
    "result_df = etl.transformed_data_order_cust_product(order_df, cust, product)\n",
    "aggregated_expected_data = [\n",
    "    (2016, 'Office Supplies', 'Binders', 'MV-18190', 'Mike Vittorini', Decimal('86.39')),\n",
    "    (2014, None, None, 'MV-18190', 'Mike Vittorini', Decimal('6.90'))\n",
    "]\n",
    "\n",
    "aggregated_expected_schema = StructType([\n",
    "    StructField(\"Order_Year\", IntegerType(), True),\n",
    "    StructField(\"Category\", StringType(), True),       # Nullable\n",
    "    StructField(\"Sub_Category\", StringType(), True),   # Nullable\n",
    "    StructField(\"Customer_ID\", StringType(), True),\n",
    "    StructField(\"Customer_Name\", StringType(), True),\n",
    "    StructField(\"Total_Profit\", DecimalType(27, 2), True)\n",
    "])\n",
    "\n",
    "expected_agg_df = spark.createDataFrame(aggregated_expected_data, aggregated_expected_schema)\n",
    "test_aggregated_data(result_df, expected_agg_df)\n",
    "\n",
    "\n",
    "\n",
    "\n",
    "\n"
   ]
  },
  {
   "cell_type": "code",
   "execution_count": 0,
   "metadata": {
    "application/vnd.databricks.v1+cell": {
     "cellMetadata": {
      "byteLimit": 2048000,
      "rowLimit": 10000
     },
     "inputWidgets": {},
     "nuid": "d66616e5-3cc9-4bad-b392-1e33cab0e70d",
     "showTitle": false,
     "tableResultSettingsMap": {},
     "title": ""
    }
   },
   "outputs": [],
   "source": [
    "# ------------------- Step 6: Loads data to enriched and aggregated tables------------------- #\n",
    "\n",
    "enrich_load = EnrichedTableLoad()\n",
    "enrich_load.load_enriched_cutomer_data()\n",
    "enrich_load.load_enriched_product_data()\n",
    "enrich_load.load_transformed_data_order_cust_product()\n",
    "enrich_load.load_aggregated_data()\n"
   ]
  },
  {
   "cell_type": "code",
   "execution_count": 0,
   "metadata": {
    "application/vnd.databricks.v1+cell": {
     "cellMetadata": {
      "byteLimit": 2048000,
      "implicitDf": true,
      "rowLimit": 10000
     },
     "inputWidgets": {},
     "nuid": "4be4b28c-3521-4338-a3ac-cd88802d5eba",
     "showTitle": false,
     "tableResultSettingsMap": {},
     "title": ""
    }
   },
   "outputs": [
    {
     "output_type": "display_data",
     "data": {
      "text/html": [
       "<style scoped>\n",
       "  .table-result-container {\n",
       "    max-height: 300px;\n",
       "    overflow: auto;\n",
       "  }\n",
       "  table, th, td {\n",
       "    border: 1px solid black;\n",
       "    border-collapse: collapse;\n",
       "  }\n",
       "  th, td {\n",
       "    padding: 5px;\n",
       "  }\n",
       "  th {\n",
       "    text-align: left;\n",
       "  }\n",
       "</style><div class='table-result-container'><table class='table-result'><thead style='background-color: white'><tr><th>year</th><th>profit_by_year</th></tr></thead><tbody><tr><td>2014</td><td>39185.75</td></tr><tr><td>2015</td><td>63073.09</td></tr><tr><td>2016</td><td>65073.23</td></tr><tr><td>2017</td><td>111084.96</td></tr></tbody></table></div>"
      ]
     },
     "metadata": {
      "application/vnd.databricks.v1+output": {
       "addedWidgets": {},
       "aggData": [],
       "aggError": "",
       "aggOverflow": false,
       "aggSchema": [],
       "aggSeriesLimitReached": false,
       "aggType": "",
       "arguments": {},
       "columnCustomDisplayInfos": {},
       "data": [
        [
         2014,
         "39185.75"
        ],
        [
         2015,
         "63073.09"
        ],
        [
         2016,
         "65073.23"
        ],
        [
         2017,
         "111084.96"
        ]
       ],
       "datasetInfos": [],
       "dbfsResultPath": null,
       "isJsonSchema": true,
       "metadata": {},
       "overflow": false,
       "plotOptions": {
        "customPlotOptions": {},
        "displayType": "table",
        "pivotAggregation": null,
        "pivotColumns": null,
        "xColumns": null,
        "yColumns": null
       },
       "removedWidgets": [],
       "schema": [
        {
         "metadata": "{}",
         "name": "year",
         "type": "\"integer\""
        },
        {
         "metadata": "{}",
         "name": "profit_by_year",
         "type": "\"decimal(38,2)\""
        }
       ],
       "type": "table"
      }
     },
     "output_type": "display_data"
    }
   ],
   "source": [
    "%sql\n",
    "select YEAR(Order_Date) as `year`,round(sum(Profit),2) as profit_by_year from enriched_order_with_cust_and_product\n",
    "group by year(Order_Date) order by year(Order_Date);\n",
    "\n",
    "\n",
    "\n",
    "\n",
    "\n",
    "\n",
    "\n",
    "\n"
   ]
  },
  {
   "cell_type": "code",
   "execution_count": 0,
   "metadata": {
    "application/vnd.databricks.v1+cell": {
     "cellMetadata": {
      "byteLimit": 2048000,
      "implicitDf": true,
      "rowLimit": 10000
     },
     "inputWidgets": {},
     "nuid": "d406927e-ec5a-4ea0-a2aa-ef2df7dbeb84",
     "showTitle": false,
     "tableResultSettingsMap": {},
     "title": ""
    }
   },
   "outputs": [
    {
     "output_type": "display_data",
     "data": {
      "text/html": [
       "<style scoped>\n",
       "  .table-result-container {\n",
       "    max-height: 300px;\n",
       "    overflow: auto;\n",
       "  }\n",
       "  table, th, td {\n",
       "    border: 1px solid black;\n",
       "    border-collapse: collapse;\n",
       "  }\n",
       "  th, td {\n",
       "    padding: 5px;\n",
       "  }\n",
       "  th {\n",
       "    text-align: left;\n",
       "  }\n",
       "</style><div class='table-result-container'><table class='table-result'><thead style='background-color: white'><tr><th>year</th><th>Category</th><th>profit_by_year_ctgry</th></tr></thead><tbody><tr><td>2014</td><td>null</td><td>523.12</td></tr><tr><td>2014</td><td>Furniture</td><td>-5331.04</td></tr><tr><td>2014</td><td>Office Supplies</td><td>22500.32</td></tr><tr><td>2014</td><td>Technology</td><td>21493.35</td></tr><tr><td>2015</td><td>null</td><td>583.16</td></tr><tr><td>2015</td><td>Furniture</td><td>3027.18</td></tr><tr><td>2015</td><td>Office Supplies</td><td>24519.39</td></tr><tr><td>2015</td><td>Technology</td><td>34943.36</td></tr><tr><td>2016</td><td>null</td><td>404.44</td></tr><tr><td>2016</td><td>Furniture</td><td>6889.50</td></tr><tr><td>2016</td><td>Office Supplies</td><td>34555.53</td></tr><tr><td>2016</td><td>Technology</td><td>23223.76</td></tr><tr><td>2017</td><td>null</td><td>488.51</td></tr><tr><td>2017</td><td>Furniture</td><td>3041.54</td></tr><tr><td>2017</td><td>Office Supplies</td><td>44273.12</td></tr><tr><td>2017</td><td>Technology</td><td>63281.79</td></tr></tbody></table></div>"
      ]
     },
     "metadata": {
      "application/vnd.databricks.v1+output": {
       "addedWidgets": {},
       "aggData": [],
       "aggError": "",
       "aggOverflow": false,
       "aggSchema": [],
       "aggSeriesLimitReached": false,
       "aggType": "",
       "arguments": {},
       "columnCustomDisplayInfos": {},
       "data": [
        [
         2014,
         null,
         "523.12"
        ],
        [
         2014,
         "Furniture",
         "-5331.04"
        ],
        [
         2014,
         "Office Supplies",
         "22500.32"
        ],
        [
         2014,
         "Technology",
         "21493.35"
        ],
        [
         2015,
         null,
         "583.16"
        ],
        [
         2015,
         "Furniture",
         "3027.18"
        ],
        [
         2015,
         "Office Supplies",
         "24519.39"
        ],
        [
         2015,
         "Technology",
         "34943.36"
        ],
        [
         2016,
         null,
         "404.44"
        ],
        [
         2016,
         "Furniture",
         "6889.50"
        ],
        [
         2016,
         "Office Supplies",
         "34555.53"
        ],
        [
         2016,
         "Technology",
         "23223.76"
        ],
        [
         2017,
         null,
         "488.51"
        ],
        [
         2017,
         "Furniture",
         "3041.54"
        ],
        [
         2017,
         "Office Supplies",
         "44273.12"
        ],
        [
         2017,
         "Technology",
         "63281.79"
        ]
       ],
       "datasetInfos": [],
       "dbfsResultPath": null,
       "isJsonSchema": true,
       "metadata": {},
       "overflow": false,
       "plotOptions": {
        "customPlotOptions": {},
        "displayType": "table",
        "pivotAggregation": null,
        "pivotColumns": null,
        "xColumns": null,
        "yColumns": null
       },
       "removedWidgets": [],
       "schema": [
        {
         "metadata": "{}",
         "name": "year",
         "type": "\"integer\""
        },
        {
         "metadata": "{}",
         "name": "Category",
         "type": "\"string\""
        },
        {
         "metadata": "{}",
         "name": "profit_by_year_ctgry",
         "type": "\"decimal(38,2)\""
        }
       ],
       "type": "table"
      }
     },
     "output_type": "display_data"
    }
   ],
   "source": [
    "%sql\n",
    "select year(Order_Date) as `year`,Category,\n",
    "round(sum(Profit),2) as profit_by_year_ctgry from enriched_order_with_cust_and_product\n",
    "group by year(Order_Date),Category order by year(Order_Date), Category;\n",
    "\n"
   ]
  },
  {
   "cell_type": "code",
   "execution_count": 0,
   "metadata": {
    "application/vnd.databricks.v1+cell": {
     "cellMetadata": {
      "byteLimit": 2048000,
      "implicitDf": true,
      "rowLimit": 10000
     },
     "inputWidgets": {},
     "nuid": "b12a32b7-fec6-4a49-8132-3d9d9d96f792",
     "showTitle": false,
     "tableResultSettingsMap": {},
     "title": ""
    }
   },
   "outputs": [
    {
     "output_type": "display_data",
     "data": {
      "text/html": [
       "<style scoped>\n",
       "  .table-result-container {\n",
       "    max-height: 300px;\n",
       "    overflow: auto;\n",
       "  }\n",
       "  table, th, td {\n",
       "    border: 1px solid black;\n",
       "    border-collapse: collapse;\n",
       "  }\n",
       "  th, td {\n",
       "    padding: 5px;\n",
       "  }\n",
       "  th {\n",
       "    text-align: left;\n",
       "  }\n",
       "</style><div class='table-result-container'><table class='table-result'><thead style='background-color: white'><tr><th>Customer_ID</th><th>Customer_Name</th><th>profit_by_cust</th></tr></thead><tbody><tr><td>AA-10315</td><td>Alex Avila</td><td>-362.91</td></tr><tr><td>AA-10375</td><td>Allen Armold</td><td>277.40</td></tr><tr><td>AA-10480</td><td>Andrew Allen</td><td>436.08</td></tr><tr><td>AA-10645</td><td>Anna Andreadi</td><td>857.80</td></tr><tr><td>AB-10015</td><td>Aaron Bergman</td><td>129.68</td></tr><tr><td>AB-10060</td><td>Adam Bellavance</td><td>2054.60</td></tr><tr><td>AB-10105</td><td>Adrian Barton</td><td>5444.97</td></tr><tr><td>AB-10150</td><td>Aimee Bixby</td><td>313.66</td></tr><tr><td>AB-10165</td><td>Alan Barnes</td><td>220.60</td></tr><tr><td>AB-10255</td><td>Alejandro Ballentine</td><td>264.57</td></tr><tr><td>AB-10600</td><td>Ann Blume</td><td>-275.28</td></tr><tr><td>AC-10420</td><td>Alyssa Crouse</td><td>-62.13</td></tr><tr><td>AC-10450</td><td>Amy Cox</td><td>1366.50</td></tr><tr><td>AC-10615</td><td>Ann Chong</td><td>298.61</td></tr><tr><td>AC-10660</td><td>Anna Chung</td><td>-28.70</td></tr><tr><td>AD-10180</td><td>Alan Dominguez</td><td>1869.92</td></tr><tr><td>AF-10870</td><td>Art Ferguson</td><td>317.62</td></tr><tr><td>AF-10885</td><td>Art Foster</td><td>-163.13</td></tr><tr><td>AG-10270</td><td>Alejandro Grove</td><td>732.75</td></tr><tr><td>AG-10300</td><td>Aleksandra Gannaway</td><td>59.28</td></tr><tr><td>AG-10330</td><td>Alex Grayson</td><td>-5.36</td></tr><tr><td>AG-10390</td><td>Allen Goldenen</td><td>69.27</td></tr><tr><td>AG-10495</td><td>Andrew Gjertsen</td><td>295.84</td></tr><tr><td>AG-10525</td><td>Andy Gerbode</td><td>-152.75</td></tr><tr><td>AG-10675</td><td>Anna Gayman</td><td>-246.40</td></tr><tr><td>AG-10765</td><td>Anthony Garverick</td><td>-8.42</td></tr><tr><td>AG-10900</td><td>Arthur Gainer</td><td>343.67</td></tr><tr><td>AH-10030</td><td>Aaron Hawkins</td><td>365.22</td></tr><tr><td>AH-10075</td><td>Adam Hart</td><td>280.80</td></tr><tr><td>AH-10120</td><td>Adrian Hane</td><td>-2.50</td></tr><tr><td>AH-10195</td><td>Alan Haines</td><td>-378.04</td></tr><tr><td>AH-10210</td><td>Alan Hwang</td><td>1308.56</td></tr><tr><td>AH-10465</td><td>Amy Hunt</td><td>-195.99</td></tr><tr><td>AH-10585</td><td>Angele Hood</td><td>83.97</td></tr><tr><td>AH-10690</td><td>Anna Hberlin</td><td>1296.87</td></tr><tr><td>AI-10855</td><td>Arianne Irving</td><td>867.87</td></tr><tr><td>AJ-10780</td><td>Anthony Jacobs</td><td>150.72</td></tr><tr><td>AJ-10795</td><td>Anthony Johnson</td><td>1158.71</td></tr><tr><td>AJ-10945</td><td>Ashley Jarboe</td><td>521.14</td></tr><tr><td>AJ-10960</td><td>Astrea Jones</td><td>60.42</td></tr><tr><td>AM-10360</td><td>Alice McCarthy</td><td>194.98</td></tr><tr><td>AM-10705</td><td>Anne McFarland</td><td>969.05</td></tr><tr><td>AO-10810</td><td>Anthony O'Donnell</td><td>12.10</td></tr><tr><td>AP-10720</td><td>Anne Pryor</td><td>285.80</td></tr><tr><td>AP-10915</td><td>Arthur Prichep</td><td>579.68</td></tr><tr><td>AR-10345</td><td>Alex Russell</td><td>-221.06</td></tr><tr><td>AR-10405</td><td>Allen Rosenblatt</td><td>-98.52</td></tr><tr><td>AR-10510</td><td>Andrew Roberts</td><td>43.65</td></tr><tr><td>AR-10540</td><td>Andy Reiter</td><td>2884.61</td></tr><tr><td>AR-10570</td><td>Anemone Ratner</td><td>32.64</td></tr><tr><td>AR-10825</td><td>Anthony Rawles</td><td>495.07</td></tr><tr><td>AS-10045</td><td>Aaron Smayling</td><td>-253.59</td></tr><tr><td>AS-10090</td><td>Adam Shillingsburg</td><td>64.31</td></tr><tr><td>AS-10135</td><td>Adrian Shami</td><td>21.84</td></tr><tr><td>AS-10225</td><td>Alan Schoenberger</td><td>719.77</td></tr><tr><td>AS-10240</td><td>Alan Shonely</td><td>33.69</td></tr><tr><td>AS-10285</td><td>Alejandro Savely</td><td>354.63</td></tr><tr><td>AS-10630</td><td>Ann Steele</td><td>136.60</td></tr><tr><td>AT-10435</td><td>Alyssa Tate</td><td>100.87</td></tr><tr><td>AT-10735</td><td>Annie Thurman</td><td>974.57</td></tr><tr><td>AW-10840</td><td>Anthony Witt</td><td>65.78</td></tr><tr><td>AW-10930</td><td>Arthur Wiediger</td><td>-104.45</td></tr><tr><td>AY-10555</td><td>Andy Yotov</td><td>103.34</td></tr><tr><td>AZ-10750</td><td>Annie Zypern</td><td>154.77</td></tr><tr><td>BB-10990</td><td>Barry Blumstein</td><td>11.57</td></tr><tr><td>BB-11545</td><td>Brenda Bowman</td><td>1014.65</td></tr><tr><td>BC-11125</td><td>Becky Castell</td><td>251.19</td></tr><tr><td>BD-11320</td><td>Bil Donatelli</td><td>1094.51</td></tr><tr><td>BD-11500</td><td>Bradley Drucker</td><td>1142.12</td></tr><tr><td>BD-11560</td><td>Brendan Dodson</td><td>116.71</td></tr><tr><td>BD-11605</td><td>Brian Dahlen</td><td>634.82</td></tr><tr><td>BD-11620</td><td>Brian DeCherney</td><td>207.02</td></tr><tr><td>BD-11635</td><td>Brian Derr</td><td>141.43</td></tr><tr><td>BD-11725</td><td>Bruce Degenhardt</td><td>334.47</td></tr><tr><td>BD-11770</td><td>Bryan Davis</td><td>141.28</td></tr><tr><td>BE-11335</td><td>Bil Eplett</td><td>1487.79</td></tr><tr><td>BE-11410</td><td>Bobby Elias</td><td>755.91</td></tr><tr><td>BE-11455</td><td>Brad Eason</td><td>139.20</td></tr><tr><td>BF-10975</td><td>Barbara Fisher</td><td>227.30</td></tr><tr><td>BF-11005</td><td>Barry Franz</td><td>-291.37</td></tr><tr><td>BF-11020</td><td>Barry Französisch</td><td>301.44</td></tr><tr><td>BF-11080</td><td>Bart Folk</td><td>110.99</td></tr><tr><td>BF-11170</td><td>Ben Ferrer</td><td>1938.67</td></tr><tr><td>BF-11215</td><td>Benjamin Farhat</td><td>523.09</td></tr><tr><td>BF-11275</td><td>Beth Fritzler</td><td>25.87</td></tr><tr><td>BG-11035</td><td>Barry Gonzalez</td><td>-710.80</td></tr><tr><td>BG-11695</td><td>Brooke Gillingham</td><td>107.59</td></tr><tr><td>BG-11740</td><td>Bruce Geld</td><td>119.34</td></tr><tr><td>BH-11710</td><td>Brosina Hoffman</td><td>789.63</td></tr><tr><td>BK-11260</td><td>Berenike Kampe</td><td>-63.30</td></tr><tr><td>BM-11140</td><td>Becky Martin</td><td>-1659.97</td></tr><tr><td>BM-11575</td><td>Brendan Murry</td><td>95.58</td></tr><tr><td>BM-11650</td><td>Brian Moss</td><td>2198.83</td></tr><tr><td>BM-11785</td><td>Bryan Mills</td><td>137.72</td></tr><tr><td>BN-11470</td><td>Brad Norvell</td><td>36.61</td></tr><tr><td>BN-11515</td><td>Bradley Nguyen</td><td>340.72</td></tr><tr><td>BO-11350</td><td>Bil Overfelt</td><td>278.43</td></tr><tr><td>BO-11425</td><td>Bobby Odegard</td><td>59.45</td></tr><tr><td>BP-11050</td><td>Barry Pond</td><td>209.66</td></tr><tr><td>BP-11095</td><td>Bart Pistole</td><td>433.57</td></tr><tr><td>BP-11155</td><td>''Becky Pak</td><td>647.00</td></tr><tr><td>BP-11185</td><td>Ben Peterman</td><td>363.61</td></tr><tr><td>BP-11230</td><td>Benjamin Patterson</td><td>-197.39</td></tr><tr><td>BP-11290</td><td>Beth Paige</td><td>-318.85</td></tr><tr><td>BS-11365</td><td>Bil Shonely</td><td>2616.41</td></tr><tr><td>BS-11380</td><td>Bil Stewart</td><td>-17.54</td></tr><tr><td>BS-11590</td><td>Brendan Sweed</td><td>381.39</td></tr><tr><td>BS-11665</td><td>Brian Stugart</td><td>238.73</td></tr><tr><td>BS-11755</td><td>Bruce Stewart</td><td>-113.31</td></tr><tr><td>BS-11800</td><td>Bryan Spruell</td><td>194.05</td></tr><tr><td>BT-11305</td><td>Beth Thompson</td><td>417.58</td></tr><tr><td>BT-11395</td><td>Bil Tyler</td><td>257.90</td></tr><tr><td>BT-11440</td><td>Bobby Trafton</td><td>-77.27</td></tr><tr><td>BT-11485</td><td>Brad Thomas</td><td>126.87</td></tr><tr><td>BT-11530</td><td>Bradley Talbott</td><td>409.49</td></tr><tr><td>BT-11680</td><td>Brian Thompson</td><td>447.81</td></tr><tr><td>BV-11245</td><td>Benjamin Venier</td><td>315.22</td></tr><tr><td>BW-11065</td><td>Barry Weirich</td><td>-58.29</td></tr><tr><td>BW-11110</td><td>Bart Watters</td><td>921.38</td></tr><tr><td>BW-11200</td><td>Ben Wallace</td><td>247.00</td></tr><tr><td>CA-11965</td><td>Carol Adams</td><td>1143.39</td></tr><tr><td>CA-12055</td><td>Cthy Armstrong</td><td>211.64</td></tr><tr><td>CA-12265</td><td>Christina Anderson</td><td>279.90</td></tr><tr><td>CA-12310</td><td>Christine Abelman</td><td>246.86</td></tr><tr><td>CA-12775</td><td>Cynthia Arntzen</td><td>203.73</td></tr><tr><td>CB-12025</td><td>Cassandra Brandow</td><td>150.51</td></tr><tr><td>CB-12415</td><td>Christy Brittain</td><td>272.40</td></tr><tr><td>CB-12535</td><td>Claudia Bergmann</td><td>1049.28</td></tr><tr><td>CC-12100</td><td>Chad Cunningham</td><td>208.60</td></tr><tr><td>CC-12145</td><td>Charles Crestani</td><td>392.29</td></tr><tr><td>CC-12220</td><td>Chris Cortes</td><td>393.95</td></tr><tr><td>CC-12370</td><td>Christopher Conant</td><td>2177.07</td></tr><tr><td>CC-12430</td><td>Chuck Clark</td><td>424.68</td></tr><tr><td>CC-12475</td><td>Cindy Chapman</td><td>154.85</td></tr><tr><td>CC-12550</td><td>Clay Cheatham</td><td>34.30</td></tr><tr><td>CC-12610</td><td>Corey Catlett</td><td>331.27</td></tr><tr><td>CC-12670</td><td>Craig Carreira</td><td>187.88</td></tr><tr><td>CC-12685</td><td>Craig Carroll</td><td>850.03</td></tr><tr><td>CD-11920</td><td>Carlos Daly</td><td>426.21</td></tr><tr><td>CD-11980</td><td>Carol Darley</td><td>-206.71</td></tr><tr><td>CD-12280</td><td>Christina DeMoss</td><td>233.48</td></tr><tr><td>CD-12790</td><td>Cynthia Delaney</td><td>389.45</td></tr><tr><td>CG-12040</td><td>Catherine Glotzbach</td><td>86.31</td></tr><tr><td>CG-12520</td><td>Claire Gute</td><td>169.93</td></tr><tr><td>CH-12070</td><td>Cathy Hwang</td><td>184.29</td></tr><tr><td>CJ-11875</td><td>Carl Jackson</td><td>1.65</td></tr><tr><td>CJ-12010</td><td>Caroline Jumper</td><td>858.75</td></tr><tr><td>CK-12205</td><td>Chloris Kastensmidt</td><td>141.59</td></tr><tr><td>CK-12325</td><td>Christine Kargatis</td><td>261.23</td></tr><tr><td>CK-12595</td><td>Clytie Kelty</td><td>491.12</td></tr><tr><td>CK-12760</td><td>Cyma Kinney</td><td>-338.44</td></tr><tr><td>CL-11890</td><td>Carl Ludwig</td><td>328.08</td></tr><tr><td>CL-12565</td><td>Clay Ludtke</td><td>1933.18</td></tr><tr><td>CL-12700</td><td>Craig Leslie</td><td>229.00</td></tr><tr><td>CM-11815</td><td>Candace McMahon</td><td>214.85</td></tr><tr><td>CM-11935</td><td>Carlos Meador</td><td>-43.73</td></tr><tr><td>CM-12115</td><td>Chad McGuire</td><td>408.58</td></tr><tr><td>CM-12160</td><td>Charles McCrossin</td><td>-394.37</td></tr><tr><td>CM-12190</td><td>Charlotte Melton</td><td>91.21</td></tr><tr><td>CM-12235</td><td>Chris McAfee</td><td>365.03</td></tr><tr><td>CM-12385</td><td>Christopher Martinez</td><td>3900.03</td></tr><tr><td>CM-12445</td><td>Chuck Magee</td><td>63.97</td></tr><tr><td>CM-12655</td><td>Corinna Mitchell</td><td>1572.44</td></tr><tr><td>CM-12715</td><td>Craig Molinari</td><td>176.32</td></tr><tr><td>CP-12085</td><td>Cathy Prescott</td><td>426.94</td></tr><tr><td>CP-12340</td><td>Christine Phan</td><td>-1850.31</td></tr><tr><td>CR-12580</td><td>Clay Rozendal</td><td>74.40</td></tr><tr><td>CR-12625</td><td>Corey Roper</td><td>144.85</td></tr><tr><td>CR-12730</td><td>Craig Reiter</td><td>306.92</td></tr><tr><td>CR-12820</td><td>Cyra Reiten</td><td>83.27</td></tr><tr><td>CS-11845</td><td>Cari Sayre</td><td>185.55</td></tr><tr><td>CS-11860</td><td>Cari Schnelling</td><td>105.82</td></tr><tr><td>CS-11950</td><td>Carlos Soltero</td><td>-126.61</td></tr><tr><td>CS-12130</td><td>Chad Sievert</td><td>143.83</td></tr><tr><td>CS-12175</td><td>Charles Sheldon</td><td>113.15</td></tr><tr><td>CS-12250</td><td>Chris Selesnick</td><td>738.41</td></tr><tr><td>CS-12355</td><td>Christine Sundaresam</td><td>831.94</td></tr><tr><td>CS-12400</td><td>Christopher Schild</td><td>-342.80</td></tr><tr><td>CS-12460</td><td>Chuck Sachs</td><td>156.27</td></tr><tr><td>CS-12490</td><td>Cindy Schnelling</td><td>-302.86</td></tr><tr><td>CS-12505</td><td>Cindy Stewart</td><td>-6626.24</td></tr><tr><td>CT-11995</td><td>Carol Triggs</td><td>160.90</td></tr><tr><td>CV-12295</td><td>Christina VanderZanden</td><td>493.09</td></tr><tr><td>CV-12805</td><td>Cynthia Voltz</td><td>98.70</td></tr><tr><td>CW-11905</td><td>Carl Weiss</td><td>370.83</td></tr><tr><td>CY-12745</td><td>Craig Yedwab</td><td>60.64</td></tr><tr><td>Co-12640</td><td>CoreyLock</td><td>205.90</td></tr><tr><td>DA-13450</td><td>Dianna Arnett</td><td>56.79</td></tr><tr><td>DB-12910</td><td>Daniel Byrd</td><td>431.38</td></tr><tr><td>DB-12970</td><td>Darren Budd</td><td>212.54</td></tr><tr><td>DB-13060</td><td>Dave Brooks</td><td>472.63</td></tr><tr><td>DB-13120</td><td>David Bremer</td><td>-1421.78</td></tr><tr><td>DB-13210</td><td>Dean Braden</td><td>169.71</td></tr><tr><td>DB-13270</td><td>Deborah Brumfield</td><td>841.84</td></tr><tr><td>DB-13360</td><td>Dennis Bolton</td><td>291.01</td></tr><tr><td>DB-13405</td><td>Denny Blanton</td><td>438.92</td></tr><tr><td>DB-13555</td><td>Dorothy Badders</td><td>109.63</td></tr><tr><td>DB-13615</td><td>Doug Bickford</td><td>438.80</td></tr><tr><td>DB-13660</td><td>Duane Benoit</td><td>177.94</td></tr><tr><td>DC-12850</td><td>Dan Campbell</td><td>-1441.28</td></tr><tr><td>DC-13285</td><td>Debra Catini</td><td>132.07</td></tr><tr><td>DD-13570</td><td>Dorothy Dickinson</td><td>36.44</td></tr><tr><td>DE-13255</td><td>NA</td><td>464.48</td></tr><tr><td>DF-13135</td><td>David Flashing</td><td>-259.31</td></tr><tr><td>DG-13300</td><td>Deirdre Greer</td><td>562.77</td></tr><tr><td>DH-13075</td><td>Dave Hallsten</td><td>1193.74</td></tr><tr><td>DH-13675</td><td>Duane Huffman</td><td>116.68</td></tr><tr><td>DJ-13420</td><td>Denny Joy</td><td>483.03</td></tr><tr><td>DJ-13510</td><td>Don Jones</td><td>345.26</td></tr><tr><td>DJ-13630</td><td>Doug Jacobs</td><td>731.57</td></tr><tr><td>DK-12835</td><td>Damala Kotsonis</td><td>881.52</td></tr><tr><td>DK-12895</td><td>Dana Kaydos</td><td>925.97</td></tr><tr><td>DK-12985</td><td>Darren Koutras</td><td>-107.45</td></tr><tr><td>DK-13090</td><td>Dave Kipp</td><td>536.39</td></tr><tr><td>DK-13150</td><td>DavidK 'lendrick</td><td>250.27</td></tr><tr><td>DK-13225</td><td>Dean Katz</td><td>210.27</td></tr><tr><td>DK-13375</td><td>Dennis Kane</td><td>377.43</td></tr><tr><td>DL-12865</td><td>Dan Lawera</td><td>321.85</td></tr><tr><td>DL-12925</td><td>Daniel Lacy</td><td>4.39</td></tr><tr><td>DL-13315</td><td>Delfina Latchford</td><td>288.92</td></tr><tr><td>DL-13330</td><td>Denise Leinenbach</td><td>222.68</td></tr><tr><td>DL-13495</td><td>Dionis Lloyd</td><td>-52.39</td></tr><tr><td>DM-12955</td><td>Dario Medina</td><td>108.76</td></tr><tr><td>DM-13015</td><td>Darrin Martin</td><td>1677.98</td></tr><tr><td>DM-13345</td><td>Denise Monton</td><td>1319.07</td></tr><tr><td>DM-13525</td><td>Don Miller</td><td>200.20</td></tr><tr><td>DN-13690</td><td>Duane Noonan</td><td>540.53</td></tr><tr><td>DO-13435</td><td>Denny Ordway</td><td>-38.33</td></tr><tr><td>DO-13645</td><td>Doug O'Connell</td><td>293.84</td></tr><tr><td>DP-13000</td><td>Darren Powers</td><td>241.69</td></tr><tr><td>DP-13105</td><td>Dave Poirier</td><td>562.95</td></tr><tr><td>DP-13165</td><td>David Philippe</td><td>-40.94</td></tr><tr><td>DP-13390</td><td>Dennis Pardue</td><td>1571.83</td></tr><tr><td>DR-12880</td><td>Dan Reichenbach</td><td>1641.54</td></tr><tr><td>DR-12940</td><td>Daniel Raglin</td><td>2869.08</td></tr><tr><td>DS-13030</td><td>Darrin Sayre</td><td>193.78</td></tr><tr><td>DS-13180</td><td>David Smith</td><td>163.66</td></tr><tr><td>DV-13045</td><td>DarrinVan Huff</td><td>-427.63</td></tr><tr><td>DV-13465</td><td>Dianna Vittorini</td><td>353.09</td></tr><tr><td>DW-13195</td><td>David Wiener</td><td>-86.97</td></tr><tr><td>DW-13480</td><td>Dianna Wilson</td><td>1348.75</td></tr><tr><td>DW-13540</td><td>Don Weiss</td><td>69.66</td></tr><tr><td>DW-13585</td><td>Dorothy Wardle</td><td>-266.90</td></tr><tr><td>Dl-13600</td><td>Dorris liebe</td><td>175.23</td></tr><tr><td>Dp-13240</td><td>Dean perceR</td><td>333.37</td></tr><tr><td>EA-14035</td><td>Erin Ashbrook</td><td>-52.55</td></tr><tr><td>EB-13705</td><td>Ed Braxton</td><td>13.56</td></tr><tr><td>EB-13750</td><td>Edward Becker</td><td>-80.29</td></tr><tr><td>EB-13840</td><td>Ellis Ballard</td><td>656.20</td></tr><tr><td>EB-13870</td><td>Emily Burns</td><td>261.95</td></tr><tr><td>EB-13930</td><td>Eric Barreto</td><td>0.43</td></tr><tr><td>EB-13975</td><td>Erica Bern</td><td>162.88</td></tr><tr><td>EB-14110</td><td>Eugene Barchas</td><td>184.76</td></tr><tr><td>EB-14170</td><td>Evan Bailliet</td><td>282.41</td></tr><tr><td>EC-14050</td><td>Erin Creighton</td><td>96.44</td></tr><tr><td>ED-13885</td><td>NA</td><td>670.45</td></tr><tr><td>EG-13900</td><td>Emily Grady</td><td>103.90</td></tr><tr><td>EH-13765</td><td>Edward Hooks</td><td>1393.50</td></tr><tr><td>EH-13945</td><td>Eric Hoffmann</td><td>53.79</td></tr><tr><td>EH-13990</td><td>Erica Hackney</td><td>150.37</td></tr><tr><td>EH-14005</td><td>Erica Hernandez</td><td>-94.72</td></tr><tr><td>EH-14125</td><td>Eugene Hildebrand</td><td>96.21</td></tr><tr><td>EH-14185</td><td>Evan Henry</td><td>242.12</td></tr><tr><td>EJ-13720</td><td>Ed Jacobs</td><td>-6964.03</td></tr><tr><td>EJ-14155</td><td>Eva Jacobs</td><td>451.88</td></tr><tr><td>EK-13795</td><td>Eileen Kiefer</td><td>97.10</td></tr><tr><td>EL-13735</td><td>Ed Ludwig</td><td>27.11</td></tr><tr><td>EM-13810</td><td>NA</td><td>-133.99</td></tr><tr><td>EM-13825</td><td>Elizabeth Moffitt</td><td>682.55</td></tr><tr><td>EM-13960</td><td>Eric Murdock</td><td>102.30</td></tr><tr><td>EM-14065</td><td>ErinMull</td><td>40.03</td></tr><tr><td>EM-14095</td><td>Eudokia Martin</td><td>240.23</td></tr><tr><td>EM-14140</td><td>Eugene Moren</td><td>1318.95</td></tr><tr><td>EM-14200</td><td>Evan Minnotte</td><td>21.83</td></tr><tr><td>EN-13780</td><td>Edward Nazzal</td><td>496.22</td></tr><tr><td>EP-13915</td><td>Emily Phan</td><td>145.13</td></tr><tr><td>ER-13855</td><td>Elpida Rittenbach</td><td>-295.33</td></tr><tr><td>ES-14020</td><td>Erica Smith</td><td>1003.08</td></tr><tr><td>ES-14080</td><td>Erin Smith</td><td>246.94</td></tr><tr><td>FA-14230</td><td>Frank Atkinson</td><td>520.33</td></tr><tr><td>FC-14245</td><td>Frank Carlisle</td><td>1217.18</td></tr><tr><td>FC-14335</td><td>Fred Chung</td><td>714.29</td></tr><tr><td>FG-14260</td><td>Frank Gastineau</td><td>394.95</td></tr><tr><td>FH-14275</td><td>Frank Hawley</td><td>13400.32</td></tr><tr><td>FH-14350</td><td>Fred Harton</td><td>706.05</td></tr><tr><td>FH-14365</td><td>Fred Hopkins</td><td>2051.01</td></tr><tr><td>FM-14215</td><td>Filia McAdams</td><td>249.95</td></tr><tr><td>FM-14290</td><td>Frank Merwin</td><td>197.89</td></tr><tr><td>FM-14380</td><td>Fred McMath</td><td>191.09</td></tr><tr><td>FO-14305</td><td>Frank Olsen</td><td>215.58</td></tr><tr><td>FP-14320</td><td>Frank Preis</td><td>406.46</td></tr><tr><td>FW-14395</td><td>Fred Waerman</td><td>23.50</td></tr><tr><td>GA-14515</td><td>George Ashbrook</td><td>840.89</td></tr><tr><td>GA-14725</td><td>Guy Armstrong</td><td>136.49</td></tr><tr><td>GB-14530</td><td>George Bell</td><td>7.85</td></tr><tr><td>GB-14575</td><td>Giulietta Baptist</td><td>1135.84</td></tr><tr><td>GD-14590</td><td>Giulietta Dortch</td><td>230.59</td></tr><tr><td>GG-14650</td><td>Greg Guthrie</td><td>12.69</td></tr><tr><td>GH-14410</td><td>GaryHansen</td><td>-577.01</td></tr><tr><td>GH-14425</td><td>Gary Hwang</td><td>1176.39</td></tr><tr><td>GH-14485</td><td>Gene Hale</td><td>-95.49</td></tr><tr><td>GH-14665</td><td>Greg Hansen</td><td>-5.81</td></tr><tr><td>GK-14620</td><td>Grace Kelly</td><td>1448.59</td></tr><tr><td>GM-14440</td><td>Gary McGarr</td><td>347.27</td></tr><tr><td>GM-14455</td><td>Gary Mitchum</td><td>793.28</td></tr><tr><td>GM-14500</td><td>Gene McClure</td><td>441.32</td></tr><tr><td>GM-14680</td><td>Greg Matthias</td><td>35.47</td></tr><tr><td>GM-14695</td><td>Greg Maxwell</td><td>188.46</td></tr><tr><td>GP-14740</td><td>Guy Phonely</td><td>31.84</td></tr><tr><td>GR-14560</td><td>Georgia Rosenberg</td><td>359.88</td></tr><tr><td>GT-14635</td><td>Grant Thornton</td><td>-4108.66</td></tr><tr><td>GT-14710</td><td>Greg Tran</td><td>2163.29</td></tr><tr><td>GT-14755</td><td>Guy Thornton</td><td>-6.14</td></tr><tr><td>GW-14605</td><td>Giulietta Weimer</td><td>-268.55</td></tr><tr><td>GZ-14470</td><td>Gary Zandusky</td><td>1088.15</td></tr><tr><td>GZ-14545</td><td>George Zrebassa</td><td>828.17</td></tr><tr><td>HA-14905</td><td>Helen Abelman</td><td>270.85</td></tr><tr><td>HA-14920</td><td>Helen Andreada</td><td>98.46</td></tr><tr><td>HD-14785</td><td>Harold Dahlen</td><td>-136.33</td></tr><tr><td>HE-14800</td><td>Harold Engle</td><td>273.97</td></tr><tr><td>HF-14995</td><td>Herbert Flentye</td><td>-14.35</td></tr><tr><td>HG-14845</td><td>Harry Greene</td><td>147.01</td></tr><tr><td>HG-14965</td><td>Henry Goldwyn</td><td>-2797.96</td></tr><tr><td>HG-15025</td><td>Hunter Glantz</td><td>804.62</td></tr><tr><td>HH-15010</td><td>Hilary Holden</td><td>86.73</td></tr><tr><td>HJ-14875</td><td>Heather Jas</td><td>98.67</td></tr><tr><td>HK-14890</td><td>Heather Kirkland</td><td>956.95</td></tr><tr><td>HL-15040</td><td>Hunter Lopez</td><td>5622.43</td></tr><tr><td>HM-14860</td><td>Harry Marie</td><td>2438.07</td></tr><tr><td>HM-14980</td><td>Henry MacAllister</td><td>116.78</td></tr><tr><td>HP-14815</td><td>Harold Pawlan</td><td>373.87</td></tr><tr><td>HR-14770</td><td>Hallie Redmond</td><td>185.40</td></tr><tr><td>HR-14830</td><td>Harold Ryan</td><td>1197.37</td></tr><tr><td>HW-14935</td><td>Helen Waerman</td><td>2164.17</td></tr><tr><td>HZ-14950</td><td>Henia Zydlo</td><td>-130.39</td></tr><tr><td>IG-15085</td><td>Ivan Gibson</td><td>320.48</td></tr><tr><td>IL-15100</td><td>Ivan Liston</td><td>1121.83</td></tr><tr><td>IM-15055</td><td>Ionia McGrath</td><td>975.78</td></tr><tr><td>IM-15070</td><td>Irene Maddox</td><td>514.20</td></tr><tr><td>JA-15970</td><td>Joseph Airdo</td><td>-819.88</td></tr><tr><td>JB-15400</td><td>Jennifer Braxton</td><td>156.05</td></tr><tr><td>JB-15925</td><td>Joni Blumstein</td><td>-286.98</td></tr><tr><td>JB-16000</td><td>Joy Bell</td><td>127.06</td></tr><tr><td>JB-16045</td><td>Julia Barnett</td><td>201.40</td></tr><tr><td>JC-15340</td><td>Jasper Cacioppo</td><td>-0.35</td></tr><tr><td>JC-15385</td><td>Jenna Caffey</td><td>502.93</td></tr><tr><td>JC-15775</td><td>John Castell</td><td>279.57</td></tr><tr><td>JC-16105</td><td>Julie Creighton</td><td>201.60</td></tr><tr><td>JD-15790</td><td>John Dryer</td><td>-266.56</td></tr><tr><td>JD-15895</td><td>Jonathan Doherty</td><td>1050.44</td></tr><tr><td>JD-16015</td><td>Joy Daniels</td><td>26.73</td></tr><tr><td>JD-16060</td><td>Julia Dunbar</td><td>111.12</td></tr><tr><td>JD-16150</td><td>Justin Deggeller</td><td>1618.73</td></tr><tr><td>JE-15475</td><td>Jeremy Ellison</td><td>276.44</td></tr><tr><td>JE-15610</td><td>Jim Epp</td><td>1623.11</td></tr><tr><td>JE-15715</td><td>Joe Elijah</td><td>1262.11</td></tr><tr><td>JE-15745</td><td>Joel Eaton</td><td>222.24</td></tr><tr><td>JE-16165</td><td>Justin Ellison</td><td>790.02</td></tr><tr><td>JF-15190</td><td>Jamie Frazer</td><td>575.78</td></tr><tr><td>JF-15295</td><td>Jason Fortune</td><td>97.41</td></tr><tr><td>JF-15355</td><td>Jay Fein</td><td>330.20</td></tr><tr><td>JF-15415</td><td>Jennifer Ferguson</td><td>635.64</td></tr><tr><td>JF-15490</td><td>Jeremy Farry</td><td>-18.05</td></tr><tr><td>JF-15565</td><td>Jill Fjeld</td><td>1074.07</td></tr><tr><td>JG-15115</td><td>Jack Garza</td><td>684.53</td></tr><tr><td>JG-15160</td><td>James Galang</td><td>1415.36</td></tr><tr><td>JG-15310</td><td>Jason Gross</td><td>3.59</td></tr><tr><td>JG-15805</td><td>John Grady</td><td>206.10</td></tr><tr><td>JH-15430</td><td>Jennifer Halladay</td><td>-24.06</td></tr><tr><td>JH-15820</td><td>John Huston</td><td>26.07</td></tr><tr><td>JH-15910</td><td>Jonathan Howell</td><td>-13.54</td></tr><tr><td>JH-15985</td><td>Joseph Holt</td><td>-644.48</td></tr><tr><td>JH-16180</td><td>Justin Hirsh</td><td>-96.96</td></tr><tr><td>JJ-15445</td><td>Jennifer Jackson</td><td>200.56</td></tr><tr><td>JJ-15760</td><td>Joel Jenkins</td><td>34.46</td></tr><tr><td>JK-15205</td><td>Jamie Kunitz</td><td>1221.56</td></tr><tr><td>JK-15325</td><td>Jason Klamczynski</td><td>55.58</td></tr><tr><td>JK-15370</td><td>Jay Kimmel</td><td>329.85</td></tr><tr><td>JK-15625</td><td>Jim Karlsson</td><td>750.73</td></tr><tr><td>JK-15640</td><td>Jim Kriz</td><td>1172.90</td></tr><tr><td>JK-15730</td><td>Joe Kamberova</td><td>55.00</td></tr><tr><td>JK-16090</td><td>Juliana Krohn</td><td>586.67</td></tr><tr><td>JK-16120</td><td>Julie Kriz</td><td>122.66</td></tr><tr><td>JL-15130</td><td>Jack Lebron</td><td>-207.32</td></tr><tr><td>JL-15175</td><td>James Lanier</td><td>209.11</td></tr><tr><td>JL-15235</td><td>Janet Lee</td><td>54.51</td></tr><tr><td>JL-15505</td><td>Jeremy Lonsdale</td><td>592.04</td></tr><tr><td>JL-15835</td><td>John Lee</td><td>228.51</td></tr><tr><td>JL-15850</td><td>John Lucas</td><td>779.89</td></tr><tr><td>JM-15250</td><td>Janet Martin</td><td>19.58</td></tr><tr><td>JM-15265</td><td>Janet Molinari</td><td>502.99</td></tr><tr><td>JM-15535</td><td>Jessica Myrick</td><td>356.53</td></tr><tr><td>JM-15580</td><td>Jill Matthias</td><td>113.12</td></tr><tr><td>JM-15655</td><td>Jim Mitchum</td><td>117.20</td></tr><tr><td>JM-15865</td><td>John Murray</td><td>1575.07</td></tr><tr><td>JM-16195</td><td>Justin MacKendrick</td><td>753.70</td></tr><tr><td>JO-15145</td><td>Jack O'Briant</td><td>581.44</td></tr><tr><td>JO-15280</td><td>Jas O'Carroll</td><td>201.24</td></tr><tr><td>JO-15550</td><td>Jesus Ocampo</td><td>167.13</td></tr><tr><td>JP-15460</td><td>Jennifer Patt</td><td>429.73</td></tr><tr><td>JP-15520</td><td>Jeremy Pistek</td><td>757.19</td></tr><tr><td>JP-16135</td><td>Julie Prescott</td><td>309.30</td></tr><tr><td>JR-15670</td><td>Jim Radford</td><td>-785.16</td></tr><tr><td>JR-15700</td><td>Jocasta Rupert</td><td>107.98</td></tr><tr><td>JR-16210</td><td>Justin Ritter</td><td>452.37</td></tr><tr><td>JS-15595</td><td>JiStevenson</td><td>-174.93</td></tr><tr><td>JS-15685</td><td>Jim Sink</td><td>-54.87</td></tr><tr><td>JS-15880</td><td>John Stevenson</td><td>564.97</td></tr><tr><td>JS-15940</td><td>Joni Sundaresam</td><td>-327.93</td></tr><tr><td>JS-16030</td><td>Joy Smith</td><td>-311.26</td></tr><tr><td>JW-15220</td><td>Jane Waco</td><td>2174.04</td></tr><tr><td>JW-15955</td><td>Joni Waerman</td><td>-29.58</td></tr><tr><td>JW-16075</td><td>Julia West</td><td>153.89</td></tr><tr><td>KA-16525</td><td>Kelly Andreada</td><td>234.36</td></tr><tr><td>KB-16240</td><td>Karen Bern</td><td>764.23</td></tr><tr><td>KB-16315</td><td>Karl Braun</td><td>49.21</td></tr><tr><td>KB-16405</td><td>Katrina Bavinger</td><td>273.86</td></tr><tr><td>KB-16585</td><td>Ken Black</td><td>578.89</td></tr><tr><td>KB-16600</td><td>Ken Brennan</td><td>293.90</td></tr><tr><td>KC-16255</td><td>Karen Carlisle</td><td>846.14</td></tr><tr><td>KC-16540</td><td>Kelly Collister</td><td>709.43</td></tr><tr><td>KC-16675</td><td>Kimberly Carter</td><td>157.23</td></tr><tr><td>KD-16270</td><td>Karen Danels</td><td>1107.59</td></tr><tr><td>KD-16345</td><td>Katherine Ducich</td><td>328.59</td></tr><tr><td>KD-16495</td><td>Keith Dawkins</td><td>3038.92</td></tr><tr><td>KD-16615</td><td>NA</td><td>539.72</td></tr><tr><td>KE-16420</td><td>Katrina Edelman</td><td>397.89</td></tr><tr><td>KF-16285</td><td>Karen Ferguson</td><td>1660.41</td></tr><tr><td>KH-16330</td><td>Katharine Harms</td><td>455.70</td></tr><tr><td>KH-16360</td><td>Katherine Hughes</td><td>528.28</td></tr><tr><td>KH-16510</td><td>Keith Herrera</td><td>656.12</td></tr><tr><td>KH-16630</td><td>Ken Heidel</td><td>727.51</td></tr><tr><td>KH-16690</td><td>Kristen Hastings</td><td>1227.13</td></tr><tr><td>KL-16555</td><td>Kelly Lampkin</td><td>-182.79</td></tr><tr><td>KL-16645</td><td>Ken Lonsdale</td><td>806.50</td></tr><tr><td>KM-16225</td><td>Kalyca Meade</td><td>635.43</td></tr><tr><td>KM-16375</td><td>Katherine Murray</td><td>973.37</td></tr><tr><td>KM-16660</td><td>Khloe Miller</td><td>90.67</td></tr><tr><td>KM-16720</td><td>Kunst Miller</td><td>745.40</td></tr><tr><td>KN-16390</td><td>Katherine Nockton</td><td>-151.15</td></tr><tr><td>KN-16450</td><td>Kean Nguyen</td><td>113.82</td></tr><tr><td>KN-16705</td><td>Kristi'na Nunn</td><td>329.77</td></tr><tr><td>KS-16300</td><td>Karen Seio</td><td>0.11</td></tr><tr><td>KT-16465</td><td>Kean Takahito</td><td>253.75</td></tr><tr><td>KT-16480</td><td>Kean Thornton</td><td>194.07</td></tr><tr><td>KW-16435</td><td>Katrina Willman</td><td>1756.14</td></tr><tr><td>KW-16570</td><td>Kelly Williams</td><td>108.39</td></tr><tr><td>LA-16780</td><td>Laura Armstrong</td><td>2025.17</td></tr><tr><td>LB-16735</td><td>Larry Blacks</td><td>18.65</td></tr><tr><td>LB-16795</td><td>Laurel Beltran</td><td>-51.99</td></tr><tr><td>LC-16870</td><td>NA</td><td>-188.02</td></tr><tr><td>LC-16885</td><td>Lena Creighton</td><td>1288.73</td></tr><tr><td>LC-16930</td><td>Linda Cazamias</td><td>288.29</td></tr><tr><td>LC-16960</td><td>Lindsay Castell</td><td>299.47</td></tr><tr><td>LC-17050</td><td>Liz Carlisle</td><td>86.78</td></tr><tr><td>LC-17140</td><td>Logan Currie</td><td>230.53</td></tr><tr><td>LD-16855</td><td>Lela Donovan</td><td>0.46</td></tr><tr><td>LD-17005</td><td>Lisa DeCherney</td><td>556.77</td></tr><tr><td>LE-16810</td><td>Laurel Elliston</td><td>161.76</td></tr><tr><td>LF-17185</td><td>Luke Foster</td><td>-3583.61</td></tr><tr><td>LH-16750</td><td>Larry Hughes</td><td>12.63</td></tr><tr><td>LH-16900</td><td>Lena Hernandez</td><td>525.12</td></tr><tr><td>LH-17020</td><td>Lisa Hazard</td><td>-242.75</td></tr><tr><td>LH-17155</td><td>Logan Haushalter</td><td>316.53</td></tr><tr><td>LL-16840</td><td>Lauren Leatherbury</td><td>560.51</td></tr><tr><td>LM-17065</td><td>Liz MacKendrick</td><td>-44.88</td></tr><tr><td>LO-17170</td><td>Lori Olson</td><td>150.16</td></tr><tr><td>LP-17080</td><td>Liz Pelletier</td><td>110.79</td></tr><tr><td>LP-17095</td><td>Liz Preis</td><td>338.46</td></tr><tr><td>LR-16915</td><td>Lena Radford</td><td>535.27</td></tr><tr><td>LR-17035</td><td>Lisa Ryan</td><td>-383.19</td></tr><tr><td>LS-16945</td><td>Linda Southworth</td><td>-318.44</td></tr><tr><td>LS-16975</td><td>Lindsay Shagiari</td><td>262.27</td></tr><tr><td>LS-17200</td><td>Luke Schmidt</td><td>243.82</td></tr><tr><td>LS-17230</td><td>Lycoris Saunders</td><td>64.57</td></tr><tr><td>LS-17245</td><td>Lynn Smith</td><td>347.97</td></tr><tr><td>LT-16765</td><td>Larry Tron</td><td>59.03</td></tr><tr><td>LT-17110</td><td>Liz Thompson</td><td>320.98</td></tr><tr><td>LW-16825</td><td>Laurel Workman</td><td>32.59</td></tr><tr><td>LW-16990</td><td>Lindsay Williams</td><td>662.83</td></tr><tr><td>LW-17125</td><td>Liz Willingham</td><td>192.63</td></tr><tr><td>LW-17215</td><td>Luke Weiss</td><td>837.67</td></tr><tr><td>MA-17560</td><td>Matt Abelman</td><td>1240.55</td></tr><tr><td>MA-17995</td><td>Michelle Arnett</td><td>280.51</td></tr><tr><td>MB-17305</td><td>Maria Bertelson</td><td>213.33</td></tr><tr><td>MB-18085</td><td>Mick Brown</td><td>118.05</td></tr><tr><td>MC-17275</td><td>Marc Crier</td><td>461.02</td></tr><tr><td>MC-17425</td><td>Mark Cousins</td><td>1802.40</td></tr><tr><td>MC-17575</td><td>Matt Collins</td><td>210.92</td></tr><tr><td>MC-17590</td><td>Matt Collister</td><td>288.99</td></tr><tr><td>MC-17605</td><td>Matt Connell</td><td>195.45</td></tr><tr><td>MC-17635</td><td>Matthew Clasen</td><td>-247.72</td></tr><tr><td>MC-17845</td><td>Michael Chen</td><td>698.42</td></tr><tr><td>MC-18100</td><td>Mick Crebagga</td><td>-64.40</td></tr><tr><td>MC-18130</td><td>Mike Caudle</td><td>121.74</td></tr><tr><td>MD-17350</td><td>Maribeth Dona</td><td>-241.23</td></tr><tr><td>MD-17860</td><td>Michael Dominguez</td><td>-4.05</td></tr><tr><td>ME-17320</td><td>Maria Etezadi</td><td>1858.97</td></tr><tr><td>ME-17725</td><td>Max Engle</td><td>77.59</td></tr><tr><td>ME-18010</td><td>Michelle Ellison</td><td>107.35</td></tr><tr><td>MF-17665</td><td>Maureen Fritzler</td><td>-341.53</td></tr><tr><td>MF-18250</td><td>Monica Federle</td><td>456.86</td></tr><tr><td>MG-17650</td><td>Matthew Grinstein</td><td>341.90</td></tr><tr><td>MG-17680</td><td>Maureen Gastineau</td><td>25.89</td></tr><tr><td>MG-17695</td><td>Maureen Gnade</td><td>-398.80</td></tr><tr><td>MG-17875</td><td>Michael Grace</td><td>-470.77</td></tr><tr><td>MG-17890</td><td>Michael Granlund</td><td>171.44</td></tr><tr><td>MG-18145</td><td>Mike Gockenbach</td><td>-93.49</td></tr><tr><td>MG-18205</td><td>Mitch Gastineau</td><td>-1.24</td></tr><tr><td>MH-17290</td><td>Marc Harrigan</td><td>28.98</td></tr><tr><td>MH-17440</td><td>Mark Haberlin</td><td>61.43</td></tr><tr><td>MH-17455</td><td>Mark Hamilton</td><td>485.28</td></tr><tr><td>MH-17620</td><td>Matt Hagelstein</td><td>122.35</td></tr><tr><td>MH-17785</td><td>Maya Herman</td><td>239.02</td></tr><tr><td>MH-18025</td><td>Michelle Huthwaite</td><td>476.74</td></tr><tr><td>MH-18115</td><td>Mick Hernandez</td><td>170.98</td></tr><tr><td>MJ-17740</td><td>Max Jones</td><td>1054.54</td></tr><tr><td>MK-17905</td><td>Michael Kennedy</td><td>-405.43</td></tr><tr><td>MK-18160</td><td>Mike Kennedy</td><td>227.43</td></tr><tr><td>ML-17395</td><td>Marina Lichtenstein</td><td>684.93</td></tr><tr><td>ML-17410</td><td>Maris LaWare</td><td>-76.47</td></tr><tr><td>ML-17755</td><td>Max Ludwig</td><td>409.99</td></tr><tr><td>ML-18040</td><td>Michelle Lonsdale</td><td>138.72</td></tr><tr><td>ML-18265</td><td>Muhammed Lee</td><td>42.67</td></tr><tr><td>MM-17260</td><td>Magdelene Morse</td><td>178.41</td></tr><tr><td>MM-17920</td><td>Michael Moore</td><td>81.45</td></tr><tr><td>MM-18055</td><td>Michelle Moray</td><td>-520.46</td></tr><tr><td>MM-18280</td><td>Muhammed MacIntyre</td><td>58.56</td></tr><tr><td>MN-17935</td><td>Michael Nguyen</td><td>290.82</td></tr><tr><td>MO-17500</td><td>Mary O'Rourke</td><td>59.36</td></tr><tr><td>MO-17800</td><td>Meg O'Connel</td><td>168.98</td></tr><tr><td>MO-17950</td><td>Michael Oakman</td><td>-82.01</td></tr><tr><td>MP-17470</td><td>Mark Packer</td><td>600.30</td></tr><tr><td>MP-17965</td><td>Michael Paige</td><td>637.74</td></tr><tr><td>MP-18175</td><td>Mike Pelletier</td><td>225.49</td></tr><tr><td>MR-17545</td><td>Mathew Reese</td><td>162.45</td></tr><tr><td>MS-17365</td><td>Maribethchnelling</td><td>844.93</td></tr><tr><td>MS-17530</td><td>MaryBeth Skach</td><td>84.02</td></tr><tr><td>MS-17710</td><td>Maurice Satty</td><td>247.43</td></tr><tr><td>MS-17770</td><td>Maxwell Schwartz</td><td>280.81</td></tr><tr><td>MS-17830</td><td>Melanie Seite</td><td>19.43</td></tr><tr><td>MS-17980</td><td>Michael Stewart</td><td>55.23</td></tr><tr><td>MT-17815</td><td>Meg Tillman</td><td>509.00</td></tr><tr><td>MT-18070</td><td>Michelle Tran</td><td>-23.45</td></tr><tr><td>MV-17485</td><td>MarkVan Huff</td><td>189.01</td></tr><tr><td>MV-18190</td><td>Mike Vittorini</td><td>273.99</td></tr><tr><td>MW-18220</td><td>Mitch Webber</td><td>1237.92</td></tr><tr><td>MW-18235</td><td>Mitch Willingham</td><td>1665.52</td></tr><tr><td>MY-17380</td><td>Maribeth Yedwab</td><td>319.14</td></tr><tr><td>MY-18295</td><td>Muhammed YeDwab</td><td>-371.71</td></tr><tr><td>MZ-17335</td><td>Maria Zettner</td><td>85.02</td></tr><tr><td>MZ-17515</td><td>Mary Zewe</td><td>787.15</td></tr><tr><td>NB-18580</td><td>Nicole Brennan</td><td>24.79</td></tr><tr><td>NB-18655</td><td>Nona Balk</td><td>117.64</td></tr><tr><td>NC-18340</td><td>Nat Carroll</td><td>580.29</td></tr><tr><td>NC-18415</td><td>Nathan Cano</td><td>-2204.81</td></tr><tr><td>NC-18535</td><td>Nick Crebassa</td><td>1314.02</td></tr><tr><td>NC-18625</td><td>Noah Childs</td><td>-358.91</td></tr><tr><td>ND-18370</td><td>Natalie DeCherney</td><td>353.24</td></tr><tr><td>ND-18460</td><td>Neil Ducich</td><td>443.34</td></tr><tr><td>NF-18385</td><td>Natalie Fritzler</td><td>-1696.35</td></tr><tr><td>NF-18475</td><td>Neil Französisch</td><td>85.92</td></tr><tr><td>NF-18595</td><td>Nicole Fjeld</td><td>388.31</td></tr><tr><td>NG-18355</td><td>Nat Gilpin</td><td>313.63</td></tr><tr><td>NG-18430</td><td>Nathan Gelder</td><td>217.09</td></tr><tr><td>NH-18610</td><td>Nicole Hansen</td><td>760.16</td></tr><tr><td>NK-18490</td><td>Neil Knudson</td><td>121.22</td></tr><tr><td>NL-18310</td><td>Nancy Lomonaco</td><td>343.80</td></tr><tr><td>NM-18445</td><td>Nathan Mautz</td><td>2751.70</td></tr><tr><td>NM-18520</td><td>Neoma Murray</td><td>788.95</td></tr><tr><td>NP-18325</td><td>NA</td><td>1209.13</td></tr><tr><td>NP-18670</td><td>Nra Paige</td><td>513.15</td></tr><tr><td>NP-18685</td><td>Nora Pelletier</td><td>514.50</td></tr><tr><td>NP-18700</td><td>Nora Preis</td><td>630.82</td></tr><tr><td>NR-18550</td><td>Nick Radford</td><td>-25.14</td></tr><tr><td>NS-18505</td><td>Neola Schneider</td><td>-12.32</td></tr><tr><td>NS-18640</td><td>Noel Staavos</td><td>-234.89</td></tr><tr><td>NW-18400</td><td>Natalie Webber</td><td>1022.64</td></tr><tr><td>NZ-18565</td><td>Nick Zandusky</td><td>402.56</td></tr><tr><td>ON-18715</td><td>Odella Nelson</td><td>-5.53</td></tr><tr><td>OT-18730</td><td>Olvera Toch</td><td>-925.56</td></tr><tr><td>PA-19060</td><td>Pete Armstrong</td><td>225.86</td></tr><tr><td>PB-18805</td><td>Patrick Bzostek</td><td>228.77</td></tr><tr><td>PB-19105</td><td>Peter Bhler</td><td>218.16</td></tr><tr><td>PB-19150</td><td>Philip Brown</td><td>280.27</td></tr><tr><td>PB-19210</td><td>Phillip Breyer</td><td>21.90</td></tr><tr><td>PC-18745</td><td>Pamela Coakley</td><td>272.68</td></tr><tr><td>PC-19000</td><td>Pauline Chand</td><td>-184.34</td></tr><tr><td>PF-19120</td><td>Peter Fuller</td><td>-614.02</td></tr><tr><td>PF-19165</td><td>Philip Fox</td><td>196.88</td></tr><tr><td>PF-19225</td><td>Phillip Flathmann</td><td>591.29</td></tr><tr><td>PG-18820</td><td>Patrick Gardner</td><td>137.48</td></tr><tr><td>PG-18895</td><td>Paul Gonzalez</td><td>334.97</td></tr><tr><td>PH-18790</td><td>Patricia Hirasaki</td><td>47.89</td></tr><tr><td>PJ-18835</td><td>Patrick Jones</td><td>442.14</td></tr><tr><td>PJ-19015</td><td>Pauline Johnson</td><td>682.68</td></tr><tr><td>PK-18910</td><td>Paul Knutson</td><td>-798.71</td></tr><tr><td>PK-19075</td><td>Pete Kriz</td><td>2037.90</td></tr><tr><td>PL-18925</td><td>Paul Lucas</td><td>-0.77</td></tr><tr><td>PM-18940</td><td>Paul MacIntyre</td><td>157.88</td></tr><tr><td>PM-19135</td><td>Peter McVee</td><td>526.76</td></tr><tr><td>PN-18775</td><td>Parhena Norris</td><td>192.04</td></tr><tr><td>PO-18850</td><td>Patrick O'Brill</td><td>37.64</td></tr><tr><td>PO-18865</td><td>Patrick O'Donnell</td><td>437.94</td></tr><tr><td>PO-19180</td><td>Philisse Overcash</td><td>1155.24</td></tr><tr><td>PO-19195</td><td>Phillina Ober</td><td>-49.69</td></tr><tr><td>PP-18955</td><td>Paul Prost</td><td>1495.47</td></tr><tr><td>PR-18880</td><td>Patrick Ryan</td><td>5596.20</td></tr><tr><td>PS-18760</td><td>Pamela Stobb</td><td>-134.45</td></tr><tr><td>PS-18970</td><td>Paul Stevenson</td><td>198.53</td></tr><tr><td>PS-19045</td><td>Penelope Sewall</td><td>3183.77</td></tr><tr><td>PT-19090</td><td>PeteTakahito</td><td>-20.05</td></tr><tr><td>PV-18985</td><td>PaulVan Hugh</td><td>434.25</td></tr><tr><td>PW-19030</td><td>Pauline Webber</td><td>803.82</td></tr><tr><td>PW-19240</td><td>Pierre Wener</td><td>1291.15</td></tr><tr><td>QJ-19255</td><td>Quincy Jones</td><td>1203.69</td></tr><tr><td>RA-19285</td><td>Ralph Arnett</td><td>545.72</td></tr><tr><td>RA-19885</td><td>Ruben Ausman</td><td>1292.81</td></tr><tr><td>RA-19915</td><td>Russell Applegate</td><td>305.29</td></tr><tr><td>RA-19945</td><td>Ryan Akin</td><td>-445.69</td></tr><tr><td>RB-19330</td><td>Randy Bradley</td><td>-164.41</td></tr><tr><td>RB-19360</td><td>Raymond Buch</td><td>6976.36</td></tr><tr><td>RB-19435</td><td>Richard Bierner</td><td>477.63</td></tr><tr><td>RB-19465</td><td>Rick Bensley</td><td>640.56</td></tr><tr><td>RB-19570</td><td>Rob Beeghly</td><td>76.89</td></tr><tr><td>RB-19645</td><td>Robert Barroso</td><td>72.68</td></tr><tr><td>RB-19705</td><td>Roger Barcio</td><td>243.07</td></tr><tr><td>RB-19795</td><td>Ross Baird</td><td>-461.74</td></tr><tr><td>RC-19825</td><td>Roy Collins</td><td>63.57</td></tr><tr><td>RC-19960</td><td>Ryan Crowe</td><td>10.54</td></tr><tr><td>RD-19480</td><td>Rick Duston</td><td>480.59</td></tr><tr><td>RD-19585</td><td>Rob Dowd</td><td>734.52</td></tr><tr><td>RD-19660</td><td>Robert Dilbeck</td><td>835.77</td></tr><tr><td>RD-19720</td><td>Roger Demir</td><td>207.72</td></tr><tr><td>RD-19810</td><td>Ross DeVincentis</td><td>318.45</td></tr><tr><td>RD-19900</td><td>Ruben Dartt</td><td>455.51</td></tr><tr><td>RD-19930</td><td>Russell D'Ascenzo</td><td>35.04</td></tr><tr><td>RE-19405</td><td>Ricardo Emerson</td><td>6.04</td></tr><tr><td>RE-19450</td><td>Richard Eichhorn</td><td>209.25</td></tr><tr><td>RF-19345</td><td>Randy Ferguson</td><td>633.67</td></tr><tr><td>RF-19735</td><td>Roland Fjeld</td><td>711.83</td></tr><tr><td>RF-19840</td><td>Roy Französisch</td><td>280.09</td></tr><tr><td>RH-19495</td><td>Rick Hansen</td><td>563.78</td></tr><tr><td>RH-19510</td><td>Rick Huthwaite</td><td>1289.45</td></tr><tr><td>RH-19555</td><td>Ritsa Hightower</td><td>0.31</td></tr><tr><td>RH-19600</td><td>Rob Haberlin</td><td>172.62</td></tr><tr><td>RK-19300</td><td>Ralph Kennedy</td><td>269.68</td></tr><tr><td>RL-19615</td><td>Rob Lucas</td><td>213.98</td></tr><tr><td>RM-19375</td><td>Raymond Messe</td><td>392.59</td></tr><tr><td>RM-19675</td><td>Robert Marley</td><td>1902.55</td></tr><tr><td>RM-19750</td><td>Roland Murray</td><td>28.68</td></tr><tr><td>RO-19780</td><td>Rose O'Brian</td><td>-1262.81</td></tr><tr><td>RP-19270</td><td>Rachel Payne</td><td>59.52</td></tr><tr><td>RP-19390</td><td>Resi Pölking</td><td>464.96</td></tr><tr><td>RP-19855</td><td>Roy Phan</td><td>594.78</td></tr><tr><td>RR-19315</td><td>Ralph Ritter</td><td>-73.83</td></tr><tr><td>RR-19525</td><td>Rick Reed</td><td>721.69</td></tr><tr><td>RS-19420</td><td>Ricardo Sperren</td><td>633.45</td></tr><tr><td>RS-19765</td><td>Roland Schwarz</td><td>1206.39</td></tr><tr><td>RS-19870</td><td>Roy Skaria</td><td>9.58</td></tr><tr><td>RW-19540</td><td>Rick Wilson</td><td>1586.23</td></tr><tr><td>RW-19630</td><td>Rob Williams</td><td>699.06</td></tr><tr><td>RW-19690</td><td>Robert Waldorf</td><td>707.55</td></tr><tr><td>SA-20830</td><td>SueAnn Reed</td><td>610.14</td></tr><tr><td>SB-20170</td><td>Sarah Bern</td><td>157.68</td></tr><tr><td>SB-20185</td><td>Sarah Brown</td><td>885.96</td></tr><tr><td>SB-20290</td><td>Sean Braxton</td><td>-2082.76</td></tr><tr><td>SC-20020</td><td>Sam Craven</td><td>-317.51</td></tr><tr><td>SC-20050</td><td>SampleCompany A</td><td>1011.73</td></tr><tr><td>SC-20095</td><td>Sanjit Chand</td><td>5757.30</td></tr><tr><td>SC-20230</td><td>Scot Coram</td><td>439.82</td></tr><tr><td>SC-20260</td><td>Scott Cohen</td><td>670.98</td></tr><tr><td>SC-20305</td><td>Sean Christensen</td><td>229.11</td></tr><tr><td>SC-20380</td><td>ShahiCollister</td><td>-3164.00</td></tr><tr><td>SC-20440</td><td>Shaun Chance</td><td>379.57</td></tr><tr><td>SC-20575</td><td>Sonia Cooley</td><td>100.23</td></tr><tr><td>SC-20680</td><td>Steve Carroll</td><td>370.17</td></tr><tr><td>SC-20695</td><td>Steve Chapman</td><td>611.82</td></tr><tr><td>SC-20725</td><td>Steven Cartwright</td><td>1276.42</td></tr><tr><td>SC-20770</td><td>Stewart Carmichael</td><td>-671.38</td></tr><tr><td>SC-20800</td><td>Stuart Calhoun</td><td>52.21</td></tr><tr><td>SC-20845</td><td>Sung Chung</td><td>31.17</td></tr><tr><td>SD-20485</td><td>Shirley Daniels</td><td>1985.18</td></tr><tr><td>SE-20110</td><td>Sanjit Engle</td><td>2650.67</td></tr><tr><td>SF-20065</td><td>Sandra Flanagan</td><td>227.76</td></tr><tr><td>SF-20200</td><td>Sarah Foster</td><td>287.00</td></tr><tr><td>SF-20965</td><td>Sylvia Foulston</td><td>539.94</td></tr><tr><td>SG-20080</td><td>Sandra Glassco</td><td>570.44</td></tr><tr><td>SG-20470</td><td>Sheri Gordon</td><td>-119.01</td></tr><tr><td>SG-20605</td><td>Speros Goranitis</td><td>463.27</td></tr><tr><td>SG-20890</td><td>Susan Gilcrest</td><td>-3.70</td></tr><tr><td>SH-19975</td><td>NA</td><td>553.65</td></tr><tr><td>SH-20395</td><td>ShahiHopkins</td><td>-144.52</td></tr><tr><td>SH-20635</td><td>Stefanie Holloman</td><td>260.63</td></tr><tr><td>SJ-20125</td><td>Sanjit Jacobs</td><td>143.72</td></tr><tr><td>SJ-20215</td><td>Sarah Jordon</td><td>-23.38</td></tr><tr><td>SJ-20500</td><td>Shirley Jackson</td><td>68.59</td></tr><tr><td>SK-19990</td><td>Sally Knutson</td><td>168.79</td></tr><tr><td>SL-20155</td><td>Sara Luxemburg</td><td>528.04</td></tr><tr><td>SM-20005</td><td>Sally Matthias</td><td>-26.59</td></tr><tr><td>SM-20320</td><td>Sean Miller</td><td>-1980.98</td></tr><tr><td>SM-20905</td><td>Susan MacKendrick</td><td>-16510.34</td></tr><tr><td>SM-20950</td><td>Suzanne McNair</td><td>581.57</td></tr><tr><td>SN-20560</td><td>Skye Norling</td><td>-716.84</td></tr><tr><td>SN-20710</td><td>Steve Nguyen</td><td>481.74</td></tr><tr><td>SO-20335</td><td>Sean O'Donnell</td><td>-81.43</td></tr><tr><td>SP-20545</td><td>Sibella Parks</td><td>-118.38</td></tr><tr><td>SP-20620</td><td>Stefania Perrino</td><td>-270.19</td></tr><tr><td>SP-20650</td><td>Stephanie Phelps</td><td>268.47</td></tr><tr><td>SP-20860</td><td>Sung Pak</td><td>567.11</td></tr><tr><td>SP-20920</td><td>Susan Pistek</td><td>14.37</td></tr><tr><td>SR-20425</td><td>Sharelle Roach</td><td>-3334.17</td></tr><tr><td>SR-20740</td><td>Steven Roelle</td><td>1990.42</td></tr><tr><td>SS-20140</td><td>Saphhira Shifley</td><td>332.03</td></tr><tr><td>SS-20410</td><td>ShahiShariari</td><td>-1011.08</td></tr><tr><td>SS-20515</td><td>Shirley Schmidt</td><td>199.93</td></tr><tr><td>SS-20590</td><td>Sonia Sunley</td><td>135.91</td></tr><tr><td>SS-20875</td><td>Sung Shariari</td><td>-75.57</td></tr><tr><td>ST-20530</td><td>Shui Tom</td><td>85.12</td></tr><tr><td>SU-20665</td><td>Stephanie Ulpright</td><td>763.70</td></tr><tr><td>SV-20365</td><td>Seth Vernon</td><td>1200.14</td></tr><tr><td>SV-20785</td><td>Stewart Visinsky</td><td>484.85</td></tr><tr><td>SV-20815</td><td>Stuart Van</td><td>199.64</td></tr><tr><td>SV-20935</td><td>Susan Vittorini</td><td>106.62</td></tr><tr><td>SW-20245</td><td>Scot Wooten</td><td>-19.58</td></tr><tr><td>SW-20275</td><td>Scott Williamson</td><td>332.76</td></tr><tr><td>SW-20350</td><td>Sean Wendt</td><td>95.84</td></tr><tr><td>SW-20455</td><td>Shaun Weien</td><td>793.64</td></tr><tr><td>SW-20755</td><td>Steven Ward</td><td>68.23</td></tr><tr><td>SZ-20035</td><td>Sam Zeldin</td><td>366.42</td></tr><tr><td>TA-21385</td><td>Tom Ashbrook</td><td>4703.72</td></tr><tr><td>TB-21055</td><td>Ted Butterfield</td><td>389.76</td></tr><tr><td>TB-21175</td><td>Thomas Boland</td><td>828.71</td></tr><tr><td>TB-21190</td><td>Thomas Brumley</td><td>179.01</td></tr><tr><td>TB-21250</td><td>Tim Brockman</td><td>260.29</td></tr><tr><td>TB-21280</td><td>Toby Braunhardt</td><td>491.12</td></tr><tr><td>TB-21355</td><td>Todd Boyes</td><td>268.95</td></tr><tr><td>TB-21400</td><td>Tom Boeckenhauer</td><td>2798.06</td></tr><tr><td>TB-21520</td><td>Tracy Blumstein</td><td>-1603.04</td></tr><tr><td>TB-21595</td><td>Troy Blackwell</td><td>-136.47</td></tr><tr><td>TB-21625</td><td>Trudy Brown</td><td>379.80</td></tr><tr><td>TC-20980</td><td>Tamara Chand</td><td>8981.32</td></tr><tr><td>TC-21145</td><td>Theresa Coyne</td><td>265.59</td></tr><tr><td>TC-21295</td><td>Toby Carlisle</td><td>606.38</td></tr><tr><td>TC-21475</td><td>Tony Chapman</td><td>119.13</td></tr><tr><td>TC-21535</td><td>Tracy Collins</td><td>217.95</td></tr><tr><td>TD-20995</td><td>Tamara Dahlen</td><td>88.64</td></tr><tr><td>TG-21310</td><td>Toby Gnade</td><td>682.17</td></tr><tr><td>TG-21640</td><td>Trudy Glocke</td><td>365.12</td></tr><tr><td>TH-21100</td><td>Thea Hendricks</td><td>-135.22</td></tr><tr><td>TH-21115</td><td>Thea Hudgings</td><td>-252.55</td></tr><tr><td>TH-21235</td><td>Tiffany House</td><td>92.55</td></tr><tr><td>TH-21550</td><td>Tracy Hopkins</td><td>-571.99</td></tr><tr><td>TM-21010</td><td>Tamara Manning</td><td>573.46</td></tr><tr><td>TM-21490</td><td>Tony Molinari</td><td>292.53</td></tr><tr><td>TN-21040</td><td>Tanja Norvell</td><td>-692.05</td></tr><tr><td>TP-21130</td><td>Theone Pippenger</td><td>1128.65</td></tr><tr><td>TP-21415</td><td>Tom Prescott</td><td>-1087.38</td></tr><tr><td>TP-21565</td><td>Tracy Poddar</td><td>139.44</td></tr><tr><td>TR-21325</td><td>Toby Ritter</td><td>220.36</td></tr><tr><td>TS-21085</td><td>Thais Sissman</td><td>-3.32</td></tr><tr><td>TS-21160</td><td>Theresa Swint</td><td>260.63</td></tr><tr><td>TS-21205</td><td>Thomas Seio</td><td>862.94</td></tr><tr><td>TS-21340</td><td>Toby Swindell</td><td>-185.00</td></tr><tr><td>TS-21370</td><td>Todd Sumrall</td><td>2371.73</td></tr><tr><td>TS-21430</td><td>Tom Stivers</td><td>48.90</td></tr><tr><td>TS-21505</td><td>NA</td><td>11.39</td></tr><tr><td>TS-21610</td><td>Troy Staebel</td><td>-294.89</td></tr><tr><td>TS-21655</td><td>Trudy Schmidt</td><td>220.73</td></tr><tr><td>TT-21070</td><td>Ted Trevino</td><td>752.17</td></tr><tr><td>TT-21220</td><td>Thomas Thornton</td><td>278.76</td></tr><tr><td>TT-21265</td><td>Tim Taslimi</td><td>93.92</td></tr><tr><td>TT-21460</td><td>Tonja Turnell</td><td>1124.39</td></tr><tr><td>TW-21025</td><td>Tamara Willingham</td><td>737.39</td></tr><tr><td>TZ-21580</td><td>Tracy Zic</td><td>224.89</td></tr><tr><td>VB-21745</td><td>Victoria Brennan</td><td>371.25</td></tr><tr><td>VD-21670</td><td>Valerie Dominguez</td><td>1617.61</td></tr><tr><td>VF-21715</td><td>Vicky Freymann</td><td>-96.28</td></tr><tr><td>VG-21790</td><td>Vivek Gonzalez</td><td>144.12</td></tr><tr><td>VG-21805</td><td>Vivek Grady</td><td>-52.33</td></tr><tr><td>VM-21685</td><td>Valerie Mitchum</td><td>513.62</td></tr><tr><td>VM-21835</td><td>Vivian Mathis</td><td>116.64</td></tr><tr><td>VP-21730</td><td>Victor Preis</td><td>205.39</td></tr><tr><td>VP-21760</td><td>Victoria Pisteka</td><td>-1018.91</td></tr><tr><td>VS-21820</td><td>Vivek Sundaresam</td><td>-263.08</td></tr><tr><td>VT-21700</td><td>Valerie Takahito</td><td>-224.93</td></tr><tr><td>VW-21775</td><td>Victoria Wilson</td><td>-874.66</td></tr><tr><td>WB-21850</td><td>William Brown</td><td>714.52</td></tr><tr><td>XP-21865</td><td>Xylona Preis</td><td>621.37</td></tr><tr><td>YC-21895</td><td>Yoseph Carroll</td><td>1305.64</td></tr><tr><td>YS-21880</td><td>Yana Sorensen</td><td>1778.31</td></tr><tr><td>ZC-21910</td><td>Zuschuss Carroll</td><td>-1032.36</td></tr><tr><td>ZD-21925</td><td>Zuschuss Donatelli</td><td>248.75</td></tr></tbody></table></div>"
      ]
     },
     "metadata": {
      "application/vnd.databricks.v1+output": {
       "addedWidgets": {},
       "aggData": [],
       "aggError": "",
       "aggOverflow": false,
       "aggSchema": [],
       "aggSeriesLimitReached": false,
       "aggType": "",
       "arguments": {},
       "columnCustomDisplayInfos": {},
       "data": [
        [
         "AA-10315",
         "Alex Avila",
         "-362.91"
        ],
        [
         "AA-10375",
         "Allen Armold",
         "277.40"
        ],
        [
         "AA-10480",
         "Andrew Allen",
         "436.08"
        ],
        [
         "AA-10645",
         "Anna Andreadi",
         "857.80"
        ],
        [
         "AB-10015",
         "Aaron Bergman",
         "129.68"
        ],
        [
         "AB-10060",
         "Adam Bellavance",
         "2054.60"
        ],
        [
         "AB-10105",
         "Adrian Barton",
         "5444.97"
        ],
        [
         "AB-10150",
         "Aimee Bixby",
         "313.66"
        ],
        [
         "AB-10165",
         "Alan Barnes",
         "220.60"
        ],
        [
         "AB-10255",
         "Alejandro Ballentine",
         "264.57"
        ],
        [
         "AB-10600",
         "Ann Blume",
         "-275.28"
        ],
        [
         "AC-10420",
         "Alyssa Crouse",
         "-62.13"
        ],
        [
         "AC-10450",
         "Amy Cox",
         "1366.50"
        ],
        [
         "AC-10615",
         "Ann Chong",
         "298.61"
        ],
        [
         "AC-10660",
         "Anna Chung",
         "-28.70"
        ],
        [
         "AD-10180",
         "Alan Dominguez",
         "1869.92"
        ],
        [
         "AF-10870",
         "Art Ferguson",
         "317.62"
        ],
        [
         "AF-10885",
         "Art Foster",
         "-163.13"
        ],
        [
         "AG-10270",
         "Alejandro Grove",
         "732.75"
        ],
        [
         "AG-10300",
         "Aleksandra Gannaway",
         "59.28"
        ],
        [
         "AG-10330",
         "Alex Grayson",
         "-5.36"
        ],
        [
         "AG-10390",
         "Allen Goldenen",
         "69.27"
        ],
        [
         "AG-10495",
         "Andrew Gjertsen",
         "295.84"
        ],
        [
         "AG-10525",
         "Andy Gerbode",
         "-152.75"
        ],
        [
         "AG-10675",
         "Anna Gayman",
         "-246.40"
        ],
        [
         "AG-10765",
         "Anthony Garverick",
         "-8.42"
        ],
        [
         "AG-10900",
         "Arthur Gainer",
         "343.67"
        ],
        [
         "AH-10030",
         "Aaron Hawkins",
         "365.22"
        ],
        [
         "AH-10075",
         "Adam Hart",
         "280.80"
        ],
        [
         "AH-10120",
         "Adrian Hane",
         "-2.50"
        ],
        [
         "AH-10195",
         "Alan Haines",
         "-378.04"
        ],
        [
         "AH-10210",
         "Alan Hwang",
         "1308.56"
        ],
        [
         "AH-10465",
         "Amy Hunt",
         "-195.99"
        ],
        [
         "AH-10585",
         "Angele Hood",
         "83.97"
        ],
        [
         "AH-10690",
         "Anna Hberlin",
         "1296.87"
        ],
        [
         "AI-10855",
         "Arianne Irving",
         "867.87"
        ],
        [
         "AJ-10780",
         "Anthony Jacobs",
         "150.72"
        ],
        [
         "AJ-10795",
         "Anthony Johnson",
         "1158.71"
        ],
        [
         "AJ-10945",
         "Ashley Jarboe",
         "521.14"
        ],
        [
         "AJ-10960",
         "Astrea Jones",
         "60.42"
        ],
        [
         "AM-10360",
         "Alice McCarthy",
         "194.98"
        ],
        [
         "AM-10705",
         "Anne McFarland",
         "969.05"
        ],
        [
         "AO-10810",
         "Anthony O'Donnell",
         "12.10"
        ],
        [
         "AP-10720",
         "Anne Pryor",
         "285.80"
        ],
        [
         "AP-10915",
         "Arthur Prichep",
         "579.68"
        ],
        [
         "AR-10345",
         "Alex Russell",
         "-221.06"
        ],
        [
         "AR-10405",
         "Allen Rosenblatt",
         "-98.52"
        ],
        [
         "AR-10510",
         "Andrew Roberts",
         "43.65"
        ],
        [
         "AR-10540",
         "Andy Reiter",
         "2884.61"
        ],
        [
         "AR-10570",
         "Anemone Ratner",
         "32.64"
        ],
        [
         "AR-10825",
         "Anthony Rawles",
         "495.07"
        ],
        [
         "AS-10045",
         "Aaron Smayling",
         "-253.59"
        ],
        [
         "AS-10090",
         "Adam Shillingsburg",
         "64.31"
        ],
        [
         "AS-10135",
         "Adrian Shami",
         "21.84"
        ],
        [
         "AS-10225",
         "Alan Schoenberger",
         "719.77"
        ],
        [
         "AS-10240",
         "Alan Shonely",
         "33.69"
        ],
        [
         "AS-10285",
         "Alejandro Savely",
         "354.63"
        ],
        [
         "AS-10630",
         "Ann Steele",
         "136.60"
        ],
        [
         "AT-10435",
         "Alyssa Tate",
         "100.87"
        ],
        [
         "AT-10735",
         "Annie Thurman",
         "974.57"
        ],
        [
         "AW-10840",
         "Anthony Witt",
         "65.78"
        ],
        [
         "AW-10930",
         "Arthur Wiediger",
         "-104.45"
        ],
        [
         "AY-10555",
         "Andy Yotov",
         "103.34"
        ],
        [
         "AZ-10750",
         "Annie Zypern",
         "154.77"
        ],
        [
         "BB-10990",
         "Barry Blumstein",
         "11.57"
        ],
        [
         "BB-11545",
         "Brenda Bowman",
         "1014.65"
        ],
        [
         "BC-11125",
         "Becky Castell",
         "251.19"
        ],
        [
         "BD-11320",
         "Bil Donatelli",
         "1094.51"
        ],
        [
         "BD-11500",
         "Bradley Drucker",
         "1142.12"
        ],
        [
         "BD-11560",
         "Brendan Dodson",
         "116.71"
        ],
        [
         "BD-11605",
         "Brian Dahlen",
         "634.82"
        ],
        [
         "BD-11620",
         "Brian DeCherney",
         "207.02"
        ],
        [
         "BD-11635",
         "Brian Derr",
         "141.43"
        ],
        [
         "BD-11725",
         "Bruce Degenhardt",
         "334.47"
        ],
        [
         "BD-11770",
         "Bryan Davis",
         "141.28"
        ],
        [
         "BE-11335",
         "Bil Eplett",
         "1487.79"
        ],
        [
         "BE-11410",
         "Bobby Elias",
         "755.91"
        ],
        [
         "BE-11455",
         "Brad Eason",
         "139.20"
        ],
        [
         "BF-10975",
         "Barbara Fisher",
         "227.30"
        ],
        [
         "BF-11005",
         "Barry Franz",
         "-291.37"
        ],
        [
         "BF-11020",
         "Barry Französisch",
         "301.44"
        ],
        [
         "BF-11080",
         "Bart Folk",
         "110.99"
        ],
        [
         "BF-11170",
         "Ben Ferrer",
         "1938.67"
        ],
        [
         "BF-11215",
         "Benjamin Farhat",
         "523.09"
        ],
        [
         "BF-11275",
         "Beth Fritzler",
         "25.87"
        ],
        [
         "BG-11035",
         "Barry Gonzalez",
         "-710.80"
        ],
        [
         "BG-11695",
         "Brooke Gillingham",
         "107.59"
        ],
        [
         "BG-11740",
         "Bruce Geld",
         "119.34"
        ],
        [
         "BH-11710",
         "Brosina Hoffman",
         "789.63"
        ],
        [
         "BK-11260",
         "Berenike Kampe",
         "-63.30"
        ],
        [
         "BM-11140",
         "Becky Martin",
         "-1659.97"
        ],
        [
         "BM-11575",
         "Brendan Murry",
         "95.58"
        ],
        [
         "BM-11650",
         "Brian Moss",
         "2198.83"
        ],
        [
         "BM-11785",
         "Bryan Mills",
         "137.72"
        ],
        [
         "BN-11470",
         "Brad Norvell",
         "36.61"
        ],
        [
         "BN-11515",
         "Bradley Nguyen",
         "340.72"
        ],
        [
         "BO-11350",
         "Bil Overfelt",
         "278.43"
        ],
        [
         "BO-11425",
         "Bobby Odegard",
         "59.45"
        ],
        [
         "BP-11050",
         "Barry Pond",
         "209.66"
        ],
        [
         "BP-11095",
         "Bart Pistole",
         "433.57"
        ],
        [
         "BP-11155",
         "''Becky Pak",
         "647.00"
        ],
        [
         "BP-11185",
         "Ben Peterman",
         "363.61"
        ],
        [
         "BP-11230",
         "Benjamin Patterson",
         "-197.39"
        ],
        [
         "BP-11290",
         "Beth Paige",
         "-318.85"
        ],
        [
         "BS-11365",
         "Bil Shonely",
         "2616.41"
        ],
        [
         "BS-11380",
         "Bil Stewart",
         "-17.54"
        ],
        [
         "BS-11590",
         "Brendan Sweed",
         "381.39"
        ],
        [
         "BS-11665",
         "Brian Stugart",
         "238.73"
        ],
        [
         "BS-11755",
         "Bruce Stewart",
         "-113.31"
        ],
        [
         "BS-11800",
         "Bryan Spruell",
         "194.05"
        ],
        [
         "BT-11305",
         "Beth Thompson",
         "417.58"
        ],
        [
         "BT-11395",
         "Bil Tyler",
         "257.90"
        ],
        [
         "BT-11440",
         "Bobby Trafton",
         "-77.27"
        ],
        [
         "BT-11485",
         "Brad Thomas",
         "126.87"
        ],
        [
         "BT-11530",
         "Bradley Talbott",
         "409.49"
        ],
        [
         "BT-11680",
         "Brian Thompson",
         "447.81"
        ],
        [
         "BV-11245",
         "Benjamin Venier",
         "315.22"
        ],
        [
         "BW-11065",
         "Barry Weirich",
         "-58.29"
        ],
        [
         "BW-11110",
         "Bart Watters",
         "921.38"
        ],
        [
         "BW-11200",
         "Ben Wallace",
         "247.00"
        ],
        [
         "CA-11965",
         "Carol Adams",
         "1143.39"
        ],
        [
         "CA-12055",
         "Cthy Armstrong",
         "211.64"
        ],
        [
         "CA-12265",
         "Christina Anderson",
         "279.90"
        ],
        [
         "CA-12310",
         "Christine Abelman",
         "246.86"
        ],
        [
         "CA-12775",
         "Cynthia Arntzen",
         "203.73"
        ],
        [
         "CB-12025",
         "Cassandra Brandow",
         "150.51"
        ],
        [
         "CB-12415",
         "Christy Brittain",
         "272.40"
        ],
        [
         "CB-12535",
         "Claudia Bergmann",
         "1049.28"
        ],
        [
         "CC-12100",
         "Chad Cunningham",
         "208.60"
        ],
        [
         "CC-12145",
         "Charles Crestani",
         "392.29"
        ],
        [
         "CC-12220",
         "Chris Cortes",
         "393.95"
        ],
        [
         "CC-12370",
         "Christopher Conant",
         "2177.07"
        ],
        [
         "CC-12430",
         "Chuck Clark",
         "424.68"
        ],
        [
         "CC-12475",
         "Cindy Chapman",
         "154.85"
        ],
        [
         "CC-12550",
         "Clay Cheatham",
         "34.30"
        ],
        [
         "CC-12610",
         "Corey Catlett",
         "331.27"
        ],
        [
         "CC-12670",
         "Craig Carreira",
         "187.88"
        ],
        [
         "CC-12685",
         "Craig Carroll",
         "850.03"
        ],
        [
         "CD-11920",
         "Carlos Daly",
         "426.21"
        ],
        [
         "CD-11980",
         "Carol Darley",
         "-206.71"
        ],
        [
         "CD-12280",
         "Christina DeMoss",
         "233.48"
        ],
        [
         "CD-12790",
         "Cynthia Delaney",
         "389.45"
        ],
        [
         "CG-12040",
         "Catherine Glotzbach",
         "86.31"
        ],
        [
         "CG-12520",
         "Claire Gute",
         "169.93"
        ],
        [
         "CH-12070",
         "Cathy Hwang",
         "184.29"
        ],
        [
         "CJ-11875",
         "Carl Jackson",
         "1.65"
        ],
        [
         "CJ-12010",
         "Caroline Jumper",
         "858.75"
        ],
        [
         "CK-12205",
         "Chloris Kastensmidt",
         "141.59"
        ],
        [
         "CK-12325",
         "Christine Kargatis",
         "261.23"
        ],
        [
         "CK-12595",
         "Clytie Kelty",
         "491.12"
        ],
        [
         "CK-12760",
         "Cyma Kinney",
         "-338.44"
        ],
        [
         "CL-11890",
         "Carl Ludwig",
         "328.08"
        ],
        [
         "CL-12565",
         "Clay Ludtke",
         "1933.18"
        ],
        [
         "CL-12700",
         "Craig Leslie",
         "229.00"
        ],
        [
         "CM-11815",
         "Candace McMahon",
         "214.85"
        ],
        [
         "CM-11935",
         "Carlos Meador",
         "-43.73"
        ],
        [
         "CM-12115",
         "Chad McGuire",
         "408.58"
        ],
        [
         "CM-12160",
         "Charles McCrossin",
         "-394.37"
        ],
        [
         "CM-12190",
         "Charlotte Melton",
         "91.21"
        ],
        [
         "CM-12235",
         "Chris McAfee",
         "365.03"
        ],
        [
         "CM-12385",
         "Christopher Martinez",
         "3900.03"
        ],
        [
         "CM-12445",
         "Chuck Magee",
         "63.97"
        ],
        [
         "CM-12655",
         "Corinna Mitchell",
         "1572.44"
        ],
        [
         "CM-12715",
         "Craig Molinari",
         "176.32"
        ],
        [
         "CP-12085",
         "Cathy Prescott",
         "426.94"
        ],
        [
         "CP-12340",
         "Christine Phan",
         "-1850.31"
        ],
        [
         "CR-12580",
         "Clay Rozendal",
         "74.40"
        ],
        [
         "CR-12625",
         "Corey Roper",
         "144.85"
        ],
        [
         "CR-12730",
         "Craig Reiter",
         "306.92"
        ],
        [
         "CR-12820",
         "Cyra Reiten",
         "83.27"
        ],
        [
         "CS-11845",
         "Cari Sayre",
         "185.55"
        ],
        [
         "CS-11860",
         "Cari Schnelling",
         "105.82"
        ],
        [
         "CS-11950",
         "Carlos Soltero",
         "-126.61"
        ],
        [
         "CS-12130",
         "Chad Sievert",
         "143.83"
        ],
        [
         "CS-12175",
         "Charles Sheldon",
         "113.15"
        ],
        [
         "CS-12250",
         "Chris Selesnick",
         "738.41"
        ],
        [
         "CS-12355",
         "Christine Sundaresam",
         "831.94"
        ],
        [
         "CS-12400",
         "Christopher Schild",
         "-342.80"
        ],
        [
         "CS-12460",
         "Chuck Sachs",
         "156.27"
        ],
        [
         "CS-12490",
         "Cindy Schnelling",
         "-302.86"
        ],
        [
         "CS-12505",
         "Cindy Stewart",
         "-6626.24"
        ],
        [
         "CT-11995",
         "Carol Triggs",
         "160.90"
        ],
        [
         "CV-12295",
         "Christina VanderZanden",
         "493.09"
        ],
        [
         "CV-12805",
         "Cynthia Voltz",
         "98.70"
        ],
        [
         "CW-11905",
         "Carl Weiss",
         "370.83"
        ],
        [
         "CY-12745",
         "Craig Yedwab",
         "60.64"
        ],
        [
         "Co-12640",
         "CoreyLock",
         "205.90"
        ],
        [
         "DA-13450",
         "Dianna Arnett",
         "56.79"
        ],
        [
         "DB-12910",
         "Daniel Byrd",
         "431.38"
        ],
        [
         "DB-12970",
         "Darren Budd",
         "212.54"
        ],
        [
         "DB-13060",
         "Dave Brooks",
         "472.63"
        ],
        [
         "DB-13120",
         "David Bremer",
         "-1421.78"
        ],
        [
         "DB-13210",
         "Dean Braden",
         "169.71"
        ],
        [
         "DB-13270",
         "Deborah Brumfield",
         "841.84"
        ],
        [
         "DB-13360",
         "Dennis Bolton",
         "291.01"
        ],
        [
         "DB-13405",
         "Denny Blanton",
         "438.92"
        ],
        [
         "DB-13555",
         "Dorothy Badders",
         "109.63"
        ],
        [
         "DB-13615",
         "Doug Bickford",
         "438.80"
        ],
        [
         "DB-13660",
         "Duane Benoit",
         "177.94"
        ],
        [
         "DC-12850",
         "Dan Campbell",
         "-1441.28"
        ],
        [
         "DC-13285",
         "Debra Catini",
         "132.07"
        ],
        [
         "DD-13570",
         "Dorothy Dickinson",
         "36.44"
        ],
        [
         "DE-13255",
         "NA",
         "464.48"
        ],
        [
         "DF-13135",
         "David Flashing",
         "-259.31"
        ],
        [
         "DG-13300",
         "Deirdre Greer",
         "562.77"
        ],
        [
         "DH-13075",
         "Dave Hallsten",
         "1193.74"
        ],
        [
         "DH-13675",
         "Duane Huffman",
         "116.68"
        ],
        [
         "DJ-13420",
         "Denny Joy",
         "483.03"
        ],
        [
         "DJ-13510",
         "Don Jones",
         "345.26"
        ],
        [
         "DJ-13630",
         "Doug Jacobs",
         "731.57"
        ],
        [
         "DK-12835",
         "Damala Kotsonis",
         "881.52"
        ],
        [
         "DK-12895",
         "Dana Kaydos",
         "925.97"
        ],
        [
         "DK-12985",
         "Darren Koutras",
         "-107.45"
        ],
        [
         "DK-13090",
         "Dave Kipp",
         "536.39"
        ],
        [
         "DK-13150",
         "DavidK 'lendrick",
         "250.27"
        ],
        [
         "DK-13225",
         "Dean Katz",
         "210.27"
        ],
        [
         "DK-13375",
         "Dennis Kane",
         "377.43"
        ],
        [
         "DL-12865",
         "Dan Lawera",
         "321.85"
        ],
        [
         "DL-12925",
         "Daniel Lacy",
         "4.39"
        ],
        [
         "DL-13315",
         "Delfina Latchford",
         "288.92"
        ],
        [
         "DL-13330",
         "Denise Leinenbach",
         "222.68"
        ],
        [
         "DL-13495",
         "Dionis Lloyd",
         "-52.39"
        ],
        [
         "DM-12955",
         "Dario Medina",
         "108.76"
        ],
        [
         "DM-13015",
         "Darrin Martin",
         "1677.98"
        ],
        [
         "DM-13345",
         "Denise Monton",
         "1319.07"
        ],
        [
         "DM-13525",
         "Don Miller",
         "200.20"
        ],
        [
         "DN-13690",
         "Duane Noonan",
         "540.53"
        ],
        [
         "DO-13435",
         "Denny Ordway",
         "-38.33"
        ],
        [
         "DO-13645",
         "Doug O'Connell",
         "293.84"
        ],
        [
         "DP-13000",
         "Darren Powers",
         "241.69"
        ],
        [
         "DP-13105",
         "Dave Poirier",
         "562.95"
        ],
        [
         "DP-13165",
         "David Philippe",
         "-40.94"
        ],
        [
         "DP-13390",
         "Dennis Pardue",
         "1571.83"
        ],
        [
         "DR-12880",
         "Dan Reichenbach",
         "1641.54"
        ],
        [
         "DR-12940",
         "Daniel Raglin",
         "2869.08"
        ],
        [
         "DS-13030",
         "Darrin Sayre",
         "193.78"
        ],
        [
         "DS-13180",
         "David Smith",
         "163.66"
        ],
        [
         "DV-13045",
         "DarrinVan Huff",
         "-427.63"
        ],
        [
         "DV-13465",
         "Dianna Vittorini",
         "353.09"
        ],
        [
         "DW-13195",
         "David Wiener",
         "-86.97"
        ],
        [
         "DW-13480",
         "Dianna Wilson",
         "1348.75"
        ],
        [
         "DW-13540",
         "Don Weiss",
         "69.66"
        ],
        [
         "DW-13585",
         "Dorothy Wardle",
         "-266.90"
        ],
        [
         "Dl-13600",
         "Dorris liebe",
         "175.23"
        ],
        [
         "Dp-13240",
         "Dean perceR",
         "333.37"
        ],
        [
         "EA-14035",
         "Erin Ashbrook",
         "-52.55"
        ],
        [
         "EB-13705",
         "Ed Braxton",
         "13.56"
        ],
        [
         "EB-13750",
         "Edward Becker",
         "-80.29"
        ],
        [
         "EB-13840",
         "Ellis Ballard",
         "656.20"
        ],
        [
         "EB-13870",
         "Emily Burns",
         "261.95"
        ],
        [
         "EB-13930",
         "Eric Barreto",
         "0.43"
        ],
        [
         "EB-13975",
         "Erica Bern",
         "162.88"
        ],
        [
         "EB-14110",
         "Eugene Barchas",
         "184.76"
        ],
        [
         "EB-14170",
         "Evan Bailliet",
         "282.41"
        ],
        [
         "EC-14050",
         "Erin Creighton",
         "96.44"
        ],
        [
         "ED-13885",
         "NA",
         "670.45"
        ],
        [
         "EG-13900",
         "Emily Grady",
         "103.90"
        ],
        [
         "EH-13765",
         "Edward Hooks",
         "1393.50"
        ],
        [
         "EH-13945",
         "Eric Hoffmann",
         "53.79"
        ],
        [
         "EH-13990",
         "Erica Hackney",
         "150.37"
        ],
        [
         "EH-14005",
         "Erica Hernandez",
         "-94.72"
        ],
        [
         "EH-14125",
         "Eugene Hildebrand",
         "96.21"
        ],
        [
         "EH-14185",
         "Evan Henry",
         "242.12"
        ],
        [
         "EJ-13720",
         "Ed Jacobs",
         "-6964.03"
        ],
        [
         "EJ-14155",
         "Eva Jacobs",
         "451.88"
        ],
        [
         "EK-13795",
         "Eileen Kiefer",
         "97.10"
        ],
        [
         "EL-13735",
         "Ed Ludwig",
         "27.11"
        ],
        [
         "EM-13810",
         "NA",
         "-133.99"
        ],
        [
         "EM-13825",
         "Elizabeth Moffitt",
         "682.55"
        ],
        [
         "EM-13960",
         "Eric Murdock",
         "102.30"
        ],
        [
         "EM-14065",
         "ErinMull",
         "40.03"
        ],
        [
         "EM-14095",
         "Eudokia Martin",
         "240.23"
        ],
        [
         "EM-14140",
         "Eugene Moren",
         "1318.95"
        ],
        [
         "EM-14200",
         "Evan Minnotte",
         "21.83"
        ],
        [
         "EN-13780",
         "Edward Nazzal",
         "496.22"
        ],
        [
         "EP-13915",
         "Emily Phan",
         "145.13"
        ],
        [
         "ER-13855",
         "Elpida Rittenbach",
         "-295.33"
        ],
        [
         "ES-14020",
         "Erica Smith",
         "1003.08"
        ],
        [
         "ES-14080",
         "Erin Smith",
         "246.94"
        ],
        [
         "FA-14230",
         "Frank Atkinson",
         "520.33"
        ],
        [
         "FC-14245",
         "Frank Carlisle",
         "1217.18"
        ],
        [
         "FC-14335",
         "Fred Chung",
         "714.29"
        ],
        [
         "FG-14260",
         "Frank Gastineau",
         "394.95"
        ],
        [
         "FH-14275",
         "Frank Hawley",
         "13400.32"
        ],
        [
         "FH-14350",
         "Fred Harton",
         "706.05"
        ],
        [
         "FH-14365",
         "Fred Hopkins",
         "2051.01"
        ],
        [
         "FM-14215",
         "Filia McAdams",
         "249.95"
        ],
        [
         "FM-14290",
         "Frank Merwin",
         "197.89"
        ],
        [
         "FM-14380",
         "Fred McMath",
         "191.09"
        ],
        [
         "FO-14305",
         "Frank Olsen",
         "215.58"
        ],
        [
         "FP-14320",
         "Frank Preis",
         "406.46"
        ],
        [
         "FW-14395",
         "Fred Waerman",
         "23.50"
        ],
        [
         "GA-14515",
         "George Ashbrook",
         "840.89"
        ],
        [
         "GA-14725",
         "Guy Armstrong",
         "136.49"
        ],
        [
         "GB-14530",
         "George Bell",
         "7.85"
        ],
        [
         "GB-14575",
         "Giulietta Baptist",
         "1135.84"
        ],
        [
         "GD-14590",
         "Giulietta Dortch",
         "230.59"
        ],
        [
         "GG-14650",
         "Greg Guthrie",
         "12.69"
        ],
        [
         "GH-14410",
         "GaryHansen",
         "-577.01"
        ],
        [
         "GH-14425",
         "Gary Hwang",
         "1176.39"
        ],
        [
         "GH-14485",
         "Gene Hale",
         "-95.49"
        ],
        [
         "GH-14665",
         "Greg Hansen",
         "-5.81"
        ],
        [
         "GK-14620",
         "Grace Kelly",
         "1448.59"
        ],
        [
         "GM-14440",
         "Gary McGarr",
         "347.27"
        ],
        [
         "GM-14455",
         "Gary Mitchum",
         "793.28"
        ],
        [
         "GM-14500",
         "Gene McClure",
         "441.32"
        ],
        [
         "GM-14680",
         "Greg Matthias",
         "35.47"
        ],
        [
         "GM-14695",
         "Greg Maxwell",
         "188.46"
        ],
        [
         "GP-14740",
         "Guy Phonely",
         "31.84"
        ],
        [
         "GR-14560",
         "Georgia Rosenberg",
         "359.88"
        ],
        [
         "GT-14635",
         "Grant Thornton",
         "-4108.66"
        ],
        [
         "GT-14710",
         "Greg Tran",
         "2163.29"
        ],
        [
         "GT-14755",
         "Guy Thornton",
         "-6.14"
        ],
        [
         "GW-14605",
         "Giulietta Weimer",
         "-268.55"
        ],
        [
         "GZ-14470",
         "Gary Zandusky",
         "1088.15"
        ],
        [
         "GZ-14545",
         "George Zrebassa",
         "828.17"
        ],
        [
         "HA-14905",
         "Helen Abelman",
         "270.85"
        ],
        [
         "HA-14920",
         "Helen Andreada",
         "98.46"
        ],
        [
         "HD-14785",
         "Harold Dahlen",
         "-136.33"
        ],
        [
         "HE-14800",
         "Harold Engle",
         "273.97"
        ],
        [
         "HF-14995",
         "Herbert Flentye",
         "-14.35"
        ],
        [
         "HG-14845",
         "Harry Greene",
         "147.01"
        ],
        [
         "HG-14965",
         "Henry Goldwyn",
         "-2797.96"
        ],
        [
         "HG-15025",
         "Hunter Glantz",
         "804.62"
        ],
        [
         "HH-15010",
         "Hilary Holden",
         "86.73"
        ],
        [
         "HJ-14875",
         "Heather Jas",
         "98.67"
        ],
        [
         "HK-14890",
         "Heather Kirkland",
         "956.95"
        ],
        [
         "HL-15040",
         "Hunter Lopez",
         "5622.43"
        ],
        [
         "HM-14860",
         "Harry Marie",
         "2438.07"
        ],
        [
         "HM-14980",
         "Henry MacAllister",
         "116.78"
        ],
        [
         "HP-14815",
         "Harold Pawlan",
         "373.87"
        ],
        [
         "HR-14770",
         "Hallie Redmond",
         "185.40"
        ],
        [
         "HR-14830",
         "Harold Ryan",
         "1197.37"
        ],
        [
         "HW-14935",
         "Helen Waerman",
         "2164.17"
        ],
        [
         "HZ-14950",
         "Henia Zydlo",
         "-130.39"
        ],
        [
         "IG-15085",
         "Ivan Gibson",
         "320.48"
        ],
        [
         "IL-15100",
         "Ivan Liston",
         "1121.83"
        ],
        [
         "IM-15055",
         "Ionia McGrath",
         "975.78"
        ],
        [
         "IM-15070",
         "Irene Maddox",
         "514.20"
        ],
        [
         "JA-15970",
         "Joseph Airdo",
         "-819.88"
        ],
        [
         "JB-15400",
         "Jennifer Braxton",
         "156.05"
        ],
        [
         "JB-15925",
         "Joni Blumstein",
         "-286.98"
        ],
        [
         "JB-16000",
         "Joy Bell",
         "127.06"
        ],
        [
         "JB-16045",
         "Julia Barnett",
         "201.40"
        ],
        [
         "JC-15340",
         "Jasper Cacioppo",
         "-0.35"
        ],
        [
         "JC-15385",
         "Jenna Caffey",
         "502.93"
        ],
        [
         "JC-15775",
         "John Castell",
         "279.57"
        ],
        [
         "JC-16105",
         "Julie Creighton",
         "201.60"
        ],
        [
         "JD-15790",
         "John Dryer",
         "-266.56"
        ],
        [
         "JD-15895",
         "Jonathan Doherty",
         "1050.44"
        ],
        [
         "JD-16015",
         "Joy Daniels",
         "26.73"
        ],
        [
         "JD-16060",
         "Julia Dunbar",
         "111.12"
        ],
        [
         "JD-16150",
         "Justin Deggeller",
         "1618.73"
        ],
        [
         "JE-15475",
         "Jeremy Ellison",
         "276.44"
        ],
        [
         "JE-15610",
         "Jim Epp",
         "1623.11"
        ],
        [
         "JE-15715",
         "Joe Elijah",
         "1262.11"
        ],
        [
         "JE-15745",
         "Joel Eaton",
         "222.24"
        ],
        [
         "JE-16165",
         "Justin Ellison",
         "790.02"
        ],
        [
         "JF-15190",
         "Jamie Frazer",
         "575.78"
        ],
        [
         "JF-15295",
         "Jason Fortune",
         "97.41"
        ],
        [
         "JF-15355",
         "Jay Fein",
         "330.20"
        ],
        [
         "JF-15415",
         "Jennifer Ferguson",
         "635.64"
        ],
        [
         "JF-15490",
         "Jeremy Farry",
         "-18.05"
        ],
        [
         "JF-15565",
         "Jill Fjeld",
         "1074.07"
        ],
        [
         "JG-15115",
         "Jack Garza",
         "684.53"
        ],
        [
         "JG-15160",
         "James Galang",
         "1415.36"
        ],
        [
         "JG-15310",
         "Jason Gross",
         "3.59"
        ],
        [
         "JG-15805",
         "John Grady",
         "206.10"
        ],
        [
         "JH-15430",
         "Jennifer Halladay",
         "-24.06"
        ],
        [
         "JH-15820",
         "John Huston",
         "26.07"
        ],
        [
         "JH-15910",
         "Jonathan Howell",
         "-13.54"
        ],
        [
         "JH-15985",
         "Joseph Holt",
         "-644.48"
        ],
        [
         "JH-16180",
         "Justin Hirsh",
         "-96.96"
        ],
        [
         "JJ-15445",
         "Jennifer Jackson",
         "200.56"
        ],
        [
         "JJ-15760",
         "Joel Jenkins",
         "34.46"
        ],
        [
         "JK-15205",
         "Jamie Kunitz",
         "1221.56"
        ],
        [
         "JK-15325",
         "Jason Klamczynski",
         "55.58"
        ],
        [
         "JK-15370",
         "Jay Kimmel",
         "329.85"
        ],
        [
         "JK-15625",
         "Jim Karlsson",
         "750.73"
        ],
        [
         "JK-15640",
         "Jim Kriz",
         "1172.90"
        ],
        [
         "JK-15730",
         "Joe Kamberova",
         "55.00"
        ],
        [
         "JK-16090",
         "Juliana Krohn",
         "586.67"
        ],
        [
         "JK-16120",
         "Julie Kriz",
         "122.66"
        ],
        [
         "JL-15130",
         "Jack Lebron",
         "-207.32"
        ],
        [
         "JL-15175",
         "James Lanier",
         "209.11"
        ],
        [
         "JL-15235",
         "Janet Lee",
         "54.51"
        ],
        [
         "JL-15505",
         "Jeremy Lonsdale",
         "592.04"
        ],
        [
         "JL-15835",
         "John Lee",
         "228.51"
        ],
        [
         "JL-15850",
         "John Lucas",
         "779.89"
        ],
        [
         "JM-15250",
         "Janet Martin",
         "19.58"
        ],
        [
         "JM-15265",
         "Janet Molinari",
         "502.99"
        ],
        [
         "JM-15535",
         "Jessica Myrick",
         "356.53"
        ],
        [
         "JM-15580",
         "Jill Matthias",
         "113.12"
        ],
        [
         "JM-15655",
         "Jim Mitchum",
         "117.20"
        ],
        [
         "JM-15865",
         "John Murray",
         "1575.07"
        ],
        [
         "JM-16195",
         "Justin MacKendrick",
         "753.70"
        ],
        [
         "JO-15145",
         "Jack O'Briant",
         "581.44"
        ],
        [
         "JO-15280",
         "Jas O'Carroll",
         "201.24"
        ],
        [
         "JO-15550",
         "Jesus Ocampo",
         "167.13"
        ],
        [
         "JP-15460",
         "Jennifer Patt",
         "429.73"
        ],
        [
         "JP-15520",
         "Jeremy Pistek",
         "757.19"
        ],
        [
         "JP-16135",
         "Julie Prescott",
         "309.30"
        ],
        [
         "JR-15670",
         "Jim Radford",
         "-785.16"
        ],
        [
         "JR-15700",
         "Jocasta Rupert",
         "107.98"
        ],
        [
         "JR-16210",
         "Justin Ritter",
         "452.37"
        ],
        [
         "JS-15595",
         "JiStevenson",
         "-174.93"
        ],
        [
         "JS-15685",
         "Jim Sink",
         "-54.87"
        ],
        [
         "JS-15880",
         "John Stevenson",
         "564.97"
        ],
        [
         "JS-15940",
         "Joni Sundaresam",
         "-327.93"
        ],
        [
         "JS-16030",
         "Joy Smith",
         "-311.26"
        ],
        [
         "JW-15220",
         "Jane Waco",
         "2174.04"
        ],
        [
         "JW-15955",
         "Joni Waerman",
         "-29.58"
        ],
        [
         "JW-16075",
         "Julia West",
         "153.89"
        ],
        [
         "KA-16525",
         "Kelly Andreada",
         "234.36"
        ],
        [
         "KB-16240",
         "Karen Bern",
         "764.23"
        ],
        [
         "KB-16315",
         "Karl Braun",
         "49.21"
        ],
        [
         "KB-16405",
         "Katrina Bavinger",
         "273.86"
        ],
        [
         "KB-16585",
         "Ken Black",
         "578.89"
        ],
        [
         "KB-16600",
         "Ken Brennan",
         "293.90"
        ],
        [
         "KC-16255",
         "Karen Carlisle",
         "846.14"
        ],
        [
         "KC-16540",
         "Kelly Collister",
         "709.43"
        ],
        [
         "KC-16675",
         "Kimberly Carter",
         "157.23"
        ],
        [
         "KD-16270",
         "Karen Danels",
         "1107.59"
        ],
        [
         "KD-16345",
         "Katherine Ducich",
         "328.59"
        ],
        [
         "KD-16495",
         "Keith Dawkins",
         "3038.92"
        ],
        [
         "KD-16615",
         "NA",
         "539.72"
        ],
        [
         "KE-16420",
         "Katrina Edelman",
         "397.89"
        ],
        [
         "KF-16285",
         "Karen Ferguson",
         "1660.41"
        ],
        [
         "KH-16330",
         "Katharine Harms",
         "455.70"
        ],
        [
         "KH-16360",
         "Katherine Hughes",
         "528.28"
        ],
        [
         "KH-16510",
         "Keith Herrera",
         "656.12"
        ],
        [
         "KH-16630",
         "Ken Heidel",
         "727.51"
        ],
        [
         "KH-16690",
         "Kristen Hastings",
         "1227.13"
        ],
        [
         "KL-16555",
         "Kelly Lampkin",
         "-182.79"
        ],
        [
         "KL-16645",
         "Ken Lonsdale",
         "806.50"
        ],
        [
         "KM-16225",
         "Kalyca Meade",
         "635.43"
        ],
        [
         "KM-16375",
         "Katherine Murray",
         "973.37"
        ],
        [
         "KM-16660",
         "Khloe Miller",
         "90.67"
        ],
        [
         "KM-16720",
         "Kunst Miller",
         "745.40"
        ],
        [
         "KN-16390",
         "Katherine Nockton",
         "-151.15"
        ],
        [
         "KN-16450",
         "Kean Nguyen",
         "113.82"
        ],
        [
         "KN-16705",
         "Kristi'na Nunn",
         "329.77"
        ],
        [
         "KS-16300",
         "Karen Seio",
         "0.11"
        ],
        [
         "KT-16465",
         "Kean Takahito",
         "253.75"
        ],
        [
         "KT-16480",
         "Kean Thornton",
         "194.07"
        ],
        [
         "KW-16435",
         "Katrina Willman",
         "1756.14"
        ],
        [
         "KW-16570",
         "Kelly Williams",
         "108.39"
        ],
        [
         "LA-16780",
         "Laura Armstrong",
         "2025.17"
        ],
        [
         "LB-16735",
         "Larry Blacks",
         "18.65"
        ],
        [
         "LB-16795",
         "Laurel Beltran",
         "-51.99"
        ],
        [
         "LC-16870",
         "NA",
         "-188.02"
        ],
        [
         "LC-16885",
         "Lena Creighton",
         "1288.73"
        ],
        [
         "LC-16930",
         "Linda Cazamias",
         "288.29"
        ],
        [
         "LC-16960",
         "Lindsay Castell",
         "299.47"
        ],
        [
         "LC-17050",
         "Liz Carlisle",
         "86.78"
        ],
        [
         "LC-17140",
         "Logan Currie",
         "230.53"
        ],
        [
         "LD-16855",
         "Lela Donovan",
         "0.46"
        ],
        [
         "LD-17005",
         "Lisa DeCherney",
         "556.77"
        ],
        [
         "LE-16810",
         "Laurel Elliston",
         "161.76"
        ],
        [
         "LF-17185",
         "Luke Foster",
         "-3583.61"
        ],
        [
         "LH-16750",
         "Larry Hughes",
         "12.63"
        ],
        [
         "LH-16900",
         "Lena Hernandez",
         "525.12"
        ],
        [
         "LH-17020",
         "Lisa Hazard",
         "-242.75"
        ],
        [
         "LH-17155",
         "Logan Haushalter",
         "316.53"
        ],
        [
         "LL-16840",
         "Lauren Leatherbury",
         "560.51"
        ],
        [
         "LM-17065",
         "Liz MacKendrick",
         "-44.88"
        ],
        [
         "LO-17170",
         "Lori Olson",
         "150.16"
        ],
        [
         "LP-17080",
         "Liz Pelletier",
         "110.79"
        ],
        [
         "LP-17095",
         "Liz Preis",
         "338.46"
        ],
        [
         "LR-16915",
         "Lena Radford",
         "535.27"
        ],
        [
         "LR-17035",
         "Lisa Ryan",
         "-383.19"
        ],
        [
         "LS-16945",
         "Linda Southworth",
         "-318.44"
        ],
        [
         "LS-16975",
         "Lindsay Shagiari",
         "262.27"
        ],
        [
         "LS-17200",
         "Luke Schmidt",
         "243.82"
        ],
        [
         "LS-17230",
         "Lycoris Saunders",
         "64.57"
        ],
        [
         "LS-17245",
         "Lynn Smith",
         "347.97"
        ],
        [
         "LT-16765",
         "Larry Tron",
         "59.03"
        ],
        [
         "LT-17110",
         "Liz Thompson",
         "320.98"
        ],
        [
         "LW-16825",
         "Laurel Workman",
         "32.59"
        ],
        [
         "LW-16990",
         "Lindsay Williams",
         "662.83"
        ],
        [
         "LW-17125",
         "Liz Willingham",
         "192.63"
        ],
        [
         "LW-17215",
         "Luke Weiss",
         "837.67"
        ],
        [
         "MA-17560",
         "Matt Abelman",
         "1240.55"
        ],
        [
         "MA-17995",
         "Michelle Arnett",
         "280.51"
        ],
        [
         "MB-17305",
         "Maria Bertelson",
         "213.33"
        ],
        [
         "MB-18085",
         "Mick Brown",
         "118.05"
        ],
        [
         "MC-17275",
         "Marc Crier",
         "461.02"
        ],
        [
         "MC-17425",
         "Mark Cousins",
         "1802.40"
        ],
        [
         "MC-17575",
         "Matt Collins",
         "210.92"
        ],
        [
         "MC-17590",
         "Matt Collister",
         "288.99"
        ],
        [
         "MC-17605",
         "Matt Connell",
         "195.45"
        ],
        [
         "MC-17635",
         "Matthew Clasen",
         "-247.72"
        ],
        [
         "MC-17845",
         "Michael Chen",
         "698.42"
        ],
        [
         "MC-18100",
         "Mick Crebagga",
         "-64.40"
        ],
        [
         "MC-18130",
         "Mike Caudle",
         "121.74"
        ],
        [
         "MD-17350",
         "Maribeth Dona",
         "-241.23"
        ],
        [
         "MD-17860",
         "Michael Dominguez",
         "-4.05"
        ],
        [
         "ME-17320",
         "Maria Etezadi",
         "1858.97"
        ],
        [
         "ME-17725",
         "Max Engle",
         "77.59"
        ],
        [
         "ME-18010",
         "Michelle Ellison",
         "107.35"
        ],
        [
         "MF-17665",
         "Maureen Fritzler",
         "-341.53"
        ],
        [
         "MF-18250",
         "Monica Federle",
         "456.86"
        ],
        [
         "MG-17650",
         "Matthew Grinstein",
         "341.90"
        ],
        [
         "MG-17680",
         "Maureen Gastineau",
         "25.89"
        ],
        [
         "MG-17695",
         "Maureen Gnade",
         "-398.80"
        ],
        [
         "MG-17875",
         "Michael Grace",
         "-470.77"
        ],
        [
         "MG-17890",
         "Michael Granlund",
         "171.44"
        ],
        [
         "MG-18145",
         "Mike Gockenbach",
         "-93.49"
        ],
        [
         "MG-18205",
         "Mitch Gastineau",
         "-1.24"
        ],
        [
         "MH-17290",
         "Marc Harrigan",
         "28.98"
        ],
        [
         "MH-17440",
         "Mark Haberlin",
         "61.43"
        ],
        [
         "MH-17455",
         "Mark Hamilton",
         "485.28"
        ],
        [
         "MH-17620",
         "Matt Hagelstein",
         "122.35"
        ],
        [
         "MH-17785",
         "Maya Herman",
         "239.02"
        ],
        [
         "MH-18025",
         "Michelle Huthwaite",
         "476.74"
        ],
        [
         "MH-18115",
         "Mick Hernandez",
         "170.98"
        ],
        [
         "MJ-17740",
         "Max Jones",
         "1054.54"
        ],
        [
         "MK-17905",
         "Michael Kennedy",
         "-405.43"
        ],
        [
         "MK-18160",
         "Mike Kennedy",
         "227.43"
        ],
        [
         "ML-17395",
         "Marina Lichtenstein",
         "684.93"
        ],
        [
         "ML-17410",
         "Maris LaWare",
         "-76.47"
        ],
        [
         "ML-17755",
         "Max Ludwig",
         "409.99"
        ],
        [
         "ML-18040",
         "Michelle Lonsdale",
         "138.72"
        ],
        [
         "ML-18265",
         "Muhammed Lee",
         "42.67"
        ],
        [
         "MM-17260",
         "Magdelene Morse",
         "178.41"
        ],
        [
         "MM-17920",
         "Michael Moore",
         "81.45"
        ],
        [
         "MM-18055",
         "Michelle Moray",
         "-520.46"
        ],
        [
         "MM-18280",
         "Muhammed MacIntyre",
         "58.56"
        ],
        [
         "MN-17935",
         "Michael Nguyen",
         "290.82"
        ],
        [
         "MO-17500",
         "Mary O'Rourke",
         "59.36"
        ],
        [
         "MO-17800",
         "Meg O'Connel",
         "168.98"
        ],
        [
         "MO-17950",
         "Michael Oakman",
         "-82.01"
        ],
        [
         "MP-17470",
         "Mark Packer",
         "600.30"
        ],
        [
         "MP-17965",
         "Michael Paige",
         "637.74"
        ],
        [
         "MP-18175",
         "Mike Pelletier",
         "225.49"
        ],
        [
         "MR-17545",
         "Mathew Reese",
         "162.45"
        ],
        [
         "MS-17365",
         "Maribethchnelling",
         "844.93"
        ],
        [
         "MS-17530",
         "MaryBeth Skach",
         "84.02"
        ],
        [
         "MS-17710",
         "Maurice Satty",
         "247.43"
        ],
        [
         "MS-17770",
         "Maxwell Schwartz",
         "280.81"
        ],
        [
         "MS-17830",
         "Melanie Seite",
         "19.43"
        ],
        [
         "MS-17980",
         "Michael Stewart",
         "55.23"
        ],
        [
         "MT-17815",
         "Meg Tillman",
         "509.00"
        ],
        [
         "MT-18070",
         "Michelle Tran",
         "-23.45"
        ],
        [
         "MV-17485",
         "MarkVan Huff",
         "189.01"
        ],
        [
         "MV-18190",
         "Mike Vittorini",
         "273.99"
        ],
        [
         "MW-18220",
         "Mitch Webber",
         "1237.92"
        ],
        [
         "MW-18235",
         "Mitch Willingham",
         "1665.52"
        ],
        [
         "MY-17380",
         "Maribeth Yedwab",
         "319.14"
        ],
        [
         "MY-18295",
         "Muhammed YeDwab",
         "-371.71"
        ],
        [
         "MZ-17335",
         "Maria Zettner",
         "85.02"
        ],
        [
         "MZ-17515",
         "Mary Zewe",
         "787.15"
        ],
        [
         "NB-18580",
         "Nicole Brennan",
         "24.79"
        ],
        [
         "NB-18655",
         "Nona Balk",
         "117.64"
        ],
        [
         "NC-18340",
         "Nat Carroll",
         "580.29"
        ],
        [
         "NC-18415",
         "Nathan Cano",
         "-2204.81"
        ],
        [
         "NC-18535",
         "Nick Crebassa",
         "1314.02"
        ],
        [
         "NC-18625",
         "Noah Childs",
         "-358.91"
        ],
        [
         "ND-18370",
         "Natalie DeCherney",
         "353.24"
        ],
        [
         "ND-18460",
         "Neil Ducich",
         "443.34"
        ],
        [
         "NF-18385",
         "Natalie Fritzler",
         "-1696.35"
        ],
        [
         "NF-18475",
         "Neil Französisch",
         "85.92"
        ],
        [
         "NF-18595",
         "Nicole Fjeld",
         "388.31"
        ],
        [
         "NG-18355",
         "Nat Gilpin",
         "313.63"
        ],
        [
         "NG-18430",
         "Nathan Gelder",
         "217.09"
        ],
        [
         "NH-18610",
         "Nicole Hansen",
         "760.16"
        ],
        [
         "NK-18490",
         "Neil Knudson",
         "121.22"
        ],
        [
         "NL-18310",
         "Nancy Lomonaco",
         "343.80"
        ],
        [
         "NM-18445",
         "Nathan Mautz",
         "2751.70"
        ],
        [
         "NM-18520",
         "Neoma Murray",
         "788.95"
        ],
        [
         "NP-18325",
         "NA",
         "1209.13"
        ],
        [
         "NP-18670",
         "Nra Paige",
         "513.15"
        ],
        [
         "NP-18685",
         "Nora Pelletier",
         "514.50"
        ],
        [
         "NP-18700",
         "Nora Preis",
         "630.82"
        ],
        [
         "NR-18550",
         "Nick Radford",
         "-25.14"
        ],
        [
         "NS-18505",
         "Neola Schneider",
         "-12.32"
        ],
        [
         "NS-18640",
         "Noel Staavos",
         "-234.89"
        ],
        [
         "NW-18400",
         "Natalie Webber",
         "1022.64"
        ],
        [
         "NZ-18565",
         "Nick Zandusky",
         "402.56"
        ],
        [
         "ON-18715",
         "Odella Nelson",
         "-5.53"
        ],
        [
         "OT-18730",
         "Olvera Toch",
         "-925.56"
        ],
        [
         "PA-19060",
         "Pete Armstrong",
         "225.86"
        ],
        [
         "PB-18805",
         "Patrick Bzostek",
         "228.77"
        ],
        [
         "PB-19105",
         "Peter Bhler",
         "218.16"
        ],
        [
         "PB-19150",
         "Philip Brown",
         "280.27"
        ],
        [
         "PB-19210",
         "Phillip Breyer",
         "21.90"
        ],
        [
         "PC-18745",
         "Pamela Coakley",
         "272.68"
        ],
        [
         "PC-19000",
         "Pauline Chand",
         "-184.34"
        ],
        [
         "PF-19120",
         "Peter Fuller",
         "-614.02"
        ],
        [
         "PF-19165",
         "Philip Fox",
         "196.88"
        ],
        [
         "PF-19225",
         "Phillip Flathmann",
         "591.29"
        ],
        [
         "PG-18820",
         "Patrick Gardner",
         "137.48"
        ],
        [
         "PG-18895",
         "Paul Gonzalez",
         "334.97"
        ],
        [
         "PH-18790",
         "Patricia Hirasaki",
         "47.89"
        ],
        [
         "PJ-18835",
         "Patrick Jones",
         "442.14"
        ],
        [
         "PJ-19015",
         "Pauline Johnson",
         "682.68"
        ],
        [
         "PK-18910",
         "Paul Knutson",
         "-798.71"
        ],
        [
         "PK-19075",
         "Pete Kriz",
         "2037.90"
        ],
        [
         "PL-18925",
         "Paul Lucas",
         "-0.77"
        ],
        [
         "PM-18940",
         "Paul MacIntyre",
         "157.88"
        ],
        [
         "PM-19135",
         "Peter McVee",
         "526.76"
        ],
        [
         "PN-18775",
         "Parhena Norris",
         "192.04"
        ],
        [
         "PO-18850",
         "Patrick O'Brill",
         "37.64"
        ],
        [
         "PO-18865",
         "Patrick O'Donnell",
         "437.94"
        ],
        [
         "PO-19180",
         "Philisse Overcash",
         "1155.24"
        ],
        [
         "PO-19195",
         "Phillina Ober",
         "-49.69"
        ],
        [
         "PP-18955",
         "Paul Prost",
         "1495.47"
        ],
        [
         "PR-18880",
         "Patrick Ryan",
         "5596.20"
        ],
        [
         "PS-18760",
         "Pamela Stobb",
         "-134.45"
        ],
        [
         "PS-18970",
         "Paul Stevenson",
         "198.53"
        ],
        [
         "PS-19045",
         "Penelope Sewall",
         "3183.77"
        ],
        [
         "PT-19090",
         "PeteTakahito",
         "-20.05"
        ],
        [
         "PV-18985",
         "PaulVan Hugh",
         "434.25"
        ],
        [
         "PW-19030",
         "Pauline Webber",
         "803.82"
        ],
        [
         "PW-19240",
         "Pierre Wener",
         "1291.15"
        ],
        [
         "QJ-19255",
         "Quincy Jones",
         "1203.69"
        ],
        [
         "RA-19285",
         "Ralph Arnett",
         "545.72"
        ],
        [
         "RA-19885",
         "Ruben Ausman",
         "1292.81"
        ],
        [
         "RA-19915",
         "Russell Applegate",
         "305.29"
        ],
        [
         "RA-19945",
         "Ryan Akin",
         "-445.69"
        ],
        [
         "RB-19330",
         "Randy Bradley",
         "-164.41"
        ],
        [
         "RB-19360",
         "Raymond Buch",
         "6976.36"
        ],
        [
         "RB-19435",
         "Richard Bierner",
         "477.63"
        ],
        [
         "RB-19465",
         "Rick Bensley",
         "640.56"
        ],
        [
         "RB-19570",
         "Rob Beeghly",
         "76.89"
        ],
        [
         "RB-19645",
         "Robert Barroso",
         "72.68"
        ],
        [
         "RB-19705",
         "Roger Barcio",
         "243.07"
        ],
        [
         "RB-19795",
         "Ross Baird",
         "-461.74"
        ],
        [
         "RC-19825",
         "Roy Collins",
         "63.57"
        ],
        [
         "RC-19960",
         "Ryan Crowe",
         "10.54"
        ],
        [
         "RD-19480",
         "Rick Duston",
         "480.59"
        ],
        [
         "RD-19585",
         "Rob Dowd",
         "734.52"
        ],
        [
         "RD-19660",
         "Robert Dilbeck",
         "835.77"
        ],
        [
         "RD-19720",
         "Roger Demir",
         "207.72"
        ],
        [
         "RD-19810",
         "Ross DeVincentis",
         "318.45"
        ],
        [
         "RD-19900",
         "Ruben Dartt",
         "455.51"
        ],
        [
         "RD-19930",
         "Russell D'Ascenzo",
         "35.04"
        ],
        [
         "RE-19405",
         "Ricardo Emerson",
         "6.04"
        ],
        [
         "RE-19450",
         "Richard Eichhorn",
         "209.25"
        ],
        [
         "RF-19345",
         "Randy Ferguson",
         "633.67"
        ],
        [
         "RF-19735",
         "Roland Fjeld",
         "711.83"
        ],
        [
         "RF-19840",
         "Roy Französisch",
         "280.09"
        ],
        [
         "RH-19495",
         "Rick Hansen",
         "563.78"
        ],
        [
         "RH-19510",
         "Rick Huthwaite",
         "1289.45"
        ],
        [
         "RH-19555",
         "Ritsa Hightower",
         "0.31"
        ],
        [
         "RH-19600",
         "Rob Haberlin",
         "172.62"
        ],
        [
         "RK-19300",
         "Ralph Kennedy",
         "269.68"
        ],
        [
         "RL-19615",
         "Rob Lucas",
         "213.98"
        ],
        [
         "RM-19375",
         "Raymond Messe",
         "392.59"
        ],
        [
         "RM-19675",
         "Robert Marley",
         "1902.55"
        ],
        [
         "RM-19750",
         "Roland Murray",
         "28.68"
        ],
        [
         "RO-19780",
         "Rose O'Brian",
         "-1262.81"
        ],
        [
         "RP-19270",
         "Rachel Payne",
         "59.52"
        ],
        [
         "RP-19390",
         "Resi Pölking",
         "464.96"
        ],
        [
         "RP-19855",
         "Roy Phan",
         "594.78"
        ],
        [
         "RR-19315",
         "Ralph Ritter",
         "-73.83"
        ],
        [
         "RR-19525",
         "Rick Reed",
         "721.69"
        ],
        [
         "RS-19420",
         "Ricardo Sperren",
         "633.45"
        ],
        [
         "RS-19765",
         "Roland Schwarz",
         "1206.39"
        ],
        [
         "RS-19870",
         "Roy Skaria",
         "9.58"
        ],
        [
         "RW-19540",
         "Rick Wilson",
         "1586.23"
        ],
        [
         "RW-19630",
         "Rob Williams",
         "699.06"
        ],
        [
         "RW-19690",
         "Robert Waldorf",
         "707.55"
        ],
        [
         "SA-20830",
         "SueAnn Reed",
         "610.14"
        ],
        [
         "SB-20170",
         "Sarah Bern",
         "157.68"
        ],
        [
         "SB-20185",
         "Sarah Brown",
         "885.96"
        ],
        [
         "SB-20290",
         "Sean Braxton",
         "-2082.76"
        ],
        [
         "SC-20020",
         "Sam Craven",
         "-317.51"
        ],
        [
         "SC-20050",
         "SampleCompany A",
         "1011.73"
        ],
        [
         "SC-20095",
         "Sanjit Chand",
         "5757.30"
        ],
        [
         "SC-20230",
         "Scot Coram",
         "439.82"
        ],
        [
         "SC-20260",
         "Scott Cohen",
         "670.98"
        ],
        [
         "SC-20305",
         "Sean Christensen",
         "229.11"
        ],
        [
         "SC-20380",
         "ShahiCollister",
         "-3164.00"
        ],
        [
         "SC-20440",
         "Shaun Chance",
         "379.57"
        ],
        [
         "SC-20575",
         "Sonia Cooley",
         "100.23"
        ],
        [
         "SC-20680",
         "Steve Carroll",
         "370.17"
        ],
        [
         "SC-20695",
         "Steve Chapman",
         "611.82"
        ],
        [
         "SC-20725",
         "Steven Cartwright",
         "1276.42"
        ],
        [
         "SC-20770",
         "Stewart Carmichael",
         "-671.38"
        ],
        [
         "SC-20800",
         "Stuart Calhoun",
         "52.21"
        ],
        [
         "SC-20845",
         "Sung Chung",
         "31.17"
        ],
        [
         "SD-20485",
         "Shirley Daniels",
         "1985.18"
        ],
        [
         "SE-20110",
         "Sanjit Engle",
         "2650.67"
        ],
        [
         "SF-20065",
         "Sandra Flanagan",
         "227.76"
        ],
        [
         "SF-20200",
         "Sarah Foster",
         "287.00"
        ],
        [
         "SF-20965",
         "Sylvia Foulston",
         "539.94"
        ],
        [
         "SG-20080",
         "Sandra Glassco",
         "570.44"
        ],
        [
         "SG-20470",
         "Sheri Gordon",
         "-119.01"
        ],
        [
         "SG-20605",
         "Speros Goranitis",
         "463.27"
        ],
        [
         "SG-20890",
         "Susan Gilcrest",
         "-3.70"
        ],
        [
         "SH-19975",
         "NA",
         "553.65"
        ],
        [
         "SH-20395",
         "ShahiHopkins",
         "-144.52"
        ],
        [
         "SH-20635",
         "Stefanie Holloman",
         "260.63"
        ],
        [
         "SJ-20125",
         "Sanjit Jacobs",
         "143.72"
        ],
        [
         "SJ-20215",
         "Sarah Jordon",
         "-23.38"
        ],
        [
         "SJ-20500",
         "Shirley Jackson",
         "68.59"
        ],
        [
         "SK-19990",
         "Sally Knutson",
         "168.79"
        ],
        [
         "SL-20155",
         "Sara Luxemburg",
         "528.04"
        ],
        [
         "SM-20005",
         "Sally Matthias",
         "-26.59"
        ],
        [
         "SM-20320",
         "Sean Miller",
         "-1980.98"
        ],
        [
         "SM-20905",
         "Susan MacKendrick",
         "-16510.34"
        ],
        [
         "SM-20950",
         "Suzanne McNair",
         "581.57"
        ],
        [
         "SN-20560",
         "Skye Norling",
         "-716.84"
        ],
        [
         "SN-20710",
         "Steve Nguyen",
         "481.74"
        ],
        [
         "SO-20335",
         "Sean O'Donnell",
         "-81.43"
        ],
        [
         "SP-20545",
         "Sibella Parks",
         "-118.38"
        ],
        [
         "SP-20620",
         "Stefania Perrino",
         "-270.19"
        ],
        [
         "SP-20650",
         "Stephanie Phelps",
         "268.47"
        ],
        [
         "SP-20860",
         "Sung Pak",
         "567.11"
        ],
        [
         "SP-20920",
         "Susan Pistek",
         "14.37"
        ],
        [
         "SR-20425",
         "Sharelle Roach",
         "-3334.17"
        ],
        [
         "SR-20740",
         "Steven Roelle",
         "1990.42"
        ],
        [
         "SS-20140",
         "Saphhira Shifley",
         "332.03"
        ],
        [
         "SS-20410",
         "ShahiShariari",
         "-1011.08"
        ],
        [
         "SS-20515",
         "Shirley Schmidt",
         "199.93"
        ],
        [
         "SS-20590",
         "Sonia Sunley",
         "135.91"
        ],
        [
         "SS-20875",
         "Sung Shariari",
         "-75.57"
        ],
        [
         "ST-20530",
         "Shui Tom",
         "85.12"
        ],
        [
         "SU-20665",
         "Stephanie Ulpright",
         "763.70"
        ],
        [
         "SV-20365",
         "Seth Vernon",
         "1200.14"
        ],
        [
         "SV-20785",
         "Stewart Visinsky",
         "484.85"
        ],
        [
         "SV-20815",
         "Stuart Van",
         "199.64"
        ],
        [
         "SV-20935",
         "Susan Vittorini",
         "106.62"
        ],
        [
         "SW-20245",
         "Scot Wooten",
         "-19.58"
        ],
        [
         "SW-20275",
         "Scott Williamson",
         "332.76"
        ],
        [
         "SW-20350",
         "Sean Wendt",
         "95.84"
        ],
        [
         "SW-20455",
         "Shaun Weien",
         "793.64"
        ],
        [
         "SW-20755",
         "Steven Ward",
         "68.23"
        ],
        [
         "SZ-20035",
         "Sam Zeldin",
         "366.42"
        ],
        [
         "TA-21385",
         "Tom Ashbrook",
         "4703.72"
        ],
        [
         "TB-21055",
         "Ted Butterfield",
         "389.76"
        ],
        [
         "TB-21175",
         "Thomas Boland",
         "828.71"
        ],
        [
         "TB-21190",
         "Thomas Brumley",
         "179.01"
        ],
        [
         "TB-21250",
         "Tim Brockman",
         "260.29"
        ],
        [
         "TB-21280",
         "Toby Braunhardt",
         "491.12"
        ],
        [
         "TB-21355",
         "Todd Boyes",
         "268.95"
        ],
        [
         "TB-21400",
         "Tom Boeckenhauer",
         "2798.06"
        ],
        [
         "TB-21520",
         "Tracy Blumstein",
         "-1603.04"
        ],
        [
         "TB-21595",
         "Troy Blackwell",
         "-136.47"
        ],
        [
         "TB-21625",
         "Trudy Brown",
         "379.80"
        ],
        [
         "TC-20980",
         "Tamara Chand",
         "8981.32"
        ],
        [
         "TC-21145",
         "Theresa Coyne",
         "265.59"
        ],
        [
         "TC-21295",
         "Toby Carlisle",
         "606.38"
        ],
        [
         "TC-21475",
         "Tony Chapman",
         "119.13"
        ],
        [
         "TC-21535",
         "Tracy Collins",
         "217.95"
        ],
        [
         "TD-20995",
         "Tamara Dahlen",
         "88.64"
        ],
        [
         "TG-21310",
         "Toby Gnade",
         "682.17"
        ],
        [
         "TG-21640",
         "Trudy Glocke",
         "365.12"
        ],
        [
         "TH-21100",
         "Thea Hendricks",
         "-135.22"
        ],
        [
         "TH-21115",
         "Thea Hudgings",
         "-252.55"
        ],
        [
         "TH-21235",
         "Tiffany House",
         "92.55"
        ],
        [
         "TH-21550",
         "Tracy Hopkins",
         "-571.99"
        ],
        [
         "TM-21010",
         "Tamara Manning",
         "573.46"
        ],
        [
         "TM-21490",
         "Tony Molinari",
         "292.53"
        ],
        [
         "TN-21040",
         "Tanja Norvell",
         "-692.05"
        ],
        [
         "TP-21130",
         "Theone Pippenger",
         "1128.65"
        ],
        [
         "TP-21415",
         "Tom Prescott",
         "-1087.38"
        ],
        [
         "TP-21565",
         "Tracy Poddar",
         "139.44"
        ],
        [
         "TR-21325",
         "Toby Ritter",
         "220.36"
        ],
        [
         "TS-21085",
         "Thais Sissman",
         "-3.32"
        ],
        [
         "TS-21160",
         "Theresa Swint",
         "260.63"
        ],
        [
         "TS-21205",
         "Thomas Seio",
         "862.94"
        ],
        [
         "TS-21340",
         "Toby Swindell",
         "-185.00"
        ],
        [
         "TS-21370",
         "Todd Sumrall",
         "2371.73"
        ],
        [
         "TS-21430",
         "Tom Stivers",
         "48.90"
        ],
        [
         "TS-21505",
         "NA",
         "11.39"
        ],
        [
         "TS-21610",
         "Troy Staebel",
         "-294.89"
        ],
        [
         "TS-21655",
         "Trudy Schmidt",
         "220.73"
        ],
        [
         "TT-21070",
         "Ted Trevino",
         "752.17"
        ],
        [
         "TT-21220",
         "Thomas Thornton",
         "278.76"
        ],
        [
         "TT-21265",
         "Tim Taslimi",
         "93.92"
        ],
        [
         "TT-21460",
         "Tonja Turnell",
         "1124.39"
        ],
        [
         "TW-21025",
         "Tamara Willingham",
         "737.39"
        ],
        [
         "TZ-21580",
         "Tracy Zic",
         "224.89"
        ],
        [
         "VB-21745",
         "Victoria Brennan",
         "371.25"
        ],
        [
         "VD-21670",
         "Valerie Dominguez",
         "1617.61"
        ],
        [
         "VF-21715",
         "Vicky Freymann",
         "-96.28"
        ],
        [
         "VG-21790",
         "Vivek Gonzalez",
         "144.12"
        ],
        [
         "VG-21805",
         "Vivek Grady",
         "-52.33"
        ],
        [
         "VM-21685",
         "Valerie Mitchum",
         "513.62"
        ],
        [
         "VM-21835",
         "Vivian Mathis",
         "116.64"
        ],
        [
         "VP-21730",
         "Victor Preis",
         "205.39"
        ],
        [
         "VP-21760",
         "Victoria Pisteka",
         "-1018.91"
        ],
        [
         "VS-21820",
         "Vivek Sundaresam",
         "-263.08"
        ],
        [
         "VT-21700",
         "Valerie Takahito",
         "-224.93"
        ],
        [
         "VW-21775",
         "Victoria Wilson",
         "-874.66"
        ],
        [
         "WB-21850",
         "William Brown",
         "714.52"
        ],
        [
         "XP-21865",
         "Xylona Preis",
         "621.37"
        ],
        [
         "YC-21895",
         "Yoseph Carroll",
         "1305.64"
        ],
        [
         "YS-21880",
         "Yana Sorensen",
         "1778.31"
        ],
        [
         "ZC-21910",
         "Zuschuss Carroll",
         "-1032.36"
        ],
        [
         "ZD-21925",
         "Zuschuss Donatelli",
         "248.75"
        ]
       ],
       "datasetInfos": [],
       "dbfsResultPath": null,
       "isJsonSchema": true,
       "metadata": {},
       "overflow": false,
       "plotOptions": {
        "customPlotOptions": {},
        "displayType": "table",
        "pivotAggregation": null,
        "pivotColumns": null,
        "xColumns": null,
        "yColumns": null
       },
       "removedWidgets": [],
       "schema": [
        {
         "metadata": "{}",
         "name": "Customer_ID",
         "type": "\"string\""
        },
        {
         "metadata": "{}",
         "name": "Customer_Name",
         "type": "\"string\""
        },
        {
         "metadata": "{}",
         "name": "profit_by_cust",
         "type": "\"decimal(38,2)\""
        }
       ],
       "type": "table"
      }
     },
     "output_type": "display_data"
    }
   ],
   "source": [
    "%sql\n",
    "select Customer_ID,Customer_Name,\n",
    "round(sum(Profit),2) as profit_by_cust from enriched_order_with_cust_and_product\n",
    "group by Customer_ID,Customer_Name order by Customer_ID;\n",
    "\n"
   ]
  },
  {
   "cell_type": "code",
   "execution_count": 0,
   "metadata": {
    "application/vnd.databricks.v1+cell": {
     "cellMetadata": {
      "byteLimit": 2048000,
      "implicitDf": true,
      "rowLimit": 10000
     },
     "inputWidgets": {},
     "nuid": "33872236-56b6-4e16-a1b2-9898196b31d7",
     "showTitle": false,
     "tableResultSettingsMap": {},
     "title": ""
    }
   },
   "outputs": [
    {
     "output_type": "display_data",
     "data": {
      "text/html": [
       "<style scoped>\n",
       "  .table-result-container {\n",
       "    max-height: 300px;\n",
       "    overflow: auto;\n",
       "  }\n",
       "  table, th, td {\n",
       "    border: 1px solid black;\n",
       "    border-collapse: collapse;\n",
       "  }\n",
       "  th, td {\n",
       "    padding: 5px;\n",
       "  }\n",
       "  th {\n",
       "    text-align: left;\n",
       "  }\n",
       "</style><div class='table-result-container'><table class='table-result'><thead style='background-color: white'><tr><th>year</th><th>Customer_ID</th><th>Customer_Name</th><th>profit_by_cust</th></tr></thead><tbody><tr><td>2014</td><td>AA-10315</td><td>Alex Avila</td><td>280.68</td></tr><tr><td>2014</td><td>AA-10375</td><td>Allen Armold</td><td>16.72</td></tr><tr><td>2014</td><td>AA-10480</td><td>Andrew Allen</td><td>9.89</td></tr><tr><td>2014</td><td>AA-10645</td><td>Anna Andreadi</td><td>77.64</td></tr><tr><td>2014</td><td>AB-10015</td><td>Aaron Bergman</td><td>12.82</td></tr><tr><td>2014</td><td>AB-10105</td><td>Adrian Barton</td><td>498.73</td></tr><tr><td>2014</td><td>AB-10150</td><td>Aimee Bixby</td><td>261.20</td></tr><tr><td>2014</td><td>AB-10165</td><td>Alan Barnes</td><td>-1.07</td></tr><tr><td>2014</td><td>AB-10255</td><td>Alejandro Ballentine</td><td>6.49</td></tr><tr><td>2014</td><td>AB-10600</td><td>Ann Blume</td><td>-23.89</td></tr><tr><td>2014</td><td>AC-10420</td><td>Alyssa Crouse</td><td>-14.66</td></tr><tr><td>2014</td><td>AC-10450</td><td>Amy Cox</td><td>84.00</td></tr><tr><td>2014</td><td>AC-10660</td><td>Anna Chung</td><td>-4.97</td></tr><tr><td>2014</td><td>AD-10180</td><td>Alan Dominguez</td><td>-6.60</td></tr><tr><td>2014</td><td>AF-10885</td><td>Art Foster</td><td>-258.56</td></tr><tr><td>2014</td><td>AG-10270</td><td>Alejandro Grove</td><td>17.99</td></tr><tr><td>2014</td><td>AG-10300</td><td>Aleksandra Gannaway</td><td>28.74</td></tr><tr><td>2014</td><td>AG-10390</td><td>Allen Goldenen</td><td>67.97</td></tr><tr><td>2014</td><td>AG-10525</td><td>Andy Gerbode</td><td>-93.53</td></tr><tr><td>2014</td><td>AG-10765</td><td>Anthony Garverick</td><td>-4.12</td></tr><tr><td>2014</td><td>AG-10900</td><td>Arthur Gainer</td><td>144.46</td></tr><tr><td>2014</td><td>AH-10030</td><td>Aaron Hawkins</td><td>188.28</td></tr><tr><td>2014</td><td>AH-10075</td><td>Adam Hart</td><td>2.40</td></tr><tr><td>2014</td><td>AH-10120</td><td>Adrian Hane</td><td>-25.91</td></tr><tr><td>2014</td><td>AH-10210</td><td>Alan Hwang</td><td>87.19</td></tr><tr><td>2014</td><td>AH-10585</td><td>Angele Hood</td><td>41.60</td></tr><tr><td>2014</td><td>AH-10690</td><td>Anna Hberlin</td><td>46.20</td></tr><tr><td>2014</td><td>AI-10855</td><td>Arianne Irving</td><td>288.24</td></tr><tr><td>2014</td><td>AJ-10780</td><td>Anthony Jacobs</td><td>-56.95</td></tr><tr><td>2014</td><td>AJ-10795</td><td>Anthony Johnson</td><td>503.26</td></tr><tr><td>2014</td><td>AJ-10945</td><td>Ashley Jarboe</td><td>3.40</td></tr><tr><td>2014</td><td>AJ-10960</td><td>Astrea Jones</td><td>57.65</td></tr><tr><td>2014</td><td>AM-10360</td><td>Alice McCarthy</td><td>7.68</td></tr><tr><td>2014</td><td>AM-10705</td><td>Anne McFarland</td><td>472.08</td></tr><tr><td>2014</td><td>AP-10720</td><td>Anne Pryor</td><td>54.65</td></tr><tr><td>2014</td><td>AP-10915</td><td>Arthur Prichep</td><td>420.69</td></tr><tr><td>2014</td><td>AR-10345</td><td>Alex Russell</td><td>-242.44</td></tr><tr><td>2014</td><td>AR-10405</td><td>Allen Rosenblatt</td><td>17.59</td></tr><tr><td>2014</td><td>AR-10510</td><td>Andrew Roberts</td><td>-8.41</td></tr><tr><td>2014</td><td>AR-10540</td><td>Andy Reiter</td><td>20.12</td></tr><tr><td>2014</td><td>AR-10825</td><td>Anthony Rawles</td><td>10.37</td></tr><tr><td>2014</td><td>AS-10045</td><td>Aaron Smayling</td><td>32.23</td></tr><tr><td>2014</td><td>AS-10090</td><td>Adam Shillingsburg</td><td>129.55</td></tr><tr><td>2014</td><td>AS-10225</td><td>Alan Schoenberger</td><td>444.69</td></tr><tr><td>2014</td><td>AS-10240</td><td>Alan Shonely</td><td>37.35</td></tr><tr><td>2014</td><td>AS-10630</td><td>Ann Steele</td><td>71.95</td></tr><tr><td>2014</td><td>AT-10435</td><td>Alyssa Tate</td><td>0.84</td></tr><tr><td>2014</td><td>AT-10735</td><td>Annie Thurman</td><td>71.66</td></tr><tr><td>2014</td><td>AW-10930</td><td>Arthur Wiediger</td><td>-42.56</td></tr><tr><td>2014</td><td>AY-10555</td><td>Andy Yotov</td><td>65.60</td></tr><tr><td>2014</td><td>AZ-10750</td><td>Annie Zypern</td><td>72.86</td></tr><tr><td>2014</td><td>BB-10990</td><td>Barry Blumstein</td><td>0.00</td></tr><tr><td>2014</td><td>BC-11125</td><td>Becky Castell</td><td>38.13</td></tr><tr><td>2014</td><td>BD-11500</td><td>Bradley Drucker</td><td>309.08</td></tr><tr><td>2014</td><td>BD-11605</td><td>Brian Dahlen</td><td>342.92</td></tr><tr><td>2014</td><td>BD-11620</td><td>Brian DeCherney</td><td>108.74</td></tr><tr><td>2014</td><td>BD-11635</td><td>Brian Derr</td><td>11.49</td></tr><tr><td>2014</td><td>BF-10975</td><td>Barbara Fisher</td><td>61.99</td></tr><tr><td>2014</td><td>BF-11005</td><td>Barry Franz</td><td>2.37</td></tr><tr><td>2014</td><td>BF-11020</td><td>Barry Französisch</td><td>7.21</td></tr><tr><td>2014</td><td>BF-11080</td><td>Bart Folk</td><td>3.96</td></tr><tr><td>2014</td><td>BF-11170</td><td>Ben Ferrer</td><td>666.39</td></tr><tr><td>2014</td><td>BF-11215</td><td>Benjamin Farhat</td><td>21.48</td></tr><tr><td>2014</td><td>BF-11275</td><td>Beth Fritzler</td><td>-12.13</td></tr><tr><td>2014</td><td>BG-11035</td><td>Barry Gonzalez</td><td>54.19</td></tr><tr><td>2014</td><td>BG-11695</td><td>Brooke Gillingham</td><td>9.70</td></tr><tr><td>2014</td><td>BG-11740</td><td>Bruce Geld</td><td>3.22</td></tr><tr><td>2014</td><td>BH-11710</td><td>Brosina Hoffman</td><td>235.35</td></tr><tr><td>2014</td><td>BK-11260</td><td>Berenike Kampe</td><td>-129.02</td></tr><tr><td>2014</td><td>BM-11140</td><td>Becky Martin</td><td>-1878.79</td></tr><tr><td>2014</td><td>BM-11650</td><td>Brian Moss</td><td>81.65</td></tr><tr><td>2014</td><td>BM-11785</td><td>Bryan Mills</td><td>114.10</td></tr><tr><td>2014</td><td>BN-11470</td><td>Brad Norvell</td><td>24.68</td></tr><tr><td>2014</td><td>BN-11515</td><td>Bradley Nguyen</td><td>185.37</td></tr><tr><td>2014</td><td>BP-11050</td><td>Barry Pond</td><td>2.50</td></tr><tr><td>2014</td><td>BP-11095</td><td>Bart Pistole</td><td>131.70</td></tr><tr><td>2014</td><td>BP-11230</td><td>Benjamin Patterson</td><td>27.56</td></tr><tr><td>2014</td><td>BP-11290</td><td>Beth Paige</td><td>-70.10</td></tr><tr><td>2014</td><td>BS-11365</td><td>Bil Shonely</td><td>210.70</td></tr><tr><td>2014</td><td>BS-11380</td><td>Bil Stewart</td><td>3.94</td></tr><tr><td>2014</td><td>BS-11590</td><td>Brendan Sweed</td><td>97.46</td></tr><tr><td>2014</td><td>BS-11665</td><td>Brian Stugart</td><td>1.08</td></tr><tr><td>2014</td><td>BS-11755</td><td>Bruce Stewart</td><td>-330.55</td></tr><tr><td>2014</td><td>BT-11305</td><td>Beth Thompson</td><td>290.89</td></tr><tr><td>2014</td><td>BT-11395</td><td>Bil Tyler</td><td>74.81</td></tr><tr><td>2014</td><td>BT-11440</td><td>Bobby Trafton</td><td>-5.37</td></tr><tr><td>2014</td><td>BT-11530</td><td>Bradley Talbott</td><td>66.77</td></tr><tr><td>2014</td><td>BT-11680</td><td>Brian Thompson</td><td>-199.77</td></tr><tr><td>2014</td><td>BW-11065</td><td>Barry Weirich</td><td>6.73</td></tr><tr><td>2014</td><td>BW-11200</td><td>Ben Wallace</td><td>87.45</td></tr><tr><td>2014</td><td>CA-11965</td><td>Carol Adams</td><td>44.77</td></tr><tr><td>2014</td><td>CA-12265</td><td>Christina Anderson</td><td>16.97</td></tr><tr><td>2014</td><td>CA-12310</td><td>Christine Abelman</td><td>101.40</td></tr><tr><td>2014</td><td>CA-12775</td><td>Cynthia Arntzen</td><td>111.79</td></tr><tr><td>2014</td><td>CB-12025</td><td>Cassandra Brandow</td><td>5.27</td></tr><tr><td>2014</td><td>CC-12100</td><td>Chad Cunningham</td><td>142.85</td></tr><tr><td>2014</td><td>CC-12145</td><td>Charles Crestani</td><td>78.74</td></tr><tr><td>2014</td><td>CC-12220</td><td>Chris Cortes</td><td>12.40</td></tr><tr><td>2014</td><td>CC-12475</td><td>Cindy Chapman</td><td>3.38</td></tr><tr><td>2014</td><td>CC-12610</td><td>Corey Catlett</td><td>481.45</td></tr><tr><td>2014</td><td>CC-12670</td><td>Craig Carreira</td><td>11.30</td></tr><tr><td>2014</td><td>CC-12685</td><td>Craig Carroll</td><td>-45.32</td></tr><tr><td>2014</td><td>CD-11920</td><td>Carlos Daly</td><td>11.70</td></tr><tr><td>2014</td><td>CD-12790</td><td>Cynthia Delaney</td><td>40.21</td></tr><tr><td>2014</td><td>CK-12205</td><td>Chloris Kastensmidt</td><td>82.99</td></tr><tr><td>2014</td><td>CK-12325</td><td>Christine Kargatis</td><td>326.42</td></tr><tr><td>2014</td><td>CK-12595</td><td>Clytie Kelty</td><td>1.23</td></tr><tr><td>2014</td><td>CK-12760</td><td>Cyma Kinney</td><td>66.59</td></tr><tr><td>2014</td><td>CL-11890</td><td>Carl Ludwig</td><td>-29.34</td></tr><tr><td>2014</td><td>CL-12565</td><td>Clay Ludtke</td><td>199.77</td></tr><tr><td>2014</td><td>CM-11815</td><td>Candace McMahon</td><td>25.23</td></tr><tr><td>2014</td><td>CM-12445</td><td>Chuck Magee</td><td>10.78</td></tr><tr><td>2014</td><td>CM-12715</td><td>Craig Molinari</td><td>206.22</td></tr><tr><td>2014</td><td>CP-12085</td><td>Cathy Prescott</td><td>62.39</td></tr><tr><td>2014</td><td>CP-12340</td><td>Christine Phan</td><td>-1031.67</td></tr><tr><td>2014</td><td>CR-12625</td><td>Corey Roper</td><td>114.40</td></tr><tr><td>2014</td><td>CR-12730</td><td>Craig Reiter</td><td>-6.02</td></tr><tr><td>2014</td><td>CS-11845</td><td>Cari Sayre</td><td>-13.90</td></tr><tr><td>2014</td><td>CS-11860</td><td>Cari Schnelling</td><td>93.74</td></tr><tr><td>2014</td><td>CS-11950</td><td>Carlos Soltero</td><td>-88.07</td></tr><tr><td>2014</td><td>CS-12130</td><td>Chad Sievert</td><td>84.36</td></tr><tr><td>2014</td><td>CS-12175</td><td>Charles Sheldon</td><td>98.11</td></tr><tr><td>2014</td><td>CS-12250</td><td>Chris Selesnick</td><td>446.75</td></tr><tr><td>2014</td><td>CS-12355</td><td>Christine Sundaresam</td><td>77.03</td></tr><tr><td>2014</td><td>CS-12400</td><td>Christopher Schild</td><td>80.63</td></tr><tr><td>2014</td><td>CS-12505</td><td>Cindy Stewart</td><td>9.00</td></tr><tr><td>2014</td><td>CT-11995</td><td>Carol Triggs</td><td>285.45</td></tr><tr><td>2014</td><td>CV-12295</td><td>Christina VanderZanden</td><td>163.49</td></tr><tr><td>2014</td><td>CW-11905</td><td>Carl Weiss</td><td>17.16</td></tr><tr><td>2014</td><td>CY-12745</td><td>Craig Yedwab</td><td>-336.63</td></tr><tr><td>2014</td><td>Co-12640</td><td>CoreyLock</td><td>142.68</td></tr><tr><td>2014</td><td>DA-13450</td><td>Dianna Arnett</td><td>21.72</td></tr><tr><td>2014</td><td>DB-12910</td><td>Daniel Byrd</td><td>3.63</td></tr><tr><td>2014</td><td>DB-12970</td><td>Darren Budd</td><td>17.78</td></tr><tr><td>2014</td><td>DB-13060</td><td>Dave Brooks</td><td>409.76</td></tr><tr><td>2014</td><td>DB-13270</td><td>Deborah Brumfield</td><td>45.10</td></tr><tr><td>2014</td><td>DB-13360</td><td>Dennis Bolton</td><td>79.89</td></tr><tr><td>2014</td><td>DB-13555</td><td>Dorothy Badders</td><td>8.35</td></tr><tr><td>2014</td><td>DB-13615</td><td>Doug Bickford</td><td>13.49</td></tr><tr><td>2014</td><td>DB-13660</td><td>Duane Benoit</td><td>31.01</td></tr><tr><td>2014</td><td>DC-12850</td><td>Dan Campbell</td><td>-77.87</td></tr><tr><td>2014</td><td>DC-13285</td><td>Debra Catini</td><td>54.80</td></tr><tr><td>2014</td><td>DD-13570</td><td>Dorothy Dickinson</td><td>-8.63</td></tr><tr><td>2014</td><td>DE-13255</td><td>NA</td><td>9.85</td></tr><tr><td>2014</td><td>DF-13135</td><td>David Flashing</td><td>37.88</td></tr><tr><td>2014</td><td>DG-13300</td><td>Deirdre Greer</td><td>22.07</td></tr><tr><td>2014</td><td>DH-13075</td><td>Dave Hallsten</td><td>323.13</td></tr><tr><td>2014</td><td>DH-13675</td><td>Duane Huffman</td><td>87.79</td></tr><tr><td>2014</td><td>DJ-13420</td><td>Denny Joy</td><td>39.77</td></tr><tr><td>2014</td><td>DJ-13510</td><td>Don Jones</td><td>187.74</td></tr><tr><td>2014</td><td>DK-12835</td><td>Damala Kotsonis</td><td>-22.36</td></tr><tr><td>2014</td><td>DK-12985</td><td>Darren Koutras</td><td>-8.08</td></tr><tr><td>2014</td><td>DK-13150</td><td>DavidK 'lendrick</td><td>78.50</td></tr><tr><td>2014</td><td>DK-13225</td><td>Dean Katz</td><td>6.00</td></tr><tr><td>2014</td><td>DK-13375</td><td>Dennis Kane</td><td>109.61</td></tr><tr><td>2014</td><td>DL-12865</td><td>Dan Lawera</td><td>7.73</td></tr><tr><td>2014</td><td>DL-12925</td><td>Daniel Lacy</td><td>-324.87</td></tr><tr><td>2014</td><td>DL-13315</td><td>Delfina Latchford</td><td>-11.89</td></tr><tr><td>2014</td><td>DL-13330</td><td>Denise Leinenbach</td><td>2.10</td></tr><tr><td>2014</td><td>DM-12955</td><td>Dario Medina</td><td>58.40</td></tr><tr><td>2014</td><td>DM-13015</td><td>Darrin Martin</td><td>1600.06</td></tr><tr><td>2014</td><td>DM-13345</td><td>Denise Monton</td><td>3.71</td></tr><tr><td>2014</td><td>DM-13525</td><td>Don Miller</td><td>14.49</td></tr><tr><td>2014</td><td>DN-13690</td><td>Duane Noonan</td><td>179.72</td></tr><tr><td>2014</td><td>DO-13435</td><td>Denny Ordway</td><td>6.09</td></tr><tr><td>2014</td><td>DP-13000</td><td>Darren Powers</td><td>24.24</td></tr><tr><td>2014</td><td>DP-13165</td><td>David Philippe</td><td>-41.94</td></tr><tr><td>2014</td><td>DP-13390</td><td>Dennis Pardue</td><td>83.79</td></tr><tr><td>2014</td><td>DR-12940</td><td>Daniel Raglin</td><td>22.68</td></tr><tr><td>2014</td><td>DS-13030</td><td>Darrin Sayre</td><td>29.47</td></tr><tr><td>2014</td><td>DS-13180</td><td>David Smith</td><td>57.59</td></tr><tr><td>2014</td><td>DV-13465</td><td>Dianna Vittorini</td><td>9.72</td></tr><tr><td>2014</td><td>DW-13195</td><td>David Wiener</td><td>55.47</td></tr><tr><td>2014</td><td>DW-13480</td><td>Dianna Wilson</td><td>1154.67</td></tr><tr><td>2014</td><td>DW-13585</td><td>Dorothy Wardle</td><td>6.63</td></tr><tr><td>2014</td><td>Dl-13600</td><td>Dorris liebe</td><td>29.17</td></tr><tr><td>2014</td><td>Dp-13240</td><td>Dean perceR</td><td>100.92</td></tr><tr><td>2014</td><td>EA-14035</td><td>Erin Ashbrook</td><td>-53.43</td></tr><tr><td>2014</td><td>EB-13705</td><td>Ed Braxton</td><td>-127.42</td></tr><tr><td>2014</td><td>EB-13840</td><td>Ellis Ballard</td><td>-36.36</td></tr><tr><td>2014</td><td>EB-13870</td><td>Emily Burns</td><td>16.02</td></tr><tr><td>2014</td><td>EB-13930</td><td>Eric Barreto</td><td>1.35</td></tr><tr><td>2014</td><td>EB-14170</td><td>Evan Bailliet</td><td>155.02</td></tr><tr><td>2014</td><td>EC-14050</td><td>Erin Creighton</td><td>-4.02</td></tr><tr><td>2014</td><td>ED-13885</td><td>NA</td><td>18.48</td></tr><tr><td>2014</td><td>EH-13765</td><td>Edward Hooks</td><td>4.05</td></tr><tr><td>2014</td><td>EH-13945</td><td>Eric Hoffmann</td><td>22.15</td></tr><tr><td>2014</td><td>EH-13990</td><td>Erica Hackney</td><td>54.09</td></tr><tr><td>2014</td><td>EH-14005</td><td>Erica Hernandez</td><td>-248.96</td></tr><tr><td>2014</td><td>EH-14125</td><td>Eugene Hildebrand</td><td>20.10</td></tr><tr><td>2014</td><td>EH-14185</td><td>Evan Henry</td><td>26.42</td></tr><tr><td>2014</td><td>EJ-13720</td><td>Ed Jacobs</td><td>-7403.61</td></tr><tr><td>2014</td><td>EJ-14155</td><td>Eva Jacobs</td><td>-23.49</td></tr><tr><td>2014</td><td>EK-13795</td><td>Eileen Kiefer</td><td>70.49</td></tr><tr><td>2014</td><td>EM-13825</td><td>Elizabeth Moffitt</td><td>7.99</td></tr><tr><td>2014</td><td>EM-14065</td><td>ErinMull</td><td>59.26</td></tr><tr><td>2014</td><td>EM-14140</td><td>Eugene Moren</td><td>2.21</td></tr><tr><td>2014</td><td>EP-13915</td><td>Emily Phan</td><td>175.00</td></tr><tr><td>2014</td><td>ES-14020</td><td>Erica Smith</td><td>15.22</td></tr><tr><td>2014</td><td>ES-14080</td><td>Erin Smith</td><td>134.03</td></tr><tr><td>2014</td><td>FA-14230</td><td>Frank Atkinson</td><td>3.58</td></tr><tr><td>2014</td><td>FC-14335</td><td>Fred Chung</td><td>112.57</td></tr><tr><td>2014</td><td>FG-14260</td><td>Frank Gastineau</td><td>314.52</td></tr><tr><td>2014</td><td>FH-14275</td><td>Frank Hawley</td><td>297.17</td></tr><tr><td>2014</td><td>FH-14365</td><td>Fred Hopkins</td><td>-172.46</td></tr><tr><td>2014</td><td>FM-14215</td><td>Filia McAdams</td><td>228.77</td></tr><tr><td>2014</td><td>FM-14290</td><td>Frank Merwin</td><td>22.98</td></tr><tr><td>2014</td><td>FO-14305</td><td>Frank Olsen</td><td>245.02</td></tr><tr><td>2014</td><td>FP-14320</td><td>Frank Preis</td><td>138.01</td></tr><tr><td>2014</td><td>GA-14515</td><td>George Ashbrook</td><td>22.41</td></tr><tr><td>2014</td><td>GA-14725</td><td>Guy Armstrong</td><td>101.45</td></tr><tr><td>2014</td><td>GB-14530</td><td>George Bell</td><td>-33.19</td></tr><tr><td>2014</td><td>GD-14590</td><td>Giulietta Dortch</td><td>21.66</td></tr><tr><td>2014</td><td>GG-14650</td><td>Greg Guthrie</td><td>122.55</td></tr><tr><td>2014</td><td>GH-14410</td><td>GaryHansen</td><td>53.34</td></tr><tr><td>2014</td><td>GH-14425</td><td>Gary Hwang</td><td>1073.14</td></tr><tr><td>2014</td><td>GK-14620</td><td>Grace Kelly</td><td>42.92</td></tr><tr><td>2014</td><td>GM-14440</td><td>Gary McGarr</td><td>202.78</td></tr><tr><td>2014</td><td>GM-14455</td><td>Gary Mitchum</td><td>316.15</td></tr><tr><td>2014</td><td>GM-14500</td><td>Gene McClure</td><td>2.69</td></tr><tr><td>2014</td><td>GM-14680</td><td>Greg Matthias</td><td>214.53</td></tr><tr><td>2014</td><td>GM-14695</td><td>Greg Maxwell</td><td>112.28</td></tr><tr><td>2014</td><td>GP-14740</td><td>Guy Phonely</td><td>-35.93</td></tr><tr><td>2014</td><td>GR-14560</td><td>Georgia Rosenberg</td><td>359.88</td></tr><tr><td>2014</td><td>GT-14635</td><td>Grant Thornton</td><td>-292.19</td></tr><tr><td>2014</td><td>GT-14710</td><td>Greg Tran</td><td>738.65</td></tr><tr><td>2014</td><td>GW-14605</td><td>Giulietta Weimer</td><td>3.63</td></tr><tr><td>2014</td><td>GZ-14470</td><td>Gary Zandusky</td><td>50.43</td></tr><tr><td>2014</td><td>GZ-14545</td><td>George Zrebassa</td><td>12.00</td></tr><tr><td>2014</td><td>HA-14905</td><td>Helen Abelman</td><td>108.80</td></tr><tr><td>2014</td><td>HA-14920</td><td>Helen Andreada</td><td>-57.04</td></tr><tr><td>2014</td><td>HD-14785</td><td>Harold Dahlen</td><td>-167.32</td></tr><tr><td>2014</td><td>HF-14995</td><td>Herbert Flentye</td><td>132.47</td></tr><tr><td>2014</td><td>HG-14845</td><td>Harry Greene</td><td>21.60</td></tr><tr><td>2014</td><td>HG-14965</td><td>Henry Goldwyn</td><td>2.45</td></tr><tr><td>2014</td><td>HG-15025</td><td>Hunter Glantz</td><td>616.46</td></tr><tr><td>2014</td><td>HH-15010</td><td>Hilary Holden</td><td>60.27</td></tr><tr><td>2014</td><td>HK-14890</td><td>Heather Kirkland</td><td>240.86</td></tr><tr><td>2014</td><td>HL-15040</td><td>Hunter Lopez</td><td>448.03</td></tr><tr><td>2014</td><td>HM-14860</td><td>Harry Marie</td><td>-79.13</td></tr><tr><td>2014</td><td>HP-14815</td><td>Harold Pawlan</td><td>101.69</td></tr><tr><td>2014</td><td>HR-14770</td><td>Hallie Redmond</td><td>1.60</td></tr><tr><td>2014</td><td>HR-14830</td><td>Harold Ryan</td><td>79.74</td></tr><tr><td>2014</td><td>IG-15085</td><td>Ivan Gibson</td><td>28.35</td></tr><tr><td>2014</td><td>IL-15100</td><td>Ivan Liston</td><td>6.91</td></tr><tr><td>2014</td><td>IM-15055</td><td>Ionia McGrath</td><td>19.24</td></tr><tr><td>2014</td><td>IM-15070</td><td>Irene Maddox</td><td>240.60</td></tr><tr><td>2014</td><td>JA-15970</td><td>Joseph Airdo</td><td>96.93</td></tr><tr><td>2014</td><td>JB-15400</td><td>Jennifer Braxton</td><td>-124.57</td></tr><tr><td>2014</td><td>JB-15925</td><td>Joni Blumstein</td><td>72.58</td></tr><tr><td>2014</td><td>JC-15340</td><td>Jasper Cacioppo</td><td>1.33</td></tr><tr><td>2014</td><td>JC-15775</td><td>John Castell</td><td>64.08</td></tr><tr><td>2014</td><td>JC-16105</td><td>Julie Creighton</td><td>76.49</td></tr><tr><td>2014</td><td>JD-15895</td><td>Jonathan Doherty</td><td>-194.20</td></tr><tr><td>2014</td><td>JD-16015</td><td>Joy Daniels</td><td>-10.34</td></tr><tr><td>2014</td><td>JD-16060</td><td>Julia Dunbar</td><td>8.48</td></tr><tr><td>2014</td><td>JD-16150</td><td>Justin Deggeller</td><td>17.56</td></tr><tr><td>2014</td><td>JE-15610</td><td>Jim Epp</td><td>27.19</td></tr><tr><td>2014</td><td>JE-15715</td><td>Joe Elijah</td><td>-59.80</td></tr><tr><td>2014</td><td>JE-15745</td><td>Joel Eaton</td><td>42.10</td></tr><tr><td>2014</td><td>JF-15190</td><td>Jamie Frazer</td><td>37.40</td></tr><tr><td>2014</td><td>JF-15295</td><td>Jason Fortune</td><td>47.35</td></tr><tr><td>2014</td><td>JF-15415</td><td>Jennifer Ferguson</td><td>28.14</td></tr><tr><td>2014</td><td>JF-15490</td><td>Jeremy Farry</td><td>35.40</td></tr><tr><td>2014</td><td>JF-15565</td><td>Jill Fjeld</td><td>78.55</td></tr><tr><td>2014</td><td>JG-15115</td><td>Jack Garza</td><td>734.70</td></tr><tr><td>2014</td><td>JG-15160</td><td>James Galang</td><td>378.39</td></tr><tr><td>2014</td><td>JG-15805</td><td>John Grady</td><td>28.26</td></tr><tr><td>2014</td><td>JH-15430</td><td>Jennifer Halladay</td><td>18.79</td></tr><tr><td>2014</td><td>JH-15820</td><td>John Huston</td><td>26.41</td></tr><tr><td>2014</td><td>JH-15985</td><td>Joseph Holt</td><td>644.00</td></tr><tr><td>2014</td><td>JK-15205</td><td>Jamie Kunitz</td><td>47.81</td></tr><tr><td>2014</td><td>JK-15325</td><td>Jason Klamczynski</td><td>17.55</td></tr><tr><td>2014</td><td>JK-15370</td><td>Jay Kimmel</td><td>129.54</td></tr><tr><td>2014</td><td>JK-15625</td><td>Jim Karlsson</td><td>303.87</td></tr><tr><td>2014</td><td>JK-15640</td><td>Jim Kriz</td><td>10.19</td></tr><tr><td>2014</td><td>JK-15730</td><td>Joe Kamberova</td><td>-212.61</td></tr><tr><td>2014</td><td>JK-16120</td><td>Julie Kriz</td><td>239.98</td></tr><tr><td>2014</td><td>JL-15130</td><td>Jack Lebron</td><td>9.87</td></tr><tr><td>2014</td><td>JL-15175</td><td>James Lanier</td><td>59.49</td></tr><tr><td>2014</td><td>JL-15235</td><td>Janet Lee</td><td>-190.51</td></tr><tr><td>2014</td><td>JL-15505</td><td>Jeremy Lonsdale</td><td>41.27</td></tr><tr><td>2014</td><td>JL-15835</td><td>John Lee</td><td>-863.93</td></tr><tr><td>2014</td><td>JL-15850</td><td>John Lucas</td><td>1.33</td></tr><tr><td>2014</td><td>JM-15265</td><td>Janet Molinari</td><td>59.06</td></tr><tr><td>2014</td><td>JM-15535</td><td>Jessica Myrick</td><td>58.99</td></tr><tr><td>2014</td><td>JM-15655</td><td>Jim Mitchum</td><td>7.72</td></tr><tr><td>2014</td><td>JM-15865</td><td>John Murray</td><td>1228.18</td></tr><tr><td>2014</td><td>JM-16195</td><td>Justin MacKendrick</td><td>273.40</td></tr><tr><td>2014</td><td>JO-15145</td><td>Jack O'Briant</td><td>101.03</td></tr><tr><td>2014</td><td>JO-15280</td><td>Jas O'Carroll</td><td>0.97</td></tr><tr><td>2014</td><td>JP-15460</td><td>Jennifer Patt</td><td>10.81</td></tr><tr><td>2014</td><td>JP-15520</td><td>Jeremy Pistek</td><td>199.41</td></tr><tr><td>2014</td><td>JP-16135</td><td>Julie Prescott</td><td>6.92</td></tr><tr><td>2014</td><td>JS-15595</td><td>JiStevenson</td><td>-204.14</td></tr><tr><td>2014</td><td>JS-15880</td><td>John Stevenson</td><td>-94.66</td></tr><tr><td>2014</td><td>JS-15940</td><td>Joni Sundaresam</td><td>2.87</td></tr><tr><td>2014</td><td>JS-16030</td><td>Joy Smith</td><td>3.40</td></tr><tr><td>2014</td><td>KA-16525</td><td>Kelly Andreada</td><td>49.01</td></tr><tr><td>2014</td><td>KB-16240</td><td>Karen Bern</td><td>-1.00</td></tr><tr><td>2014</td><td>KB-16315</td><td>Karl Braun</td><td>-29.74</td></tr><tr><td>2014</td><td>KB-16585</td><td>Ken Black</td><td>175.16</td></tr><tr><td>2014</td><td>KB-16600</td><td>Ken Brennan</td><td>2.85</td></tr><tr><td>2014</td><td>KC-16255</td><td>Karen Carlisle</td><td>43.06</td></tr><tr><td>2014</td><td>KC-16675</td><td>Kimberly Carter</td><td>5.82</td></tr><tr><td>2014</td><td>KD-16270</td><td>Karen Danels</td><td>-1340.60</td></tr><tr><td>2014</td><td>KD-16345</td><td>Katherine Ducich</td><td>64.70</td></tr><tr><td>2014</td><td>KD-16495</td><td>Keith Dawkins</td><td>35.02</td></tr><tr><td>2014</td><td>KE-16420</td><td>Katrina Edelman</td><td>161.63</td></tr><tr><td>2014</td><td>KF-16285</td><td>Karen Ferguson</td><td>82.52</td></tr><tr><td>2014</td><td>KH-16330</td><td>Katharine Harms</td><td>261.33</td></tr><tr><td>2014</td><td>KH-16360</td><td>Katherine Hughes</td><td>-32.05</td></tr><tr><td>2014</td><td>KH-16510</td><td>Keith Herrera</td><td>-2.74</td></tr><tr><td>2014</td><td>KH-16630</td><td>Ken Heidel</td><td>128.43</td></tr><tr><td>2014</td><td>KH-16690</td><td>Kristen Hastings</td><td>1038.59</td></tr><tr><td>2014</td><td>KL-16555</td><td>Kelly Lampkin</td><td>-69.25</td></tr><tr><td>2014</td><td>KL-16645</td><td>Ken Lonsdale</td><td>395.60</td></tr><tr><td>2014</td><td>KM-16375</td><td>Katherine Murray</td><td>955.86</td></tr><tr><td>2014</td><td>KM-16660</td><td>Khloe Miller</td><td>3.00</td></tr><tr><td>2014</td><td>KM-16720</td><td>Kunst Miller</td><td>213.70</td></tr><tr><td>2014</td><td>KN-16390</td><td>Katherine Nockton</td><td>29.95</td></tr><tr><td>2014</td><td>KN-16450</td><td>Kean Nguyen</td><td>119.98</td></tr><tr><td>2014</td><td>KN-16705</td><td>Kristi'na Nunn</td><td>186.00</td></tr><tr><td>2014</td><td>KT-16465</td><td>Kean Takahito</td><td>68.80</td></tr><tr><td>2014</td><td>KT-16480</td><td>Kean Thornton</td><td>103.44</td></tr><tr><td>2014</td><td>KW-16570</td><td>Kelly Williams</td><td>11.25</td></tr><tr><td>2014</td><td>LA-16780</td><td>Laura Armstrong</td><td>482.57</td></tr><tr><td>2014</td><td>LB-16795</td><td>Laurel Beltran</td><td>-21.36</td></tr><tr><td>2014</td><td>LC-16885</td><td>Lena Creighton</td><td>201.07</td></tr><tr><td>2014</td><td>LC-16930</td><td>Linda Cazamias</td><td>29.34</td></tr><tr><td>2014</td><td>LC-17050</td><td>Liz Carlisle</td><td>-128.09</td></tr><tr><td>2014</td><td>LC-17140</td><td>Logan Currie</td><td>-26.60</td></tr><tr><td>2014</td><td>LD-17005</td><td>Lisa DeCherney</td><td>445.51</td></tr><tr><td>2014</td><td>LE-16810</td><td>Laurel Elliston</td><td>-12.83</td></tr><tr><td>2014</td><td>LF-17185</td><td>Luke Foster</td><td>-3802.08</td></tr><tr><td>2014</td><td>LH-16750</td><td>Larry Hughes</td><td>-5.04</td></tr><tr><td>2014</td><td>LH-16900</td><td>Lena Hernandez</td><td>282.09</td></tr><tr><td>2014</td><td>LH-17020</td><td>Lisa Hazard</td><td>-79.34</td></tr><tr><td>2014</td><td>LH-17155</td><td>Logan Haushalter</td><td>9.58</td></tr><tr><td>2014</td><td>LL-16840</td><td>Lauren Leatherbury</td><td>110.88</td></tr><tr><td>2014</td><td>LM-17065</td><td>Liz MacKendrick</td><td>76.10</td></tr><tr><td>2014</td><td>LP-17080</td><td>Liz Pelletier</td><td>0.96</td></tr><tr><td>2014</td><td>LR-16915</td><td>Lena Radford</td><td>604.57</td></tr><tr><td>2014</td><td>LR-17035</td><td>Lisa Ryan</td><td>48.13</td></tr><tr><td>2014</td><td>LS-16975</td><td>Lindsay Shagiari</td><td>138.16</td></tr><tr><td>2014</td><td>LS-17200</td><td>Luke Schmidt</td><td>167.72</td></tr><tr><td>2014</td><td>LS-17230</td><td>Lycoris Saunders</td><td>9.33</td></tr><tr><td>2014</td><td>LS-17245</td><td>Lynn Smith</td><td>230.21</td></tr><tr><td>2014</td><td>LT-16765</td><td>Larry Tron</td><td>15.64</td></tr><tr><td>2014</td><td>LT-17110</td><td>Liz Thompson</td><td>238.40</td></tr><tr><td>2014</td><td>LW-16825</td><td>Laurel Workman</td><td>423.61</td></tr><tr><td>2014</td><td>LW-17125</td><td>Liz Willingham</td><td>21.75</td></tr><tr><td>2014</td><td>LW-17215</td><td>Luke Weiss</td><td>420.59</td></tr><tr><td>2014</td><td>MA-17560</td><td>Matt Abelman</td><td>562.98</td></tr><tr><td>2014</td><td>MA-17995</td><td>Michelle Arnett</td><td>53.70</td></tr><tr><td>2014</td><td>MB-17305</td><td>Maria Bertelson</td><td>-13.83</td></tr><tr><td>2014</td><td>MB-18085</td><td>Mick Brown</td><td>4.88</td></tr><tr><td>2014</td><td>MC-17275</td><td>Marc Crier</td><td>235.23</td></tr><tr><td>2014</td><td>MC-17425</td><td>Mark Cousins</td><td>135.00</td></tr><tr><td>2014</td><td>MC-17575</td><td>Matt Collins</td><td>-6.34</td></tr><tr><td>2014</td><td>MC-17590</td><td>Matt Collister</td><td>-137.20</td></tr><tr><td>2014</td><td>MC-17605</td><td>Matt Connell</td><td>49.37</td></tr><tr><td>2014</td><td>MC-17635</td><td>Matthew Clasen</td><td>41.89</td></tr><tr><td>2014</td><td>MC-17845</td><td>Michael Chen</td><td>395.76</td></tr><tr><td>2014</td><td>MC-18100</td><td>Mick Crebagga</td><td>-18.73</td></tr><tr><td>2014</td><td>MC-18130</td><td>Mike Caudle</td><td>24.98</td></tr><tr><td>2014</td><td>MD-17350</td><td>Maribeth Dona</td><td>-84.11</td></tr><tr><td>2014</td><td>MD-17860</td><td>Michael Dominguez</td><td>-47.36</td></tr><tr><td>2014</td><td>ME-17320</td><td>Maria Etezadi</td><td>1343.07</td></tr><tr><td>2014</td><td>ME-17725</td><td>Max Engle</td><td>16.28</td></tr><tr><td>2014</td><td>ME-18010</td><td>Michelle Ellison</td><td>104.98</td></tr><tr><td>2014</td><td>MF-17665</td><td>Maureen Fritzler</td><td>-459.99</td></tr><tr><td>2014</td><td>MF-18250</td><td>Monica Federle</td><td>16.89</td></tr><tr><td>2014</td><td>MG-17650</td><td>Matthew Grinstein</td><td>24.37</td></tr><tr><td>2014</td><td>MG-17680</td><td>Maureen Gastineau</td><td>12.91</td></tr><tr><td>2014</td><td>MG-17695</td><td>Maureen Gnade</td><td>-22.64</td></tr><tr><td>2014</td><td>MG-17875</td><td>Michael Grace</td><td>-4.52</td></tr><tr><td>2014</td><td>MG-17890</td><td>Michael Granlund</td><td>-4.80</td></tr><tr><td>2014</td><td>MG-18145</td><td>Mike Gockenbach</td><td>-152.72</td></tr><tr><td>2014</td><td>MH-17290</td><td>Marc Harrigan</td><td>12.21</td></tr><tr><td>2014</td><td>MH-17440</td><td>Mark Haberlin</td><td>48.85</td></tr><tr><td>2014</td><td>MH-17455</td><td>Mark Hamilton</td><td>8.49</td></tr><tr><td>2014</td><td>MH-17785</td><td>Maya Herman</td><td>133.96</td></tr><tr><td>2014</td><td>MH-18025</td><td>Michelle Huthwaite</td><td>10.65</td></tr><tr><td>2014</td><td>MK-17905</td><td>Michael Kennedy</td><td>43.22</td></tr><tr><td>2014</td><td>MK-18160</td><td>Mike Kennedy</td><td>-22.69</td></tr><tr><td>2014</td><td>ML-17395</td><td>Marina Lichtenstein</td><td>486.58</td></tr><tr><td>2014</td><td>ML-17410</td><td>Maris LaWare</td><td>254.24</td></tr><tr><td>2014</td><td>MM-17260</td><td>Magdelene Morse</td><td>51.36</td></tr><tr><td>2014</td><td>MM-17920</td><td>Michael Moore</td><td>55.03</td></tr><tr><td>2014</td><td>MM-18055</td><td>Michelle Moray</td><td>130.68</td></tr><tr><td>2014</td><td>MM-18280</td><td>Muhammed MacIntyre</td><td>-51.52</td></tr><tr><td>2014</td><td>MN-17935</td><td>Michael Nguyen</td><td>31.17</td></tr><tr><td>2014</td><td>MO-17500</td><td>Mary O'Rourke</td><td>6.04</td></tr><tr><td>2014</td><td>MP-17470</td><td>Mark Packer</td><td>279.86</td></tr><tr><td>2014</td><td>MP-18175</td><td>Mike Pelletier</td><td>-125.29</td></tr><tr><td>2014</td><td>MR-17545</td><td>Mathew Reese</td><td>9.11</td></tr><tr><td>2014</td><td>MS-17365</td><td>Maribethchnelling</td><td>143.90</td></tr><tr><td>2014</td><td>MS-17530</td><td>MaryBeth Skach</td><td>2.69</td></tr><tr><td>2014</td><td>MS-17710</td><td>Maurice Satty</td><td>40.73</td></tr><tr><td>2014</td><td>MS-17770</td><td>Maxwell Schwartz</td><td>-102.26</td></tr><tr><td>2014</td><td>MS-17830</td><td>Melanie Seite</td><td>10.92</td></tr><tr><td>2014</td><td>MS-17980</td><td>Michael Stewart</td><td>16.26</td></tr><tr><td>2014</td><td>MT-18070</td><td>Michelle Tran</td><td>-89.70</td></tr><tr><td>2014</td><td>MV-17485</td><td>MarkVan Huff</td><td>15.08</td></tr><tr><td>2014</td><td>MV-18190</td><td>Mike Vittorini</td><td>11.90</td></tr><tr><td>2014</td><td>MW-18220</td><td>Mitch Webber</td><td>1204.43</td></tr><tr><td>2014</td><td>MW-18235</td><td>Mitch Willingham</td><td>1449.52</td></tr><tr><td>2014</td><td>MY-18295</td><td>Muhammed YeDwab</td><td>-103.13</td></tr><tr><td>2014</td><td>MZ-17515</td><td>Mary Zewe</td><td>786.80</td></tr><tr><td>2014</td><td>NB-18580</td><td>Nicole Brennan</td><td>24.79</td></tr><tr><td>2014</td><td>NB-18655</td><td>Nona Balk</td><td>87.38</td></tr><tr><td>2014</td><td>NC-18340</td><td>Nat Carroll</td><td>11.15</td></tr><tr><td>2014</td><td>NC-18415</td><td>Nathan Cano</td><td>10.04</td></tr><tr><td>2014</td><td>NC-18535</td><td>Nick Crebassa</td><td>690.20</td></tr><tr><td>2014</td><td>NC-18625</td><td>Noah Childs</td><td>36.66</td></tr><tr><td>2014</td><td>ND-18370</td><td>Natalie DeCherney</td><td>47.61</td></tr><tr><td>2014</td><td>ND-18460</td><td>Neil Ducich</td><td>45.43</td></tr><tr><td>2014</td><td>NF-18385</td><td>Natalie Fritzler</td><td>186.74</td></tr><tr><td>2014</td><td>NF-18475</td><td>Neil Französisch</td><td>31.87</td></tr><tr><td>2014</td><td>NF-18595</td><td>Nicole Fjeld</td><td>42.35</td></tr><tr><td>2014</td><td>NG-18355</td><td>Nat Gilpin</td><td>219.08</td></tr><tr><td>2014</td><td>NG-18430</td><td>Nathan Gelder</td><td>134.82</td></tr><tr><td>2014</td><td>NH-18610</td><td>Nicole Hansen</td><td>33.20</td></tr><tr><td>2014</td><td>NL-18310</td><td>Nancy Lomonaco</td><td>8.28</td></tr><tr><td>2014</td><td>NM-18445</td><td>Nathan Mautz</td><td>2413.85</td></tr><tr><td>2014</td><td>NP-18325</td><td>NA</td><td>314.39</td></tr><tr><td>2014</td><td>NP-18685</td><td>Nora Pelletier</td><td>33.64</td></tr><tr><td>2014</td><td>NP-18700</td><td>Nora Preis</td><td>285.95</td></tr><tr><td>2014</td><td>NR-18550</td><td>Nick Radford</td><td>-123.79</td></tr><tr><td>2014</td><td>NS-18640</td><td>Noel Staavos</td><td>11.20</td></tr><tr><td>2014</td><td>NW-18400</td><td>Natalie Webber</td><td>-387.79</td></tr><tr><td>2014</td><td>NZ-18565</td><td>Nick Zandusky</td><td>248.03</td></tr><tr><td>2014</td><td>ON-18715</td><td>Odella Nelson</td><td>183.11</td></tr><tr><td>2014</td><td>PA-19060</td><td>Pete Armstrong</td><td>45.84</td></tr><tr><td>2014</td><td>PB-19105</td><td>Peter Bhler</td><td>204.07</td></tr><tr><td>2014</td><td>PB-19150</td><td>Philip Brown</td><td>12.30</td></tr><tr><td>2014</td><td>PB-19210</td><td>Phillip Breyer</td><td>21.20</td></tr><tr><td>2014</td><td>PC-18745</td><td>Pamela Coakley</td><td>196.69</td></tr><tr><td>2014</td><td>PC-19000</td><td>Pauline Chand</td><td>-11.83</td></tr><tr><td>2014</td><td>PF-19120</td><td>Peter Fuller</td><td>17.68</td></tr><tr><td>2014</td><td>PF-19165</td><td>Philip Fox</td><td>-407.68</td></tr><tr><td>2014</td><td>PG-18820</td><td>Patrick Gardner</td><td>54.45</td></tr><tr><td>2014</td><td>PG-18895</td><td>Paul Gonzalez</td><td>-70.73</td></tr><tr><td>2014</td><td>PJ-18835</td><td>Patrick Jones</td><td>7.95</td></tr><tr><td>2014</td><td>PJ-19015</td><td>Pauline Johnson</td><td>2.78</td></tr><tr><td>2014</td><td>PK-18910</td><td>Paul Knutson</td><td>9.07</td></tr><tr><td>2014</td><td>PK-19075</td><td>Pete Kriz</td><td>13.32</td></tr><tr><td>2014</td><td>PL-18925</td><td>Paul Lucas</td><td>31.83</td></tr><tr><td>2014</td><td>PM-18940</td><td>Paul MacIntyre</td><td>21.06</td></tr><tr><td>2014</td><td>PO-18850</td><td>Patrick O'Brill</td><td>56.31</td></tr><tr><td>2014</td><td>PO-18865</td><td>Patrick O'Donnell</td><td>132.18</td></tr><tr><td>2014</td><td>PO-19195</td><td>Phillina Ober</td><td>-65.99</td></tr><tr><td>2014</td><td>PP-18955</td><td>Paul Prost</td><td>472.39</td></tr><tr><td>2014</td><td>PR-18880</td><td>Patrick Ryan</td><td>2.00</td></tr><tr><td>2014</td><td>PS-18760</td><td>Pamela Stobb</td><td>11.88</td></tr><tr><td>2014</td><td>PS-18970</td><td>Paul Stevenson</td><td>108.00</td></tr><tr><td>2014</td><td>PS-19045</td><td>Penelope Sewall</td><td>623.20</td></tr><tr><td>2014</td><td>PT-19090</td><td>PeteTakahito</td><td>-8.03</td></tr><tr><td>2014</td><td>PV-18985</td><td>PaulVan Hugh</td><td>-4.56</td></tr><tr><td>2014</td><td>PW-19030</td><td>Pauline Webber</td><td>17.47</td></tr><tr><td>2014</td><td>PW-19240</td><td>Pierre Wener</td><td>-86.27</td></tr><tr><td>2014</td><td>QJ-19255</td><td>Quincy Jones</td><td>120.04</td></tr><tr><td>2014</td><td>RA-19285</td><td>Ralph Arnett</td><td>0.00</td></tr><tr><td>2014</td><td>RA-19885</td><td>Ruben Ausman</td><td>776.48</td></tr><tr><td>2014</td><td>RA-19915</td><td>Russell Applegate</td><td>278.43</td></tr><tr><td>2014</td><td>RA-19945</td><td>Ryan Akin</td><td>-436.73</td></tr><tr><td>2014</td><td>RB-19330</td><td>Randy Bradley</td><td>-90.10</td></tr><tr><td>2014</td><td>RB-19435</td><td>Richard Bierner</td><td>65.12</td></tr><tr><td>2014</td><td>RB-19465</td><td>Rick Bensley</td><td>336.96</td></tr><tr><td>2014</td><td>RB-19645</td><td>Robert Barroso</td><td>24.92</td></tr><tr><td>2014</td><td>RB-19795</td><td>Ross Baird</td><td>7.49</td></tr><tr><td>2014</td><td>RC-19825</td><td>Roy Collins</td><td>6.88</td></tr><tr><td>2014</td><td>RC-19960</td><td>Ryan Crowe</td><td>-98.43</td></tr><tr><td>2014</td><td>RD-19480</td><td>Rick Duston</td><td>109.52</td></tr><tr><td>2014</td><td>RD-19585</td><td>Rob Dowd</td><td>341.38</td></tr><tr><td>2014</td><td>RD-19720</td><td>Roger Demir</td><td>73.68</td></tr><tr><td>2014</td><td>RD-19810</td><td>Ross DeVincentis</td><td>7.66</td></tr><tr><td>2014</td><td>RD-19900</td><td>Ruben Dartt</td><td>186.49</td></tr><tr><td>2014</td><td>RD-19930</td><td>Russell D'Ascenzo</td><td>-23.29</td></tr><tr><td>2014</td><td>RE-19405</td><td>Ricardo Emerson</td><td>6.04</td></tr><tr><td>2014</td><td>RE-19450</td><td>Richard Eichhorn</td><td>-24.87</td></tr><tr><td>2014</td><td>RF-19345</td><td>Randy Ferguson</td><td>92.94</td></tr><tr><td>2014</td><td>RF-19735</td><td>Roland Fjeld</td><td>22.65</td></tr><tr><td>2014</td><td>RF-19840</td><td>Roy Französisch</td><td>16.17</td></tr><tr><td>2014</td><td>RH-19495</td><td>Rick Hansen</td><td>34.94</td></tr><tr><td>2014</td><td>RH-19510</td><td>Rick Huthwaite</td><td>10.96</td></tr><tr><td>2014</td><td>RL-19615</td><td>Rob Lucas</td><td>42.29</td></tr><tr><td>2014</td><td>RM-19375</td><td>Raymond Messe</td><td>13.83</td></tr><tr><td>2014</td><td>RM-19675</td><td>Robert Marley</td><td>200.12</td></tr><tr><td>2014</td><td>RP-19270</td><td>Rachel Payne</td><td>97.86</td></tr><tr><td>2014</td><td>RP-19390</td><td>Resi Pölking</td><td>262.81</td></tr><tr><td>2014</td><td>RP-19855</td><td>Roy Phan</td><td>56.53</td></tr><tr><td>2014</td><td>RR-19525</td><td>Rick Reed</td><td>543.57</td></tr><tr><td>2014</td><td>RS-19420</td><td>Ricardo Sperren</td><td>318.93</td></tr><tr><td>2014</td><td>RS-19765</td><td>Roland Schwarz</td><td>552.00</td></tr><tr><td>2014</td><td>RW-19630</td><td>Rob Williams</td><td>30.78</td></tr><tr><td>2014</td><td>SA-20830</td><td>SueAnn Reed</td><td>351.32</td></tr><tr><td>2014</td><td>SB-20170</td><td>Sarah Bern</td><td>-33.39</td></tr><tr><td>2014</td><td>SB-20185</td><td>Sarah Brown</td><td>-66.52</td></tr><tr><td>2014</td><td>SB-20290</td><td>Sean Braxton</td><td>-1272.36</td></tr><tr><td>2014</td><td>SC-20020</td><td>Sam Craven</td><td>-360.83</td></tr><tr><td>2014</td><td>SC-20050</td><td>SampleCompany A</td><td>764.53</td></tr><tr><td>2014</td><td>SC-20095</td><td>Sanjit Chand</td><td>5462.59</td></tr><tr><td>2014</td><td>SC-20260</td><td>Scott Cohen</td><td>96.77</td></tr><tr><td>2014</td><td>SC-20305</td><td>Sean Christensen</td><td>93.40</td></tr><tr><td>2014</td><td>SC-20380</td><td>ShahiCollister</td><td>-3462.20</td></tr><tr><td>2014</td><td>SC-20575</td><td>Sonia Cooley</td><td>32.39</td></tr><tr><td>2014</td><td>SC-20680</td><td>Steve Carroll</td><td>31.53</td></tr><tr><td>2014</td><td>SC-20695</td><td>Steve Chapman</td><td>52.53</td></tr><tr><td>2014</td><td>SC-20725</td><td>Steven Cartwright</td><td>114.84</td></tr><tr><td>2014</td><td>SD-20485</td><td>Shirley Daniels</td><td>122.77</td></tr><tr><td>2014</td><td>SE-20110</td><td>Sanjit Engle</td><td>54.41</td></tr><tr><td>2014</td><td>SF-20065</td><td>Sandra Flanagan</td><td>98.59</td></tr><tr><td>2014</td><td>SF-20200</td><td>Sarah Foster</td><td>58.03</td></tr><tr><td>2014</td><td>SF-20965</td><td>Sylvia Foulston</td><td>12.27</td></tr><tr><td>2014</td><td>SG-20470</td><td>Sheri Gordon</td><td>150.92</td></tr><tr><td>2014</td><td>SG-20605</td><td>Speros Goranitis</td><td>274.85</td></tr><tr><td>2014</td><td>SG-20890</td><td>Susan Gilcrest</td><td>2.94</td></tr><tr><td>2014</td><td>SH-19975</td><td>NA</td><td>54.47</td></tr><tr><td>2014</td><td>SH-20395</td><td>ShahiHopkins</td><td>-252.19</td></tr><tr><td>2014</td><td>SH-20635</td><td>Stefanie Holloman</td><td>70.20</td></tr><tr><td>2014</td><td>SJ-20500</td><td>Shirley Jackson</td><td>57.93</td></tr><tr><td>2014</td><td>SL-20155</td><td>Sara Luxemburg</td><td>22.25</td></tr><tr><td>2014</td><td>SM-20005</td><td>Sally Matthias</td><td>51.25</td></tr><tr><td>2014</td><td>SM-20320</td><td>Sean Miller</td><td>-1789.74</td></tr><tr><td>2014</td><td>SM-20950</td><td>Suzanne McNair</td><td>-372.11</td></tr><tr><td>2014</td><td>SN-20710</td><td>Steve Nguyen</td><td>32.94</td></tr><tr><td>2014</td><td>SP-20545</td><td>Sibella Parks</td><td>2.81</td></tr><tr><td>2014</td><td>SP-20620</td><td>Stefania Perrino</td><td>67.46</td></tr><tr><td>2014</td><td>SP-20650</td><td>Stephanie Phelps</td><td>72.40</td></tr><tr><td>2014</td><td>SP-20860</td><td>Sung Pak</td><td>1.19</td></tr><tr><td>2014</td><td>SP-20920</td><td>Susan Pistek</td><td>24.22</td></tr><tr><td>2014</td><td>SR-20425</td><td>Sharelle Roach</td><td>57.49</td></tr><tr><td>2014</td><td>SR-20740</td><td>Steven Roelle</td><td>130.18</td></tr><tr><td>2014</td><td>SS-20140</td><td>Saphhira Shifley</td><td>-88.04</td></tr><tr><td>2014</td><td>SS-20410</td><td>ShahiShariari</td><td>-565.75</td></tr><tr><td>2014</td><td>SS-20515</td><td>Shirley Schmidt</td><td>11.05</td></tr><tr><td>2014</td><td>SS-20590</td><td>Sonia Sunley</td><td>15.51</td></tr><tr><td>2014</td><td>SS-20875</td><td>Sung Shariari</td><td>-9.15</td></tr><tr><td>2014</td><td>ST-20530</td><td>Shui Tom</td><td>45.32</td></tr><tr><td>2014</td><td>SV-20365</td><td>Seth Vernon</td><td>-218.93</td></tr><tr><td>2014</td><td>SV-20785</td><td>Stewart Visinsky</td><td>189.13</td></tr><tr><td>2014</td><td>SW-20245</td><td>Scot Wooten</td><td>-27.20</td></tr><tr><td>2014</td><td>SW-20275</td><td>Scott Williamson</td><td>11.00</td></tr><tr><td>2014</td><td>SW-20755</td><td>Steven Ward</td><td>19.72</td></tr><tr><td>2014</td><td>SZ-20035</td><td>Sam Zeldin</td><td>6.49</td></tr><tr><td>2014</td><td>TA-21385</td><td>Tom Ashbrook</td><td>180.52</td></tr><tr><td>2014</td><td>TB-21175</td><td>Thomas Boland</td><td>6.04</td></tr><tr><td>2014</td><td>TB-21190</td><td>Thomas Brumley</td><td>161.97</td></tr><tr><td>2014</td><td>TB-21250</td><td>Tim Brockman</td><td>13.80</td></tr><tr><td>2014</td><td>TB-21280</td><td>Toby Braunhardt</td><td>200.14</td></tr><tr><td>2014</td><td>TB-21400</td><td>Tom Boeckenhauer</td><td>2567.33</td></tr><tr><td>2014</td><td>TB-21520</td><td>Tracy Blumstein</td><td>-125.24</td></tr><tr><td>2014</td><td>TB-21595</td><td>Troy Blackwell</td><td>6.75</td></tr><tr><td>2014</td><td>TB-21625</td><td>Trudy Brown</td><td>83.99</td></tr><tr><td>2014</td><td>TC-20980</td><td>Tamara Chand</td><td>178.65</td></tr><tr><td>2014</td><td>TC-21295</td><td>Toby Carlisle</td><td>402.54</td></tr><tr><td>2014</td><td>TC-21475</td><td>Tony Chapman</td><td>-16.47</td></tr><tr><td>2014</td><td>TC-21535</td><td>Tracy Collins</td><td>3.36</td></tr><tr><td>2014</td><td>TD-20995</td><td>Tamara Dahlen</td><td>9.23</td></tr><tr><td>2014</td><td>TG-21640</td><td>Trudy Glocke</td><td>89.42</td></tr><tr><td>2014</td><td>TH-21100</td><td>Thea Hendricks</td><td>-155.27</td></tr><tr><td>2014</td><td>TH-21115</td><td>Thea Hudgings</td><td>5.45</td></tr><tr><td>2014</td><td>TH-21235</td><td>Tiffany House</td><td>-2.93</td></tr><tr><td>2014</td><td>TH-21550</td><td>Tracy Hopkins</td><td>26.63</td></tr><tr><td>2014</td><td>TM-21010</td><td>Tamara Manning</td><td>112.58</td></tr><tr><td>2014</td><td>TN-21040</td><td>Tanja Norvell</td><td>21.25</td></tr><tr><td>2014</td><td>TR-21325</td><td>Toby Ritter</td><td>28.52</td></tr><tr><td>2014</td><td>TS-21160</td><td>Theresa Swint</td><td>-2.00</td></tr><tr><td>2014</td><td>TS-21205</td><td>Thomas Seio</td><td>471.81</td></tr><tr><td>2014</td><td>TS-21340</td><td>Toby Swindell</td><td>-285.00</td></tr><tr><td>2014</td><td>TS-21370</td><td>Todd Sumrall</td><td>18.62</td></tr><tr><td>2014</td><td>TS-21430</td><td>Tom Stivers</td><td>17.14</td></tr><tr><td>2014</td><td>TS-21505</td><td>NA</td><td>87.45</td></tr><tr><td>2014</td><td>TS-21610</td><td>Troy Staebel</td><td>-227.49</td></tr><tr><td>2014</td><td>TT-21070</td><td>Ted Trevino</td><td>121.40</td></tr><tr><td>2014</td><td>TT-21220</td><td>Thomas Thornton</td><td>18.38</td></tr><tr><td>2014</td><td>TW-21025</td><td>Tamara Willingham</td><td>100.14</td></tr><tr><td>2014</td><td>TZ-21580</td><td>Tracy Zic</td><td>132.30</td></tr><tr><td>2014</td><td>VD-21670</td><td>Valerie Dominguez</td><td>576.56</td></tr><tr><td>2014</td><td>VF-21715</td><td>Vicky Freymann</td><td>-158.76</td></tr><tr><td>2014</td><td>VG-21790</td><td>Vivek Gonzalez</td><td>19.54</td></tr><tr><td>2014</td><td>VG-21805</td><td>Vivek Grady</td><td>-82.88</td></tr><tr><td>2014</td><td>VM-21685</td><td>Valerie Mitchum</td><td>78.23</td></tr><tr><td>2014</td><td>VM-21835</td><td>Vivian Mathis</td><td>6.51</td></tr><tr><td>2014</td><td>VP-21760</td><td>Victoria Pisteka</td><td>118.07</td></tr><tr><td>2014</td><td>VS-21820</td><td>Vivek Sundaresam</td><td>-72.25</td></tr><tr><td>2014</td><td>VT-21700</td><td>Valerie Takahito</td><td>33.00</td></tr><tr><td>2014</td><td>VW-21775</td><td>Victoria Wilson</td><td>-65.32</td></tr><tr><td>2014</td><td>WB-21850</td><td>William Brown</td><td>106.42</td></tr><tr><td>2014</td><td>XP-21865</td><td>Xylona Preis</td><td>202.31</td></tr><tr><td>2014</td><td>YC-21895</td><td>Yoseph Carroll</td><td>833.77</td></tr><tr><td>2014</td><td>ZC-21910</td><td>Zuschuss Carroll</td><td>328.83</td></tr><tr><td>2014</td><td>ZD-21925</td><td>Zuschuss Donatelli</td><td>25.49</td></tr><tr><td>2015</td><td>AA-10315</td><td>Alex Avila</td><td>7.00</td></tr><tr><td>2015</td><td>AA-10375</td><td>Allen Armold</td><td>69.03</td></tr><tr><td>2015</td><td>AA-10645</td><td>Anna Andreadi</td><td>439.31</td></tr><tr><td>2015</td><td>AB-10060</td><td>Adam Bellavance</td><td>8.71</td></tr><tr><td>2015</td><td>AB-10105</td><td>Adrian Barton</td><td>-142.67</td></tr><tr><td>2015</td><td>AB-10150</td><td>Aimee Bixby</td><td>7.02</td></tr><tr><td>2015</td><td>AB-10165</td><td>Alan Barnes</td><td>79.94</td></tr><tr><td>2015</td><td>AB-10255</td><td>Alejandro Ballentine</td><td>34.34</td></tr><tr><td>2015</td><td>AB-10600</td><td>Ann Blume</td><td>5.07</td></tr><tr><td>2015</td><td>AC-10450</td><td>Amy Cox</td><td>24.98</td></tr><tr><td>2015</td><td>AC-10615</td><td>Ann Chong</td><td>-32.30</td></tr><tr><td>2015</td><td>AD-10180</td><td>Alan Dominguez</td><td>9.60</td></tr><tr><td>2015</td><td>AF-10870</td><td>Art Ferguson</td><td>2.02</td></tr><tr><td>2015</td><td>AF-10885</td><td>Art Foster</td><td>101.18</td></tr><tr><td>2015</td><td>AG-10270</td><td>Alejandro Grove</td><td>16.96</td></tr><tr><td>2015</td><td>AG-10300</td><td>Aleksandra Gannaway</td><td>8.39</td></tr><tr><td>2015</td><td>AG-10495</td><td>Andrew Gjertsen</td><td>264.76</td></tr><tr><td>2015</td><td>AG-10525</td><td>Andy Gerbode</td><td>-59.22</td></tr><tr><td>2015</td><td>AG-10675</td><td>Anna Gayman</td><td>-25.99</td></tr><tr><td>2015</td><td>AG-10765</td><td>Anthony Garverick</td><td>61.71</td></tr><tr><td>2015</td><td>AG-10900</td><td>Arthur Gainer</td><td>18.82</td></tr><tr><td>2015</td><td>AH-10030</td><td>Aaron Hawkins</td><td>136.56</td></tr><tr><td>2015</td><td>AH-10075</td><td>Adam Hart</td><td>0.34</td></tr><tr><td>2015</td><td>AH-10195</td><td>Alan Haines</td><td>-12.10</td></tr><tr><td>2015</td><td>AH-10210</td><td>Alan Hwang</td><td>269.15</td></tr><tr><td>2015</td><td>AH-10465</td><td>Amy Hunt</td><td>-342.08</td></tr><tr><td>2015</td><td>AH-10690</td><td>Anna Hberlin</td><td>106.62</td></tr><tr><td>2015</td><td>AI-10855</td><td>Arianne Irving</td><td>17.03</td></tr><tr><td>2015</td><td>AJ-10780</td><td>Anthony Jacobs</td><td>5.32</td></tr><tr><td>2015</td><td>AJ-10945</td><td>Ashley Jarboe</td><td>316.58</td></tr><tr><td>2015</td><td>AM-10360</td><td>Alice McCarthy</td><td>178.90</td></tr><tr><td>2015</td><td>AM-10705</td><td>Anne McFarland</td><td>14.70</td></tr><tr><td>2015</td><td>AP-10720</td><td>Anne Pryor</td><td>-1.36</td></tr><tr><td>2015</td><td>AR-10345</td><td>Alex Russell</td><td>-2.57</td></tr><tr><td>2015</td><td>AR-10405</td><td>Allen Rosenblatt</td><td>105.47</td></tr><tr><td>2015</td><td>AR-10510</td><td>Andrew Roberts</td><td>27.99</td></tr><tr><td>2015</td><td>AR-10540</td><td>Andy Reiter</td><td>247.28</td></tr><tr><td>2015</td><td>AR-10825</td><td>Anthony Rawles</td><td>9.33</td></tr><tr><td>2015</td><td>AS-10090</td><td>Adam Shillingsburg</td><td>243.86</td></tr><tr><td>2015</td><td>AS-10225</td><td>Alan Schoenberger</td><td>12.86</td></tr><tr><td>2015</td><td>AS-10240</td><td>Alan Shonely</td><td>5.08</td></tr><tr><td>2015</td><td>AS-10630</td><td>Ann Steele</td><td>-10.81</td></tr><tr><td>2015</td><td>AT-10435</td><td>Alyssa Tate</td><td>-2.53</td></tr><tr><td>2015</td><td>AT-10735</td><td>Annie Thurman</td><td>739.52</td></tr><tr><td>2015</td><td>AW-10840</td><td>Anthony Witt</td><td>-13.50</td></tr><tr><td>2015</td><td>AW-10930</td><td>Arthur Wiediger</td><td>64.24</td></tr><tr><td>2015</td><td>AZ-10750</td><td>Annie Zypern</td><td>34.34</td></tr><tr><td>2015</td><td>BB-10990</td><td>Barry Blumstein</td><td>-8.22</td></tr><tr><td>2015</td><td>BB-11545</td><td>Brenda Bowman</td><td>-77.85</td></tr><tr><td>2015</td><td>BC-11125</td><td>Becky Castell</td><td>92.00</td></tr><tr><td>2015</td><td>BD-11320</td><td>Bil Donatelli</td><td>799.49</td></tr><tr><td>2015</td><td>BD-11500</td><td>Bradley Drucker</td><td>70.98</td></tr><tr><td>2015</td><td>BD-11560</td><td>Brendan Dodson</td><td>36.47</td></tr><tr><td>2015</td><td>BD-11605</td><td>Brian Dahlen</td><td>79.41</td></tr><tr><td>2015</td><td>BD-11635</td><td>Brian Derr</td><td>102.25</td></tr><tr><td>2015</td><td>BD-11725</td><td>Bruce Degenhardt</td><td>149.49</td></tr><tr><td>2015</td><td>BE-11455</td><td>Brad Eason</td><td>120.21</td></tr><tr><td>2015</td><td>BF-10975</td><td>Barbara Fisher</td><td>0.96</td></tr><tr><td>2015</td><td>BF-11020</td><td>Barry Französisch</td><td>269.31</td></tr><tr><td>2015</td><td>BF-11170</td><td>Ben Ferrer</td><td>137.03</td></tr><tr><td>2015</td><td>BG-11035</td><td>Barry Gonzalez</td><td>-998.91</td></tr><tr><td>2015</td><td>BG-11695</td><td>Brooke Gillingham</td><td>28.31</td></tr><tr><td>2015</td><td>BG-11740</td><td>Bruce Geld</td><td>15.07</td></tr><tr><td>2015</td><td>BH-11710</td><td>Brosina Hoffman</td><td>5.84</td></tr><tr><td>2015</td><td>BK-11260</td><td>Berenike Kampe</td><td>42.04</td></tr><tr><td>2015</td><td>BM-11575</td><td>Brendan Murry</td><td>37.33</td></tr><tr><td>2015</td><td>BM-11650</td><td>Brian Moss</td><td>181.48</td></tr><tr><td>2015</td><td>BM-11785</td><td>Bryan Mills</td><td>-39.67</td></tr><tr><td>2015</td><td>BN-11470</td><td>Brad Norvell</td><td>4.09</td></tr><tr><td>2015</td><td>BO-11425</td><td>Bobby Odegard</td><td>2.07</td></tr><tr><td>2015</td><td>BP-11095</td><td>Bart Pistole</td><td>53.56</td></tr><tr><td>2015</td><td>BP-11155</td><td>''Becky Pak</td><td>431.98</td></tr><tr><td>2015</td><td>BP-11185</td><td>Ben Peterman</td><td>66.76</td></tr><tr><td>2015</td><td>BP-11230</td><td>Benjamin Patterson</td><td>-255.74</td></tr><tr><td>2015</td><td>BS-11380</td><td>Bil Stewart</td><td>206.62</td></tr><tr><td>2015</td><td>BS-11590</td><td>Brendan Sweed</td><td>103.10</td></tr><tr><td>2015</td><td>BS-11665</td><td>Brian Stugart</td><td>175.39</td></tr><tr><td>2015</td><td>BS-11755</td><td>Bruce Stewart</td><td>18.45</td></tr><tr><td>2015</td><td>BS-11800</td><td>Bryan Spruell</td><td>77.11</td></tr><tr><td>2015</td><td>BT-11305</td><td>Beth Thompson</td><td>87.46</td></tr><tr><td>2015</td><td>BT-11395</td><td>Bil Tyler</td><td>194.73</td></tr><tr><td>2015</td><td>BT-11485</td><td>Brad Thomas</td><td>117.39</td></tr><tr><td>2015</td><td>BT-11680</td><td>Brian Thompson</td><td>435.64</td></tr><tr><td>2015</td><td>BV-11245</td><td>Benjamin Venier</td><td>82.27</td></tr><tr><td>2015</td><td>BW-11065</td><td>Barry Weirich</td><td>12.11</td></tr><tr><td>2015</td><td>BW-11110</td><td>Bart Watters</td><td>103.49</td></tr><tr><td>2015</td><td>CA-11965</td><td>Carol Adams</td><td>182.16</td></tr><tr><td>2015</td><td>CA-12055</td><td>Cthy Armstrong</td><td>-47.73</td></tr><tr><td>2015</td><td>CA-12265</td><td>Christina Anderson</td><td>118.66</td></tr><tr><td>2015</td><td>CA-12775</td><td>Cynthia Arntzen</td><td>-101.60</td></tr><tr><td>2015</td><td>CB-12025</td><td>Cassandra Brandow</td><td>223.45</td></tr><tr><td>2015</td><td>CB-12415</td><td>Christy Brittain</td><td>-3.49</td></tr><tr><td>2015</td><td>CB-12535</td><td>Claudia Bergmann</td><td>249.13</td></tr><tr><td>2015</td><td>CC-12100</td><td>Chad Cunningham</td><td>77.45</td></tr><tr><td>2015</td><td>CC-12145</td><td>Charles Crestani</td><td>297.36</td></tr><tr><td>2015</td><td>CC-12220</td><td>Chris Cortes</td><td>21.01</td></tr><tr><td>2015</td><td>CC-12430</td><td>Chuck Clark</td><td>60.39</td></tr><tr><td>2015</td><td>CC-12610</td><td>Corey Catlett</td><td>18.31</td></tr><tr><td>2015</td><td>CC-12670</td><td>Craig Carreira</td><td>8.57</td></tr><tr><td>2015</td><td>CC-12685</td><td>Craig Carroll</td><td>895.35</td></tr><tr><td>2015</td><td>CD-11920</td><td>Carlos Daly</td><td>17.75</td></tr><tr><td>2015</td><td>CD-12790</td><td>Cynthia Delaney</td><td>2.53</td></tr><tr><td>2015</td><td>CG-12040</td><td>Catherine Glotzbach</td><td>5.76</td></tr><tr><td>2015</td><td>CG-12520</td><td>Claire Gute</td><td>-93.38</td></tr><tr><td>2015</td><td>CH-12070</td><td>Cathy Hwang</td><td>57.39</td></tr><tr><td>2015</td><td>CK-12205</td><td>Chloris Kastensmidt</td><td>5.53</td></tr><tr><td>2015</td><td>CK-12595</td><td>Clytie Kelty</td><td>-36.93</td></tr><tr><td>2015</td><td>CK-12760</td><td>Cyma Kinney</td><td>14.50</td></tr><tr><td>2015</td><td>CL-12565</td><td>Clay Ludtke</td><td>490.36</td></tr><tr><td>2015</td><td>CM-11935</td><td>Carlos Meador</td><td>13.17</td></tr><tr><td>2015</td><td>CM-12115</td><td>Chad McGuire</td><td>8.11</td></tr><tr><td>2015</td><td>CM-12190</td><td>Charlotte Melton</td><td>16.89</td></tr><tr><td>2015</td><td>CM-12385</td><td>Christopher Martinez</td><td>3197.77</td></tr><tr><td>2015</td><td>CM-12655</td><td>Corinna Mitchell</td><td>116.62</td></tr><tr><td>2015</td><td>CM-12715</td><td>Craig Molinari</td><td>-29.90</td></tr><tr><td>2015</td><td>CP-12085</td><td>Cathy Prescott</td><td>102.44</td></tr><tr><td>2015</td><td>CP-12340</td><td>Christine Phan</td><td>-1044.46</td></tr><tr><td>2015</td><td>CR-12820</td><td>Cyra Reiten</td><td>2.13</td></tr><tr><td>2015</td><td>CS-11845</td><td>Cari Sayre</td><td>-5.73</td></tr><tr><td>2015</td><td>CS-11860</td><td>Cari Schnelling</td><td>-2.84</td></tr><tr><td>2015</td><td>CS-11950</td><td>Carlos Soltero</td><td>16.46</td></tr><tr><td>2015</td><td>CS-12130</td><td>Chad Sievert</td><td>45.72</td></tr><tr><td>2015</td><td>CS-12250</td><td>Chris Selesnick</td><td>95.26</td></tr><tr><td>2015</td><td>CS-12355</td><td>Christine Sundaresam</td><td>288.11</td></tr><tr><td>2015</td><td>CS-12400</td><td>Christopher Schild</td><td>75.70</td></tr><tr><td>2015</td><td>CS-12490</td><td>Cindy Schnelling</td><td>-58.13</td></tr><tr><td>2015</td><td>CS-12505</td><td>Cindy Stewart</td><td>17.34</td></tr><tr><td>2015</td><td>CT-11995</td><td>Carol Triggs</td><td>19.45</td></tr><tr><td>2015</td><td>CW-11905</td><td>Carl Weiss</td><td>21.11</td></tr><tr><td>2015</td><td>CY-12745</td><td>Craig Yedwab</td><td>107.00</td></tr><tr><td>2015</td><td>Co-12640</td><td>CoreyLock</td><td>44.03</td></tr><tr><td>2015</td><td>DB-12970</td><td>Darren Budd</td><td>45.65</td></tr><tr><td>2015</td><td>DB-13120</td><td>David Bremer</td><td>-285.06</td></tr><tr><td>2015</td><td>DB-13210</td><td>Dean Braden</td><td>-41.79</td></tr><tr><td>2015</td><td>DB-13270</td><td>Deborah Brumfield</td><td>1.72</td></tr><tr><td>2015</td><td>DB-13360</td><td>Dennis Bolton</td><td>15.61</td></tr><tr><td>2015</td><td>DB-13405</td><td>Denny Blanton</td><td>266.33</td></tr><tr><td>2015</td><td>DB-13615</td><td>Doug Bickford</td><td>342.08</td></tr><tr><td>2015</td><td>DB-13660</td><td>Duane Benoit</td><td>-17.29</td></tr><tr><td>2015</td><td>DC-12850</td><td>Dan Campbell</td><td>4.89</td></tr><tr><td>2015</td><td>DC-13285</td><td>Debra Catini</td><td>55.75</td></tr><tr><td>2015</td><td>DE-13255</td><td>NA</td><td>438.48</td></tr><tr><td>2015</td><td>DF-13135</td><td>David Flashing</td><td>99.94</td></tr><tr><td>2015</td><td>DG-13300</td><td>Deirdre Greer</td><td>0.42</td></tr><tr><td>2015</td><td>DH-13075</td><td>Dave Hallsten</td><td>783.23</td></tr><tr><td>2015</td><td>DH-13675</td><td>Duane Huffman</td><td>28.89</td></tr><tr><td>2015</td><td>DJ-13420</td><td>Denny Joy</td><td>64.99</td></tr><tr><td>2015</td><td>DJ-13630</td><td>Doug Jacobs</td><td>36.00</td></tr><tr><td>2015</td><td>DK-12835</td><td>Damala Kotsonis</td><td>369.26</td></tr><tr><td>2015</td><td>DK-12895</td><td>Dana Kaydos</td><td>609.59</td></tr><tr><td>2015</td><td>DK-12985</td><td>Darren Koutras</td><td>-76.43</td></tr><tr><td>2015</td><td>DK-13090</td><td>Dave Kipp</td><td>173.71</td></tr><tr><td>2015</td><td>DK-13225</td><td>Dean Katz</td><td>-339.65</td></tr><tr><td>2015</td><td>DK-13375</td><td>Dennis Kane</td><td>-95.80</td></tr><tr><td>2015</td><td>DL-12865</td><td>Dan Lawera</td><td>9.04</td></tr><tr><td>2015</td><td>DL-12925</td><td>Daniel Lacy</td><td>304.39</td></tr><tr><td>2015</td><td>DL-13330</td><td>Denise Leinenbach</td><td>197.98</td></tr><tr><td>2015</td><td>DL-13495</td><td>Dionis Lloyd</td><td>50.35</td></tr><tr><td>2015</td><td>DM-12955</td><td>Dario Medina</td><td>42.96</td></tr><tr><td>2015</td><td>DM-13015</td><td>Darrin Martin</td><td>6.60</td></tr><tr><td>2015</td><td>DM-13345</td><td>Denise Monton</td><td>2.84</td></tr><tr><td>2015</td><td>DM-13525</td><td>Don Miller</td><td>167.54</td></tr><tr><td>2015</td><td>DO-13435</td><td>Denny Ordway</td><td>-136.09</td></tr><tr><td>2015</td><td>DO-13645</td><td>Doug O'Connell</td><td>26.82</td></tr><tr><td>2015</td><td>DP-13000</td><td>Darren Powers</td><td>260.74</td></tr><tr><td>2015</td><td>DP-13105</td><td>Dave Poirier</td><td>16.29</td></tr><tr><td>2015</td><td>DP-13165</td><td>David Philippe</td><td>1.00</td></tr><tr><td>2015</td><td>DP-13390</td><td>Dennis Pardue</td><td>-223.85</td></tr><tr><td>2015</td><td>DR-12880</td><td>Dan Reichenbach</td><td>428.64</td></tr><tr><td>2015</td><td>DR-12940</td><td>Daniel Raglin</td><td>296.67</td></tr><tr><td>2015</td><td>DS-13180</td><td>David Smith</td><td>182.58</td></tr><tr><td>2015</td><td>DV-13465</td><td>Dianna Vittorini</td><td>101.77</td></tr><tr><td>2015</td><td>DW-13585</td><td>Dorothy Wardle</td><td>-371.25</td></tr><tr><td>2015</td><td>Dp-13240</td><td>Dean perceR</td><td>1145.83</td></tr><tr><td>2015</td><td>EA-14035</td><td>Erin Ashbrook</td><td>321.74</td></tr><tr><td>2015</td><td>EB-13705</td><td>Ed Braxton</td><td>47.96</td></tr><tr><td>2015</td><td>EB-13750</td><td>Edward Becker</td><td>177.41</td></tr><tr><td>2015</td><td>EB-13840</td><td>Ellis Ballard</td><td>610.86</td></tr><tr><td>2015</td><td>EB-13870</td><td>Emily Burns</td><td>242.30</td></tr><tr><td>2015</td><td>EB-14110</td><td>Eugene Barchas</td><td>44.54</td></tr><tr><td>2015</td><td>EB-14170</td><td>Evan Bailliet</td><td>119.43</td></tr><tr><td>2015</td><td>ED-13885</td><td>NA</td><td>574.81</td></tr><tr><td>2015</td><td>EG-13900</td><td>Emily Grady</td><td>55.00</td></tr><tr><td>2015</td><td>EH-13765</td><td>Edward Hooks</td><td>224.83</td></tr><tr><td>2015</td><td>EH-13945</td><td>Eric Hoffmann</td><td>10.62</td></tr><tr><td>2015</td><td>EH-13990</td><td>Erica Hackney</td><td>28.38</td></tr><tr><td>2015</td><td>EH-14125</td><td>Eugene Hildebrand</td><td>-117.87</td></tr><tr><td>2015</td><td>EJ-13720</td><td>Ed Jacobs</td><td>15.86</td></tr><tr><td>2015</td><td>EK-13795</td><td>Eileen Kiefer</td><td>20.54</td></tr><tr><td>2015</td><td>EM-13810</td><td>NA</td><td>-202.06</td></tr><tr><td>2015</td><td>EM-13825</td><td>Elizabeth Moffitt</td><td>238.47</td></tr><tr><td>2015</td><td>EM-13960</td><td>Eric Murdock</td><td>51.93</td></tr><tr><td>2015</td><td>EM-14095</td><td>Eudokia Martin</td><td>192.67</td></tr><tr><td>2015</td><td>EM-14140</td><td>Eugene Moren</td><td>271.41</td></tr><tr><td>2015</td><td>EM-14200</td><td>Evan Minnotte</td><td>4.00</td></tr><tr><td>2015</td><td>EN-13780</td><td>Edward Nazzal</td><td>51.27</td></tr><tr><td>2015</td><td>EP-13915</td><td>Emily Phan</td><td>361.20</td></tr><tr><td>2015</td><td>ER-13855</td><td>Elpida Rittenbach</td><td>4.57</td></tr><tr><td>2015</td><td>ES-14020</td><td>Erica Smith</td><td>44.05</td></tr><tr><td>2015</td><td>ES-14080</td><td>Erin Smith</td><td>-27.16</td></tr><tr><td>2015</td><td>FA-14230</td><td>Frank Atkinson</td><td>224.56</td></tr><tr><td>2015</td><td>FC-14245</td><td>Frank Carlisle</td><td>35.53</td></tr><tr><td>2015</td><td>FC-14335</td><td>Fred Chung</td><td>12.60</td></tr><tr><td>2015</td><td>FH-14350</td><td>Fred Harton</td><td>365.68</td></tr><tr><td>2015</td><td>FH-14365</td><td>Fred Hopkins</td><td>2139.74</td></tr><tr><td>2015</td><td>FM-14290</td><td>Frank Merwin</td><td>1.03</td></tr><tr><td>2015</td><td>FM-14380</td><td>Fred McMath</td><td>17.48</td></tr><tr><td>2015</td><td>FO-14305</td><td>Frank Olsen</td><td>18.98</td></tr><tr><td>2015</td><td>FP-14320</td><td>Frank Preis</td><td>-140.57</td></tr><tr><td>2015</td><td>FW-14395</td><td>Fred Waerman</td><td>5.48</td></tr><tr><td>2015</td><td>GA-14515</td><td>George Ashbrook</td><td>625.85</td></tr><tr><td>2015</td><td>GA-14725</td><td>Guy Armstrong</td><td>11.54</td></tr><tr><td>2015</td><td>GB-14530</td><td>George Bell</td><td>74.29</td></tr><tr><td>2015</td><td>GB-14575</td><td>Giulietta Baptist</td><td>767.60</td></tr><tr><td>2015</td><td>GG-14650</td><td>Greg Guthrie</td><td>-115.72</td></tr><tr><td>2015</td><td>GH-14410</td><td>GaryHansen</td><td>38.97</td></tr><tr><td>2015</td><td>GH-14425</td><td>Gary Hwang</td><td>59.65</td></tr><tr><td>2015</td><td>GH-14485</td><td>Gene Hale</td><td>-71.00</td></tr><tr><td>2015</td><td>GH-14665</td><td>Greg Hansen</td><td>3.07</td></tr><tr><td>2015</td><td>GK-14620</td><td>Grace Kelly</td><td>86.65</td></tr><tr><td>2015</td><td>GM-14500</td><td>Gene McClure</td><td>359.46</td></tr><tr><td>2015</td><td>GP-14740</td><td>Guy Phonely</td><td>67.77</td></tr><tr><td>2015</td><td>GT-14635</td><td>Grant Thornton</td><td>8.87</td></tr><tr><td>2015</td><td>GT-14710</td><td>Greg Tran</td><td>974.31</td></tr><tr><td>2015</td><td>GT-14755</td><td>Guy Thornton</td><td>27.20</td></tr><tr><td>2015</td><td>GW-14605</td><td>Giulietta Weimer</td><td>134.33</td></tr><tr><td>2015</td><td>GZ-14470</td><td>Gary Zandusky</td><td>126.31</td></tr><tr><td>2015</td><td>HA-14905</td><td>Helen Abelman</td><td>111.28</td></tr><tr><td>2015</td><td>HA-14920</td><td>Helen Andreada</td><td>197.83</td></tr><tr><td>2015</td><td>HD-14785</td><td>Harold Dahlen</td><td>30.99</td></tr><tr><td>2015</td><td>HG-14845</td><td>Harry Greene</td><td>-2.01</td></tr><tr><td>2015</td><td>HG-14965</td><td>Henry Goldwyn</td><td>34.84</td></tr><tr><td>2015</td><td>HG-15025</td><td>Hunter Glantz</td><td>55.90</td></tr><tr><td>2015</td><td>HJ-14875</td><td>Heather Jas</td><td>28.71</td></tr><tr><td>2015</td><td>HK-14890</td><td>Heather Kirkland</td><td>300.07</td></tr><tr><td>2015</td><td>HM-14860</td><td>Harry Marie</td><td>2451.01</td></tr><tr><td>2015</td><td>HM-14980</td><td>Henry MacAllister</td><td>73.82</td></tr><tr><td>2015</td><td>HP-14815</td><td>Harold Pawlan</td><td>-21.70</td></tr><tr><td>2015</td><td>HR-14770</td><td>Hallie Redmond</td><td>48.12</td></tr><tr><td>2015</td><td>HR-14830</td><td>Harold Ryan</td><td>116.94</td></tr><tr><td>2015</td><td>HW-14935</td><td>Helen Waerman</td><td>17.20</td></tr><tr><td>2015</td><td>IG-15085</td><td>Ivan Gibson</td><td>144.35</td></tr><tr><td>2015</td><td>IL-15100</td><td>Ivan Liston</td><td>656.68</td></tr><tr><td>2015</td><td>IM-15070</td><td>Irene Maddox</td><td>-55.70</td></tr><tr><td>2015</td><td>JB-15400</td><td>Jennifer Braxton</td><td>128.05</td></tr><tr><td>2015</td><td>JB-15925</td><td>Joni Blumstein</td><td>-359.56</td></tr><tr><td>2015</td><td>JB-16045</td><td>Julia Barnett</td><td>106.54</td></tr><tr><td>2015</td><td>JC-15775</td><td>John Castell</td><td>27.63</td></tr><tr><td>2015</td><td>JC-16105</td><td>Julie Creighton</td><td>62.81</td></tr><tr><td>2015</td><td>JD-15790</td><td>John Dryer</td><td>-313.52</td></tr><tr><td>2015</td><td>JD-15895</td><td>Jonathan Doherty</td><td>64.82</td></tr><tr><td>2015</td><td>JD-16060</td><td>Julia Dunbar</td><td>-29.25</td></tr><tr><td>2015</td><td>JD-16150</td><td>Justin Deggeller</td><td>212.64</td></tr><tr><td>2015</td><td>JE-15475</td><td>Jeremy Ellison</td><td>57.22</td></tr><tr><td>2015</td><td>JE-15610</td><td>Jim Epp</td><td>-129.89</td></tr><tr><td>2015</td><td>JE-15715</td><td>Joe Elijah</td><td>50.83</td></tr><tr><td>2015</td><td>JE-15745</td><td>Joel Eaton</td><td>-507.06</td></tr><tr><td>2015</td><td>JF-15190</td><td>Jamie Frazer</td><td>17.99</td></tr><tr><td>2015</td><td>JF-15355</td><td>Jay Fein</td><td>161.11</td></tr><tr><td>2015</td><td>JF-15415</td><td>Jennifer Ferguson</td><td>56.64</td></tr><tr><td>2015</td><td>JF-15490</td><td>Jeremy Farry</td><td>-103.54</td></tr><tr><td>2015</td><td>JF-15565</td><td>Jill Fjeld</td><td>147.35</td></tr><tr><td>2015</td><td>JG-15115</td><td>Jack Garza</td><td>-50.17</td></tr><tr><td>2015</td><td>JG-15160</td><td>James Galang</td><td>736.76</td></tr><tr><td>2015</td><td>JG-15805</td><td>John Grady</td><td>8.69</td></tr><tr><td>2015</td><td>JH-15820</td><td>John Huston</td><td>19.60</td></tr><tr><td>2015</td><td>JH-15910</td><td>Jonathan Howell</td><td>48.66</td></tr><tr><td>2015</td><td>JH-15985</td><td>Joseph Holt</td><td>-1429.38</td></tr><tr><td>2015</td><td>JH-16180</td><td>Justin Hirsh</td><td>106.41</td></tr><tr><td>2015</td><td>JJ-15445</td><td>Jennifer Jackson</td><td>181.85</td></tr><tr><td>2015</td><td>JJ-15760</td><td>Joel Jenkins</td><td>34.46</td></tr><tr><td>2015</td><td>JK-15205</td><td>Jamie Kunitz</td><td>615.03</td></tr><tr><td>2015</td><td>JK-15370</td><td>Jay Kimmel</td><td>37.34</td></tr><tr><td>2015</td><td>JK-15625</td><td>Jim Karlsson</td><td>438.00</td></tr><tr><td>2015</td><td>JK-15640</td><td>Jim Kriz</td><td>181.04</td></tr><tr><td>2015</td><td>JK-15730</td><td>Joe Kamberova</td><td>42.08</td></tr><tr><td>2015</td><td>JK-16090</td><td>Juliana Krohn</td><td>228.90</td></tr><tr><td>2015</td><td>JK-16120</td><td>Julie Kriz</td><td>47.93</td></tr><tr><td>2015</td><td>JL-15175</td><td>James Lanier</td><td>41.14</td></tr><tr><td>2015</td><td>JL-15235</td><td>Janet Lee</td><td>53.47</td></tr><tr><td>2015</td><td>JL-15835</td><td>John Lee</td><td>252.42</td></tr><tr><td>2015</td><td>JL-15850</td><td>John Lucas</td><td>816.51</td></tr><tr><td>2015</td><td>JM-15265</td><td>Janet Molinari</td><td>-11.90</td></tr><tr><td>2015</td><td>JM-15535</td><td>Jessica Myrick</td><td>46.85</td></tr><tr><td>2015</td><td>JM-15865</td><td>John Murray</td><td>371.88</td></tr><tr><td>2015</td><td>JM-16195</td><td>Justin MacKendrick</td><td>221.33</td></tr><tr><td>2015</td><td>JO-15280</td><td>Jas O'Carroll</td><td>203.94</td></tr><tr><td>2015</td><td>JO-15550</td><td>Jesus Ocampo</td><td>153.91</td></tr><tr><td>2015</td><td>JP-15460</td><td>Jennifer Patt</td><td>100.93</td></tr><tr><td>2015</td><td>JP-15520</td><td>Jeremy Pistek</td><td>5.01</td></tr><tr><td>2015</td><td>JP-16135</td><td>Julie Prescott</td><td>7.43</td></tr><tr><td>2015</td><td>JR-15670</td><td>Jim Radford</td><td>-785.16</td></tr><tr><td>2015</td><td>JR-16210</td><td>Justin Ritter</td><td>152.39</td></tr><tr><td>2015</td><td>JS-15595</td><td>JiStevenson</td><td>4.53</td></tr><tr><td>2015</td><td>JS-15880</td><td>John Stevenson</td><td>392.89</td></tr><tr><td>2015</td><td>JS-15940</td><td>Joni Sundaresam</td><td>-312.06</td></tr><tr><td>2015</td><td>JW-15220</td><td>Jane Waco</td><td>89.20</td></tr><tr><td>2015</td><td>JW-15955</td><td>Joni Waerman</td><td>-201.65</td></tr><tr><td>2015</td><td>JW-16075</td><td>Julia West</td><td>133.51</td></tr><tr><td>2015</td><td>KA-16525</td><td>Kelly Andreada</td><td>77.97</td></tr><tr><td>2015</td><td>KB-16240</td><td>Karen Bern</td><td>19.85</td></tr><tr><td>2015</td><td>KB-16315</td><td>Karl Braun</td><td>-18.21</td></tr><tr><td>2015</td><td>KB-16405</td><td>Katrina Bavinger</td><td>42.96</td></tr><tr><td>2015</td><td>KB-16585</td><td>Ken Black</td><td>66.42</td></tr><tr><td>2015</td><td>KB-16600</td><td>Ken Brennan</td><td>17.00</td></tr><tr><td>2015</td><td>KC-16255</td><td>Karen Carlisle</td><td>279.99</td></tr><tr><td>2015</td><td>KC-16540</td><td>Kelly Collister</td><td>49.27</td></tr><tr><td>2015</td><td>KD-16270</td><td>Karen Danels</td><td>129.49</td></tr><tr><td>2015</td><td>KD-16345</td><td>Katherine Ducich</td><td>243.53</td></tr><tr><td>2015</td><td>KD-16495</td><td>Keith Dawkins</td><td>2810.35</td></tr><tr><td>2015</td><td>KD-16615</td><td>NA</td><td>272.58</td></tr><tr><td>2015</td><td>KE-16420</td><td>Katrina Edelman</td><td>235.64</td></tr><tr><td>2015</td><td>KH-16510</td><td>Keith Herrera</td><td>227.57</td></tr><tr><td>2015</td><td>KH-16630</td><td>Ken Heidel</td><td>501.54</td></tr><tr><td>2015</td><td>KH-16690</td><td>Kristen Hastings</td><td>-36.13</td></tr><tr><td>2015</td><td>KL-16645</td><td>Ken Lonsdale</td><td>252.53</td></tr><tr><td>2015</td><td>KM-16225</td><td>Kalyca Meade</td><td>450.16</td></tr><tr><td>2015</td><td>KM-16375</td><td>Katherine Murray</td><td>29.31</td></tr><tr><td>2015</td><td>KM-16660</td><td>Khloe Miller</td><td>34.35</td></tr><tr><td>2015</td><td>KM-16720</td><td>Kunst Miller</td><td>112.10</td></tr><tr><td>2015</td><td>KN-16390</td><td>Katherine Nockton</td><td>-191.36</td></tr><tr><td>2015</td><td>KN-16450</td><td>Kean Nguyen</td><td>-118.58</td></tr><tr><td>2015</td><td>KN-16705</td><td>Kristi'na Nunn</td><td>-183.11</td></tr><tr><td>2015</td><td>KS-16300</td><td>Karen Seio</td><td>6.49</td></tr><tr><td>2015</td><td>KT-16465</td><td>Kean Takahito</td><td>28.81</td></tr><tr><td>2015</td><td>KT-16480</td><td>Kean Thornton</td><td>36.70</td></tr><tr><td>2015</td><td>KW-16435</td><td>Katrina Willman</td><td>1600.85</td></tr><tr><td>2015</td><td>KW-16570</td><td>Kelly Williams</td><td>97.14</td></tr><tr><td>2015</td><td>LA-16780</td><td>Laura Armstrong</td><td>-0.12</td></tr><tr><td>2015</td><td>LC-16870</td><td>NA</td><td>107.63</td></tr><tr><td>2015</td><td>LC-16885</td><td>Lena Creighton</td><td>1007.75</td></tr><tr><td>2015</td><td>LC-16960</td><td>Lindsay Castell</td><td>278.20</td></tr><tr><td>2015</td><td>LC-17140</td><td>Logan Currie</td><td>19.40</td></tr><tr><td>2015</td><td>LE-16810</td><td>Laurel Elliston</td><td>5.08</td></tr><tr><td>2015</td><td>LF-17185</td><td>Luke Foster</td><td>146.21</td></tr><tr><td>2015</td><td>LH-16900</td><td>Lena Hernandez</td><td>121.11</td></tr><tr><td>2015</td><td>LH-17020</td><td>Lisa Hazard</td><td>-27.00</td></tr><tr><td>2015</td><td>LH-17155</td><td>Logan Haushalter</td><td>94.85</td></tr><tr><td>2015</td><td>LL-16840</td><td>Lauren Leatherbury</td><td>404.91</td></tr><tr><td>2015</td><td>LM-17065</td><td>Liz MacKendrick</td><td>-142.52</td></tr><tr><td>2015</td><td>LO-17170</td><td>Lori Olson</td><td>34.45</td></tr><tr><td>2015</td><td>LR-16915</td><td>Lena Radford</td><td>30.79</td></tr><tr><td>2015</td><td>LR-17035</td><td>Lisa Ryan</td><td>-142.91</td></tr><tr><td>2015</td><td>LS-16945</td><td>Linda Southworth</td><td>9.82</td></tr><tr><td>2015</td><td>LS-16975</td><td>Lindsay Shagiari</td><td>-108.20</td></tr><tr><td>2015</td><td>LS-17230</td><td>Lycoris Saunders</td><td>55.24</td></tr><tr><td>2015</td><td>LS-17245</td><td>Lynn Smith</td><td>4.80</td></tr><tr><td>2015</td><td>LT-16765</td><td>Larry Tron</td><td>20.16</td></tr><tr><td>2015</td><td>LT-17110</td><td>Liz Thompson</td><td>76.22</td></tr><tr><td>2015</td><td>MA-17560</td><td>Matt Abelman</td><td>619.06</td></tr><tr><td>2015</td><td>MA-17995</td><td>Michelle Arnett</td><td>3.48</td></tr><tr><td>2015</td><td>MB-17305</td><td>Maria Bertelson</td><td>77.99</td></tr><tr><td>2015</td><td>MC-17275</td><td>Marc Crier</td><td>197.66</td></tr><tr><td>2015</td><td>MC-17425</td><td>Mark Cousins</td><td>57.20</td></tr><tr><td>2015</td><td>MC-17575</td><td>Matt Collins</td><td>62.77</td></tr><tr><td>2015</td><td>MC-17605</td><td>Matt Connell</td><td>13.08</td></tr><tr><td>2015</td><td>MC-18100</td><td>Mick Crebagga</td><td>-73.30</td></tr><tr><td>2015</td><td>MC-18130</td><td>Mike Caudle</td><td>9.81</td></tr><tr><td>2015</td><td>MD-17350</td><td>Maribeth Dona</td><td>51.66</td></tr><tr><td>2015</td><td>ME-17320</td><td>Maria Etezadi</td><td>-9.56</td></tr><tr><td>2015</td><td>ME-17725</td><td>Max Engle</td><td>39.77</td></tr><tr><td>2015</td><td>ME-18010</td><td>Michelle Ellison</td><td>8.77</td></tr><tr><td>2015</td><td>MF-18250</td><td>Monica Federle</td><td>152.73</td></tr><tr><td>2015</td><td>MG-17680</td><td>Maureen Gastineau</td><td>-1.20</td></tr><tr><td>2015</td><td>MG-17695</td><td>Maureen Gnade</td><td>-392.86</td></tr><tr><td>2015</td><td>MG-17875</td><td>Michael Grace</td><td>-499.05</td></tr><tr><td>2015</td><td>MG-17890</td><td>Michael Granlund</td><td>112.32</td></tr><tr><td>2015</td><td>MG-18145</td><td>Mike Gockenbach</td><td>-137.49</td></tr><tr><td>2015</td><td>MH-17290</td><td>Marc Harrigan</td><td>2.18</td></tr><tr><td>2015</td><td>MH-17455</td><td>Mark Hamilton</td><td>16.18</td></tr><tr><td>2015</td><td>MH-17620</td><td>Matt Hagelstein</td><td>14.67</td></tr><tr><td>2015</td><td>MH-17785</td><td>Maya Herman</td><td>94.71</td></tr><tr><td>2015</td><td>MH-18025</td><td>Michelle Huthwaite</td><td>91.16</td></tr><tr><td>2015</td><td>MJ-17740</td><td>Max Jones</td><td>-77.93</td></tr><tr><td>2015</td><td>MK-17905</td><td>Michael Kennedy</td><td>0.60</td></tr><tr><td>2015</td><td>ML-17395</td><td>Marina Lichtenstein</td><td>-4.94</td></tr><tr><td>2015</td><td>ML-18265</td><td>Muhammed Lee</td><td>1.16</td></tr><tr><td>2015</td><td>MM-17920</td><td>Michael Moore</td><td>-373.30</td></tr><tr><td>2015</td><td>MM-18055</td><td>Michelle Moray</td><td>-247.37</td></tr><tr><td>2015</td><td>MM-18280</td><td>Muhammed MacIntyre</td><td>68.20</td></tr><tr><td>2015</td><td>MO-17800</td><td>Meg O'Connel</td><td>-16.97</td></tr><tr><td>2015</td><td>MO-17950</td><td>Michael Oakman</td><td>-79.31</td></tr><tr><td>2015</td><td>MP-17470</td><td>Mark Packer</td><td>311.50</td></tr><tr><td>2015</td><td>MP-17965</td><td>Michael Paige</td><td>255.75</td></tr><tr><td>2015</td><td>MP-18175</td><td>Mike Pelletier</td><td>526.73</td></tr><tr><td>2015</td><td>MS-17365</td><td>Maribethchnelling</td><td>145.50</td></tr><tr><td>2015</td><td>MS-17530</td><td>MaryBeth Skach</td><td>45.29</td></tr><tr><td>2015</td><td>MS-17710</td><td>Maurice Satty</td><td>299.80</td></tr><tr><td>2015</td><td>MS-17770</td><td>Maxwell Schwartz</td><td>209.33</td></tr><tr><td>2015</td><td>MS-17830</td><td>Melanie Seite</td><td>32.45</td></tr><tr><td>2015</td><td>MS-17980</td><td>Michael Stewart</td><td>59.35</td></tr><tr><td>2015</td><td>MT-17815</td><td>Meg Tillman</td><td>1.78</td></tr><tr><td>2015</td><td>MT-18070</td><td>Michelle Tran</td><td>-6.29</td></tr><tr><td>2015</td><td>MV-17485</td><td>MarkVan Huff</td><td>-1.28</td></tr><tr><td>2015</td><td>MV-18190</td><td>Mike Vittorini</td><td>15.36</td></tr><tr><td>2015</td><td>MW-18220</td><td>Mitch Webber</td><td>24.50</td></tr><tr><td>2015</td><td>MY-17380</td><td>Maribeth Yedwab</td><td>2.65</td></tr><tr><td>2015</td><td>MZ-17335</td><td>Maria Zettner</td><td>69.35</td></tr><tr><td>2015</td><td>MZ-17515</td><td>Mary Zewe</td><td>8.21</td></tr><tr><td>2015</td><td>NB-18655</td><td>Nona Balk</td><td>127.06</td></tr><tr><td>2015</td><td>NC-18340</td><td>Nat Carroll</td><td>326.28</td></tr><tr><td>2015</td><td>NC-18415</td><td>Nathan Cano</td><td>36.23</td></tr><tr><td>2015</td><td>NC-18625</td><td>Noah Childs</td><td>16.85</td></tr><tr><td>2015</td><td>ND-18370</td><td>Natalie DeCherney</td><td>330.80</td></tr><tr><td>2015</td><td>ND-18460</td><td>Neil Ducich</td><td>18.66</td></tr><tr><td>2015</td><td>NF-18385</td><td>Natalie Fritzler</td><td>-1980.38</td></tr><tr><td>2015</td><td>NF-18475</td><td>Neil Französisch</td><td>72.89</td></tr><tr><td>2015</td><td>NF-18595</td><td>Nicole Fjeld</td><td>258.10</td></tr><tr><td>2015</td><td>NG-18355</td><td>Nat Gilpin</td><td>8.05</td></tr><tr><td>2015</td><td>NG-18430</td><td>Nathan Gelder</td><td>54.00</td></tr><tr><td>2015</td><td>NH-18610</td><td>Nicole Hansen</td><td>85.82</td></tr><tr><td>2015</td><td>NK-18490</td><td>Neil Knudson</td><td>1.79</td></tr><tr><td>2015</td><td>NL-18310</td><td>Nancy Lomonaco</td><td>34.59</td></tr><tr><td>2015</td><td>NM-18445</td><td>Nathan Mautz</td><td>333.50</td></tr><tr><td>2015</td><td>NM-18520</td><td>Neoma Murray</td><td>-26.66</td></tr><tr><td>2015</td><td>NP-18325</td><td>NA</td><td>852.92</td></tr><tr><td>2015</td><td>NP-18670</td><td>Nra Paige</td><td>80.84</td></tr><tr><td>2015</td><td>NP-18685</td><td>Nora Pelletier</td><td>449.44</td></tr><tr><td>2015</td><td>NS-18640</td><td>Noel Staavos</td><td>151.68</td></tr><tr><td>2015</td><td>NW-18400</td><td>Natalie Webber</td><td>1654.06</td></tr><tr><td>2015</td><td>NZ-18565</td><td>Nick Zandusky</td><td>82.82</td></tr><tr><td>2015</td><td>ON-18715</td><td>Odella Nelson</td><td>-31.11</td></tr><tr><td>2015</td><td>OT-18730</td><td>Olvera Toch</td><td>81.00</td></tr><tr><td>2015</td><td>PA-19060</td><td>Pete Armstrong</td><td>121.57</td></tr><tr><td>2015</td><td>PB-18805</td><td>Patrick Bzostek</td><td>7.56</td></tr><tr><td>2015</td><td>PB-19150</td><td>Philip Brown</td><td>157.66</td></tr><tr><td>2015</td><td>PC-19000</td><td>Pauline Chand</td><td>-172.51</td></tr><tr><td>2015</td><td>PF-19120</td><td>Peter Fuller</td><td>-631.70</td></tr><tr><td>2015</td><td>PF-19165</td><td>Philip Fox</td><td>75.23</td></tr><tr><td>2015</td><td>PG-18820</td><td>Patrick Gardner</td><td>-564.68</td></tr><tr><td>2015</td><td>PG-18895</td><td>Paul Gonzalez</td><td>174.73</td></tr><tr><td>2015</td><td>PJ-18835</td><td>Patrick Jones</td><td>382.38</td></tr><tr><td>2015</td><td>PJ-19015</td><td>Pauline Johnson</td><td>40.07</td></tr><tr><td>2015</td><td>PM-18940</td><td>Paul MacIntyre</td><td>-21.71</td></tr><tr><td>2015</td><td>PM-19135</td><td>Peter McVee</td><td>426.81</td></tr><tr><td>2015</td><td>PN-18775</td><td>Parhena Norris</td><td>6.46</td></tr><tr><td>2015</td><td>PO-18850</td><td>Patrick O'Brill</td><td>7.32</td></tr><tr><td>2015</td><td>PO-19180</td><td>Philisse Overcash</td><td>823.24</td></tr><tr><td>2015</td><td>PO-19195</td><td>Phillina Ober</td><td>-12.50</td></tr><tr><td>2015</td><td>PP-18955</td><td>Paul Prost</td><td>67.56</td></tr><tr><td>2015</td><td>PR-18880</td><td>Patrick Ryan</td><td>38.27</td></tr><tr><td>2015</td><td>PS-18760</td><td>Pamela Stobb</td><td>-113.10</td></tr><tr><td>2015</td><td>PS-18970</td><td>Paul Stevenson</td><td>42.15</td></tr><tr><td>2015</td><td>PS-19045</td><td>Penelope Sewall</td><td>1493.94</td></tr><tr><td>2015</td><td>PW-19030</td><td>Pauline Webber</td><td>15.15</td></tr><tr><td>2015</td><td>PW-19240</td><td>Pierre Wener</td><td>1378.01</td></tr><tr><td>2015</td><td>QJ-19255</td><td>Quincy Jones</td><td>1014.47</td></tr><tr><td>2015</td><td>RA-19285</td><td>Ralph Arnett</td><td>234.81</td></tr><tr><td>2015</td><td>RA-19885</td><td>Ruben Ausman</td><td>1.67</td></tr><tr><td>2015</td><td>RA-19915</td><td>Russell Applegate</td><td>-118.15</td></tr><tr><td>2015</td><td>RA-19945</td><td>Ryan Akin</td><td>96.54</td></tr><tr><td>2015</td><td>RB-19435</td><td>Richard Bierner</td><td>49.57</td></tr><tr><td>2015</td><td>RB-19645</td><td>Robert Barroso</td><td>28.43</td></tr><tr><td>2015</td><td>RB-19705</td><td>Roger Barcio</td><td>-82.78</td></tr><tr><td>2015</td><td>RB-19795</td><td>Ross Baird</td><td>-18.46</td></tr><tr><td>2015</td><td>RD-19480</td><td>Rick Duston</td><td>25.41</td></tr><tr><td>2015</td><td>RD-19585</td><td>Rob Dowd</td><td>302.64</td></tr><tr><td>2015</td><td>RD-19660</td><td>Robert Dilbeck</td><td>-73.41</td></tr><tr><td>2015</td><td>RD-19720</td><td>Roger Demir</td><td>23.85</td></tr><tr><td>2015</td><td>RD-19900</td><td>Ruben Dartt</td><td>9.09</td></tr><tr><td>2015</td><td>RD-19930</td><td>Russell D'Ascenzo</td><td>39.00</td></tr><tr><td>2015</td><td>RE-19450</td><td>Richard Eichhorn</td><td>211.06</td></tr><tr><td>2015</td><td>RF-19345</td><td>Randy Ferguson</td><td>102.01</td></tr><tr><td>2015</td><td>RF-19735</td><td>Roland Fjeld</td><td>187.10</td></tr><tr><td>2015</td><td>RF-19840</td><td>Roy Französisch</td><td>0.06</td></tr><tr><td>2015</td><td>RH-19495</td><td>Rick Hansen</td><td>480.63</td></tr><tr><td>2015</td><td>RH-19510</td><td>Rick Huthwaite</td><td>125.67</td></tr><tr><td>2015</td><td>RH-19555</td><td>Ritsa Hightower</td><td>-6.03</td></tr><tr><td>2015</td><td>RH-19600</td><td>Rob Haberlin</td><td>165.37</td></tr><tr><td>2015</td><td>RK-19300</td><td>Ralph Kennedy</td><td>265.57</td></tr><tr><td>2015</td><td>RL-19615</td><td>Rob Lucas</td><td>110.11</td></tr><tr><td>2015</td><td>RM-19375</td><td>Raymond Messe</td><td>19.97</td></tr><tr><td>2015</td><td>RM-19675</td><td>Robert Marley</td><td>660.52</td></tr><tr><td>2015</td><td>RO-19780</td><td>Rose O'Brian</td><td>-998.00</td></tr><tr><td>2015</td><td>RP-19270</td><td>Rachel Payne</td><td>-50.04</td></tr><tr><td>2015</td><td>RP-19390</td><td>Resi Pölking</td><td>19.71</td></tr><tr><td>2015</td><td>RP-19855</td><td>Roy Phan</td><td>375.38</td></tr><tr><td>2015</td><td>RR-19525</td><td>Rick Reed</td><td>32.50</td></tr><tr><td>2015</td><td>RS-19765</td><td>Roland Schwarz</td><td>5.01</td></tr><tr><td>2015</td><td>RW-19540</td><td>Rick Wilson</td><td>-74.62</td></tr><tr><td>2015</td><td>SA-20830</td><td>SueAnn Reed</td><td>98.08</td></tr><tr><td>2015</td><td>SB-20185</td><td>Sarah Brown</td><td>939.16</td></tr><tr><td>2015</td><td>SB-20290</td><td>Sean Braxton</td><td>79.76</td></tr><tr><td>2015</td><td>SC-20020</td><td>Sam Craven</td><td>43.32</td></tr><tr><td>2015</td><td>SC-20050</td><td>SampleCompany A</td><td>9.10</td></tr><tr><td>2015</td><td>SC-20095</td><td>Sanjit Chand</td><td>92.68</td></tr><tr><td>2015</td><td>SC-20260</td><td>Scott Cohen</td><td>373.95</td></tr><tr><td>2015</td><td>SC-20305</td><td>Sean Christensen</td><td>0.00</td></tr><tr><td>2015</td><td>SC-20380</td><td>ShahiCollister</td><td>52.91</td></tr><tr><td>2015</td><td>SC-20440</td><td>Shaun Chance</td><td>375.28</td></tr><tr><td>2015</td><td>SC-20575</td><td>Sonia Cooley</td><td>-2.43</td></tr><tr><td>2015</td><td>SC-20680</td><td>Steve Carroll</td><td>213.70</td></tr><tr><td>2015</td><td>SC-20695</td><td>Steve Chapman</td><td>222.93</td></tr><tr><td>2015</td><td>SC-20725</td><td>Steven Cartwright</td><td>404.63</td></tr><tr><td>2015</td><td>SC-20770</td><td>Stewart Carmichael</td><td>147.72</td></tr><tr><td>2015</td><td>SC-20800</td><td>Stuart Calhoun</td><td>40.63</td></tr><tr><td>2015</td><td>SD-20485</td><td>Shirley Daniels</td><td>1954.79</td></tr><tr><td>2015</td><td>SE-20110</td><td>Sanjit Engle</td><td>159.32</td></tr><tr><td>2015</td><td>SF-20065</td><td>Sandra Flanagan</td><td>15.98</td></tr><tr><td>2015</td><td>SF-20200</td><td>Sarah Foster</td><td>-87.01</td></tr><tr><td>2015</td><td>SF-20965</td><td>Sylvia Foulston</td><td>448.98</td></tr><tr><td>2015</td><td>SG-20080</td><td>Sandra Glassco</td><td>352.19</td></tr><tr><td>2015</td><td>SG-20470</td><td>Sheri Gordon</td><td>44.50</td></tr><tr><td>2015</td><td>SG-20605</td><td>Speros Goranitis</td><td>162.96</td></tr><tr><td>2015</td><td>SH-19975</td><td>NA</td><td>51.87</td></tr><tr><td>2015</td><td>SH-20395</td><td>ShahiHopkins</td><td>2.24</td></tr><tr><td>2015</td><td>SH-20635</td><td>Stefanie Holloman</td><td>190.43</td></tr><tr><td>2015</td><td>SJ-20125</td><td>Sanjit Jacobs</td><td>-65.82</td></tr><tr><td>2015</td><td>SJ-20215</td><td>Sarah Jordon</td><td>5.90</td></tr><tr><td>2015</td><td>SL-20155</td><td>Sara Luxemburg</td><td>64.77</td></tr><tr><td>2015</td><td>SM-20320</td><td>Sean Miller</td><td>-225.52</td></tr><tr><td>2015</td><td>SM-20950</td><td>Suzanne McNair</td><td>468.40</td></tr><tr><td>2015</td><td>SN-20560</td><td>Skye Norling</td><td>184.58</td></tr><tr><td>2015</td><td>SN-20710</td><td>Steve Nguyen</td><td>91.21</td></tr><tr><td>2015</td><td>SO-20335</td><td>Sean O'Donnell</td><td>-282.31</td></tr><tr><td>2015</td><td>SP-20620</td><td>Stefania Perrino</td><td>-0.62</td></tr><tr><td>2015</td><td>SP-20650</td><td>Stephanie Phelps</td><td>95.84</td></tr><tr><td>2015</td><td>SP-20860</td><td>Sung Pak</td><td>-65.06</td></tr><tr><td>2015</td><td>SR-20740</td><td>Steven Roelle</td><td>2.40</td></tr><tr><td>2015</td><td>SS-20140</td><td>Saphhira Shifley</td><td>25.79</td></tr><tr><td>2015</td><td>SS-20410</td><td>ShahiShariari</td><td>-504.24</td></tr><tr><td>2015</td><td>SS-20515</td><td>Shirley Schmidt</td><td>174.01</td></tr><tr><td>2015</td><td>SS-20590</td><td>Sonia Sunley</td><td>8.02</td></tr><tr><td>2015</td><td>SS-20875</td><td>Sung Shariari</td><td>-79.33</td></tr><tr><td>2015</td><td>ST-20530</td><td>Shui Tom</td><td>27.01</td></tr><tr><td>2015</td><td>SU-20665</td><td>Stephanie Ulpright</td><td>76.40</td></tr><tr><td>2015</td><td>SV-20365</td><td>Seth Vernon</td><td>-191.64</td></tr><tr><td>2015</td><td>SV-20785</td><td>Stewart Visinsky</td><td>209.66</td></tr><tr><td>2015</td><td>SV-20815</td><td>Stuart Van</td><td>184.20</td></tr><tr><td>2015</td><td>SW-20245</td><td>Scot Wooten</td><td>-10.84</td></tr><tr><td>2015</td><td>SW-20455</td><td>Shaun Weien</td><td>618.44</td></tr><tr><td>2015</td><td>SZ-20035</td><td>Sam Zeldin</td><td>260.19</td></tr><tr><td>2015</td><td>TB-21190</td><td>Thomas Brumley</td><td>3.06</td></tr><tr><td>2015</td><td>TB-21250</td><td>Tim Brockman</td><td>318.53</td></tr><tr><td>2015</td><td>TB-21520</td><td>Tracy Blumstein</td><td>-1524.01</td></tr><tr><td>2015</td><td>TB-21625</td><td>Trudy Brown</td><td>-8.47</td></tr><tr><td>2015</td><td>TC-20980</td><td>Tamara Chand</td><td>37.72</td></tr><tr><td>2015</td><td>TC-21475</td><td>Tony Chapman</td><td>27.00</td></tr><tr><td>2015</td><td>TC-21535</td><td>Tracy Collins</td><td>30.65</td></tr><tr><td>2015</td><td>TD-20995</td><td>Tamara Dahlen</td><td>-4.52</td></tr><tr><td>2015</td><td>TG-21310</td><td>Toby Gnade</td><td>-198.33</td></tr><tr><td>2015</td><td>TG-21640</td><td>Trudy Glocke</td><td>191.28</td></tr><tr><td>2015</td><td>TH-21100</td><td>Thea Hendricks</td><td>0.81</td></tr><tr><td>2015</td><td>TH-21550</td><td>Tracy Hopkins</td><td>391.55</td></tr><tr><td>2015</td><td>TM-21010</td><td>Tamara Manning</td><td>255.04</td></tr><tr><td>2015</td><td>TN-21040</td><td>Tanja Norvell</td><td>167.98</td></tr><tr><td>2015</td><td>TP-21130</td><td>Theone Pippenger</td><td>-1.85</td></tr><tr><td>2015</td><td>TP-21415</td><td>Tom Prescott</td><td>64.52</td></tr><tr><td>2015</td><td>TP-21565</td><td>Tracy Poddar</td><td>34.74</td></tr><tr><td>2015</td><td>TS-21085</td><td>Thais Sissman</td><td>-1.35</td></tr><tr><td>2015</td><td>TS-21160</td><td>Theresa Swint</td><td>311.54</td></tr><tr><td>2015</td><td>TS-21340</td><td>Toby Swindell</td><td>92.71</td></tr><tr><td>2015</td><td>TS-21370</td><td>Todd Sumrall</td><td>1135.10</td></tr><tr><td>2015</td><td>TS-21655</td><td>Trudy Schmidt</td><td>-34.09</td></tr><tr><td>2015</td><td>TT-21070</td><td>Ted Trevino</td><td>205.15</td></tr><tr><td>2015</td><td>TT-21220</td><td>Thomas Thornton</td><td>52.52</td></tr><tr><td>2015</td><td>TT-21265</td><td>Tim Taslimi</td><td>61.39</td></tr><tr><td>2015</td><td>TT-21460</td><td>Tonja Turnell</td><td>281.00</td></tr><tr><td>2015</td><td>TW-21025</td><td>Tamara Willingham</td><td>610.30</td></tr><tr><td>2015</td><td>TZ-21580</td><td>Tracy Zic</td><td>15.28</td></tr><tr><td>2015</td><td>VB-21745</td><td>Victoria Brennan</td><td>84.62</td></tr><tr><td>2015</td><td>VD-21670</td><td>Valerie Dominguez</td><td>990.86</td></tr><tr><td>2015</td><td>VM-21685</td><td>Valerie Mitchum</td><td>-3.71</td></tr><tr><td>2015</td><td>VP-21730</td><td>Victor Preis</td><td>8.93</td></tr><tr><td>2015</td><td>VP-21760</td><td>Victoria Pisteka</td><td>-204.15</td></tr><tr><td>2015</td><td>VS-21820</td><td>Vivek Sundaresam</td><td>-176.60</td></tr><tr><td>2015</td><td>VT-21700</td><td>Valerie Takahito</td><td>-257.93</td></tr><tr><td>2015</td><td>VW-21775</td><td>Victoria Wilson</td><td>-1186.41</td></tr><tr><td>2015</td><td>WB-21850</td><td>William Brown</td><td>-87.06</td></tr><tr><td>2015</td><td>XP-21865</td><td>Xylona Preis</td><td>24.85</td></tr><tr><td>2015</td><td>YC-21895</td><td>Yoseph Carroll</td><td>7.07</td></tr><tr><td>2015</td><td>YS-21880</td><td>Yana Sorensen</td><td>254.18</td></tr><tr><td>2015</td><td>ZC-21910</td><td>Zuschuss Carroll</td><td>307.48</td></tr><tr><td>2016</td><td>AA-10315</td><td>Alex Avila</td><td>-747.09</td></tr><tr><td>2016</td><td>AA-10375</td><td>Allen Armold</td><td>122.73</td></tr><tr><td>2016</td><td>AA-10480</td><td>Andrew Allen</td><td>420.75</td></tr><tr><td>2016</td><td>AA-10645</td><td>Anna Andreadi</td><td>334.63</td></tr><tr><td>2016</td><td>AB-10015</td><td>Aaron Bergman</td><td>116.86</td></tr><tr><td>2016</td><td>AB-10060</td><td>Adam Bellavance</td><td>1568.05</td></tr><tr><td>2016</td><td>AB-10105</td><td>Adrian Barton</td><td>4748.27</td></tr><tr><td>2016</td><td>AB-10150</td><td>Aimee Bixby</td><td>5.44</td></tr><tr><td>2016</td><td>AB-10255</td><td>Alejandro Ballentine</td><td>26.07</td></tr><tr><td>2016</td><td>AC-10420</td><td>Alyssa Crouse</td><td>21.59</td></tr><tr><td>2016</td><td>AC-10450</td><td>Amy Cox</td><td>381.04</td></tr><tr><td>2016</td><td>AC-10660</td><td>Anna Chung</td><td>8.61</td></tr><tr><td>2016</td><td>AF-10870</td><td>Art Ferguson</td><td>390.79</td></tr><tr><td>2016</td><td>AF-10885</td><td>Art Foster</td><td>-5.75</td></tr><tr><td>2016</td><td>AG-10270</td><td>Alejandro Grove</td><td>696.30</td></tr><tr><td>2016</td><td>AG-10300</td><td>Aleksandra Gannaway</td><td>20.48</td></tr><tr><td>2016</td><td>AG-10330</td><td>Alex Grayson</td><td>61.74</td></tr><tr><td>2016</td><td>AG-10390</td><td>Allen Goldenen</td><td>-7.00</td></tr><tr><td>2016</td><td>AG-10495</td><td>Andrew Gjertsen</td><td>6.03</td></tr><tr><td>2016</td><td>AG-10675</td><td>Anna Gayman</td><td>-281.56</td></tr><tr><td>2016</td><td>AG-10900</td><td>Arthur Gainer</td><td>252.36</td></tr><tr><td>2016</td><td>AH-10030</td><td>Aaron Hawkins</td><td>38.04</td></tr><tr><td>2016</td><td>AH-10075</td><td>Adam Hart</td><td>332.64</td></tr><tr><td>2016</td><td>AH-10120</td><td>Adrian Hane</td><td>-299.15</td></tr><tr><td>2016</td><td>AH-10195</td><td>Alan Haines</td><td>-349.36</td></tr><tr><td>2016</td><td>AH-10210</td><td>Alan Hwang</td><td>5.57</td></tr><tr><td>2016</td><td>AH-10465</td><td>Amy Hunt</td><td>-1.78</td></tr><tr><td>2016</td><td>AH-10585</td><td>Angele Hood</td><td>13.45</td></tr><tr><td>2016</td><td>AH-10690</td><td>Anna Hberlin</td><td>1144.05</td></tr><tr><td>2016</td><td>AI-10855</td><td>Arianne Irving</td><td>485.32</td></tr><tr><td>2016</td><td>AJ-10780</td><td>Anthony Jacobs</td><td>-5.70</td></tr><tr><td>2016</td><td>AJ-10795</td><td>Anthony Johnson</td><td>400.21</td></tr><tr><td>2016</td><td>AJ-10945</td><td>Ashley Jarboe</td><td>33.22</td></tr><tr><td>2016</td><td>AM-10360</td><td>Alice McCarthy</td><td>9.97</td></tr><tr><td>2016</td><td>AM-10705</td><td>Anne McFarland</td><td>90.26</td></tr><tr><td>2016</td><td>AO-10810</td><td>Anthony O'Donnell</td><td>12.10</td></tr><tr><td>2016</td><td>AP-10720</td><td>Anne Pryor</td><td>243.58</td></tr><tr><td>2016</td><td>AP-10915</td><td>Arthur Prichep</td><td>338.85</td></tr><tr><td>2016</td><td>AR-10510</td><td>Andrew Roberts</td><td>18.89</td></tr><tr><td>2016</td><td>AR-10540</td><td>Andy Reiter</td><td>9.53</td></tr><tr><td>2016</td><td>AR-10570</td><td>Anemone Ratner</td><td>32.64</td></tr><tr><td>2016</td><td>AR-10825</td><td>Anthony Rawles</td><td>370.30</td></tr><tr><td>2016</td><td>AS-10045</td><td>Aaron Smayling</td><td>92.14</td></tr><tr><td>2016</td><td>AS-10090</td><td>Adam Shillingsburg</td><td>22.55</td></tr><tr><td>2016</td><td>AS-10135</td><td>Adrian Shami</td><td>1.50</td></tr><tr><td>2016</td><td>AS-10225</td><td>Alan Schoenberger</td><td>-6.21</td></tr><tr><td>2016</td><td>AS-10240</td><td>Alan Shonely</td><td>23.18</td></tr><tr><td>2016</td><td>AS-10285</td><td>Alejandro Savely</td><td>331.37</td></tr><tr><td>2016</td><td>AS-10630</td><td>Ann Steele</td><td>6.37</td></tr><tr><td>2016</td><td>AT-10435</td><td>Alyssa Tate</td><td>6.43</td></tr><tr><td>2016</td><td>AT-10735</td><td>Annie Thurman</td><td>51.67</td></tr><tr><td>2016</td><td>AW-10930</td><td>Arthur Wiediger</td><td>-213.35</td></tr><tr><td>2016</td><td>AY-10555</td><td>Andy Yotov</td><td>6.70</td></tr><tr><td>2016</td><td>AZ-10750</td><td>Annie Zypern</td><td>32.57</td></tr><tr><td>2016</td><td>BB-10990</td><td>Barry Blumstein</td><td>12.87</td></tr><tr><td>2016</td><td>BB-11545</td><td>Brenda Bowman</td><td>431.81</td></tr><tr><td>2016</td><td>BC-11125</td><td>Becky Castell</td><td>62.26</td></tr><tr><td>2016</td><td>BD-11320</td><td>Bil Donatelli</td><td>97.23</td></tr><tr><td>2016</td><td>BD-11605</td><td>Brian Dahlen</td><td>124.50</td></tr><tr><td>2016</td><td>BD-11620</td><td>Brian DeCherney</td><td>20.18</td></tr><tr><td>2016</td><td>BD-11725</td><td>Bruce Degenhardt</td><td>18.00</td></tr><tr><td>2016</td><td>BD-11770</td><td>Bryan Davis</td><td>110.70</td></tr><tr><td>2016</td><td>BE-11335</td><td>Bil Eplett</td><td>47.24</td></tr><tr><td>2016</td><td>BE-11410</td><td>Bobby Elias</td><td>577.20</td></tr><tr><td>2016</td><td>BE-11455</td><td>Brad Eason</td><td>71.06</td></tr><tr><td>2016</td><td>BF-10975</td><td>Barbara Fisher</td><td>157.38</td></tr><tr><td>2016</td><td>BF-11005</td><td>Barry Franz</td><td>-365.72</td></tr><tr><td>2016</td><td>BF-11020</td><td>Barry Französisch</td><td>20.32</td></tr><tr><td>2016</td><td>BF-11170</td><td>Ben Ferrer</td><td>697.47</td></tr><tr><td>2016</td><td>BF-11215</td><td>Benjamin Farhat</td><td>173.24</td></tr><tr><td>2016</td><td>BG-11035</td><td>Barry Gonzalez</td><td>12.24</td></tr><tr><td>2016</td><td>BG-11695</td><td>Brooke Gillingham</td><td>57.92</td></tr><tr><td>2016</td><td>BG-11740</td><td>Bruce Geld</td><td>59.29</td></tr><tr><td>2016</td><td>BH-11710</td><td>Brosina Hoffman</td><td>428.93</td></tr><tr><td>2016</td><td>BK-11260</td><td>Berenike Kampe</td><td>2.23</td></tr><tr><td>2016</td><td>BM-11140</td><td>Becky Martin</td><td>118.92</td></tr><tr><td>2016</td><td>BM-11575</td><td>Brendan Murry</td><td>109.44</td></tr><tr><td>2016</td><td>BM-11650</td><td>Brian Moss</td><td>-2.03</td></tr><tr><td>2016</td><td>BM-11785</td><td>Bryan Mills</td><td>56.37</td></tr><tr><td>2016</td><td>BN-11515</td><td>Bradley Nguyen</td><td>112.78</td></tr><tr><td>2016</td><td>BO-11350</td><td>Bil Overfelt</td><td>358.03</td></tr><tr><td>2016</td><td>BP-11050</td><td>Barry Pond</td><td>182.98</td></tr><tr><td>2016</td><td>BP-11095</td><td>Bart Pistole</td><td>19.68</td></tr><tr><td>2016</td><td>BP-11155</td><td>''Becky Pak</td><td>188.78</td></tr><tr><td>2016</td><td>BP-11185</td><td>Ben Peterman</td><td>-33.89</td></tr><tr><td>2016</td><td>BP-11230</td><td>Benjamin Patterson</td><td>10.21</td></tr><tr><td>2016</td><td>BP-11290</td><td>Beth Paige</td><td>-65.75</td></tr><tr><td>2016</td><td>BS-11365</td><td>Bil Shonely</td><td>2405.71</td></tr><tr><td>2016</td><td>BS-11590</td><td>Brendan Sweed</td><td>12.36</td></tr><tr><td>2016</td><td>BS-11665</td><td>Brian Stugart</td><td>62.26</td></tr><tr><td>2016</td><td>BS-11755</td><td>Bruce Stewart</td><td>82.95</td></tr><tr><td>2016</td><td>BT-11395</td><td>Bil Tyler</td><td>3.35</td></tr><tr><td>2016</td><td>BT-11440</td><td>Bobby Trafton</td><td>-71.90</td></tr><tr><td>2016</td><td>BT-11485</td><td>Brad Thomas</td><td>9.48</td></tr><tr><td>2016</td><td>BT-11530</td><td>Bradley Talbott</td><td>-4.38</td></tr><tr><td>2016</td><td>BT-11680</td><td>Brian Thompson</td><td>176.51</td></tr><tr><td>2016</td><td>BV-11245</td><td>Benjamin Venier</td><td>127.01</td></tr><tr><td>2016</td><td>BW-11110</td><td>Bart Watters</td><td>97.06</td></tr><tr><td>2016</td><td>BW-11200</td><td>Ben Wallace</td><td>173.66</td></tr><tr><td>2016</td><td>CA-11965</td><td>Carol Adams</td><td>899.98</td></tr><tr><td>2016</td><td>CA-12055</td><td>Cthy Armstrong</td><td>259.37</td></tr><tr><td>2016</td><td>CA-12265</td><td>Christina Anderson</td><td>24.60</td></tr><tr><td>2016</td><td>CA-12310</td><td>Christine Abelman</td><td>2.10</td></tr><tr><td>2016</td><td>CA-12775</td><td>Cynthia Arntzen</td><td>1.67</td></tr><tr><td>2016</td><td>CB-12025</td><td>Cassandra Brandow</td><td>161.25</td></tr><tr><td>2016</td><td>CB-12415</td><td>Christy Brittain</td><td>201.66</td></tr><tr><td>2016</td><td>CB-12535</td><td>Claudia Bergmann</td><td>458.64</td></tr><tr><td>2016</td><td>CC-12100</td><td>Chad Cunningham</td><td>-11.70</td></tr><tr><td>2016</td><td>CC-12145</td><td>Charles Crestani</td><td>7.86</td></tr><tr><td>2016</td><td>CC-12220</td><td>Chris Cortes</td><td>-33.06</td></tr><tr><td>2016</td><td>CC-12370</td><td>Christopher Conant</td><td>2083.34</td></tr><tr><td>2016</td><td>CC-12430</td><td>Chuck Clark</td><td>255.32</td></tr><tr><td>2016</td><td>CC-12475</td><td>Cindy Chapman</td><td>111.12</td></tr><tr><td>2016</td><td>CC-12610</td><td>Corey Catlett</td><td>-202.27</td></tr><tr><td>2016</td><td>CC-12670</td><td>Craig Carreira</td><td>53.66</td></tr><tr><td>2016</td><td>CD-11920</td><td>Carlos Daly</td><td>46.94</td></tr><tr><td>2016</td><td>CD-11980</td><td>Carol Darley</td><td>7.75</td></tr><tr><td>2016</td><td>CD-12790</td><td>Cynthia Delaney</td><td>346.71</td></tr><tr><td>2016</td><td>CG-12040</td><td>Catherine Glotzbach</td><td>58.68</td></tr><tr><td>2016</td><td>CG-12520</td><td>Claire Gute</td><td>261.49</td></tr><tr><td>2016</td><td>CH-12070</td><td>Cathy Hwang</td><td>126.90</td></tr><tr><td>2016</td><td>CJ-11875</td><td>Carl Jackson</td><td>1.65</td></tr><tr><td>2016</td><td>CJ-12010</td><td>Caroline Jumper</td><td>1382.97</td></tr><tr><td>2016</td><td>CK-12205</td><td>Chloris Kastensmidt</td><td>-128.01</td></tr><tr><td>2016</td><td>CK-12325</td><td>Christine Kargatis</td><td>59.08</td></tr><tr><td>2016</td><td>CK-12595</td><td>Clytie Kelty</td><td>315.73</td></tr><tr><td>2016</td><td>CK-12760</td><td>Cyma Kinney</td><td>101.86</td></tr><tr><td>2016</td><td>CL-11890</td><td>Carl Ludwig</td><td>4.35</td></tr><tr><td>2016</td><td>CL-12565</td><td>Clay Ludtke</td><td>713.45</td></tr><tr><td>2016</td><td>CL-12700</td><td>Craig Leslie</td><td>64.09</td></tr><tr><td>2016</td><td>CM-11815</td><td>Candace McMahon</td><td>3.69</td></tr><tr><td>2016</td><td>CM-11935</td><td>Carlos Meador</td><td>-56.90</td></tr><tr><td>2016</td><td>CM-12160</td><td>Charles McCrossin</td><td>-315.75</td></tr><tr><td>2016</td><td>CM-12235</td><td>Chris McAfee</td><td>365.03</td></tr><tr><td>2016</td><td>CM-12445</td><td>Chuck Magee</td><td>53.19</td></tr><tr><td>2016</td><td>CM-12655</td><td>Corinna Mitchell</td><td>599.89</td></tr><tr><td>2016</td><td>CP-12085</td><td>Cathy Prescott</td><td>31.54</td></tr><tr><td>2016</td><td>CP-12340</td><td>Christine Phan</td><td>242.84</td></tr><tr><td>2016</td><td>CR-12580</td><td>Clay Rozendal</td><td>-34.40</td></tr><tr><td>2016</td><td>CR-12625</td><td>Corey Roper</td><td>30.45</td></tr><tr><td>2016</td><td>CR-12730</td><td>Craig Reiter</td><td>59.57</td></tr><tr><td>2016</td><td>CS-11950</td><td>Carlos Soltero</td><td>-131.20</td></tr><tr><td>2016</td><td>CS-12130</td><td>Chad Sievert</td><td>13.75</td></tr><tr><td>2016</td><td>CS-12175</td><td>Charles Sheldon</td><td>18.35</td></tr><tr><td>2016</td><td>CS-12250</td><td>Chris Selesnick</td><td>22.14</td></tr><tr><td>2016</td><td>CS-12355</td><td>Christine Sundaresam</td><td>10.32</td></tr><tr><td>2016</td><td>CS-12400</td><td>Christopher Schild</td><td>-114.17</td></tr><tr><td>2016</td><td>CS-12490</td><td>Cindy Schnelling</td><td>-244.73</td></tr><tr><td>2016</td><td>CS-12505</td><td>Cindy Stewart</td><td>-6696.29</td></tr><tr><td>2016</td><td>CT-11995</td><td>Carol Triggs</td><td>-303.26</td></tr><tr><td>2016</td><td>CV-12295</td><td>Christina VanderZanden</td><td>51.98</td></tr><tr><td>2016</td><td>CV-12805</td><td>Cynthia Voltz</td><td>-35.39</td></tr><tr><td>2016</td><td>CW-11905</td><td>Carl Weiss</td><td>22.76</td></tr><tr><td>2016</td><td>CY-12745</td><td>Craig Yedwab</td><td>49.73</td></tr><tr><td>2016</td><td>Co-12640</td><td>CoreyLock</td><td>19.19</td></tr><tr><td>2016</td><td>DB-12910</td><td>Daniel Byrd</td><td>146.83</td></tr><tr><td>2016</td><td>DB-12970</td><td>Darren Budd</td><td>84.30</td></tr><tr><td>2016</td><td>DB-13060</td><td>Dave Brooks</td><td>294.18</td></tr><tr><td>2016</td><td>DB-13210</td><td>Dean Braden</td><td>-66.47</td></tr><tr><td>2016</td><td>DB-13270</td><td>Deborah Brumfield</td><td>810.57</td></tr><tr><td>2016</td><td>DB-13360</td><td>Dennis Bolton</td><td>81.97</td></tr><tr><td>2016</td><td>DB-13615</td><td>Doug Bickford</td><td>22.73</td></tr><tr><td>2016</td><td>DB-13660</td><td>Duane Benoit</td><td>-35.22</td></tr><tr><td>2016</td><td>DC-12850</td><td>Dan Campbell</td><td>-239.55</td></tr><tr><td>2016</td><td>DC-13285</td><td>Debra Catini</td><td>10.46</td></tr><tr><td>2016</td><td>DD-13570</td><td>Dorothy Dickinson</td><td>-6.90</td></tr><tr><td>2016</td><td>DE-13255</td><td>NA</td><td>16.15</td></tr><tr><td>2016</td><td>DF-13135</td><td>David Flashing</td><td>-397.13</td></tr><tr><td>2016</td><td>DG-13300</td><td>Deirdre Greer</td><td>9.33</td></tr><tr><td>2016</td><td>DH-13075</td><td>Dave Hallsten</td><td>-19.60</td></tr><tr><td>2016</td><td>DJ-13420</td><td>Denny Joy</td><td>378.27</td></tr><tr><td>2016</td><td>DJ-13510</td><td>Don Jones</td><td>100.20</td></tr><tr><td>2016</td><td>DJ-13630</td><td>Doug Jacobs</td><td>25.78</td></tr><tr><td>2016</td><td>DK-12835</td><td>Damala Kotsonis</td><td>185.34</td></tr><tr><td>2016</td><td>DK-13090</td><td>Dave Kipp</td><td>-38.31</td></tr><tr><td>2016</td><td>DK-13225</td><td>Dean Katz</td><td>227.45</td></tr><tr><td>2016</td><td>DK-13375</td><td>Dennis Kane</td><td>360.97</td></tr><tr><td>2016</td><td>DL-12865</td><td>Dan Lawera</td><td>311.98</td></tr><tr><td>2016</td><td>DL-13315</td><td>Delfina Latchford</td><td>206.58</td></tr><tr><td>2016</td><td>DL-13330</td><td>Denise Leinenbach</td><td>5.22</td></tr><tr><td>2016</td><td>DL-13495</td><td>Dionis Lloyd</td><td>97.84</td></tr><tr><td>2016</td><td>DM-12955</td><td>Dario Medina</td><td>0.26</td></tr><tr><td>2016</td><td>DM-13015</td><td>Darrin Martin</td><td>-35.45</td></tr><tr><td>2016</td><td>DM-13345</td><td>Denise Monton</td><td>-61.90</td></tr><tr><td>2016</td><td>DM-13525</td><td>Don Miller</td><td>18.17</td></tr><tr><td>2016</td><td>DN-13690</td><td>Duane Noonan</td><td>222.39</td></tr><tr><td>2016</td><td>DO-13435</td><td>Denny Ordway</td><td>8.50</td></tr><tr><td>2016</td><td>DP-13000</td><td>Darren Powers</td><td>4.88</td></tr><tr><td>2016</td><td>DP-13105</td><td>Dave Poirier</td><td>486.12</td></tr><tr><td>2016</td><td>DP-13390</td><td>Dennis Pardue</td><td>1694.64</td></tr><tr><td>2016</td><td>DR-12880</td><td>Dan Reichenbach</td><td>126.06</td></tr><tr><td>2016</td><td>DR-12940</td><td>Daniel Raglin</td><td>2337.76</td></tr><tr><td>2016</td><td>DS-13180</td><td>David Smith</td><td>-46.95</td></tr><tr><td>2016</td><td>DV-13045</td><td>DarrinVan Huff</td><td>17.48</td></tr><tr><td>2016</td><td>DV-13465</td><td>Dianna Vittorini</td><td>89.95</td></tr><tr><td>2016</td><td>DW-13195</td><td>David Wiener</td><td>-34.16</td></tr><tr><td>2016</td><td>DW-13480</td><td>Dianna Wilson</td><td>31.09</td></tr><tr><td>2016</td><td>DW-13540</td><td>Don Weiss</td><td>16.01</td></tr><tr><td>2016</td><td>DW-13585</td><td>Dorothy Wardle</td><td>92.61</td></tr><tr><td>2016</td><td>Dl-13600</td><td>Dorris liebe</td><td>146.39</td></tr><tr><td>2016</td><td>Dp-13240</td><td>Dean perceR</td><td>117.74</td></tr><tr><td>2016</td><td>EA-14035</td><td>Erin Ashbrook</td><td>-342.69</td></tr><tr><td>2016</td><td>EB-13705</td><td>Ed Braxton</td><td>82.42</td></tr><tr><td>2016</td><td>EB-13750</td><td>Edward Becker</td><td>139.81</td></tr><tr><td>2016</td><td>EB-13840</td><td>Ellis Ballard</td><td>0.00</td></tr><tr><td>2016</td><td>EB-13870</td><td>Emily Burns</td><td>84.07</td></tr><tr><td>2016</td><td>EB-13930</td><td>Eric Barreto</td><td>74.27</td></tr><tr><td>2016</td><td>EB-13975</td><td>Erica Bern</td><td>151.89</td></tr><tr><td>2016</td><td>EB-14110</td><td>Eugene Barchas</td><td>187.62</td></tr><tr><td>2016</td><td>EB-14170</td><td>Evan Bailliet</td><td>4.44</td></tr><tr><td>2016</td><td>EC-14050</td><td>Erin Creighton</td><td>43.09</td></tr><tr><td>2016</td><td>ED-13885</td><td>NA</td><td>185.14</td></tr><tr><td>2016</td><td>EG-13900</td><td>Emily Grady</td><td>46.31</td></tr><tr><td>2016</td><td>EH-13765</td><td>Edward Hooks</td><td>758.80</td></tr><tr><td>2016</td><td>EH-13945</td><td>Eric Hoffmann</td><td>-13.38</td></tr><tr><td>2016</td><td>EH-13990</td><td>Erica Hackney</td><td>67.90</td></tr><tr><td>2016</td><td>EH-14005</td><td>Erica Hernandez</td><td>9.95</td></tr><tr><td>2016</td><td>EH-14125</td><td>Eugene Hildebrand</td><td>-71.64</td></tr><tr><td>2016</td><td>EH-14185</td><td>Evan Henry</td><td>209.28</td></tr><tr><td>2016</td><td>EJ-14155</td><td>Eva Jacobs</td><td>335.35</td></tr><tr><td>2016</td><td>EL-13735</td><td>Ed Ludwig</td><td>8.66</td></tr><tr><td>2016</td><td>EM-13810</td><td>NA</td><td>57.59</td></tr><tr><td>2016</td><td>EM-13825</td><td>Elizabeth Moffitt</td><td>-8.32</td></tr><tr><td>2016</td><td>EM-14065</td><td>ErinMull</td><td>-4.79</td></tr><tr><td>2016</td><td>EM-14095</td><td>Eudokia Martin</td><td>30.63</td></tr><tr><td>2016</td><td>EM-14140</td><td>Eugene Moren</td><td>968.57</td></tr><tr><td>2016</td><td>EN-13780</td><td>Edward Nazzal</td><td>438.40</td></tr><tr><td>2016</td><td>EP-13915</td><td>Emily Phan</td><td>-393.67</td></tr><tr><td>2016</td><td>ER-13855</td><td>Elpida Rittenbach</td><td>-299.90</td></tr><tr><td>2016</td><td>ES-14020</td><td>Erica Smith</td><td>71.99</td></tr><tr><td>2016</td><td>ES-14080</td><td>Erin Smith</td><td>-99.22</td></tr><tr><td>2016</td><td>FA-14230</td><td>Frank Atkinson</td><td>39.81</td></tr><tr><td>2016</td><td>FC-14245</td><td>Frank Carlisle</td><td>972.25</td></tr><tr><td>2016</td><td>FC-14335</td><td>Fred Chung</td><td>86.15</td></tr><tr><td>2016</td><td>FH-14275</td><td>Frank Hawley</td><td>166.29</td></tr><tr><td>2016</td><td>FH-14365</td><td>Fred Hopkins</td><td>6.91</td></tr><tr><td>2016</td><td>FM-14215</td><td>Filia McAdams</td><td>45.93</td></tr><tr><td>2016</td><td>FM-14290</td><td>Frank Merwin</td><td>-356.98</td></tr><tr><td>2016</td><td>FM-14380</td><td>Fred McMath</td><td>134.91</td></tr><tr><td>2016</td><td>FO-14305</td><td>Frank Olsen</td><td>22.56</td></tr><tr><td>2016</td><td>FP-14320</td><td>Frank Preis</td><td>359.70</td></tr><tr><td>2016</td><td>FW-14395</td><td>Fred Waerman</td><td>12.21</td></tr><tr><td>2016</td><td>GA-14515</td><td>George Ashbrook</td><td>53.56</td></tr><tr><td>2016</td><td>GB-14530</td><td>George Bell</td><td>-77.54</td></tr><tr><td>2016</td><td>GB-14575</td><td>Giulietta Baptist</td><td>73.22</td></tr><tr><td>2016</td><td>GD-14590</td><td>Giulietta Dortch</td><td>-155.30</td></tr><tr><td>2016</td><td>GG-14650</td><td>Greg Guthrie</td><td>15.93</td></tr><tr><td>2016</td><td>GH-14410</td><td>GaryHansen</td><td>-173.08</td></tr><tr><td>2016</td><td>GH-14485</td><td>Gene Hale</td><td>-24.49</td></tr><tr><td>2016</td><td>GK-14620</td><td>Grace Kelly</td><td>1315.57</td></tr><tr><td>2016</td><td>GM-14440</td><td>Gary McGarr</td><td>108.18</td></tr><tr><td>2016</td><td>GM-14455</td><td>Gary Mitchum</td><td>102.52</td></tr><tr><td>2016</td><td>GM-14500</td><td>Gene McClure</td><td>17.57</td></tr><tr><td>2016</td><td>GM-14680</td><td>Greg Matthias</td><td>-121.94</td></tr><tr><td>2016</td><td>GM-14695</td><td>Greg Maxwell</td><td>175.36</td></tr><tr><td>2016</td><td>GT-14710</td><td>Greg Tran</td><td>366.71</td></tr><tr><td>2016</td><td>GT-14755</td><td>Guy Thornton</td><td>6.30</td></tr><tr><td>2016</td><td>GW-14605</td><td>Giulietta Weimer</td><td>44.58</td></tr><tr><td>2016</td><td>GZ-14470</td><td>Gary Zandusky</td><td>652.31</td></tr><tr><td>2016</td><td>HA-14905</td><td>Helen Abelman</td><td>129.77</td></tr><tr><td>2016</td><td>HA-14920</td><td>Helen Andreada</td><td>-55.04</td></tr><tr><td>2016</td><td>HE-14800</td><td>Harold Engle</td><td>112.71</td></tr><tr><td>2016</td><td>HF-14995</td><td>Herbert Flentye</td><td>-167.31</td></tr><tr><td>2016</td><td>HG-14965</td><td>Henry Goldwyn</td><td>136.13</td></tr><tr><td>2016</td><td>HG-15025</td><td>Hunter Glantz</td><td>50.24</td></tr><tr><td>2016</td><td>HJ-14875</td><td>Heather Jas</td><td>55.99</td></tr><tr><td>2016</td><td>HK-14890</td><td>Heather Kirkland</td><td>17.02</td></tr><tr><td>2016</td><td>HL-15040</td><td>Hunter Lopez</td><td>128.54</td></tr><tr><td>2016</td><td>HM-14860</td><td>Harry Marie</td><td>82.75</td></tr><tr><td>2016</td><td>HM-14980</td><td>Henry MacAllister</td><td>1.73</td></tr><tr><td>2016</td><td>HW-14935</td><td>Helen Waerman</td><td>200.27</td></tr><tr><td>2016</td><td>HZ-14950</td><td>Henia Zydlo</td><td>6.29</td></tr><tr><td>2016</td><td>IG-15085</td><td>Ivan Gibson</td><td>54.86</td></tr><tr><td>2016</td><td>IL-15100</td><td>Ivan Liston</td><td>19.56</td></tr><tr><td>2016</td><td>IM-15055</td><td>Ionia McGrath</td><td>956.54</td></tr><tr><td>2016</td><td>IM-15070</td><td>Irene Maddox</td><td>329.30</td></tr><tr><td>2016</td><td>JA-15970</td><td>Joseph Airdo</td><td>114.19</td></tr><tr><td>2016</td><td>JB-15400</td><td>Jennifer Braxton</td><td>-98.62</td></tr><tr><td>2016</td><td>JB-16000</td><td>Joy Bell</td><td>15.97</td></tr><tr><td>2016</td><td>JB-16045</td><td>Julia Barnett</td><td>84.97</td></tr><tr><td>2016</td><td>JC-15340</td><td>Jasper Cacioppo</td><td>-4.08</td></tr><tr><td>2016</td><td>JC-15775</td><td>John Castell</td><td>70.55</td></tr><tr><td>2016</td><td>JD-15790</td><td>John Dryer</td><td>36.47</td></tr><tr><td>2016</td><td>JD-15895</td><td>Jonathan Doherty</td><td>1179.82</td></tr><tr><td>2016</td><td>JD-16150</td><td>Justin Deggeller</td><td>272.20</td></tr><tr><td>2016</td><td>JE-15475</td><td>Jeremy Ellison</td><td>185.63</td></tr><tr><td>2016</td><td>JE-15610</td><td>Jim Epp</td><td>22.24</td></tr><tr><td>2016</td><td>JE-15715</td><td>Joe Elijah</td><td>1210.66</td></tr><tr><td>2016</td><td>JE-15745</td><td>Joel Eaton</td><td>126.62</td></tr><tr><td>2016</td><td>JE-16165</td><td>Justin Ellison</td><td>776.35</td></tr><tr><td>2016</td><td>JF-15190</td><td>Jamie Frazer</td><td>173.31</td></tr><tr><td>2016</td><td>JF-15295</td><td>Jason Fortune</td><td>-9.88</td></tr><tr><td>2016</td><td>JF-15355</td><td>Jay Fein</td><td>40.75</td></tr><tr><td>2016</td><td>JF-15490</td><td>Jeremy Farry</td><td>13.11</td></tr><tr><td>2016</td><td>JF-15565</td><td>Jill Fjeld</td><td>849.66</td></tr><tr><td>2016</td><td>JG-15160</td><td>James Galang</td><td>230.36</td></tr><tr><td>2016</td><td>JG-15310</td><td>Jason Gross</td><td>-22.93</td></tr><tr><td>2016</td><td>JG-15805</td><td>John Grady</td><td>91.13</td></tr><tr><td>2016</td><td>JH-15910</td><td>Jonathan Howell</td><td>63.17</td></tr><tr><td>2016</td><td>JH-15985</td><td>Joseph Holt</td><td>72.03</td></tr><tr><td>2016</td><td>JH-16180</td><td>Justin Hirsh</td><td>-203.37</td></tr><tr><td>2016</td><td>JJ-15445</td><td>Jennifer Jackson</td><td>18.71</td></tr><tr><td>2016</td><td>JK-15205</td><td>Jamie Kunitz</td><td>1.03</td></tr><tr><td>2016</td><td>JK-15325</td><td>Jason Klamczynski</td><td>11.68</td></tr><tr><td>2016</td><td>JK-15370</td><td>Jay Kimmel</td><td>83.50</td></tr><tr><td>2016</td><td>JK-15730</td><td>Joe Kamberova</td><td>194.58</td></tr><tr><td>2016</td><td>JK-16120</td><td>Julie Kriz</td><td>108.52</td></tr><tr><td>2016</td><td>JL-15130</td><td>Jack Lebron</td><td>1.39</td></tr><tr><td>2016</td><td>JL-15175</td><td>James Lanier</td><td>-2.00</td></tr><tr><td>2016</td><td>JL-15235</td><td>Janet Lee</td><td>103.36</td></tr><tr><td>2016</td><td>JL-15505</td><td>Jeremy Lonsdale</td><td>21.75</td></tr><tr><td>2016</td><td>JL-15835</td><td>John Lee</td><td>2.80</td></tr><tr><td>2016</td><td>JL-15850</td><td>John Lucas</td><td>-37.95</td></tr><tr><td>2016</td><td>JM-15250</td><td>Janet Martin</td><td>155.23</td></tr><tr><td>2016</td><td>JM-15265</td><td>Janet Molinari</td><td>306.55</td></tr><tr><td>2016</td><td>JM-15535</td><td>Jessica Myrick</td><td>232.13</td></tr><tr><td>2016</td><td>JM-15580</td><td>Jill Matthias</td><td>113.72</td></tr><tr><td>2016</td><td>JM-15655</td><td>Jim Mitchum</td><td>65.90</td></tr><tr><td>2016</td><td>JM-15865</td><td>John Murray</td><td>-49.62</td></tr><tr><td>2016</td><td>JM-16195</td><td>Justin MacKendrick</td><td>23.86</td></tr><tr><td>2016</td><td>JO-15145</td><td>Jack O'Briant</td><td>440.01</td></tr><tr><td>2016</td><td>JO-15280</td><td>Jas O'Carroll</td><td>51.21</td></tr><tr><td>2016</td><td>JP-15460</td><td>Jennifer Patt</td><td>307.33</td></tr><tr><td>2016</td><td>JP-15520</td><td>Jeremy Pistek</td><td>130.51</td></tr><tr><td>2016</td><td>JP-16135</td><td>Julie Prescott</td><td>275.44</td></tr><tr><td>2016</td><td>JR-15670</td><td>Jim Radford</td><td>0.00</td></tr><tr><td>2016</td><td>JR-16210</td><td>Justin Ritter</td><td>44.21</td></tr><tr><td>2016</td><td>JS-15595</td><td>JiStevenson</td><td>78.40</td></tr><tr><td>2016</td><td>JS-15685</td><td>Jim Sink</td><td>-99.99</td></tr><tr><td>2016</td><td>JS-15880</td><td>John Stevenson</td><td>266.74</td></tr><tr><td>2016</td><td>JS-15940</td><td>Joni Sundaresam</td><td>-18.74</td></tr><tr><td>2016</td><td>JS-16030</td><td>Joy Smith</td><td>451.91</td></tr><tr><td>2016</td><td>JW-15220</td><td>Jane Waco</td><td>131.25</td></tr><tr><td>2016</td><td>JW-15955</td><td>Joni Waerman</td><td>1.20</td></tr><tr><td>2016</td><td>JW-16075</td><td>Julia West</td><td>20.38</td></tr><tr><td>2016</td><td>KA-16525</td><td>Kelly Andreada</td><td>67.44</td></tr><tr><td>2016</td><td>KB-16240</td><td>Karen Bern</td><td>-18.18</td></tr><tr><td>2016</td><td>KB-16315</td><td>Karl Braun</td><td>27.52</td></tr><tr><td>2016</td><td>KB-16585</td><td>Ken Black</td><td>96.32</td></tr><tr><td>2016</td><td>KB-16600</td><td>Ken Brennan</td><td>14.62</td></tr><tr><td>2016</td><td>KC-16255</td><td>Karen Carlisle</td><td>523.09</td></tr><tr><td>2016</td><td>KC-16540</td><td>Kelly Collister</td><td>635.68</td></tr><tr><td>2016</td><td>KC-16675</td><td>Kimberly Carter</td><td>-4.96</td></tr><tr><td>2016</td><td>KD-16270</td><td>Karen Danels</td><td>2318.70</td></tr><tr><td>2016</td><td>KD-16495</td><td>Keith Dawkins</td><td>58.71</td></tr><tr><td>2016</td><td>KD-16615</td><td>NA</td><td>68.22</td></tr><tr><td>2016</td><td>KE-16420</td><td>Katrina Edelman</td><td>19.00</td></tr><tr><td>2016</td><td>KF-16285</td><td>Karen Ferguson</td><td>371.05</td></tr><tr><td>2016</td><td>KH-16330</td><td>Katharine Harms</td><td>43.90</td></tr><tr><td>2016</td><td>KH-16360</td><td>Katherine Hughes</td><td>57.83</td></tr><tr><td>2016</td><td>KH-16630</td><td>Ken Heidel</td><td>30.61</td></tr><tr><td>2016</td><td>KH-16690</td><td>Kristen Hastings</td><td>7.18</td></tr><tr><td>2016</td><td>KL-16555</td><td>Kelly Lampkin</td><td>50.12</td></tr><tr><td>2016</td><td>KL-16645</td><td>Ken Lonsdale</td><td>-3.35</td></tr><tr><td>2016</td><td>KM-16225</td><td>Kalyca Meade</td><td>56.34</td></tr><tr><td>2016</td><td>KM-16375</td><td>Katherine Murray</td><td>128.90</td></tr><tr><td>2016</td><td>KM-16660</td><td>Khloe Miller</td><td>11.83</td></tr><tr><td>2016</td><td>KM-16720</td><td>Kunst Miller</td><td>54.92</td></tr><tr><td>2016</td><td>KN-16705</td><td>Kristi'na Nunn</td><td>25.00</td></tr><tr><td>2016</td><td>KT-16465</td><td>Kean Takahito</td><td>156.14</td></tr><tr><td>2016</td><td>KT-16480</td><td>Kean Thornton</td><td>19.61</td></tr><tr><td>2016</td><td>KW-16435</td><td>Katrina Willman</td><td>32.16</td></tr><tr><td>2016</td><td>LA-16780</td><td>Laura Armstrong</td><td>1526.65</td></tr><tr><td>2016</td><td>LB-16735</td><td>Larry Blacks</td><td>10.74</td></tr><tr><td>2016</td><td>LB-16795</td><td>Laurel Beltran</td><td>-658.62</td></tr><tr><td>2016</td><td>LC-16870</td><td>NA</td><td>-291.75</td></tr><tr><td>2016</td><td>LC-16885</td><td>Lena Creighton</td><td>147.88</td></tr><tr><td>2016</td><td>LC-16930</td><td>Linda Cazamias</td><td>246.91</td></tr><tr><td>2016</td><td>LC-16960</td><td>Lindsay Castell</td><td>21.27</td></tr><tr><td>2016</td><td>LC-17050</td><td>Liz Carlisle</td><td>225.26</td></tr><tr><td>2016</td><td>LC-17140</td><td>Logan Currie</td><td>235.33</td></tr><tr><td>2016</td><td>LD-16855</td><td>Lela Donovan</td><td>0.46</td></tr><tr><td>2016</td><td>LD-17005</td><td>Lisa DeCherney</td><td>111.26</td></tr><tr><td>2016</td><td>LE-16810</td><td>Laurel Elliston</td><td>179.75</td></tr><tr><td>2016</td><td>LF-17185</td><td>Luke Foster</td><td>0.72</td></tr><tr><td>2016</td><td>LH-16900</td><td>Lena Hernandez</td><td>56.70</td></tr><tr><td>2016</td><td>LH-17020</td><td>Lisa Hazard</td><td>16.46</td></tr><tr><td>2016</td><td>LH-17155</td><td>Logan Haushalter</td><td>212.10</td></tr><tr><td>2016</td><td>LM-17065</td><td>Liz MacKendrick</td><td>21.54</td></tr><tr><td>2016</td><td>LP-17080</td><td>Liz Pelletier</td><td>21.94</td></tr><tr><td>2016</td><td>LP-17095</td><td>Liz Preis</td><td>79.36</td></tr><tr><td>2016</td><td>LR-16915</td><td>Lena Radford</td><td>172.49</td></tr><tr><td>2016</td><td>LR-17035</td><td>Lisa Ryan</td><td>-387.68</td></tr><tr><td>2016</td><td>LS-16945</td><td>Linda Southworth</td><td>21.74</td></tr><tr><td>2016</td><td>LS-16975</td><td>Lindsay Shagiari</td><td>2.94</td></tr><tr><td>2016</td><td>LS-17200</td><td>Luke Schmidt</td><td>18.28</td></tr><tr><td>2016</td><td>LS-17245</td><td>Lynn Smith</td><td>60.37</td></tr><tr><td>2016</td><td>LT-17110</td><td>Liz Thompson</td><td>28.38</td></tr><tr><td>2016</td><td>LW-16825</td><td>Laurel Workman</td><td>-393.34</td></tr><tr><td>2016</td><td>LW-16990</td><td>Lindsay Williams</td><td>322.32</td></tr><tr><td>2016</td><td>LW-17125</td><td>Liz Willingham</td><td>165.80</td></tr><tr><td>2016</td><td>LW-17215</td><td>Luke Weiss</td><td>350.01</td></tr><tr><td>2016</td><td>MA-17560</td><td>Matt Abelman</td><td>28.38</td></tr><tr><td>2016</td><td>MA-17995</td><td>Michelle Arnett</td><td>191.39</td></tr><tr><td>2016</td><td>MB-17305</td><td>Maria Bertelson</td><td>83.51</td></tr><tr><td>2016</td><td>MB-18085</td><td>Mick Brown</td><td>45.32</td></tr><tr><td>2016</td><td>MC-17275</td><td>Marc Crier</td><td>20.91</td></tr><tr><td>2016</td><td>MC-17425</td><td>Mark Cousins</td><td>1610.20</td></tr><tr><td>2016</td><td>MC-17575</td><td>Matt Collins</td><td>15.59</td></tr><tr><td>2016</td><td>MC-17590</td><td>Matt Collister</td><td>379.01</td></tr><tr><td>2016</td><td>MC-17605</td><td>Matt Connell</td><td>11.31</td></tr><tr><td>2016</td><td>MC-17635</td><td>Matthew Clasen</td><td>27.42</td></tr><tr><td>2016</td><td>MC-17845</td><td>Michael Chen</td><td>60.54</td></tr><tr><td>2016</td><td>MC-18100</td><td>Mick Crebagga</td><td>0.93</td></tr><tr><td>2016</td><td>MC-18130</td><td>Mike Caudle</td><td>86.95</td></tr><tr><td>2016</td><td>MD-17350</td><td>Maribeth Dona</td><td>-14.22</td></tr><tr><td>2016</td><td>ME-17320</td><td>Maria Etezadi</td><td>451.46</td></tr><tr><td>2016</td><td>ME-17725</td><td>Max Engle</td><td>-1.62</td></tr><tr><td>2016</td><td>MF-17665</td><td>Maureen Fritzler</td><td>118.46</td></tr><tr><td>2016</td><td>MG-17650</td><td>Matthew Grinstein</td><td>204.84</td></tr><tr><td>2016</td><td>MG-17695</td><td>Maureen Gnade</td><td>16.70</td></tr><tr><td>2016</td><td>MG-17875</td><td>Michael Grace</td><td>62.24</td></tr><tr><td>2016</td><td>MG-17890</td><td>Michael Granlund</td><td>25.93</td></tr><tr><td>2016</td><td>MH-17290</td><td>Marc Harrigan</td><td>57.20</td></tr><tr><td>2016</td><td>MH-17440</td><td>Mark Haberlin</td><td>12.58</td></tr><tr><td>2016</td><td>MH-17455</td><td>Mark Hamilton</td><td>375.67</td></tr><tr><td>2016</td><td>MH-17620</td><td>Matt Hagelstein</td><td>-0.37</td></tr><tr><td>2016</td><td>MH-17785</td><td>Maya Herman</td><td>7.00</td></tr><tr><td>2016</td><td>MH-18115</td><td>Mick Hernandez</td><td>-216.22</td></tr><tr><td>2016</td><td>MJ-17740</td><td>Max Jones</td><td>728.75</td></tr><tr><td>2016</td><td>MK-17905</td><td>Michael Kennedy</td><td>-456.26</td></tr><tr><td>2016</td><td>MK-18160</td><td>Mike Kennedy</td><td>41.08</td></tr><tr><td>2016</td><td>ML-17395</td><td>Marina Lichtenstein</td><td>192.19</td></tr><tr><td>2016</td><td>ML-17410</td><td>Maris LaWare</td><td>15.00</td></tr><tr><td>2016</td><td>ML-17755</td><td>Max Ludwig</td><td>63.83</td></tr><tr><td>2016</td><td>MM-17260</td><td>Magdelene Morse</td><td>166.51</td></tr><tr><td>2016</td><td>MM-17920</td><td>Michael Moore</td><td>447.84</td></tr><tr><td>2016</td><td>MM-18280</td><td>Muhammed MacIntyre</td><td>8.84</td></tr><tr><td>2016</td><td>MN-17935</td><td>Michael Nguyen</td><td>5.52</td></tr><tr><td>2016</td><td>MO-17500</td><td>Mary O'Rourke</td><td>120.86</td></tr><tr><td>2016</td><td>MO-17800</td><td>Meg O'Connel</td><td>5.50</td></tr><tr><td>2016</td><td>MP-17470</td><td>Mark Packer</td><td>8.94</td></tr><tr><td>2016</td><td>MP-17965</td><td>Michael Paige</td><td>265.54</td></tr><tr><td>2016</td><td>MP-18175</td><td>Mike Pelletier</td><td>-295.64</td></tr><tr><td>2016</td><td>MS-17365</td><td>Maribethchnelling</td><td>514.79</td></tr><tr><td>2016</td><td>MS-17530</td><td>MaryBeth Skach</td><td>36.04</td></tr><tr><td>2016</td><td>MS-17710</td><td>Maurice Satty</td><td>-93.10</td></tr><tr><td>2016</td><td>MS-17770</td><td>Maxwell Schwartz</td><td>164.04</td></tr><tr><td>2016</td><td>MS-17830</td><td>Melanie Seite</td><td>-23.94</td></tr><tr><td>2016</td><td>MT-17815</td><td>Meg Tillman</td><td>432.25</td></tr><tr><td>2016</td><td>MT-18070</td><td>Michelle Tran</td><td>70.49</td></tr><tr><td>2016</td><td>MV-17485</td><td>MarkVan Huff</td><td>106.42</td></tr><tr><td>2016</td><td>MV-18190</td><td>Mike Vittorini</td><td>225.26</td></tr><tr><td>2016</td><td>MW-18220</td><td>Mitch Webber</td><td>0.50</td></tr><tr><td>2016</td><td>MY-17380</td><td>Maribeth Yedwab</td><td>33.05</td></tr><tr><td>2016</td><td>MY-18295</td><td>Muhammed YeDwab</td><td>-290.17</td></tr><tr><td>2016</td><td>MZ-17335</td><td>Maria Zettner</td><td>0.16</td></tr><tr><td>2016</td><td>MZ-17515</td><td>Mary Zewe</td><td>-25.24</td></tr><tr><td>2016</td><td>NB-18655</td><td>Nona Balk</td><td>-157.96</td></tr><tr><td>2016</td><td>NC-18340</td><td>Nat Carroll</td><td>26.29</td></tr><tr><td>2016</td><td>NC-18415</td><td>Nathan Cano</td><td>79.19</td></tr><tr><td>2016</td><td>NC-18535</td><td>Nick Crebassa</td><td>16.79</td></tr><tr><td>2016</td><td>NC-18625</td><td>Noah Childs</td><td>-461.20</td></tr><tr><td>2016</td><td>ND-18370</td><td>Natalie DeCherney</td><td>58.86</td></tr><tr><td>2016</td><td>NF-18385</td><td>Natalie Fritzler</td><td>-66.17</td></tr><tr><td>2016</td><td>NF-18475</td><td>Neil Französisch</td><td>-18.84</td></tr><tr><td>2016</td><td>NH-18610</td><td>Nicole Hansen</td><td>5.18</td></tr><tr><td>2016</td><td>NK-18490</td><td>Neil Knudson</td><td>39.41</td></tr><tr><td>2016</td><td>NL-18310</td><td>Nancy Lomonaco</td><td>18.66</td></tr><tr><td>2016</td><td>NM-18520</td><td>Neoma Murray</td><td>812.79</td></tr><tr><td>2016</td><td>NP-18670</td><td>Nra Paige</td><td>246.10</td></tr><tr><td>2016</td><td>NP-18685</td><td>Nora Pelletier</td><td>31.42</td></tr><tr><td>2016</td><td>NP-18700</td><td>Nora Preis</td><td>272.92</td></tr><tr><td>2016</td><td>NR-18550</td><td>Nick Radford</td><td>50.59</td></tr><tr><td>2016</td><td>NS-18505</td><td>Neola Schneider</td><td>19.54</td></tr><tr><td>2016</td><td>NS-18640</td><td>Noel Staavos</td><td>-298.25</td></tr><tr><td>2016</td><td>NW-18400</td><td>Natalie Webber</td><td>-255.45</td></tr><tr><td>2016</td><td>NZ-18565</td><td>Nick Zandusky</td><td>-30.61</td></tr><tr><td>2016</td><td>ON-18715</td><td>Odella Nelson</td><td>-157.53</td></tr><tr><td>2016</td><td>OT-18730</td><td>Olvera Toch</td><td>-1182.11</td></tr><tr><td>2016</td><td>PA-19060</td><td>Pete Armstrong</td><td>22.56</td></tr><tr><td>2016</td><td>PB-18805</td><td>Patrick Bzostek</td><td>95.85</td></tr><tr><td>2016</td><td>PB-19105</td><td>Peter Bhler</td><td>0.90</td></tr><tr><td>2016</td><td>PB-19150</td><td>Philip Brown</td><td>38.38</td></tr><tr><td>2016</td><td>PB-19210</td><td>Phillip Breyer</td><td>0.70</td></tr><tr><td>2016</td><td>PC-18745</td><td>Pamela Coakley</td><td>76.98</td></tr><tr><td>2016</td><td>PF-19165</td><td>Philip Fox</td><td>478.68</td></tr><tr><td>2016</td><td>PF-19225</td><td>Phillip Flathmann</td><td>513.27</td></tr><tr><td>2016</td><td>PG-18820</td><td>Patrick Gardner</td><td>551.29</td></tr><tr><td>2016</td><td>PG-18895</td><td>Paul Gonzalez</td><td>10.71</td></tr><tr><td>2016</td><td>PJ-18835</td><td>Patrick Jones</td><td>8.20</td></tr><tr><td>2016</td><td>PJ-19015</td><td>Pauline Johnson</td><td>30.40</td></tr><tr><td>2016</td><td>PK-18910</td><td>Paul Knutson</td><td>-807.78</td></tr><tr><td>2016</td><td>PK-19075</td><td>Pete Kriz</td><td>407.41</td></tr><tr><td>2016</td><td>PL-18925</td><td>Paul Lucas</td><td>-13.65</td></tr><tr><td>2016</td><td>PM-18940</td><td>Paul MacIntyre</td><td>158.53</td></tr><tr><td>2016</td><td>PM-19135</td><td>Peter McVee</td><td>30.35</td></tr><tr><td>2016</td><td>PN-18775</td><td>Parhena Norris</td><td>137.23</td></tr><tr><td>2016</td><td>PO-18850</td><td>Patrick O'Brill</td><td>-316.63</td></tr><tr><td>2016</td><td>PO-18865</td><td>Patrick O'Donnell</td><td>67.60</td></tr><tr><td>2016</td><td>PO-19180</td><td>Philisse Overcash</td><td>178.45</td></tr><tr><td>2016</td><td>PP-18955</td><td>Paul Prost</td><td>707.59</td></tr><tr><td>2016</td><td>PS-18760</td><td>Pamela Stobb</td><td>133.29</td></tr><tr><td>2016</td><td>PS-18970</td><td>Paul Stevenson</td><td>3.44</td></tr><tr><td>2016</td><td>PS-19045</td><td>Penelope Sewall</td><td>6.32</td></tr><tr><td>2016</td><td>PT-19090</td><td>PeteTakahito</td><td>-17.52</td></tr><tr><td>2016</td><td>PV-18985</td><td>PaulVan Hugh</td><td>155.32</td></tr><tr><td>2016</td><td>PW-19030</td><td>Pauline Webber</td><td>437.40</td></tr><tr><td>2016</td><td>PW-19240</td><td>Pierre Wener</td><td>-0.59</td></tr><tr><td>2016</td><td>QJ-19255</td><td>Quincy Jones</td><td>168.88</td></tr><tr><td>2016</td><td>RA-19285</td><td>Ralph Arnett</td><td>-6.57</td></tr><tr><td>2016</td><td>RA-19885</td><td>Ruben Ausman</td><td>3.89</td></tr><tr><td>2016</td><td>RA-19915</td><td>Russell Applegate</td><td>115.46</td></tr><tr><td>2016</td><td>RB-19360</td><td>Raymond Buch</td><td>195.46</td></tr><tr><td>2016</td><td>RB-19465</td><td>Rick Bensley</td><td>123.82</td></tr><tr><td>2016</td><td>RB-19570</td><td>Rob Beeghly</td><td>-5.98</td></tr><tr><td>2016</td><td>RB-19645</td><td>Robert Barroso</td><td>19.33</td></tr><tr><td>2016</td><td>RB-19795</td><td>Ross Baird</td><td>51.79</td></tr><tr><td>2016</td><td>RC-19825</td><td>Roy Collins</td><td>56.69</td></tr><tr><td>2016</td><td>RC-19960</td><td>Ryan Crowe</td><td>102.93</td></tr><tr><td>2016</td><td>RD-19480</td><td>Rick Duston</td><td>69.39</td></tr><tr><td>2016</td><td>RD-19585</td><td>Rob Dowd</td><td>24.23</td></tr><tr><td>2016</td><td>RD-19660</td><td>Robert Dilbeck</td><td>151.77</td></tr><tr><td>2016</td><td>RD-19720</td><td>Roger Demir</td><td>31.20</td></tr><tr><td>2016</td><td>RD-19810</td><td>Ross DeVincentis</td><td>115.76</td></tr><tr><td>2016</td><td>RD-19900</td><td>Ruben Dartt</td><td>177.10</td></tr><tr><td>2016</td><td>RE-19450</td><td>Richard Eichhorn</td><td>13.32</td></tr><tr><td>2016</td><td>RF-19345</td><td>Randy Ferguson</td><td>438.72</td></tr><tr><td>2016</td><td>RF-19735</td><td>Roland Fjeld</td><td>110.61</td></tr><tr><td>2016</td><td>RF-19840</td><td>Roy Französisch</td><td>264.16</td></tr><tr><td>2016</td><td>RH-19510</td><td>Rick Huthwaite</td><td>1152.82</td></tr><tr><td>2016</td><td>RH-19555</td><td>Ritsa Hightower</td><td>6.34</td></tr><tr><td>2016</td><td>RH-19600</td><td>Rob Haberlin</td><td>7.25</td></tr><tr><td>2016</td><td>RL-19615</td><td>Rob Lucas</td><td>-6.57</td></tr><tr><td>2016</td><td>RM-19375</td><td>Raymond Messe</td><td>162.04</td></tr><tr><td>2016</td><td>RO-19780</td><td>Rose O'Brian</td><td>-90.48</td></tr><tr><td>2016</td><td>RP-19270</td><td>Rachel Payne</td><td>11.70</td></tr><tr><td>2016</td><td>RP-19390</td><td>Resi Pölking</td><td>154.14</td></tr><tr><td>2016</td><td>RP-19855</td><td>Roy Phan</td><td>143.06</td></tr><tr><td>2016</td><td>RR-19315</td><td>Ralph Ritter</td><td>3.47</td></tr><tr><td>2016</td><td>RR-19525</td><td>Rick Reed</td><td>45.68</td></tr><tr><td>2016</td><td>RS-19420</td><td>Ricardo Sperren</td><td>14.42</td></tr><tr><td>2016</td><td>RS-19870</td><td>Roy Skaria</td><td>3.50</td></tr><tr><td>2016</td><td>RW-19630</td><td>Rob Williams</td><td>346.37</td></tr><tr><td>2016</td><td>RW-19690</td><td>Robert Waldorf</td><td>-2.63</td></tr><tr><td>2016</td><td>SA-20830</td><td>SueAnn Reed</td><td>-17.11</td></tr><tr><td>2016</td><td>SB-20290</td><td>Sean Braxton</td><td>16.89</td></tr><tr><td>2016</td><td>SC-20050</td><td>SampleCompany A</td><td>146.65</td></tr><tr><td>2016</td><td>SC-20095</td><td>Sanjit Chand</td><td>196.19</td></tr><tr><td>2016</td><td>SC-20230</td><td>Scot Coram</td><td>435.64</td></tr><tr><td>2016</td><td>SC-20305</td><td>Sean Christensen</td><td>37.46</td></tr><tr><td>2016</td><td>SC-20380</td><td>ShahiCollister</td><td>-25.00</td></tr><tr><td>2016</td><td>SC-20680</td><td>Steve Carroll</td><td>109.82</td></tr><tr><td>2016</td><td>SC-20695</td><td>Steve Chapman</td><td>347.96</td></tr><tr><td>2016</td><td>SC-20725</td><td>Steven Cartwright</td><td>273.18</td></tr><tr><td>2016</td><td>SC-20770</td><td>Stewart Carmichael</td><td>-734.27</td></tr><tr><td>2016</td><td>SC-20800</td><td>Stuart Calhoun</td><td>9.00</td></tr><tr><td>2016</td><td>SC-20845</td><td>Sung Chung</td><td>1.23</td></tr><tr><td>2016</td><td>SD-20485</td><td>Shirley Daniels</td><td>20.82</td></tr><tr><td>2016</td><td>SE-20110</td><td>Sanjit Engle</td><td>2673.77</td></tr><tr><td>2016</td><td>SF-20065</td><td>Sandra Flanagan</td><td>3.06</td></tr><tr><td>2016</td><td>SF-20200</td><td>Sarah Foster</td><td>21.14</td></tr><tr><td>2016</td><td>SF-20965</td><td>Sylvia Foulston</td><td>70.20</td></tr><tr><td>2016</td><td>SG-20470</td><td>Sheri Gordon</td><td>-18.45</td></tr><tr><td>2016</td><td>SG-20890</td><td>Susan Gilcrest</td><td>6.63</td></tr><tr><td>2016</td><td>SH-19975</td><td>NA</td><td>317.46</td></tr><tr><td>2016</td><td>SH-20395</td><td>ShahiHopkins</td><td>-1.48</td></tr><tr><td>2016</td><td>SJ-20125</td><td>Sanjit Jacobs</td><td>266.13</td></tr><tr><td>2016</td><td>SJ-20215</td><td>Sarah Jordon</td><td>-3.24</td></tr><tr><td>2016</td><td>SJ-20500</td><td>Shirley Jackson</td><td>253.82</td></tr><tr><td>2016</td><td>SK-19990</td><td>Sally Knutson</td><td>3.44</td></tr><tr><td>2016</td><td>SL-20155</td><td>Sara Luxemburg</td><td>3.11</td></tr><tr><td>2016</td><td>SM-20005</td><td>Sally Matthias</td><td>-77.84</td></tr><tr><td>2016</td><td>SM-20905</td><td>Susan MacKendrick</td><td>-16510.34</td></tr><tr><td>2016</td><td>SM-20950</td><td>Suzanne McNair</td><td>43.00</td></tr><tr><td>2016</td><td>SN-20560</td><td>Skye Norling</td><td>229.01</td></tr><tr><td>2016</td><td>SN-20710</td><td>Steve Nguyen</td><td>375.78</td></tr><tr><td>2016</td><td>SP-20545</td><td>Sibella Parks</td><td>-203.15</td></tr><tr><td>2016</td><td>SP-20620</td><td>Stefania Perrino</td><td>-171.23</td></tr><tr><td>2016</td><td>SP-20650</td><td>Stephanie Phelps</td><td>100.23</td></tr><tr><td>2016</td><td>SP-20860</td><td>Sung Pak</td><td>619.14</td></tr><tr><td>2016</td><td>SP-20920</td><td>Susan Pistek</td><td>8.70</td></tr><tr><td>2016</td><td>SR-20740</td><td>Steven Roelle</td><td>181.53</td></tr><tr><td>2016</td><td>SS-20140</td><td>Saphhira Shifley</td><td>6.55</td></tr><tr><td>2016</td><td>SS-20515</td><td>Shirley Schmidt</td><td>14.87</td></tr><tr><td>2016</td><td>SS-20590</td><td>Sonia Sunley</td><td>112.38</td></tr><tr><td>2016</td><td>SS-20875</td><td>Sung Shariari</td><td>-1.91</td></tr><tr><td>2016</td><td>SU-20665</td><td>Stephanie Ulpright</td><td>64.19</td></tr><tr><td>2016</td><td>SV-20365</td><td>Seth Vernon</td><td>39.77</td></tr><tr><td>2016</td><td>SV-20785</td><td>Stewart Visinsky</td><td>76.77</td></tr><tr><td>2016</td><td>SV-20815</td><td>Stuart Van</td><td>11.24</td></tr><tr><td>2016</td><td>SV-20935</td><td>Susan Vittorini</td><td>-30.20</td></tr><tr><td>2016</td><td>SW-20245</td><td>Scot Wooten</td><td>82.53</td></tr><tr><td>2016</td><td>SW-20275</td><td>Scott Williamson</td><td>221.48</td></tr><tr><td>2016</td><td>SW-20350</td><td>Sean Wendt</td><td>146.09</td></tr><tr><td>2016</td><td>SW-20455</td><td>Shaun Weien</td><td>125.20</td></tr><tr><td>2016</td><td>SW-20755</td><td>Steven Ward</td><td>48.51</td></tr><tr><td>2016</td><td>SZ-20035</td><td>Sam Zeldin</td><td>49.32</td></tr><tr><td>2016</td><td>TA-21385</td><td>Tom Ashbrook</td><td>-76.00</td></tr><tr><td>2016</td><td>TB-21055</td><td>Ted Butterfield</td><td>267.71</td></tr><tr><td>2016</td><td>TB-21175</td><td>Thomas Boland</td><td>-6.98</td></tr><tr><td>2016</td><td>TB-21250</td><td>Tim Brockman</td><td>-40.36</td></tr><tr><td>2016</td><td>TB-21280</td><td>Toby Braunhardt</td><td>290.98</td></tr><tr><td>2016</td><td>TB-21355</td><td>Todd Boyes</td><td>62.39</td></tr><tr><td>2016</td><td>TB-21400</td><td>Tom Boeckenhauer</td><td>12.18</td></tr><tr><td>2016</td><td>TB-21520</td><td>Tracy Blumstein</td><td>3.95</td></tr><tr><td>2016</td><td>TB-21595</td><td>Troy Blackwell</td><td>-144.59</td></tr><tr><td>2016</td><td>TB-21625</td><td>Trudy Brown</td><td>70.93</td></tr><tr><td>2016</td><td>TC-20980</td><td>Tamara Chand</td><td>8764.95</td></tr><tr><td>2016</td><td>TC-21295</td><td>Toby Carlisle</td><td>-27.83</td></tr><tr><td>2016</td><td>TC-21475</td><td>Tony Chapman</td><td>32.39</td></tr><tr><td>2016</td><td>TC-21535</td><td>Tracy Collins</td><td>161.53</td></tr><tr><td>2016</td><td>TD-20995</td><td>Tamara Dahlen</td><td>70.25</td></tr><tr><td>2016</td><td>TG-21310</td><td>Toby Gnade</td><td>844.64</td></tr><tr><td>2016</td><td>TH-21100</td><td>Thea Hendricks</td><td>9.19</td></tr><tr><td>2016</td><td>TH-21115</td><td>Thea Hudgings</td><td>-76.64</td></tr><tr><td>2016</td><td>TH-21235</td><td>Tiffany House</td><td>70.78</td></tr><tr><td>2016</td><td>TN-21040</td><td>Tanja Norvell</td><td>-903.28</td></tr><tr><td>2016</td><td>TP-21130</td><td>Theone Pippenger</td><td>376.74</td></tr><tr><td>2016</td><td>TP-21415</td><td>Tom Prescott</td><td>-91.11</td></tr><tr><td>2016</td><td>TP-21565</td><td>Tracy Poddar</td><td>104.74</td></tr><tr><td>2016</td><td>TR-21325</td><td>Toby Ritter</td><td>115.04</td></tr><tr><td>2016</td><td>TS-21160</td><td>Theresa Swint</td><td>-48.91</td></tr><tr><td>2016</td><td>TS-21205</td><td>Thomas Seio</td><td>104.77</td></tr><tr><td>2016</td><td>TS-21430</td><td>Tom Stivers</td><td>17.05</td></tr><tr><td>2016</td><td>TS-21505</td><td>NA</td><td>-69.83</td></tr><tr><td>2016</td><td>TS-21610</td><td>Troy Staebel</td><td>-57.29</td></tr><tr><td>2016</td><td>TS-21655</td><td>Trudy Schmidt</td><td>364.87</td></tr><tr><td>2016</td><td>TT-21070</td><td>Ted Trevino</td><td>2.69</td></tr><tr><td>2016</td><td>TT-21220</td><td>Thomas Thornton</td><td>60.39</td></tr><tr><td>2016</td><td>TT-21265</td><td>Tim Taslimi</td><td>32.53</td></tr><tr><td>2016</td><td>TT-21460</td><td>Tonja Turnell</td><td>2.40</td></tr><tr><td>2016</td><td>TW-21025</td><td>Tamara Willingham</td><td>33.01</td></tr><tr><td>2016</td><td>TZ-21580</td><td>Tracy Zic</td><td>75.97</td></tr><tr><td>2016</td><td>VB-21745</td><td>Victoria Brennan</td><td>105.42</td></tr><tr><td>2016</td><td>VD-21670</td><td>Valerie Dominguez</td><td>50.19</td></tr><tr><td>2016</td><td>VG-21790</td><td>Vivek Gonzalez</td><td>18.48</td></tr><tr><td>2016</td><td>VG-21805</td><td>Vivek Grady</td><td>28.14</td></tr><tr><td>2016</td><td>VM-21685</td><td>Valerie Mitchum</td><td>371.69</td></tr><tr><td>2016</td><td>VM-21835</td><td>Vivian Mathis</td><td>103.16</td></tr><tr><td>2016</td><td>VP-21760</td><td>Victoria Pisteka</td><td>31.65</td></tr><tr><td>2016</td><td>VS-21820</td><td>Vivek Sundaresam</td><td>-7.81</td></tr><tr><td>2016</td><td>VW-21775</td><td>Victoria Wilson</td><td>-188.81</td></tr><tr><td>2016</td><td>WB-21850</td><td>William Brown</td><td>293.65</td></tr><tr><td>2016</td><td>XP-21865</td><td>Xylona Preis</td><td>314.09</td></tr><tr><td>2016</td><td>YC-21895</td><td>Yoseph Carroll</td><td>427.27</td></tr><tr><td>2016</td><td>ZC-21910</td><td>Zuschuss Carroll</td><td>-1731.01</td></tr><tr><td>2016</td><td>ZD-21925</td><td>Zuschuss Donatelli</td><td>206.67</td></tr><tr><td>2017</td><td>AA-10315</td><td>Alex Avila</td><td>96.50</td></tr><tr><td>2017</td><td>AA-10375</td><td>Allen Armold</td><td>68.92</td></tr><tr><td>2017</td><td>AA-10480</td><td>Andrew Allen</td><td>5.44</td></tr><tr><td>2017</td><td>AA-10645</td><td>Anna Andreadi</td><td>6.22</td></tr><tr><td>2017</td><td>AB-10060</td><td>Adam Bellavance</td><td>477.84</td></tr><tr><td>2017</td><td>AB-10105</td><td>Adrian Barton</td><td>340.64</td></tr><tr><td>2017</td><td>AB-10150</td><td>Aimee Bixby</td><td>40.00</td></tr><tr><td>2017</td><td>AB-10165</td><td>Alan Barnes</td><td>141.73</td></tr><tr><td>2017</td><td>AB-10255</td><td>Alejandro Ballentine</td><td>197.67</td></tr><tr><td>2017</td><td>AB-10600</td><td>Ann Blume</td><td>-256.46</td></tr><tr><td>2017</td><td>AC-10420</td><td>Alyssa Crouse</td><td>-69.06</td></tr><tr><td>2017</td><td>AC-10450</td><td>Amy Cox</td><td>876.48</td></tr><tr><td>2017</td><td>AC-10615</td><td>Ann Chong</td><td>330.91</td></tr><tr><td>2017</td><td>AC-10660</td><td>Anna Chung</td><td>-32.34</td></tr><tr><td>2017</td><td>AD-10180</td><td>Alan Dominguez</td><td>1866.92</td></tr><tr><td>2017</td><td>AF-10870</td><td>Art Ferguson</td><td>-75.19</td></tr><tr><td>2017</td><td>AG-10270</td><td>Alejandro Grove</td><td>1.50</td></tr><tr><td>2017</td><td>AG-10300</td><td>Aleksandra Gannaway</td><td>1.67</td></tr><tr><td>2017</td><td>AG-10330</td><td>Alex Grayson</td><td>-67.10</td></tr><tr><td>2017</td><td>AG-10390</td><td>Allen Goldenen</td><td>8.30</td></tr><tr><td>2017</td><td>AG-10495</td><td>Andrew Gjertsen</td><td>25.05</td></tr><tr><td>2017</td><td>AG-10675</td><td>Anna Gayman</td><td>61.15</td></tr><tr><td>2017</td><td>AG-10765</td><td>Anthony Garverick</td><td>-66.01</td></tr><tr><td>2017</td><td>AG-10900</td><td>Arthur Gainer</td><td>-71.97</td></tr><tr><td>2017</td><td>AH-10030</td><td>Aaron Hawkins</td><td>2.34</td></tr><tr><td>2017</td><td>AH-10075</td><td>Adam Hart</td><td>-54.58</td></tr><tr><td>2017</td><td>AH-10120</td><td>Adrian Hane</td><td>322.56</td></tr><tr><td>2017</td><td>AH-10195</td><td>Alan Haines</td><td>-16.58</td></tr><tr><td>2017</td><td>AH-10210</td><td>Alan Hwang</td><td>946.65</td></tr><tr><td>2017</td><td>AH-10465</td><td>Amy Hunt</td><td>147.87</td></tr><tr><td>2017</td><td>AH-10585</td><td>Angele Hood</td><td>28.92</td></tr><tr><td>2017</td><td>AI-10855</td><td>Arianne Irving</td><td>77.28</td></tr><tr><td>2017</td><td>AJ-10780</td><td>Anthony Jacobs</td><td>208.05</td></tr><tr><td>2017</td><td>AJ-10795</td><td>Anthony Johnson</td><td>255.24</td></tr><tr><td>2017</td><td>AJ-10945</td><td>Ashley Jarboe</td><td>167.94</td></tr><tr><td>2017</td><td>AJ-10960</td><td>Astrea Jones</td><td>2.77</td></tr><tr><td>2017</td><td>AM-10360</td><td>Alice McCarthy</td><td>-1.57</td></tr><tr><td>2017</td><td>AM-10705</td><td>Anne McFarland</td><td>392.01</td></tr><tr><td>2017</td><td>AP-10720</td><td>Anne Pryor</td><td>-11.07</td></tr><tr><td>2017</td><td>AP-10915</td><td>Arthur Prichep</td><td>-179.86</td></tr><tr><td>2017</td><td>AR-10345</td><td>Alex Russell</td><td>23.95</td></tr><tr><td>2017</td><td>AR-10405</td><td>Allen Rosenblatt</td><td>-221.58</td></tr><tr><td>2017</td><td>AR-10510</td><td>Andrew Roberts</td><td>5.18</td></tr><tr><td>2017</td><td>AR-10540</td><td>Andy Reiter</td><td>2607.68</td></tr><tr><td>2017</td><td>AR-10825</td><td>Anthony Rawles</td><td>105.07</td></tr><tr><td>2017</td><td>AS-10045</td><td>Aaron Smayling</td><td>-377.96</td></tr><tr><td>2017</td><td>AS-10090</td><td>Adam Shillingsburg</td><td>-331.65</td></tr><tr><td>2017</td><td>AS-10135</td><td>Adrian Shami</td><td>20.34</td></tr><tr><td>2017</td><td>AS-10225</td><td>Alan Schoenberger</td><td>268.43</td></tr><tr><td>2017</td><td>AS-10240</td><td>Alan Shonely</td><td>-31.92</td></tr><tr><td>2017</td><td>AS-10285</td><td>Alejandro Savely</td><td>23.26</td></tr><tr><td>2017</td><td>AS-10630</td><td>Ann Steele</td><td>69.09</td></tr><tr><td>2017</td><td>AT-10435</td><td>Alyssa Tate</td><td>96.13</td></tr><tr><td>2017</td><td>AT-10735</td><td>Annie Thurman</td><td>111.72</td></tr><tr><td>2017</td><td>AW-10840</td><td>Anthony Witt</td><td>79.28</td></tr><tr><td>2017</td><td>AW-10930</td><td>Arthur Wiediger</td><td>87.22</td></tr><tr><td>2017</td><td>AY-10555</td><td>Andy Yotov</td><td>31.04</td></tr><tr><td>2017</td><td>AZ-10750</td><td>Annie Zypern</td><td>15.00</td></tr><tr><td>2017</td><td>BB-10990</td><td>Barry Blumstein</td><td>6.92</td></tr><tr><td>2017</td><td>BB-11545</td><td>Brenda Bowman</td><td>660.69</td></tr><tr><td>2017</td><td>BC-11125</td><td>Becky Castell</td><td>58.80</td></tr><tr><td>2017</td><td>BD-11320</td><td>Bil Donatelli</td><td>197.79</td></tr><tr><td>2017</td><td>BD-11500</td><td>Bradley Drucker</td><td>762.06</td></tr><tr><td>2017</td><td>BD-11560</td><td>Brendan Dodson</td><td>80.24</td></tr><tr><td>2017</td><td>BD-11605</td><td>Brian Dahlen</td><td>87.99</td></tr><tr><td>2017</td><td>BD-11620</td><td>Brian DeCherney</td><td>78.10</td></tr><tr><td>2017</td><td>BD-11635</td><td>Brian Derr</td><td>27.69</td></tr><tr><td>2017</td><td>BD-11725</td><td>Bruce Degenhardt</td><td>166.98</td></tr><tr><td>2017</td><td>BD-11770</td><td>Bryan Davis</td><td>30.58</td></tr><tr><td>2017</td><td>BE-11335</td><td>Bil Eplett</td><td>1440.55</td></tr><tr><td>2017</td><td>BE-11410</td><td>Bobby Elias</td><td>178.71</td></tr><tr><td>2017</td><td>BE-11455</td><td>Brad Eason</td><td>-52.07</td></tr><tr><td>2017</td><td>BF-10975</td><td>Barbara Fisher</td><td>6.97</td></tr><tr><td>2017</td><td>BF-11005</td><td>Barry Franz</td><td>71.98</td></tr><tr><td>2017</td><td>BF-11020</td><td>Barry Französisch</td><td>4.60</td></tr><tr><td>2017</td><td>BF-11080</td><td>Bart Folk</td><td>107.03</td></tr><tr><td>2017</td><td>BF-11170</td><td>Ben Ferrer</td><td>437.78</td></tr><tr><td>2017</td><td>BF-11215</td><td>Benjamin Farhat</td><td>328.37</td></tr><tr><td>2017</td><td>BF-11275</td><td>Beth Fritzler</td><td>38.00</td></tr><tr><td>2017</td><td>BG-11035</td><td>Barry Gonzalez</td><td>221.68</td></tr><tr><td>2017</td><td>BG-11695</td><td>Brooke Gillingham</td><td>11.66</td></tr><tr><td>2017</td><td>BG-11740</td><td>Bruce Geld</td><td>41.76</td></tr><tr><td>2017</td><td>BH-11710</td><td>Brosina Hoffman</td><td>119.51</td></tr><tr><td>2017</td><td>BK-11260</td><td>Berenike Kampe</td><td>21.45</td></tr><tr><td>2017</td><td>BM-11140</td><td>Becky Martin</td><td>99.90</td></tr><tr><td>2017</td><td>BM-11575</td><td>Brendan Murry</td><td>-51.19</td></tr><tr><td>2017</td><td>BM-11650</td><td>Brian Moss</td><td>1937.73</td></tr><tr><td>2017</td><td>BM-11785</td><td>Bryan Mills</td><td>6.92</td></tr><tr><td>2017</td><td>BN-11470</td><td>Brad Norvell</td><td>7.84</td></tr><tr><td>2017</td><td>BN-11515</td><td>Bradley Nguyen</td><td>42.57</td></tr><tr><td>2017</td><td>BO-11350</td><td>Bil Overfelt</td><td>-79.60</td></tr><tr><td>2017</td><td>BO-11425</td><td>Bobby Odegard</td><td>57.38</td></tr><tr><td>2017</td><td>BP-11050</td><td>Barry Pond</td><td>24.18</td></tr><tr><td>2017</td><td>BP-11095</td><td>Bart Pistole</td><td>228.63</td></tr><tr><td>2017</td><td>BP-11155</td><td>''Becky Pak</td><td>26.24</td></tr><tr><td>2017</td><td>BP-11185</td><td>Ben Peterman</td><td>330.74</td></tr><tr><td>2017</td><td>BP-11230</td><td>Benjamin Patterson</td><td>20.58</td></tr><tr><td>2017</td><td>BP-11290</td><td>Beth Paige</td><td>-183.00</td></tr><tr><td>2017</td><td>BS-11380</td><td>Bil Stewart</td><td>-228.10</td></tr><tr><td>2017</td><td>BS-11590</td><td>Brendan Sweed</td><td>168.47</td></tr><tr><td>2017</td><td>BS-11755</td><td>Bruce Stewart</td><td>115.84</td></tr><tr><td>2017</td><td>BS-11800</td><td>Bryan Spruell</td><td>116.94</td></tr><tr><td>2017</td><td>BT-11305</td><td>Beth Thompson</td><td>39.23</td></tr><tr><td>2017</td><td>BT-11395</td><td>Bil Tyler</td><td>-14.99</td></tr><tr><td>2017</td><td>BT-11530</td><td>Bradley Talbott</td><td>347.10</td></tr><tr><td>2017</td><td>BT-11680</td><td>Brian Thompson</td><td>35.43</td></tr><tr><td>2017</td><td>BV-11245</td><td>Benjamin Venier</td><td>105.94</td></tr><tr><td>2017</td><td>BW-11065</td><td>Barry Weirich</td><td>-77.13</td></tr><tr><td>2017</td><td>BW-11110</td><td>Bart Watters</td><td>720.83</td></tr><tr><td>2017</td><td>BW-11200</td><td>Ben Wallace</td><td>-14.11</td></tr><tr><td>2017</td><td>CA-11965</td><td>Carol Adams</td><td>16.48</td></tr><tr><td>2017</td><td>CA-12265</td><td>Christina Anderson</td><td>119.67</td></tr><tr><td>2017</td><td>CA-12310</td><td>Christine Abelman</td><td>143.36</td></tr><tr><td>2017</td><td>CA-12775</td><td>Cynthia Arntzen</td><td>191.87</td></tr><tr><td>2017</td><td>CB-12025</td><td>Cassandra Brandow</td><td>-239.46</td></tr><tr><td>2017</td><td>CB-12415</td><td>Christy Brittain</td><td>74.23</td></tr><tr><td>2017</td><td>CB-12535</td><td>Claudia Bergmann</td><td>341.51</td></tr><tr><td>2017</td><td>CC-12145</td><td>Charles Crestani</td><td>8.33</td></tr><tr><td>2017</td><td>CC-12220</td><td>Chris Cortes</td><td>393.60</td></tr><tr><td>2017</td><td>CC-12370</td><td>Christopher Conant</td><td>93.73</td></tr><tr><td>2017</td><td>CC-12430</td><td>Chuck Clark</td><td>108.97</td></tr><tr><td>2017</td><td>CC-12475</td><td>Cindy Chapman</td><td>40.35</td></tr><tr><td>2017</td><td>CC-12550</td><td>Clay Cheatham</td><td>34.30</td></tr><tr><td>2017</td><td>CC-12610</td><td>Corey Catlett</td><td>33.78</td></tr><tr><td>2017</td><td>CC-12670</td><td>Craig Carreira</td><td>114.35</td></tr><tr><td>2017</td><td>CD-11920</td><td>Carlos Daly</td><td>349.82</td></tr><tr><td>2017</td><td>CD-11980</td><td>Carol Darley</td><td>-214.46</td></tr><tr><td>2017</td><td>CD-12280</td><td>Christina DeMoss</td><td>233.48</td></tr><tr><td>2017</td><td>CG-12040</td><td>Catherine Glotzbach</td><td>21.87</td></tr><tr><td>2017</td><td>CG-12520</td><td>Claire Gute</td><td>1.82</td></tr><tr><td>2017</td><td>CJ-12010</td><td>Caroline Jumper</td><td>-524.22</td></tr><tr><td>2017</td><td>CK-12205</td><td>Chloris Kastensmidt</td><td>181.08</td></tr><tr><td>2017</td><td>CK-12325</td><td>Christine Kargatis</td><td>-124.27</td></tr><tr><td>2017</td><td>CK-12595</td><td>Clytie Kelty</td><td>211.09</td></tr><tr><td>2017</td><td>CK-12760</td><td>Cyma Kinney</td><td>-521.39</td></tr><tr><td>2017</td><td>CL-11890</td><td>Carl Ludwig</td><td>353.07</td></tr><tr><td>2017</td><td>CL-12565</td><td>Clay Ludtke</td><td>529.60</td></tr><tr><td>2017</td><td>CL-12700</td><td>Craig Leslie</td><td>164.91</td></tr><tr><td>2017</td><td>CM-11815</td><td>Candace McMahon</td><td>185.93</td></tr><tr><td>2017</td><td>CM-12115</td><td>Chad McGuire</td><td>400.47</td></tr><tr><td>2017</td><td>CM-12160</td><td>Charles McCrossin</td><td>-78.62</td></tr><tr><td>2017</td><td>CM-12190</td><td>Charlotte Melton</td><td>74.32</td></tr><tr><td>2017</td><td>CM-12385</td><td>Christopher Martinez</td><td>702.26</td></tr><tr><td>2017</td><td>CM-12655</td><td>Corinna Mitchell</td><td>855.93</td></tr><tr><td>2017</td><td>CP-12085</td><td>Cathy Prescott</td><td>230.57</td></tr><tr><td>2017</td><td>CP-12340</td><td>Christine Phan</td><td>-17.02</td></tr><tr><td>2017</td><td>CR-12580</td><td>Clay Rozendal</td><td>108.80</td></tr><tr><td>2017</td><td>CR-12730</td><td>Craig Reiter</td><td>253.37</td></tr><tr><td>2017</td><td>CR-12820</td><td>Cyra Reiten</td><td>81.14</td></tr><tr><td>2017</td><td>CS-11845</td><td>Cari Sayre</td><td>205.18</td></tr><tr><td>2017</td><td>CS-11860</td><td>Cari Schnelling</td><td>14.92</td></tr><tr><td>2017</td><td>CS-11950</td><td>Carlos Soltero</td><td>76.20</td></tr><tr><td>2017</td><td>CS-12175</td><td>Charles Sheldon</td><td>-3.31</td></tr><tr><td>2017</td><td>CS-12250</td><td>Chris Selesnick</td><td>174.26</td></tr><tr><td>2017</td><td>CS-12355</td><td>Christine Sundaresam</td><td>456.48</td></tr><tr><td>2017</td><td>CS-12400</td><td>Christopher Schild</td><td>-384.96</td></tr><tr><td>2017</td><td>CS-12460</td><td>Chuck Sachs</td><td>156.27</td></tr><tr><td>2017</td><td>CS-12505</td><td>Cindy Stewart</td><td>43.71</td></tr><tr><td>2017</td><td>CT-11995</td><td>Carol Triggs</td><td>159.26</td></tr><tr><td>2017</td><td>CV-12295</td><td>Christina VanderZanden</td><td>277.62</td></tr><tr><td>2017</td><td>CV-12805</td><td>Cynthia Voltz</td><td>134.09</td></tr><tr><td>2017</td><td>CW-11905</td><td>Carl Weiss</td><td>309.80</td></tr><tr><td>2017</td><td>CY-12745</td><td>Craig Yedwab</td><td>240.54</td></tr><tr><td>2017</td><td>DA-13450</td><td>Dianna Arnett</td><td>35.07</td></tr><tr><td>2017</td><td>DB-12910</td><td>Daniel Byrd</td><td>280.92</td></tr><tr><td>2017</td><td>DB-12970</td><td>Darren Budd</td><td>64.81</td></tr><tr><td>2017</td><td>DB-13060</td><td>Dave Brooks</td><td>-231.31</td></tr><tr><td>2017</td><td>DB-13120</td><td>David Bremer</td><td>-1136.72</td></tr><tr><td>2017</td><td>DB-13210</td><td>Dean Braden</td><td>277.97</td></tr><tr><td>2017</td><td>DB-13270</td><td>Deborah Brumfield</td><td>-15.55</td></tr><tr><td>2017</td><td>DB-13360</td><td>Dennis Bolton</td><td>113.54</td></tr><tr><td>2017</td><td>DB-13405</td><td>Denny Blanton</td><td>172.59</td></tr><tr><td>2017</td><td>DB-13555</td><td>Dorothy Badders</td><td>101.28</td></tr><tr><td>2017</td><td>DB-13615</td><td>Doug Bickford</td><td>60.50</td></tr><tr><td>2017</td><td>DB-13660</td><td>Duane Benoit</td><td>199.44</td></tr><tr><td>2017</td><td>DC-12850</td><td>Dan Campbell</td><td>-1128.75</td></tr><tr><td>2017</td><td>DC-13285</td><td>Debra Catini</td><td>11.06</td></tr><tr><td>2017</td><td>DD-13570</td><td>Dorothy Dickinson</td><td>51.97</td></tr><tr><td>2017</td><td>DG-13300</td><td>Deirdre Greer</td><td>530.95</td></tr><tr><td>2017</td><td>DH-13075</td><td>Dave Hallsten</td><td>106.98</td></tr><tr><td>2017</td><td>DJ-13510</td><td>Don Jones</td><td>57.32</td></tr><tr><td>2017</td><td>DJ-13630</td><td>Doug Jacobs</td><td>669.79</td></tr><tr><td>2017</td><td>DK-12835</td><td>Damala Kotsonis</td><td>349.28</td></tr><tr><td>2017</td><td>DK-12895</td><td>Dana Kaydos</td><td>316.38</td></tr><tr><td>2017</td><td>DK-12985</td><td>Darren Koutras</td><td>-22.94</td></tr><tr><td>2017</td><td>DK-13090</td><td>Dave Kipp</td><td>400.99</td></tr><tr><td>2017</td><td>DK-13150</td><td>DavidK 'lendrick</td><td>171.77</td></tr><tr><td>2017</td><td>DK-13225</td><td>Dean Katz</td><td>316.47</td></tr><tr><td>2017</td><td>DK-13375</td><td>Dennis Kane</td><td>2.65</td></tr><tr><td>2017</td><td>DL-12865</td><td>Dan Lawera</td><td>-6.90</td></tr><tr><td>2017</td><td>DL-12925</td><td>Daniel Lacy</td><td>24.87</td></tr><tr><td>2017</td><td>DL-13315</td><td>Delfina Latchford</td><td>94.23</td></tr><tr><td>2017</td><td>DL-13330</td><td>Denise Leinenbach</td><td>17.38</td></tr><tr><td>2017</td><td>DL-13495</td><td>Dionis Lloyd</td><td>-200.58</td></tr><tr><td>2017</td><td>DM-12955</td><td>Dario Medina</td><td>7.14</td></tr><tr><td>2017</td><td>DM-13015</td><td>Darrin Martin</td><td>106.77</td></tr><tr><td>2017</td><td>DM-13345</td><td>Denise Monton</td><td>1374.42</td></tr><tr><td>2017</td><td>DN-13690</td><td>Duane Noonan</td><td>138.42</td></tr><tr><td>2017</td><td>DO-13435</td><td>Denny Ordway</td><td>83.17</td></tr><tr><td>2017</td><td>DO-13645</td><td>Doug O'Connell</td><td>267.02</td></tr><tr><td>2017</td><td>DP-13000</td><td>Darren Powers</td><td>-48.17</td></tr><tr><td>2017</td><td>DP-13105</td><td>Dave Poirier</td><td>60.54</td></tr><tr><td>2017</td><td>DP-13390</td><td>Dennis Pardue</td><td>17.25</td></tr><tr><td>2017</td><td>DR-12880</td><td>Dan Reichenbach</td><td>1086.84</td></tr><tr><td>2017</td><td>DR-12940</td><td>Daniel Raglin</td><td>211.97</td></tr><tr><td>2017</td><td>DS-13030</td><td>Darrin Sayre</td><td>164.31</td></tr><tr><td>2017</td><td>DS-13180</td><td>David Smith</td><td>-29.56</td></tr><tr><td>2017</td><td>DV-13045</td><td>DarrinVan Huff</td><td>-445.11</td></tr><tr><td>2017</td><td>DV-13465</td><td>Dianna Vittorini</td><td>151.65</td></tr><tr><td>2017</td><td>DW-13195</td><td>David Wiener</td><td>-108.28</td></tr><tr><td>2017</td><td>DW-13480</td><td>Dianna Wilson</td><td>162.99</td></tr><tr><td>2017</td><td>DW-13540</td><td>Don Weiss</td><td>53.65</td></tr><tr><td>2017</td><td>DW-13585</td><td>Dorothy Wardle</td><td>5.11</td></tr><tr><td>2017</td><td>Dl-13600</td><td>Dorris liebe</td><td>-0.33</td></tr><tr><td>2017</td><td>Dp-13240</td><td>Dean perceR</td><td>-1031.12</td></tr><tr><td>2017</td><td>EA-14035</td><td>Erin Ashbrook</td><td>21.83</td></tr><tr><td>2017</td><td>EB-13705</td><td>Ed Braxton</td><td>10.60</td></tr><tr><td>2017</td><td>EB-13750</td><td>Edward Becker</td><td>-397.51</td></tr><tr><td>2017</td><td>EB-13840</td><td>Ellis Ballard</td><td>81.70</td></tr><tr><td>2017</td><td>EB-13870</td><td>Emily Burns</td><td>-80.44</td></tr><tr><td>2017</td><td>EB-13930</td><td>Eric Barreto</td><td>-75.19</td></tr><tr><td>2017</td><td>EB-13975</td><td>Erica Bern</td><td>10.99</td></tr><tr><td>2017</td><td>EB-14110</td><td>Eugene Barchas</td><td>-47.40</td></tr><tr><td>2017</td><td>EB-14170</td><td>Evan Bailliet</td><td>3.52</td></tr><tr><td>2017</td><td>EC-14050</td><td>Erin Creighton</td><td>57.37</td></tr><tr><td>2017</td><td>ED-13885</td><td>NA</td><td>-107.98</td></tr><tr><td>2017</td><td>EG-13900</td><td>Emily Grady</td><td>2.59</td></tr><tr><td>2017</td><td>EH-13765</td><td>Edward Hooks</td><td>405.82</td></tr><tr><td>2017</td><td>EH-13945</td><td>Eric Hoffmann</td><td>34.40</td></tr><tr><td>2017</td><td>EH-14005</td><td>Erica Hernandez</td><td>144.29</td></tr><tr><td>2017</td><td>EH-14125</td><td>Eugene Hildebrand</td><td>265.62</td></tr><tr><td>2017</td><td>EH-14185</td><td>Evan Henry</td><td>6.42</td></tr><tr><td>2017</td><td>EJ-13720</td><td>Ed Jacobs</td><td>423.72</td></tr><tr><td>2017</td><td>EJ-14155</td><td>Eva Jacobs</td><td>140.02</td></tr><tr><td>2017</td><td>EK-13795</td><td>Eileen Kiefer</td><td>6.07</td></tr><tr><td>2017</td><td>EL-13735</td><td>Ed Ludwig</td><td>18.45</td></tr><tr><td>2017</td><td>EM-13810</td><td>NA</td><td>10.48</td></tr><tr><td>2017</td><td>EM-13825</td><td>Elizabeth Moffitt</td><td>444.41</td></tr><tr><td>2017</td><td>EM-13960</td><td>Eric Murdock</td><td>50.37</td></tr><tr><td>2017</td><td>EM-14065</td><td>ErinMull</td><td>-14.44</td></tr><tr><td>2017</td><td>EM-14095</td><td>Eudokia Martin</td><td>16.93</td></tr><tr><td>2017</td><td>EM-14140</td><td>Eugene Moren</td><td>76.76</td></tr><tr><td>2017</td><td>EM-14200</td><td>Evan Minnotte</td><td>17.83</td></tr><tr><td>2017</td><td>EN-13780</td><td>Edward Nazzal</td><td>6.55</td></tr><tr><td>2017</td><td>EP-13915</td><td>Emily Phan</td><td>2.60</td></tr><tr><td>2017</td><td>ES-14020</td><td>Erica Smith</td><td>871.82</td></tr><tr><td>2017</td><td>ES-14080</td><td>Erin Smith</td><td>239.29</td></tr><tr><td>2017</td><td>FA-14230</td><td>Frank Atkinson</td><td>252.38</td></tr><tr><td>2017</td><td>FC-14245</td><td>Frank Carlisle</td><td>209.40</td></tr><tr><td>2017</td><td>FC-14335</td><td>Fred Chung</td><td>502.97</td></tr><tr><td>2017</td><td>FG-14260</td><td>Frank Gastineau</td><td>80.43</td></tr><tr><td>2017</td><td>FH-14275</td><td>Frank Hawley</td><td>12936.86</td></tr><tr><td>2017</td><td>FH-14350</td><td>Fred Harton</td><td>340.37</td></tr><tr><td>2017</td><td>FH-14365</td><td>Fred Hopkins</td><td>76.82</td></tr><tr><td>2017</td><td>FM-14215</td><td>Filia McAdams</td><td>-24.75</td></tr><tr><td>2017</td><td>FM-14290</td><td>Frank Merwin</td><td>530.86</td></tr><tr><td>2017</td><td>FM-14380</td><td>Fred McMath</td><td>38.70</td></tr><tr><td>2017</td><td>FO-14305</td><td>Frank Olsen</td><td>-70.98</td></tr><tr><td>2017</td><td>FP-14320</td><td>Frank Preis</td><td>49.32</td></tr><tr><td>2017</td><td>FW-14395</td><td>Fred Waerman</td><td>5.81</td></tr><tr><td>2017</td><td>GA-14515</td><td>George Ashbrook</td><td>139.07</td></tr><tr><td>2017</td><td>GA-14725</td><td>Guy Armstrong</td><td>23.50</td></tr><tr><td>2017</td><td>GB-14530</td><td>George Bell</td><td>44.29</td></tr><tr><td>2017</td><td>GB-14575</td><td>Giulietta Baptist</td><td>295.02</td></tr><tr><td>2017</td><td>GD-14590</td><td>Giulietta Dortch</td><td>364.23</td></tr><tr><td>2017</td><td>GG-14650</td><td>Greg Guthrie</td><td>-10.07</td></tr><tr><td>2017</td><td>GH-14410</td><td>GaryHansen</td><td>-496.24</td></tr><tr><td>2017</td><td>GH-14425</td><td>Gary Hwang</td><td>43.60</td></tr><tr><td>2017</td><td>GH-14665</td><td>Greg Hansen</td><td>-8.88</td></tr><tr><td>2017</td><td>GK-14620</td><td>Grace Kelly</td><td>3.45</td></tr><tr><td>2017</td><td>GM-14440</td><td>Gary McGarr</td><td>36.31</td></tr><tr><td>2017</td><td>GM-14455</td><td>Gary Mitchum</td><td>374.61</td></tr><tr><td>2017</td><td>GM-14500</td><td>Gene McClure</td><td>61.60</td></tr><tr><td>2017</td><td>GM-14680</td><td>Greg Matthias</td><td>-57.12</td></tr><tr><td>2017</td><td>GM-14695</td><td>Greg Maxwell</td><td>-99.18</td></tr><tr><td>2017</td><td>GT-14635</td><td>Grant Thornton</td><td>-3825.34</td></tr><tr><td>2017</td><td>GT-14710</td><td>Greg Tran</td><td>83.62</td></tr><tr><td>2017</td><td>GT-14755</td><td>Guy Thornton</td><td>-39.64</td></tr><tr><td>2017</td><td>GW-14605</td><td>Giulietta Weimer</td><td>-451.09</td></tr><tr><td>2017</td><td>GZ-14470</td><td>Gary Zandusky</td><td>259.10</td></tr><tr><td>2017</td><td>GZ-14545</td><td>George Zrebassa</td><td>816.17</td></tr><tr><td>2017</td><td>HA-14905</td><td>Helen Abelman</td><td>-79.00</td></tr><tr><td>2017</td><td>HA-14920</td><td>Helen Andreada</td><td>12.71</td></tr><tr><td>2017</td><td>HE-14800</td><td>Harold Engle</td><td>161.26</td></tr><tr><td>2017</td><td>HF-14995</td><td>Herbert Flentye</td><td>20.49</td></tr><tr><td>2017</td><td>HG-14845</td><td>Harry Greene</td><td>127.42</td></tr><tr><td>2017</td><td>HG-14965</td><td>Henry Goldwyn</td><td>-2971.38</td></tr><tr><td>2017</td><td>HG-15025</td><td>Hunter Glantz</td><td>82.02</td></tr><tr><td>2017</td><td>HH-15010</td><td>Hilary Holden</td><td>26.46</td></tr><tr><td>2017</td><td>HJ-14875</td><td>Heather Jas</td><td>13.97</td></tr><tr><td>2017</td><td>HK-14890</td><td>Heather Kirkland</td><td>399.00</td></tr><tr><td>2017</td><td>HL-15040</td><td>Hunter Lopez</td><td>5045.86</td></tr><tr><td>2017</td><td>HM-14860</td><td>Harry Marie</td><td>-16.56</td></tr><tr><td>2017</td><td>HM-14980</td><td>Henry MacAllister</td><td>41.23</td></tr><tr><td>2017</td><td>HP-14815</td><td>Harold Pawlan</td><td>293.88</td></tr><tr><td>2017</td><td>HR-14770</td><td>Hallie Redmond</td><td>135.68</td></tr><tr><td>2017</td><td>HR-14830</td><td>Harold Ryan</td><td>1000.69</td></tr><tr><td>2017</td><td>HW-14935</td><td>Helen Waerman</td><td>1946.70</td></tr><tr><td>2017</td><td>HZ-14950</td><td>Henia Zydlo</td><td>-136.68</td></tr><tr><td>2017</td><td>IG-15085</td><td>Ivan Gibson</td><td>92.92</td></tr><tr><td>2017</td><td>IL-15100</td><td>Ivan Liston</td><td>438.68</td></tr><tr><td>2017</td><td>JA-15970</td><td>Joseph Airdo</td><td>-1031.00</td></tr><tr><td>2017</td><td>JB-15400</td><td>Jennifer Braxton</td><td>251.19</td></tr><tr><td>2017</td><td>JB-16000</td><td>Joy Bell</td><td>111.09</td></tr><tr><td>2017</td><td>JB-16045</td><td>Julia Barnett</td><td>9.89</td></tr><tr><td>2017</td><td>JC-15340</td><td>Jasper Cacioppo</td><td>2.40</td></tr><tr><td>2017</td><td>JC-15385</td><td>Jenna Caffey</td><td>502.93</td></tr><tr><td>2017</td><td>JC-15775</td><td>John Castell</td><td>117.31</td></tr><tr><td>2017</td><td>JC-16105</td><td>Julie Creighton</td><td>62.30</td></tr><tr><td>2017</td><td>JD-15790</td><td>John Dryer</td><td>10.49</td></tr><tr><td>2017</td><td>JD-16015</td><td>Joy Daniels</td><td>37.07</td></tr><tr><td>2017</td><td>JD-16060</td><td>Julia Dunbar</td><td>131.89</td></tr><tr><td>2017</td><td>JD-16150</td><td>Justin Deggeller</td><td>1116.33</td></tr><tr><td>2017</td><td>JE-15475</td><td>Jeremy Ellison</td><td>33.59</td></tr><tr><td>2017</td><td>JE-15610</td><td>Jim Epp</td><td>1703.57</td></tr><tr><td>2017</td><td>JE-15715</td><td>Joe Elijah</td><td>60.42</td></tr><tr><td>2017</td><td>JE-15745</td><td>Joel Eaton</td><td>560.58</td></tr><tr><td>2017</td><td>JE-16165</td><td>Justin Ellison</td><td>13.67</td></tr><tr><td>2017</td><td>JF-15190</td><td>Jamie Frazer</td><td>347.08</td></tr><tr><td>2017</td><td>JF-15295</td><td>Jason Fortune</td><td>59.94</td></tr><tr><td>2017</td><td>JF-15355</td><td>Jay Fein</td><td>128.34</td></tr><tr><td>2017</td><td>JF-15415</td><td>Jennifer Ferguson</td><td>550.86</td></tr><tr><td>2017</td><td>JF-15490</td><td>Jeremy Farry</td><td>36.98</td></tr><tr><td>2017</td><td>JF-15565</td><td>Jill Fjeld</td><td>-1.49</td></tr><tr><td>2017</td><td>JG-15160</td><td>James Galang</td><td>69.85</td></tr><tr><td>2017</td><td>JG-15310</td><td>Jason Gross</td><td>26.52</td></tr><tr><td>2017</td><td>JG-15805</td><td>John Grady</td><td>78.02</td></tr><tr><td>2017</td><td>JH-15430</td><td>Jennifer Halladay</td><td>-42.85</td></tr><tr><td>2017</td><td>JH-15820</td><td>John Huston</td><td>-19.94</td></tr><tr><td>2017</td><td>JH-15910</td><td>Jonathan Howell</td><td>-125.37</td></tr><tr><td>2017</td><td>JH-15985</td><td>Joseph Holt</td><td>68.87</td></tr><tr><td>2017</td><td>JK-15205</td><td>Jamie Kunitz</td><td>557.69</td></tr><tr><td>2017</td><td>JK-15325</td><td>Jason Klamczynski</td><td>26.35</td></tr><tr><td>2017</td><td>JK-15370</td><td>Jay Kimmel</td><td>79.47</td></tr><tr><td>2017</td><td>JK-15625</td><td>Jim Karlsson</td><td>8.86</td></tr><tr><td>2017</td><td>JK-15640</td><td>Jim Kriz</td><td>981.67</td></tr><tr><td>2017</td><td>JK-15730</td><td>Joe Kamberova</td><td>30.95</td></tr><tr><td>2017</td><td>JK-16090</td><td>Juliana Krohn</td><td>357.77</td></tr><tr><td>2017</td><td>JK-16120</td><td>Julie Kriz</td><td>-273.77</td></tr><tr><td>2017</td><td>JL-15130</td><td>Jack Lebron</td><td>-218.58</td></tr><tr><td>2017</td><td>JL-15175</td><td>James Lanier</td><td>110.48</td></tr><tr><td>2017</td><td>JL-15235</td><td>Janet Lee</td><td>88.19</td></tr><tr><td>2017</td><td>JL-15505</td><td>Jeremy Lonsdale</td><td>529.02</td></tr><tr><td>2017</td><td>JL-15835</td><td>John Lee</td><td>837.22</td></tr><tr><td>2017</td><td>JM-15250</td><td>Janet Martin</td><td>-135.65</td></tr><tr><td>2017</td><td>JM-15265</td><td>Janet Molinari</td><td>149.28</td></tr><tr><td>2017</td><td>JM-15535</td><td>Jessica Myrick</td><td>18.56</td></tr><tr><td>2017</td><td>JM-15580</td><td>Jill Matthias</td><td>-0.60</td></tr><tr><td>2017</td><td>JM-15655</td><td>Jim Mitchum</td><td>43.58</td></tr><tr><td>2017</td><td>JM-15865</td><td>John Murray</td><td>24.63</td></tr><tr><td>2017</td><td>JM-16195</td><td>Justin MacKendrick</td><td>235.11</td></tr><tr><td>2017</td><td>JO-15145</td><td>Jack O'Briant</td><td>40.40</td></tr><tr><td>2017</td><td>JO-15280</td><td>Jas O'Carroll</td><td>-54.88</td></tr><tr><td>2017</td><td>JO-15550</td><td>Jesus Ocampo</td><td>13.22</td></tr><tr><td>2017</td><td>JP-15460</td><td>Jennifer Patt</td><td>10.66</td></tr><tr><td>2017</td><td>JP-15520</td><td>Jeremy Pistek</td><td>422.26</td></tr><tr><td>2017</td><td>JP-16135</td><td>Julie Prescott</td><td>19.51</td></tr><tr><td>2017</td><td>JR-15700</td><td>Jocasta Rupert</td><td>107.98</td></tr><tr><td>2017</td><td>JR-16210</td><td>Justin Ritter</td><td>255.77</td></tr><tr><td>2017</td><td>JS-15595</td><td>JiStevenson</td><td>-53.72</td></tr><tr><td>2017</td><td>JS-15685</td><td>Jim Sink</td><td>45.12</td></tr><tr><td>2017</td><td>JS-16030</td><td>Joy Smith</td><td>-766.57</td></tr><tr><td>2017</td><td>JW-15220</td><td>Jane Waco</td><td>1953.59</td></tr><tr><td>2017</td><td>JW-15955</td><td>Joni Waerman</td><td>170.87</td></tr><tr><td>2017</td><td>KA-16525</td><td>Kelly Andreada</td><td>39.94</td></tr><tr><td>2017</td><td>KB-16240</td><td>Karen Bern</td><td>763.56</td></tr><tr><td>2017</td><td>KB-16315</td><td>Karl Braun</td><td>69.64</td></tr><tr><td>2017</td><td>KB-16405</td><td>Katrina Bavinger</td><td>230.90</td></tr><tr><td>2017</td><td>KB-16585</td><td>Ken Black</td><td>240.99</td></tr><tr><td>2017</td><td>KB-16600</td><td>Ken Brennan</td><td>259.43</td></tr><tr><td>2017</td><td>KC-16540</td><td>Kelly Collister</td><td>24.48</td></tr><tr><td>2017</td><td>KC-16675</td><td>Kimberly Carter</td><td>156.37</td></tr><tr><td>2017</td><td>KD-16345</td><td>Katherine Ducich</td><td>20.36</td></tr><tr><td>2017</td><td>KD-16495</td><td>Keith Dawkins</td><td>134.84</td></tr><tr><td>2017</td><td>KD-16615</td><td>NA</td><td>198.92</td></tr><tr><td>2017</td><td>KE-16420</td><td>Katrina Edelman</td><td>-18.38</td></tr><tr><td>2017</td><td>KF-16285</td><td>Karen Ferguson</td><td>1206.84</td></tr><tr><td>2017</td><td>KH-16330</td><td>Katharine Harms</td><td>150.47</td></tr><tr><td>2017</td><td>KH-16360</td><td>Katherine Hughes</td><td>502.50</td></tr><tr><td>2017</td><td>KH-16510</td><td>Keith Herrera</td><td>431.29</td></tr><tr><td>2017</td><td>KH-16630</td><td>Ken Heidel</td><td>66.93</td></tr><tr><td>2017</td><td>KH-16690</td><td>Kristen Hastings</td><td>217.49</td></tr><tr><td>2017</td><td>KL-16555</td><td>Kelly Lampkin</td><td>-163.66</td></tr><tr><td>2017</td><td>KL-16645</td><td>Ken Lonsdale</td><td>161.72</td></tr><tr><td>2017</td><td>KM-16225</td><td>Kalyca Meade</td><td>128.93</td></tr><tr><td>2017</td><td>KM-16375</td><td>Katherine Murray</td><td>-140.70</td></tr><tr><td>2017</td><td>KM-16660</td><td>Khloe Miller</td><td>41.49</td></tr><tr><td>2017</td><td>KM-16720</td><td>Kunst Miller</td><td>364.68</td></tr><tr><td>2017</td><td>KN-16390</td><td>Katherine Nockton</td><td>10.26</td></tr><tr><td>2017</td><td>KN-16450</td><td>Kean Nguyen</td><td>112.42</td></tr><tr><td>2017</td><td>KN-16705</td><td>Kristi'na Nunn</td><td>301.88</td></tr><tr><td>2017</td><td>KS-16300</td><td>Karen Seio</td><td>-6.38</td></tr><tr><td>2017</td><td>KT-16480</td><td>Kean Thornton</td><td>34.32</td></tr><tr><td>2017</td><td>KW-16435</td><td>Katrina Willman</td><td>123.13</td></tr><tr><td>2017</td><td>LA-16780</td><td>Laura Armstrong</td><td>16.07</td></tr><tr><td>2017</td><td>LB-16735</td><td>Larry Blacks</td><td>7.91</td></tr><tr><td>2017</td><td>LB-16795</td><td>Laurel Beltran</td><td>627.99</td></tr><tr><td>2017</td><td>LC-16870</td><td>NA</td><td>-3.90</td></tr><tr><td>2017</td><td>LC-16885</td><td>Lena Creighton</td><td>-67.97</td></tr><tr><td>2017</td><td>LC-16930</td><td>Linda Cazamias</td><td>12.04</td></tr><tr><td>2017</td><td>LC-17050</td><td>Liz Carlisle</td><td>-10.39</td></tr><tr><td>2017</td><td>LC-17140</td><td>Logan Currie</td><td>2.40</td></tr><tr><td>2017</td><td>LE-16810</td><td>Laurel Elliston</td><td>-10.24</td></tr><tr><td>2017</td><td>LF-17185</td><td>Luke Foster</td><td>71.54</td></tr><tr><td>2017</td><td>LH-16750</td><td>Larry Hughes</td><td>17.67</td></tr><tr><td>2017</td><td>LH-16900</td><td>Lena Hernandez</td><td>65.22</td></tr><tr><td>2017</td><td>LH-17020</td><td>Lisa Hazard</td><td>-152.87</td></tr><tr><td>2017</td><td>LL-16840</td><td>Lauren Leatherbury</td><td>44.72</td></tr><tr><td>2017</td><td>LO-17170</td><td>Lori Olson</td><td>115.71</td></tr><tr><td>2017</td><td>LP-17080</td><td>Liz Pelletier</td><td>87.89</td></tr><tr><td>2017</td><td>LP-17095</td><td>Liz Preis</td><td>259.10</td></tr><tr><td>2017</td><td>LR-16915</td><td>Lena Radford</td><td>-272.58</td></tr><tr><td>2017</td><td>LR-17035</td><td>Lisa Ryan</td><td>99.27</td></tr><tr><td>2017</td><td>LS-16945</td><td>Linda Southworth</td><td>-350.00</td></tr><tr><td>2017</td><td>LS-16975</td><td>Lindsay Shagiari</td><td>229.37</td></tr><tr><td>2017</td><td>LS-17200</td><td>Luke Schmidt</td><td>57.82</td></tr><tr><td>2017</td><td>LS-17245</td><td>Lynn Smith</td><td>52.59</td></tr><tr><td>2017</td><td>LT-16765</td><td>Larry Tron</td><td>23.23</td></tr><tr><td>2017</td><td>LT-17110</td><td>Liz Thompson</td><td>-22.02</td></tr><tr><td>2017</td><td>LW-16825</td><td>Laurel Workman</td><td>2.32</td></tr><tr><td>2017</td><td>LW-16990</td><td>Lindsay Williams</td><td>340.51</td></tr><tr><td>2017</td><td>LW-17125</td><td>Liz Willingham</td><td>5.08</td></tr><tr><td>2017</td><td>LW-17215</td><td>Luke Weiss</td><td>67.07</td></tr><tr><td>2017</td><td>MA-17560</td><td>Matt Abelman</td><td>30.13</td></tr><tr><td>2017</td><td>MA-17995</td><td>Michelle Arnett</td><td>31.94</td></tr><tr><td>2017</td><td>MB-17305</td><td>Maria Bertelson</td><td>65.66</td></tr><tr><td>2017</td><td>MB-18085</td><td>Mick Brown</td><td>67.85</td></tr><tr><td>2017</td><td>MC-17275</td><td>Marc Crier</td><td>7.22</td></tr><tr><td>2017</td><td>MC-17575</td><td>Matt Collins</td><td>138.90</td></tr><tr><td>2017</td><td>MC-17590</td><td>Matt Collister</td><td>47.18</td></tr><tr><td>2017</td><td>MC-17605</td><td>Matt Connell</td><td>121.69</td></tr><tr><td>2017</td><td>MC-17635</td><td>Matthew Clasen</td><td>-317.03</td></tr><tr><td>2017</td><td>MC-17845</td><td>Michael Chen</td><td>242.12</td></tr><tr><td>2017</td><td>MC-18100</td><td>Mick Crebagga</td><td>26.70</td></tr><tr><td>2017</td><td>MD-17350</td><td>Maribeth Dona</td><td>-194.56</td></tr><tr><td>2017</td><td>MD-17860</td><td>Michael Dominguez</td><td>43.31</td></tr><tr><td>2017</td><td>ME-17320</td><td>Maria Etezadi</td><td>74.00</td></tr><tr><td>2017</td><td>ME-17725</td><td>Max Engle</td><td>23.16</td></tr><tr><td>2017</td><td>ME-18010</td><td>Michelle Ellison</td><td>-6.40</td></tr><tr><td>2017</td><td>MF-18250</td><td>Monica Federle</td><td>287.24</td></tr><tr><td>2017</td><td>MG-17650</td><td>Matthew Grinstein</td><td>112.69</td></tr><tr><td>2017</td><td>MG-17680</td><td>Maureen Gastineau</td><td>14.18</td></tr><tr><td>2017</td><td>MG-17875</td><td>Michael Grace</td><td>-29.44</td></tr><tr><td>2017</td><td>MG-17890</td><td>Michael Granlund</td><td>37.99</td></tr><tr><td>2017</td><td>MG-18145</td><td>Mike Gockenbach</td><td>196.72</td></tr><tr><td>2017</td><td>MG-18205</td><td>Mitch Gastineau</td><td>-1.24</td></tr><tr><td>2017</td><td>MH-17290</td><td>Marc Harrigan</td><td>-42.61</td></tr><tr><td>2017</td><td>MH-17455</td><td>Mark Hamilton</td><td>84.94</td></tr><tr><td>2017</td><td>MH-17620</td><td>Matt Hagelstein</td><td>108.05</td></tr><tr><td>2017</td><td>MH-17785</td><td>Maya Herman</td><td>3.35</td></tr><tr><td>2017</td><td>MH-18025</td><td>Michelle Huthwaite</td><td>374.93</td></tr><tr><td>2017</td><td>MH-18115</td><td>Mick Hernandez</td><td>387.20</td></tr><tr><td>2017</td><td>MJ-17740</td><td>Max Jones</td><td>403.72</td></tr><tr><td>2017</td><td>MK-17905</td><td>Michael Kennedy</td><td>7.01</td></tr><tr><td>2017</td><td>MK-18160</td><td>Mike Kennedy</td><td>209.04</td></tr><tr><td>2017</td><td>ML-17395</td><td>Marina Lichtenstein</td><td>11.10</td></tr><tr><td>2017</td><td>ML-17410</td><td>Maris LaWare</td><td>-345.71</td></tr><tr><td>2017</td><td>ML-17755</td><td>Max Ludwig</td><td>346.16</td></tr><tr><td>2017</td><td>ML-18040</td><td>Michelle Lonsdale</td><td>138.72</td></tr><tr><td>2017</td><td>ML-18265</td><td>Muhammed Lee</td><td>41.51</td></tr><tr><td>2017</td><td>MM-17260</td><td>Magdelene Morse</td><td>-39.46</td></tr><tr><td>2017</td><td>MM-17920</td><td>Michael Moore</td><td>-48.12</td></tr><tr><td>2017</td><td>MM-18055</td><td>Michelle Moray</td><td>-403.77</td></tr><tr><td>2017</td><td>MM-18280</td><td>Muhammed MacIntyre</td><td>33.04</td></tr><tr><td>2017</td><td>MN-17935</td><td>Michael Nguyen</td><td>254.13</td></tr><tr><td>2017</td><td>MO-17500</td><td>Mary O'Rourke</td><td>-67.54</td></tr><tr><td>2017</td><td>MO-17800</td><td>Meg O'Connel</td><td>180.45</td></tr><tr><td>2017</td><td>MO-17950</td><td>Michael Oakman</td><td>-2.70</td></tr><tr><td>2017</td><td>MP-17965</td><td>Michael Paige</td><td>116.45</td></tr><tr><td>2017</td><td>MP-18175</td><td>Mike Pelletier</td><td>119.69</td></tr><tr><td>2017</td><td>MR-17545</td><td>Mathew Reese</td><td>153.34</td></tr><tr><td>2017</td><td>MS-17365</td><td>Maribethchnelling</td><td>40.74</td></tr><tr><td>2017</td><td>MS-17770</td><td>Maxwell Schwartz</td><td>9.70</td></tr><tr><td>2017</td><td>MS-17980</td><td>Michael Stewart</td><td>-20.38</td></tr><tr><td>2017</td><td>MT-17815</td><td>Meg Tillman</td><td>74.97</td></tr><tr><td>2017</td><td>MT-18070</td><td>Michelle Tran</td><td>2.05</td></tr><tr><td>2017</td><td>MV-17485</td><td>MarkVan Huff</td><td>68.79</td></tr><tr><td>2017</td><td>MV-18190</td><td>Mike Vittorini</td><td>21.47</td></tr><tr><td>2017</td><td>MW-18220</td><td>Mitch Webber</td><td>8.49</td></tr><tr><td>2017</td><td>MW-18235</td><td>Mitch Willingham</td><td>216.00</td></tr><tr><td>2017</td><td>MY-17380</td><td>Maribeth Yedwab</td><td>283.44</td></tr><tr><td>2017</td><td>MY-18295</td><td>Muhammed YeDwab</td><td>21.59</td></tr><tr><td>2017</td><td>MZ-17335</td><td>Maria Zettner</td><td>15.51</td></tr><tr><td>2017</td><td>MZ-17515</td><td>Mary Zewe</td><td>17.38</td></tr><tr><td>2017</td><td>NB-18655</td><td>Nona Balk</td><td>61.16</td></tr><tr><td>2017</td><td>NC-18340</td><td>Nat Carroll</td><td>216.57</td></tr><tr><td>2017</td><td>NC-18415</td><td>Nathan Cano</td><td>-2330.27</td></tr><tr><td>2017</td><td>NC-18535</td><td>Nick Crebassa</td><td>607.03</td></tr><tr><td>2017</td><td>NC-18625</td><td>Noah Childs</td><td>48.78</td></tr><tr><td>2017</td><td>ND-18370</td><td>Natalie DeCherney</td><td>-84.03</td></tr><tr><td>2017</td><td>ND-18460</td><td>Neil Ducich</td><td>379.25</td></tr><tr><td>2017</td><td>NF-18385</td><td>Natalie Fritzler</td><td>163.46</td></tr><tr><td>2017</td><td>NF-18595</td><td>Nicole Fjeld</td><td>87.86</td></tr><tr><td>2017</td><td>NG-18355</td><td>Nat Gilpin</td><td>86.50</td></tr><tr><td>2017</td><td>NG-18430</td><td>Nathan Gelder</td><td>28.27</td></tr><tr><td>2017</td><td>NH-18610</td><td>Nicole Hansen</td><td>635.96</td></tr><tr><td>2017</td><td>NK-18490</td><td>Neil Knudson</td><td>80.02</td></tr><tr><td>2017</td><td>NL-18310</td><td>Nancy Lomonaco</td><td>282.27</td></tr><tr><td>2017</td><td>NM-18445</td><td>Nathan Mautz</td><td>4.35</td></tr><tr><td>2017</td><td>NM-18520</td><td>Neoma Murray</td><td>2.82</td></tr><tr><td>2017</td><td>NP-18325</td><td>NA</td><td>41.82</td></tr><tr><td>2017</td><td>NP-18670</td><td>Nra Paige</td><td>186.21</td></tr><tr><td>2017</td><td>NP-18700</td><td>Nora Preis</td><td>71.95</td></tr><tr><td>2017</td><td>NR-18550</td><td>Nick Radford</td><td>48.06</td></tr><tr><td>2017</td><td>NS-18505</td><td>Neola Schneider</td><td>-31.86</td></tr><tr><td>2017</td><td>NS-18640</td><td>Noel Staavos</td><td>-99.52</td></tr><tr><td>2017</td><td>NW-18400</td><td>Natalie Webber</td><td>11.82</td></tr><tr><td>2017</td><td>NZ-18565</td><td>Nick Zandusky</td><td>102.32</td></tr><tr><td>2017</td><td>OT-18730</td><td>Olvera Toch</td><td>175.55</td></tr><tr><td>2017</td><td>PA-19060</td><td>Pete Armstrong</td><td>35.89</td></tr><tr><td>2017</td><td>PB-18805</td><td>Patrick Bzostek</td><td>125.36</td></tr><tr><td>2017</td><td>PB-19105</td><td>Peter Bhler</td><td>13.19</td></tr><tr><td>2017</td><td>PB-19150</td><td>Philip Brown</td><td>71.93</td></tr><tr><td>2017</td><td>PC-18745</td><td>Pamela Coakley</td><td>-0.99</td></tr><tr><td>2017</td><td>PF-19165</td><td>Philip Fox</td><td>50.65</td></tr><tr><td>2017</td><td>PF-19225</td><td>Phillip Flathmann</td><td>78.02</td></tr><tr><td>2017</td><td>PG-18820</td><td>Patrick Gardner</td><td>96.42</td></tr><tr><td>2017</td><td>PG-18895</td><td>Paul Gonzalez</td><td>220.26</td></tr><tr><td>2017</td><td>PH-18790</td><td>Patricia Hirasaki</td><td>47.89</td></tr><tr><td>2017</td><td>PJ-18835</td><td>Patrick Jones</td><td>43.61</td></tr><tr><td>2017</td><td>PJ-19015</td><td>Pauline Johnson</td><td>609.43</td></tr><tr><td>2017</td><td>PK-19075</td><td>Pete Kriz</td><td>1617.17</td></tr><tr><td>2017</td><td>PL-18925</td><td>Paul Lucas</td><td>-18.95</td></tr><tr><td>2017</td><td>PM-19135</td><td>Peter McVee</td><td>69.60</td></tr><tr><td>2017</td><td>PN-18775</td><td>Parhena Norris</td><td>48.35</td></tr><tr><td>2017</td><td>PO-18850</td><td>Patrick O'Brill</td><td>290.64</td></tr><tr><td>2017</td><td>PO-18865</td><td>Patrick O'Donnell</td><td>238.16</td></tr><tr><td>2017</td><td>PO-19180</td><td>Philisse Overcash</td><td>153.55</td></tr><tr><td>2017</td><td>PO-19195</td><td>Phillina Ober</td><td>28.80</td></tr><tr><td>2017</td><td>PP-18955</td><td>Paul Prost</td><td>247.93</td></tr><tr><td>2017</td><td>PR-18880</td><td>Patrick Ryan</td><td>5555.93</td></tr><tr><td>2017</td><td>PS-18760</td><td>Pamela Stobb</td><td>-166.52</td></tr><tr><td>2017</td><td>PS-18970</td><td>Paul Stevenson</td><td>44.94</td></tr><tr><td>2017</td><td>PS-19045</td><td>Penelope Sewall</td><td>1060.31</td></tr><tr><td>2017</td><td>PT-19090</td><td>PeteTakahito</td><td>5.50</td></tr><tr><td>2017</td><td>PV-18985</td><td>PaulVan Hugh</td><td>283.49</td></tr><tr><td>2017</td><td>PW-19030</td><td>Pauline Webber</td><td>333.80</td></tr><tr><td>2017</td><td>QJ-19255</td><td>Quincy Jones</td><td>-99.70</td></tr><tr><td>2017</td><td>RA-19285</td><td>Ralph Arnett</td><td>317.48</td></tr><tr><td>2017</td><td>RA-19885</td><td>Ruben Ausman</td><td>510.77</td></tr><tr><td>2017</td><td>RA-19915</td><td>Russell Applegate</td><td>29.55</td></tr><tr><td>2017</td><td>RA-19945</td><td>Ryan Akin</td><td>-105.50</td></tr><tr><td>2017</td><td>RB-19330</td><td>Randy Bradley</td><td>-74.31</td></tr><tr><td>2017</td><td>RB-19360</td><td>Raymond Buch</td><td>6780.90</td></tr><tr><td>2017</td><td>RB-19435</td><td>Richard Bierner</td><td>362.94</td></tr><tr><td>2017</td><td>RB-19465</td><td>Rick Bensley</td><td>179.78</td></tr><tr><td>2017</td><td>RB-19570</td><td>Rob Beeghly</td><td>82.87</td></tr><tr><td>2017</td><td>RB-19705</td><td>Roger Barcio</td><td>325.85</td></tr><tr><td>2017</td><td>RB-19795</td><td>Ross Baird</td><td>-502.56</td></tr><tr><td>2017</td><td>RC-19960</td><td>Ryan Crowe</td><td>6.04</td></tr><tr><td>2017</td><td>RD-19480</td><td>Rick Duston</td><td>276.27</td></tr><tr><td>2017</td><td>RD-19585</td><td>Rob Dowd</td><td>66.27</td></tr><tr><td>2017</td><td>RD-19660</td><td>Robert Dilbeck</td><td>757.41</td></tr><tr><td>2017</td><td>RD-19720</td><td>Roger Demir</td><td>78.99</td></tr><tr><td>2017</td><td>RD-19810</td><td>Ross DeVincentis</td><td>195.03</td></tr><tr><td>2017</td><td>RD-19900</td><td>Ruben Dartt</td><td>82.83</td></tr><tr><td>2017</td><td>RD-19930</td><td>Russell D'Ascenzo</td><td>19.33</td></tr><tr><td>2017</td><td>RE-19450</td><td>Richard Eichhorn</td><td>9.74</td></tr><tr><td>2017</td><td>RF-19735</td><td>Roland Fjeld</td><td>391.47</td></tr><tr><td>2017</td><td>RF-19840</td><td>Roy Französisch</td><td>-0.30</td></tr><tr><td>2017</td><td>RH-19495</td><td>Rick Hansen</td><td>48.21</td></tr><tr><td>2017</td><td>RK-19300</td><td>Ralph Kennedy</td><td>4.11</td></tr><tr><td>2017</td><td>RL-19615</td><td>Rob Lucas</td><td>68.15</td></tr><tr><td>2017</td><td>RM-19375</td><td>Raymond Messe</td><td>196.75</td></tr><tr><td>2017</td><td>RM-19675</td><td>Robert Marley</td><td>1041.91</td></tr><tr><td>2017</td><td>RM-19750</td><td>Roland Murray</td><td>28.68</td></tr><tr><td>2017</td><td>RO-19780</td><td>Rose O'Brian</td><td>-174.33</td></tr><tr><td>2017</td><td>RP-19390</td><td>Resi Pölking</td><td>28.30</td></tr><tr><td>2017</td><td>RP-19855</td><td>Roy Phan</td><td>19.81</td></tr><tr><td>2017</td><td>RR-19315</td><td>Ralph Ritter</td><td>-77.30</td></tr><tr><td>2017</td><td>RR-19525</td><td>Rick Reed</td><td>99.94</td></tr><tr><td>2017</td><td>RS-19420</td><td>Ricardo Sperren</td><td>300.10</td></tr><tr><td>2017</td><td>RS-19765</td><td>Roland Schwarz</td><td>649.38</td></tr><tr><td>2017</td><td>RS-19870</td><td>Roy Skaria</td><td>6.08</td></tr><tr><td>2017</td><td>RW-19540</td><td>Rick Wilson</td><td>1660.85</td></tr><tr><td>2017</td><td>RW-19630</td><td>Rob Williams</td><td>321.91</td></tr><tr><td>2017</td><td>RW-19690</td><td>Robert Waldorf</td><td>710.18</td></tr><tr><td>2017</td><td>SA-20830</td><td>SueAnn Reed</td><td>177.85</td></tr><tr><td>2017</td><td>SB-20170</td><td>Sarah Bern</td><td>191.07</td></tr><tr><td>2017</td><td>SB-20185</td><td>Sarah Brown</td><td>13.32</td></tr><tr><td>2017</td><td>SB-20290</td><td>Sean Braxton</td><td>-907.05</td></tr><tr><td>2017</td><td>SC-20050</td><td>SampleCompany A</td><td>91.45</td></tr><tr><td>2017</td><td>SC-20095</td><td>Sanjit Chand</td><td>5.84</td></tr><tr><td>2017</td><td>SC-20230</td><td>Scot Coram</td><td>4.18</td></tr><tr><td>2017</td><td>SC-20260</td><td>Scott Cohen</td><td>200.26</td></tr><tr><td>2017</td><td>SC-20305</td><td>Sean Christensen</td><td>98.25</td></tr><tr><td>2017</td><td>SC-20380</td><td>ShahiCollister</td><td>270.29</td></tr><tr><td>2017</td><td>SC-20440</td><td>Shaun Chance</td><td>4.29</td></tr><tr><td>2017</td><td>SC-20575</td><td>Sonia Cooley</td><td>70.27</td></tr><tr><td>2017</td><td>SC-20680</td><td>Steve Carroll</td><td>15.12</td></tr><tr><td>2017</td><td>SC-20695</td><td>Steve Chapman</td><td>-11.60</td></tr><tr><td>2017</td><td>SC-20725</td><td>Steven Cartwright</td><td>483.77</td></tr><tr><td>2017</td><td>SC-20770</td><td>Stewart Carmichael</td><td>-84.83</td></tr><tr><td>2017</td><td>SC-20800</td><td>Stuart Calhoun</td><td>2.58</td></tr><tr><td>2017</td><td>SC-20845</td><td>Sung Chung</td><td>29.94</td></tr><tr><td>2017</td><td>SD-20485</td><td>Shirley Daniels</td><td>-113.20</td></tr><tr><td>2017</td><td>SE-20110</td><td>Sanjit Engle</td><td>-236.83</td></tr><tr><td>2017</td><td>SF-20065</td><td>Sandra Flanagan</td><td>110.13</td></tr><tr><td>2017</td><td>SF-20200</td><td>Sarah Foster</td><td>294.84</td></tr><tr><td>2017</td><td>SF-20965</td><td>Sylvia Foulston</td><td>8.49</td></tr><tr><td>2017</td><td>SG-20080</td><td>Sandra Glassco</td><td>218.25</td></tr><tr><td>2017</td><td>SG-20470</td><td>Sheri Gordon</td><td>-295.98</td></tr><tr><td>2017</td><td>SG-20605</td><td>Speros Goranitis</td><td>25.46</td></tr><tr><td>2017</td><td>SG-20890</td><td>Susan Gilcrest</td><td>-13.27</td></tr><tr><td>2017</td><td>SH-19975</td><td>NA</td><td>129.85</td></tr><tr><td>2017</td><td>SH-20395</td><td>ShahiHopkins</td><td>106.91</td></tr><tr><td>2017</td><td>SJ-20125</td><td>Sanjit Jacobs</td><td>-56.59</td></tr><tr><td>2017</td><td>SJ-20215</td><td>Sarah Jordon</td><td>-26.04</td></tr><tr><td>2017</td><td>SJ-20500</td><td>Shirley Jackson</td><td>-243.16</td></tr><tr><td>2017</td><td>SK-19990</td><td>Sally Knutson</td><td>165.35</td></tr><tr><td>2017</td><td>SL-20155</td><td>Sara Luxemburg</td><td>437.91</td></tr><tr><td>2017</td><td>SM-20320</td><td>Sean Miller</td><td>34.28</td></tr><tr><td>2017</td><td>SM-20950</td><td>Suzanne McNair</td><td>442.28</td></tr><tr><td>2017</td><td>SN-20560</td><td>Skye Norling</td><td>-1130.43</td></tr><tr><td>2017</td><td>SN-20710</td><td>Steve Nguyen</td><td>-18.19</td></tr><tr><td>2017</td><td>SO-20335</td><td>Sean O'Donnell</td><td>200.88</td></tr><tr><td>2017</td><td>SP-20545</td><td>Sibella Parks</td><td>81.96</td></tr><tr><td>2017</td><td>SP-20620</td><td>Stefania Perrino</td><td>-165.80</td></tr><tr><td>2017</td><td>SP-20860</td><td>Sung Pak</td><td>11.84</td></tr><tr><td>2017</td><td>SP-20920</td><td>Susan Pistek</td><td>-18.55</td></tr><tr><td>2017</td><td>SR-20425</td><td>Sharelle Roach</td><td>-3391.66</td></tr><tr><td>2017</td><td>SR-20740</td><td>Steven Roelle</td><td>1676.31</td></tr><tr><td>2017</td><td>SS-20140</td><td>Saphhira Shifley</td><td>387.73</td></tr><tr><td>2017</td><td>SS-20410</td><td>ShahiShariari</td><td>58.91</td></tr><tr><td>2017</td><td>SS-20875</td><td>Sung Shariari</td><td>14.82</td></tr><tr><td>2017</td><td>ST-20530</td><td>Shui Tom</td><td>12.79</td></tr><tr><td>2017</td><td>SU-20665</td><td>Stephanie Ulpright</td><td>623.11</td></tr><tr><td>2017</td><td>SV-20365</td><td>Seth Vernon</td><td>1570.94</td></tr><tr><td>2017</td><td>SV-20785</td><td>Stewart Visinsky</td><td>9.29</td></tr><tr><td>2017</td><td>SV-20815</td><td>Stuart Van</td><td>4.20</td></tr><tr><td>2017</td><td>SV-20935</td><td>Susan Vittorini</td><td>136.82</td></tr><tr><td>2017</td><td>SW-20245</td><td>Scot Wooten</td><td>-64.07</td></tr><tr><td>2017</td><td>SW-20275</td><td>Scott Williamson</td><td>100.28</td></tr><tr><td>2017</td><td>SW-20350</td><td>Sean Wendt</td><td>-50.25</td></tr><tr><td>2017</td><td>SW-20455</td><td>Shaun Weien</td><td>50.00</td></tr><tr><td>2017</td><td>SZ-20035</td><td>Sam Zeldin</td><td>50.42</td></tr><tr><td>2017</td><td>TA-21385</td><td>Tom Ashbrook</td><td>4599.20</td></tr><tr><td>2017</td><td>TB-21055</td><td>Ted Butterfield</td><td>122.05</td></tr><tr><td>2017</td><td>TB-21175</td><td>Thomas Boland</td><td>829.65</td></tr><tr><td>2017</td><td>TB-21190</td><td>Thomas Brumley</td><td>13.98</td></tr><tr><td>2017</td><td>TB-21250</td><td>Tim Brockman</td><td>-31.68</td></tr><tr><td>2017</td><td>TB-21355</td><td>Todd Boyes</td><td>206.56</td></tr><tr><td>2017</td><td>TB-21400</td><td>Tom Boeckenhauer</td><td>218.55</td></tr><tr><td>2017</td><td>TB-21520</td><td>Tracy Blumstein</td><td>42.26</td></tr><tr><td>2017</td><td>TB-21595</td><td>Troy Blackwell</td><td>1.37</td></tr><tr><td>2017</td><td>TB-21625</td><td>Trudy Brown</td><td>233.35</td></tr><tr><td>2017</td><td>TC-21145</td><td>Theresa Coyne</td><td>265.59</td></tr><tr><td>2017</td><td>TC-21295</td><td>Toby Carlisle</td><td>231.67</td></tr><tr><td>2017</td><td>TC-21475</td><td>Tony Chapman</td><td>76.21</td></tr><tr><td>2017</td><td>TC-21535</td><td>Tracy Collins</td><td>22.41</td></tr><tr><td>2017</td><td>TD-20995</td><td>Tamara Dahlen</td><td>13.68</td></tr><tr><td>2017</td><td>TG-21310</td><td>Toby Gnade</td><td>35.86</td></tr><tr><td>2017</td><td>TG-21640</td><td>Trudy Glocke</td><td>84.42</td></tr><tr><td>2017</td><td>TH-21100</td><td>Thea Hendricks</td><td>10.05</td></tr><tr><td>2017</td><td>TH-21115</td><td>Thea Hudgings</td><td>-181.36</td></tr><tr><td>2017</td><td>TH-21235</td><td>Tiffany House</td><td>24.70</td></tr><tr><td>2017</td><td>TH-21550</td><td>Tracy Hopkins</td><td>-990.17</td></tr><tr><td>2017</td><td>TM-21010</td><td>Tamara Manning</td><td>205.84</td></tr><tr><td>2017</td><td>TM-21490</td><td>Tony Molinari</td><td>292.53</td></tr><tr><td>2017</td><td>TN-21040</td><td>Tanja Norvell</td><td>22.00</td></tr><tr><td>2017</td><td>TP-21130</td><td>Theone Pippenger</td><td>753.76</td></tr><tr><td>2017</td><td>TP-21415</td><td>Tom Prescott</td><td>-1060.79</td></tr><tr><td>2017</td><td>TP-21565</td><td>Tracy Poddar</td><td>-0.04</td></tr><tr><td>2017</td><td>TR-21325</td><td>Toby Ritter</td><td>76.80</td></tr><tr><td>2017</td><td>TS-21085</td><td>Thais Sissman</td><td>-1.97</td></tr><tr><td>2017</td><td>TS-21205</td><td>Thomas Seio</td><td>286.36</td></tr><tr><td>2017</td><td>TS-21340</td><td>Toby Swindell</td><td>7.29</td></tr><tr><td>2017</td><td>TS-21370</td><td>Todd Sumrall</td><td>1218.01</td></tr><tr><td>2017</td><td>TS-21430</td><td>Tom Stivers</td><td>14.71</td></tr><tr><td>2017</td><td>TS-21505</td><td>NA</td><td>-6.23</td></tr><tr><td>2017</td><td>TS-21610</td><td>Troy Staebel</td><td>-10.11</td></tr><tr><td>2017</td><td>TS-21655</td><td>Trudy Schmidt</td><td>-110.05</td></tr><tr><td>2017</td><td>TT-21070</td><td>Ted Trevino</td><td>422.93</td></tr><tr><td>2017</td><td>TT-21220</td><td>Thomas Thornton</td><td>147.47</td></tr><tr><td>2017</td><td>TT-21460</td><td>Tonja Turnell</td><td>840.99</td></tr><tr><td>2017</td><td>TW-21025</td><td>Tamara Willingham</td><td>-6.06</td></tr><tr><td>2017</td><td>TZ-21580</td><td>Tracy Zic</td><td>1.34</td></tr><tr><td>2017</td><td>VB-21745</td><td>Victoria Brennan</td><td>181.21</td></tr><tr><td>2017</td><td>VF-21715</td><td>Vicky Freymann</td><td>62.48</td></tr><tr><td>2017</td><td>VG-21790</td><td>Vivek Gonzalez</td><td>106.10</td></tr><tr><td>2017</td><td>VG-21805</td><td>Vivek Grady</td><td>2.41</td></tr><tr><td>2017</td><td>VM-21685</td><td>Valerie Mitchum</td><td>67.41</td></tr><tr><td>2017</td><td>VM-21835</td><td>Vivian Mathis</td><td>6.97</td></tr><tr><td>2017</td><td>VP-21730</td><td>Victor Preis</td><td>196.46</td></tr><tr><td>2017</td><td>VP-21760</td><td>Victoria Pisteka</td><td>-964.48</td></tr><tr><td>2017</td><td>VS-21820</td><td>Vivek Sundaresam</td><td>-6.42</td></tr><tr><td>2017</td><td>VW-21775</td><td>Victoria Wilson</td><td>565.88</td></tr><tr><td>2017</td><td>WB-21850</td><td>William Brown</td><td>401.51</td></tr><tr><td>2017</td><td>XP-21865</td><td>Xylona Preis</td><td>80.12</td></tr><tr><td>2017</td><td>YC-21895</td><td>Yoseph Carroll</td><td>37.53</td></tr><tr><td>2017</td><td>YS-21880</td><td>Yana Sorensen</td><td>1524.13</td></tr><tr><td>2017</td><td>ZC-21910</td><td>Zuschuss Carroll</td><td>62.34</td></tr><tr><td>2017</td><td>ZD-21925</td><td>Zuschuss Donatelli</td><td>16.59</td></tr></tbody></table></div>"
      ]
     },
     "metadata": {
      "application/vnd.databricks.v1+output": {
       "addedWidgets": {},
       "aggData": [],
       "aggError": "",
       "aggOverflow": false,
       "aggSchema": [],
       "aggSeriesLimitReached": false,
       "aggType": "",
       "arguments": {},
       "columnCustomDisplayInfos": {},
       "data": [
        [
         2014,
         "AA-10315",
         "Alex Avila",
         "280.68"
        ],
        [
         2014,
         "AA-10375",
         "Allen Armold",
         "16.72"
        ],
        [
         2014,
         "AA-10480",
         "Andrew Allen",
         "9.89"
        ],
        [
         2014,
         "AA-10645",
         "Anna Andreadi",
         "77.64"
        ],
        [
         2014,
         "AB-10015",
         "Aaron Bergman",
         "12.82"
        ],
        [
         2014,
         "AB-10105",
         "Adrian Barton",
         "498.73"
        ],
        [
         2014,
         "AB-10150",
         "Aimee Bixby",
         "261.20"
        ],
        [
         2014,
         "AB-10165",
         "Alan Barnes",
         "-1.07"
        ],
        [
         2014,
         "AB-10255",
         "Alejandro Ballentine",
         "6.49"
        ],
        [
         2014,
         "AB-10600",
         "Ann Blume",
         "-23.89"
        ],
        [
         2014,
         "AC-10420",
         "Alyssa Crouse",
         "-14.66"
        ],
        [
         2014,
         "AC-10450",
         "Amy Cox",
         "84.00"
        ],
        [
         2014,
         "AC-10660",
         "Anna Chung",
         "-4.97"
        ],
        [
         2014,
         "AD-10180",
         "Alan Dominguez",
         "-6.60"
        ],
        [
         2014,
         "AF-10885",
         "Art Foster",
         "-258.56"
        ],
        [
         2014,
         "AG-10270",
         "Alejandro Grove",
         "17.99"
        ],
        [
         2014,
         "AG-10300",
         "Aleksandra Gannaway",
         "28.74"
        ],
        [
         2014,
         "AG-10390",
         "Allen Goldenen",
         "67.97"
        ],
        [
         2014,
         "AG-10525",
         "Andy Gerbode",
         "-93.53"
        ],
        [
         2014,
         "AG-10765",
         "Anthony Garverick",
         "-4.12"
        ],
        [
         2014,
         "AG-10900",
         "Arthur Gainer",
         "144.46"
        ],
        [
         2014,
         "AH-10030",
         "Aaron Hawkins",
         "188.28"
        ],
        [
         2014,
         "AH-10075",
         "Adam Hart",
         "2.40"
        ],
        [
         2014,
         "AH-10120",
         "Adrian Hane",
         "-25.91"
        ],
        [
         2014,
         "AH-10210",
         "Alan Hwang",
         "87.19"
        ],
        [
         2014,
         "AH-10585",
         "Angele Hood",
         "41.60"
        ],
        [
         2014,
         "AH-10690",
         "Anna Hberlin",
         "46.20"
        ],
        [
         2014,
         "AI-10855",
         "Arianne Irving",
         "288.24"
        ],
        [
         2014,
         "AJ-10780",
         "Anthony Jacobs",
         "-56.95"
        ],
        [
         2014,
         "AJ-10795",
         "Anthony Johnson",
         "503.26"
        ],
        [
         2014,
         "AJ-10945",
         "Ashley Jarboe",
         "3.40"
        ],
        [
         2014,
         "AJ-10960",
         "Astrea Jones",
         "57.65"
        ],
        [
         2014,
         "AM-10360",
         "Alice McCarthy",
         "7.68"
        ],
        [
         2014,
         "AM-10705",
         "Anne McFarland",
         "472.08"
        ],
        [
         2014,
         "AP-10720",
         "Anne Pryor",
         "54.65"
        ],
        [
         2014,
         "AP-10915",
         "Arthur Prichep",
         "420.69"
        ],
        [
         2014,
         "AR-10345",
         "Alex Russell",
         "-242.44"
        ],
        [
         2014,
         "AR-10405",
         "Allen Rosenblatt",
         "17.59"
        ],
        [
         2014,
         "AR-10510",
         "Andrew Roberts",
         "-8.41"
        ],
        [
         2014,
         "AR-10540",
         "Andy Reiter",
         "20.12"
        ],
        [
         2014,
         "AR-10825",
         "Anthony Rawles",
         "10.37"
        ],
        [
         2014,
         "AS-10045",
         "Aaron Smayling",
         "32.23"
        ],
        [
         2014,
         "AS-10090",
         "Adam Shillingsburg",
         "129.55"
        ],
        [
         2014,
         "AS-10225",
         "Alan Schoenberger",
         "444.69"
        ],
        [
         2014,
         "AS-10240",
         "Alan Shonely",
         "37.35"
        ],
        [
         2014,
         "AS-10630",
         "Ann Steele",
         "71.95"
        ],
        [
         2014,
         "AT-10435",
         "Alyssa Tate",
         "0.84"
        ],
        [
         2014,
         "AT-10735",
         "Annie Thurman",
         "71.66"
        ],
        [
         2014,
         "AW-10930",
         "Arthur Wiediger",
         "-42.56"
        ],
        [
         2014,
         "AY-10555",
         "Andy Yotov",
         "65.60"
        ],
        [
         2014,
         "AZ-10750",
         "Annie Zypern",
         "72.86"
        ],
        [
         2014,
         "BB-10990",
         "Barry Blumstein",
         "0.00"
        ],
        [
         2014,
         "BC-11125",
         "Becky Castell",
         "38.13"
        ],
        [
         2014,
         "BD-11500",
         "Bradley Drucker",
         "309.08"
        ],
        [
         2014,
         "BD-11605",
         "Brian Dahlen",
         "342.92"
        ],
        [
         2014,
         "BD-11620",
         "Brian DeCherney",
         "108.74"
        ],
        [
         2014,
         "BD-11635",
         "Brian Derr",
         "11.49"
        ],
        [
         2014,
         "BF-10975",
         "Barbara Fisher",
         "61.99"
        ],
        [
         2014,
         "BF-11005",
         "Barry Franz",
         "2.37"
        ],
        [
         2014,
         "BF-11020",
         "Barry Französisch",
         "7.21"
        ],
        [
         2014,
         "BF-11080",
         "Bart Folk",
         "3.96"
        ],
        [
         2014,
         "BF-11170",
         "Ben Ferrer",
         "666.39"
        ],
        [
         2014,
         "BF-11215",
         "Benjamin Farhat",
         "21.48"
        ],
        [
         2014,
         "BF-11275",
         "Beth Fritzler",
         "-12.13"
        ],
        [
         2014,
         "BG-11035",
         "Barry Gonzalez",
         "54.19"
        ],
        [
         2014,
         "BG-11695",
         "Brooke Gillingham",
         "9.70"
        ],
        [
         2014,
         "BG-11740",
         "Bruce Geld",
         "3.22"
        ],
        [
         2014,
         "BH-11710",
         "Brosina Hoffman",
         "235.35"
        ],
        [
         2014,
         "BK-11260",
         "Berenike Kampe",
         "-129.02"
        ],
        [
         2014,
         "BM-11140",
         "Becky Martin",
         "-1878.79"
        ],
        [
         2014,
         "BM-11650",
         "Brian Moss",
         "81.65"
        ],
        [
         2014,
         "BM-11785",
         "Bryan Mills",
         "114.10"
        ],
        [
         2014,
         "BN-11470",
         "Brad Norvell",
         "24.68"
        ],
        [
         2014,
         "BN-11515",
         "Bradley Nguyen",
         "185.37"
        ],
        [
         2014,
         "BP-11050",
         "Barry Pond",
         "2.50"
        ],
        [
         2014,
         "BP-11095",
         "Bart Pistole",
         "131.70"
        ],
        [
         2014,
         "BP-11230",
         "Benjamin Patterson",
         "27.56"
        ],
        [
         2014,
         "BP-11290",
         "Beth Paige",
         "-70.10"
        ],
        [
         2014,
         "BS-11365",
         "Bil Shonely",
         "210.70"
        ],
        [
         2014,
         "BS-11380",
         "Bil Stewart",
         "3.94"
        ],
        [
         2014,
         "BS-11590",
         "Brendan Sweed",
         "97.46"
        ],
        [
         2014,
         "BS-11665",
         "Brian Stugart",
         "1.08"
        ],
        [
         2014,
         "BS-11755",
         "Bruce Stewart",
         "-330.55"
        ],
        [
         2014,
         "BT-11305",
         "Beth Thompson",
         "290.89"
        ],
        [
         2014,
         "BT-11395",
         "Bil Tyler",
         "74.81"
        ],
        [
         2014,
         "BT-11440",
         "Bobby Trafton",
         "-5.37"
        ],
        [
         2014,
         "BT-11530",
         "Bradley Talbott",
         "66.77"
        ],
        [
         2014,
         "BT-11680",
         "Brian Thompson",
         "-199.77"
        ],
        [
         2014,
         "BW-11065",
         "Barry Weirich",
         "6.73"
        ],
        [
         2014,
         "BW-11200",
         "Ben Wallace",
         "87.45"
        ],
        [
         2014,
         "CA-11965",
         "Carol Adams",
         "44.77"
        ],
        [
         2014,
         "CA-12265",
         "Christina Anderson",
         "16.97"
        ],
        [
         2014,
         "CA-12310",
         "Christine Abelman",
         "101.40"
        ],
        [
         2014,
         "CA-12775",
         "Cynthia Arntzen",
         "111.79"
        ],
        [
         2014,
         "CB-12025",
         "Cassandra Brandow",
         "5.27"
        ],
        [
         2014,
         "CC-12100",
         "Chad Cunningham",
         "142.85"
        ],
        [
         2014,
         "CC-12145",
         "Charles Crestani",
         "78.74"
        ],
        [
         2014,
         "CC-12220",
         "Chris Cortes",
         "12.40"
        ],
        [
         2014,
         "CC-12475",
         "Cindy Chapman",
         "3.38"
        ],
        [
         2014,
         "CC-12610",
         "Corey Catlett",
         "481.45"
        ],
        [
         2014,
         "CC-12670",
         "Craig Carreira",
         "11.30"
        ],
        [
         2014,
         "CC-12685",
         "Craig Carroll",
         "-45.32"
        ],
        [
         2014,
         "CD-11920",
         "Carlos Daly",
         "11.70"
        ],
        [
         2014,
         "CD-12790",
         "Cynthia Delaney",
         "40.21"
        ],
        [
         2014,
         "CK-12205",
         "Chloris Kastensmidt",
         "82.99"
        ],
        [
         2014,
         "CK-12325",
         "Christine Kargatis",
         "326.42"
        ],
        [
         2014,
         "CK-12595",
         "Clytie Kelty",
         "1.23"
        ],
        [
         2014,
         "CK-12760",
         "Cyma Kinney",
         "66.59"
        ],
        [
         2014,
         "CL-11890",
         "Carl Ludwig",
         "-29.34"
        ],
        [
         2014,
         "CL-12565",
         "Clay Ludtke",
         "199.77"
        ],
        [
         2014,
         "CM-11815",
         "Candace McMahon",
         "25.23"
        ],
        [
         2014,
         "CM-12445",
         "Chuck Magee",
         "10.78"
        ],
        [
         2014,
         "CM-12715",
         "Craig Molinari",
         "206.22"
        ],
        [
         2014,
         "CP-12085",
         "Cathy Prescott",
         "62.39"
        ],
        [
         2014,
         "CP-12340",
         "Christine Phan",
         "-1031.67"
        ],
        [
         2014,
         "CR-12625",
         "Corey Roper",
         "114.40"
        ],
        [
         2014,
         "CR-12730",
         "Craig Reiter",
         "-6.02"
        ],
        [
         2014,
         "CS-11845",
         "Cari Sayre",
         "-13.90"
        ],
        [
         2014,
         "CS-11860",
         "Cari Schnelling",
         "93.74"
        ],
        [
         2014,
         "CS-11950",
         "Carlos Soltero",
         "-88.07"
        ],
        [
         2014,
         "CS-12130",
         "Chad Sievert",
         "84.36"
        ],
        [
         2014,
         "CS-12175",
         "Charles Sheldon",
         "98.11"
        ],
        [
         2014,
         "CS-12250",
         "Chris Selesnick",
         "446.75"
        ],
        [
         2014,
         "CS-12355",
         "Christine Sundaresam",
         "77.03"
        ],
        [
         2014,
         "CS-12400",
         "Christopher Schild",
         "80.63"
        ],
        [
         2014,
         "CS-12505",
         "Cindy Stewart",
         "9.00"
        ],
        [
         2014,
         "CT-11995",
         "Carol Triggs",
         "285.45"
        ],
        [
         2014,
         "CV-12295",
         "Christina VanderZanden",
         "163.49"
        ],
        [
         2014,
         "CW-11905",
         "Carl Weiss",
         "17.16"
        ],
        [
         2014,
         "CY-12745",
         "Craig Yedwab",
         "-336.63"
        ],
        [
         2014,
         "Co-12640",
         "CoreyLock",
         "142.68"
        ],
        [
         2014,
         "DA-13450",
         "Dianna Arnett",
         "21.72"
        ],
        [
         2014,
         "DB-12910",
         "Daniel Byrd",
         "3.63"
        ],
        [
         2014,
         "DB-12970",
         "Darren Budd",
         "17.78"
        ],
        [
         2014,
         "DB-13060",
         "Dave Brooks",
         "409.76"
        ],
        [
         2014,
         "DB-13270",
         "Deborah Brumfield",
         "45.10"
        ],
        [
         2014,
         "DB-13360",
         "Dennis Bolton",
         "79.89"
        ],
        [
         2014,
         "DB-13555",
         "Dorothy Badders",
         "8.35"
        ],
        [
         2014,
         "DB-13615",
         "Doug Bickford",
         "13.49"
        ],
        [
         2014,
         "DB-13660",
         "Duane Benoit",
         "31.01"
        ],
        [
         2014,
         "DC-12850",
         "Dan Campbell",
         "-77.87"
        ],
        [
         2014,
         "DC-13285",
         "Debra Catini",
         "54.80"
        ],
        [
         2014,
         "DD-13570",
         "Dorothy Dickinson",
         "-8.63"
        ],
        [
         2014,
         "DE-13255",
         "NA",
         "9.85"
        ],
        [
         2014,
         "DF-13135",
         "David Flashing",
         "37.88"
        ],
        [
         2014,
         "DG-13300",
         "Deirdre Greer",
         "22.07"
        ],
        [
         2014,
         "DH-13075",
         "Dave Hallsten",
         "323.13"
        ],
        [
         2014,
         "DH-13675",
         "Duane Huffman",
         "87.79"
        ],
        [
         2014,
         "DJ-13420",
         "Denny Joy",
         "39.77"
        ],
        [
         2014,
         "DJ-13510",
         "Don Jones",
         "187.74"
        ],
        [
         2014,
         "DK-12835",
         "Damala Kotsonis",
         "-22.36"
        ],
        [
         2014,
         "DK-12985",
         "Darren Koutras",
         "-8.08"
        ],
        [
         2014,
         "DK-13150",
         "DavidK 'lendrick",
         "78.50"
        ],
        [
         2014,
         "DK-13225",
         "Dean Katz",
         "6.00"
        ],
        [
         2014,
         "DK-13375",
         "Dennis Kane",
         "109.61"
        ],
        [
         2014,
         "DL-12865",
         "Dan Lawera",
         "7.73"
        ],
        [
         2014,
         "DL-12925",
         "Daniel Lacy",
         "-324.87"
        ],
        [
         2014,
         "DL-13315",
         "Delfina Latchford",
         "-11.89"
        ],
        [
         2014,
         "DL-13330",
         "Denise Leinenbach",
         "2.10"
        ],
        [
         2014,
         "DM-12955",
         "Dario Medina",
         "58.40"
        ],
        [
         2014,
         "DM-13015",
         "Darrin Martin",
         "1600.06"
        ],
        [
         2014,
         "DM-13345",
         "Denise Monton",
         "3.71"
        ],
        [
         2014,
         "DM-13525",
         "Don Miller",
         "14.49"
        ],
        [
         2014,
         "DN-13690",
         "Duane Noonan",
         "179.72"
        ],
        [
         2014,
         "DO-13435",
         "Denny Ordway",
         "6.09"
        ],
        [
         2014,
         "DP-13000",
         "Darren Powers",
         "24.24"
        ],
        [
         2014,
         "DP-13165",
         "David Philippe",
         "-41.94"
        ],
        [
         2014,
         "DP-13390",
         "Dennis Pardue",
         "83.79"
        ],
        [
         2014,
         "DR-12940",
         "Daniel Raglin",
         "22.68"
        ],
        [
         2014,
         "DS-13030",
         "Darrin Sayre",
         "29.47"
        ],
        [
         2014,
         "DS-13180",
         "David Smith",
         "57.59"
        ],
        [
         2014,
         "DV-13465",
         "Dianna Vittorini",
         "9.72"
        ],
        [
         2014,
         "DW-13195",
         "David Wiener",
         "55.47"
        ],
        [
         2014,
         "DW-13480",
         "Dianna Wilson",
         "1154.67"
        ],
        [
         2014,
         "DW-13585",
         "Dorothy Wardle",
         "6.63"
        ],
        [
         2014,
         "Dl-13600",
         "Dorris liebe",
         "29.17"
        ],
        [
         2014,
         "Dp-13240",
         "Dean perceR",
         "100.92"
        ],
        [
         2014,
         "EA-14035",
         "Erin Ashbrook",
         "-53.43"
        ],
        [
         2014,
         "EB-13705",
         "Ed Braxton",
         "-127.42"
        ],
        [
         2014,
         "EB-13840",
         "Ellis Ballard",
         "-36.36"
        ],
        [
         2014,
         "EB-13870",
         "Emily Burns",
         "16.02"
        ],
        [
         2014,
         "EB-13930",
         "Eric Barreto",
         "1.35"
        ],
        [
         2014,
         "EB-14170",
         "Evan Bailliet",
         "155.02"
        ],
        [
         2014,
         "EC-14050",
         "Erin Creighton",
         "-4.02"
        ],
        [
         2014,
         "ED-13885",
         "NA",
         "18.48"
        ],
        [
         2014,
         "EH-13765",
         "Edward Hooks",
         "4.05"
        ],
        [
         2014,
         "EH-13945",
         "Eric Hoffmann",
         "22.15"
        ],
        [
         2014,
         "EH-13990",
         "Erica Hackney",
         "54.09"
        ],
        [
         2014,
         "EH-14005",
         "Erica Hernandez",
         "-248.96"
        ],
        [
         2014,
         "EH-14125",
         "Eugene Hildebrand",
         "20.10"
        ],
        [
         2014,
         "EH-14185",
         "Evan Henry",
         "26.42"
        ],
        [
         2014,
         "EJ-13720",
         "Ed Jacobs",
         "-7403.61"
        ],
        [
         2014,
         "EJ-14155",
         "Eva Jacobs",
         "-23.49"
        ],
        [
         2014,
         "EK-13795",
         "Eileen Kiefer",
         "70.49"
        ],
        [
         2014,
         "EM-13825",
         "Elizabeth Moffitt",
         "7.99"
        ],
        [
         2014,
         "EM-14065",
         "ErinMull",
         "59.26"
        ],
        [
         2014,
         "EM-14140",
         "Eugene Moren",
         "2.21"
        ],
        [
         2014,
         "EP-13915",
         "Emily Phan",
         "175.00"
        ],
        [
         2014,
         "ES-14020",
         "Erica Smith",
         "15.22"
        ],
        [
         2014,
         "ES-14080",
         "Erin Smith",
         "134.03"
        ],
        [
         2014,
         "FA-14230",
         "Frank Atkinson",
         "3.58"
        ],
        [
         2014,
         "FC-14335",
         "Fred Chung",
         "112.57"
        ],
        [
         2014,
         "FG-14260",
         "Frank Gastineau",
         "314.52"
        ],
        [
         2014,
         "FH-14275",
         "Frank Hawley",
         "297.17"
        ],
        [
         2014,
         "FH-14365",
         "Fred Hopkins",
         "-172.46"
        ],
        [
         2014,
         "FM-14215",
         "Filia McAdams",
         "228.77"
        ],
        [
         2014,
         "FM-14290",
         "Frank Merwin",
         "22.98"
        ],
        [
         2014,
         "FO-14305",
         "Frank Olsen",
         "245.02"
        ],
        [
         2014,
         "FP-14320",
         "Frank Preis",
         "138.01"
        ],
        [
         2014,
         "GA-14515",
         "George Ashbrook",
         "22.41"
        ],
        [
         2014,
         "GA-14725",
         "Guy Armstrong",
         "101.45"
        ],
        [
         2014,
         "GB-14530",
         "George Bell",
         "-33.19"
        ],
        [
         2014,
         "GD-14590",
         "Giulietta Dortch",
         "21.66"
        ],
        [
         2014,
         "GG-14650",
         "Greg Guthrie",
         "122.55"
        ],
        [
         2014,
         "GH-14410",
         "GaryHansen",
         "53.34"
        ],
        [
         2014,
         "GH-14425",
         "Gary Hwang",
         "1073.14"
        ],
        [
         2014,
         "GK-14620",
         "Grace Kelly",
         "42.92"
        ],
        [
         2014,
         "GM-14440",
         "Gary McGarr",
         "202.78"
        ],
        [
         2014,
         "GM-14455",
         "Gary Mitchum",
         "316.15"
        ],
        [
         2014,
         "GM-14500",
         "Gene McClure",
         "2.69"
        ],
        [
         2014,
         "GM-14680",
         "Greg Matthias",
         "214.53"
        ],
        [
         2014,
         "GM-14695",
         "Greg Maxwell",
         "112.28"
        ],
        [
         2014,
         "GP-14740",
         "Guy Phonely",
         "-35.93"
        ],
        [
         2014,
         "GR-14560",
         "Georgia Rosenberg",
         "359.88"
        ],
        [
         2014,
         "GT-14635",
         "Grant Thornton",
         "-292.19"
        ],
        [
         2014,
         "GT-14710",
         "Greg Tran",
         "738.65"
        ],
        [
         2014,
         "GW-14605",
         "Giulietta Weimer",
         "3.63"
        ],
        [
         2014,
         "GZ-14470",
         "Gary Zandusky",
         "50.43"
        ],
        [
         2014,
         "GZ-14545",
         "George Zrebassa",
         "12.00"
        ],
        [
         2014,
         "HA-14905",
         "Helen Abelman",
         "108.80"
        ],
        [
         2014,
         "HA-14920",
         "Helen Andreada",
         "-57.04"
        ],
        [
         2014,
         "HD-14785",
         "Harold Dahlen",
         "-167.32"
        ],
        [
         2014,
         "HF-14995",
         "Herbert Flentye",
         "132.47"
        ],
        [
         2014,
         "HG-14845",
         "Harry Greene",
         "21.60"
        ],
        [
         2014,
         "HG-14965",
         "Henry Goldwyn",
         "2.45"
        ],
        [
         2014,
         "HG-15025",
         "Hunter Glantz",
         "616.46"
        ],
        [
         2014,
         "HH-15010",
         "Hilary Holden",
         "60.27"
        ],
        [
         2014,
         "HK-14890",
         "Heather Kirkland",
         "240.86"
        ],
        [
         2014,
         "HL-15040",
         "Hunter Lopez",
         "448.03"
        ],
        [
         2014,
         "HM-14860",
         "Harry Marie",
         "-79.13"
        ],
        [
         2014,
         "HP-14815",
         "Harold Pawlan",
         "101.69"
        ],
        [
         2014,
         "HR-14770",
         "Hallie Redmond",
         "1.60"
        ],
        [
         2014,
         "HR-14830",
         "Harold Ryan",
         "79.74"
        ],
        [
         2014,
         "IG-15085",
         "Ivan Gibson",
         "28.35"
        ],
        [
         2014,
         "IL-15100",
         "Ivan Liston",
         "6.91"
        ],
        [
         2014,
         "IM-15055",
         "Ionia McGrath",
         "19.24"
        ],
        [
         2014,
         "IM-15070",
         "Irene Maddox",
         "240.60"
        ],
        [
         2014,
         "JA-15970",
         "Joseph Airdo",
         "96.93"
        ],
        [
         2014,
         "JB-15400",
         "Jennifer Braxton",
         "-124.57"
        ],
        [
         2014,
         "JB-15925",
         "Joni Blumstein",
         "72.58"
        ],
        [
         2014,
         "JC-15340",
         "Jasper Cacioppo",
         "1.33"
        ],
        [
         2014,
         "JC-15775",
         "John Castell",
         "64.08"
        ],
        [
         2014,
         "JC-16105",
         "Julie Creighton",
         "76.49"
        ],
        [
         2014,
         "JD-15895",
         "Jonathan Doherty",
         "-194.20"
        ],
        [
         2014,
         "JD-16015",
         "Joy Daniels",
         "-10.34"
        ],
        [
         2014,
         "JD-16060",
         "Julia Dunbar",
         "8.48"
        ],
        [
         2014,
         "JD-16150",
         "Justin Deggeller",
         "17.56"
        ],
        [
         2014,
         "JE-15610",
         "Jim Epp",
         "27.19"
        ],
        [
         2014,
         "JE-15715",
         "Joe Elijah",
         "-59.80"
        ],
        [
         2014,
         "JE-15745",
         "Joel Eaton",
         "42.10"
        ],
        [
         2014,
         "JF-15190",
         "Jamie Frazer",
         "37.40"
        ],
        [
         2014,
         "JF-15295",
         "Jason Fortune",
         "47.35"
        ],
        [
         2014,
         "JF-15415",
         "Jennifer Ferguson",
         "28.14"
        ],
        [
         2014,
         "JF-15490",
         "Jeremy Farry",
         "35.40"
        ],
        [
         2014,
         "JF-15565",
         "Jill Fjeld",
         "78.55"
        ],
        [
         2014,
         "JG-15115",
         "Jack Garza",
         "734.70"
        ],
        [
         2014,
         "JG-15160",
         "James Galang",
         "378.39"
        ],
        [
         2014,
         "JG-15805",
         "John Grady",
         "28.26"
        ],
        [
         2014,
         "JH-15430",
         "Jennifer Halladay",
         "18.79"
        ],
        [
         2014,
         "JH-15820",
         "John Huston",
         "26.41"
        ],
        [
         2014,
         "JH-15985",
         "Joseph Holt",
         "644.00"
        ],
        [
         2014,
         "JK-15205",
         "Jamie Kunitz",
         "47.81"
        ],
        [
         2014,
         "JK-15325",
         "Jason Klamczynski",
         "17.55"
        ],
        [
         2014,
         "JK-15370",
         "Jay Kimmel",
         "129.54"
        ],
        [
         2014,
         "JK-15625",
         "Jim Karlsson",
         "303.87"
        ],
        [
         2014,
         "JK-15640",
         "Jim Kriz",
         "10.19"
        ],
        [
         2014,
         "JK-15730",
         "Joe Kamberova",
         "-212.61"
        ],
        [
         2014,
         "JK-16120",
         "Julie Kriz",
         "239.98"
        ],
        [
         2014,
         "JL-15130",
         "Jack Lebron",
         "9.87"
        ],
        [
         2014,
         "JL-15175",
         "James Lanier",
         "59.49"
        ],
        [
         2014,
         "JL-15235",
         "Janet Lee",
         "-190.51"
        ],
        [
         2014,
         "JL-15505",
         "Jeremy Lonsdale",
         "41.27"
        ],
        [
         2014,
         "JL-15835",
         "John Lee",
         "-863.93"
        ],
        [
         2014,
         "JL-15850",
         "John Lucas",
         "1.33"
        ],
        [
         2014,
         "JM-15265",
         "Janet Molinari",
         "59.06"
        ],
        [
         2014,
         "JM-15535",
         "Jessica Myrick",
         "58.99"
        ],
        [
         2014,
         "JM-15655",
         "Jim Mitchum",
         "7.72"
        ],
        [
         2014,
         "JM-15865",
         "John Murray",
         "1228.18"
        ],
        [
         2014,
         "JM-16195",
         "Justin MacKendrick",
         "273.40"
        ],
        [
         2014,
         "JO-15145",
         "Jack O'Briant",
         "101.03"
        ],
        [
         2014,
         "JO-15280",
         "Jas O'Carroll",
         "0.97"
        ],
        [
         2014,
         "JP-15460",
         "Jennifer Patt",
         "10.81"
        ],
        [
         2014,
         "JP-15520",
         "Jeremy Pistek",
         "199.41"
        ],
        [
         2014,
         "JP-16135",
         "Julie Prescott",
         "6.92"
        ],
        [
         2014,
         "JS-15595",
         "JiStevenson",
         "-204.14"
        ],
        [
         2014,
         "JS-15880",
         "John Stevenson",
         "-94.66"
        ],
        [
         2014,
         "JS-15940",
         "Joni Sundaresam",
         "2.87"
        ],
        [
         2014,
         "JS-16030",
         "Joy Smith",
         "3.40"
        ],
        [
         2014,
         "KA-16525",
         "Kelly Andreada",
         "49.01"
        ],
        [
         2014,
         "KB-16240",
         "Karen Bern",
         "-1.00"
        ],
        [
         2014,
         "KB-16315",
         "Karl Braun",
         "-29.74"
        ],
        [
         2014,
         "KB-16585",
         "Ken Black",
         "175.16"
        ],
        [
         2014,
         "KB-16600",
         "Ken Brennan",
         "2.85"
        ],
        [
         2014,
         "KC-16255",
         "Karen Carlisle",
         "43.06"
        ],
        [
         2014,
         "KC-16675",
         "Kimberly Carter",
         "5.82"
        ],
        [
         2014,
         "KD-16270",
         "Karen Danels",
         "-1340.60"
        ],
        [
         2014,
         "KD-16345",
         "Katherine Ducich",
         "64.70"
        ],
        [
         2014,
         "KD-16495",
         "Keith Dawkins",
         "35.02"
        ],
        [
         2014,
         "KE-16420",
         "Katrina Edelman",
         "161.63"
        ],
        [
         2014,
         "KF-16285",
         "Karen Ferguson",
         "82.52"
        ],
        [
         2014,
         "KH-16330",
         "Katharine Harms",
         "261.33"
        ],
        [
         2014,
         "KH-16360",
         "Katherine Hughes",
         "-32.05"
        ],
        [
         2014,
         "KH-16510",
         "Keith Herrera",
         "-2.74"
        ],
        [
         2014,
         "KH-16630",
         "Ken Heidel",
         "128.43"
        ],
        [
         2014,
         "KH-16690",
         "Kristen Hastings",
         "1038.59"
        ],
        [
         2014,
         "KL-16555",
         "Kelly Lampkin",
         "-69.25"
        ],
        [
         2014,
         "KL-16645",
         "Ken Lonsdale",
         "395.60"
        ],
        [
         2014,
         "KM-16375",
         "Katherine Murray",
         "955.86"
        ],
        [
         2014,
         "KM-16660",
         "Khloe Miller",
         "3.00"
        ],
        [
         2014,
         "KM-16720",
         "Kunst Miller",
         "213.70"
        ],
        [
         2014,
         "KN-16390",
         "Katherine Nockton",
         "29.95"
        ],
        [
         2014,
         "KN-16450",
         "Kean Nguyen",
         "119.98"
        ],
        [
         2014,
         "KN-16705",
         "Kristi'na Nunn",
         "186.00"
        ],
        [
         2014,
         "KT-16465",
         "Kean Takahito",
         "68.80"
        ],
        [
         2014,
         "KT-16480",
         "Kean Thornton",
         "103.44"
        ],
        [
         2014,
         "KW-16570",
         "Kelly Williams",
         "11.25"
        ],
        [
         2014,
         "LA-16780",
         "Laura Armstrong",
         "482.57"
        ],
        [
         2014,
         "LB-16795",
         "Laurel Beltran",
         "-21.36"
        ],
        [
         2014,
         "LC-16885",
         "Lena Creighton",
         "201.07"
        ],
        [
         2014,
         "LC-16930",
         "Linda Cazamias",
         "29.34"
        ],
        [
         2014,
         "LC-17050",
         "Liz Carlisle",
         "-128.09"
        ],
        [
         2014,
         "LC-17140",
         "Logan Currie",
         "-26.60"
        ],
        [
         2014,
         "LD-17005",
         "Lisa DeCherney",
         "445.51"
        ],
        [
         2014,
         "LE-16810",
         "Laurel Elliston",
         "-12.83"
        ],
        [
         2014,
         "LF-17185",
         "Luke Foster",
         "-3802.08"
        ],
        [
         2014,
         "LH-16750",
         "Larry Hughes",
         "-5.04"
        ],
        [
         2014,
         "LH-16900",
         "Lena Hernandez",
         "282.09"
        ],
        [
         2014,
         "LH-17020",
         "Lisa Hazard",
         "-79.34"
        ],
        [
         2014,
         "LH-17155",
         "Logan Haushalter",
         "9.58"
        ],
        [
         2014,
         "LL-16840",
         "Lauren Leatherbury",
         "110.88"
        ],
        [
         2014,
         "LM-17065",
         "Liz MacKendrick",
         "76.10"
        ],
        [
         2014,
         "LP-17080",
         "Liz Pelletier",
         "0.96"
        ],
        [
         2014,
         "LR-16915",
         "Lena Radford",
         "604.57"
        ],
        [
         2014,
         "LR-17035",
         "Lisa Ryan",
         "48.13"
        ],
        [
         2014,
         "LS-16975",
         "Lindsay Shagiari",
         "138.16"
        ],
        [
         2014,
         "LS-17200",
         "Luke Schmidt",
         "167.72"
        ],
        [
         2014,
         "LS-17230",
         "Lycoris Saunders",
         "9.33"
        ],
        [
         2014,
         "LS-17245",
         "Lynn Smith",
         "230.21"
        ],
        [
         2014,
         "LT-16765",
         "Larry Tron",
         "15.64"
        ],
        [
         2014,
         "LT-17110",
         "Liz Thompson",
         "238.40"
        ],
        [
         2014,
         "LW-16825",
         "Laurel Workman",
         "423.61"
        ],
        [
         2014,
         "LW-17125",
         "Liz Willingham",
         "21.75"
        ],
        [
         2014,
         "LW-17215",
         "Luke Weiss",
         "420.59"
        ],
        [
         2014,
         "MA-17560",
         "Matt Abelman",
         "562.98"
        ],
        [
         2014,
         "MA-17995",
         "Michelle Arnett",
         "53.70"
        ],
        [
         2014,
         "MB-17305",
         "Maria Bertelson",
         "-13.83"
        ],
        [
         2014,
         "MB-18085",
         "Mick Brown",
         "4.88"
        ],
        [
         2014,
         "MC-17275",
         "Marc Crier",
         "235.23"
        ],
        [
         2014,
         "MC-17425",
         "Mark Cousins",
         "135.00"
        ],
        [
         2014,
         "MC-17575",
         "Matt Collins",
         "-6.34"
        ],
        [
         2014,
         "MC-17590",
         "Matt Collister",
         "-137.20"
        ],
        [
         2014,
         "MC-17605",
         "Matt Connell",
         "49.37"
        ],
        [
         2014,
         "MC-17635",
         "Matthew Clasen",
         "41.89"
        ],
        [
         2014,
         "MC-17845",
         "Michael Chen",
         "395.76"
        ],
        [
         2014,
         "MC-18100",
         "Mick Crebagga",
         "-18.73"
        ],
        [
         2014,
         "MC-18130",
         "Mike Caudle",
         "24.98"
        ],
        [
         2014,
         "MD-17350",
         "Maribeth Dona",
         "-84.11"
        ],
        [
         2014,
         "MD-17860",
         "Michael Dominguez",
         "-47.36"
        ],
        [
         2014,
         "ME-17320",
         "Maria Etezadi",
         "1343.07"
        ],
        [
         2014,
         "ME-17725",
         "Max Engle",
         "16.28"
        ],
        [
         2014,
         "ME-18010",
         "Michelle Ellison",
         "104.98"
        ],
        [
         2014,
         "MF-17665",
         "Maureen Fritzler",
         "-459.99"
        ],
        [
         2014,
         "MF-18250",
         "Monica Federle",
         "16.89"
        ],
        [
         2014,
         "MG-17650",
         "Matthew Grinstein",
         "24.37"
        ],
        [
         2014,
         "MG-17680",
         "Maureen Gastineau",
         "12.91"
        ],
        [
         2014,
         "MG-17695",
         "Maureen Gnade",
         "-22.64"
        ],
        [
         2014,
         "MG-17875",
         "Michael Grace",
         "-4.52"
        ],
        [
         2014,
         "MG-17890",
         "Michael Granlund",
         "-4.80"
        ],
        [
         2014,
         "MG-18145",
         "Mike Gockenbach",
         "-152.72"
        ],
        [
         2014,
         "MH-17290",
         "Marc Harrigan",
         "12.21"
        ],
        [
         2014,
         "MH-17440",
         "Mark Haberlin",
         "48.85"
        ],
        [
         2014,
         "MH-17455",
         "Mark Hamilton",
         "8.49"
        ],
        [
         2014,
         "MH-17785",
         "Maya Herman",
         "133.96"
        ],
        [
         2014,
         "MH-18025",
         "Michelle Huthwaite",
         "10.65"
        ],
        [
         2014,
         "MK-17905",
         "Michael Kennedy",
         "43.22"
        ],
        [
         2014,
         "MK-18160",
         "Mike Kennedy",
         "-22.69"
        ],
        [
         2014,
         "ML-17395",
         "Marina Lichtenstein",
         "486.58"
        ],
        [
         2014,
         "ML-17410",
         "Maris LaWare",
         "254.24"
        ],
        [
         2014,
         "MM-17260",
         "Magdelene Morse",
         "51.36"
        ],
        [
         2014,
         "MM-17920",
         "Michael Moore",
         "55.03"
        ],
        [
         2014,
         "MM-18055",
         "Michelle Moray",
         "130.68"
        ],
        [
         2014,
         "MM-18280",
         "Muhammed MacIntyre",
         "-51.52"
        ],
        [
         2014,
         "MN-17935",
         "Michael Nguyen",
         "31.17"
        ],
        [
         2014,
         "MO-17500",
         "Mary O'Rourke",
         "6.04"
        ],
        [
         2014,
         "MP-17470",
         "Mark Packer",
         "279.86"
        ],
        [
         2014,
         "MP-18175",
         "Mike Pelletier",
         "-125.29"
        ],
        [
         2014,
         "MR-17545",
         "Mathew Reese",
         "9.11"
        ],
        [
         2014,
         "MS-17365",
         "Maribethchnelling",
         "143.90"
        ],
        [
         2014,
         "MS-17530",
         "MaryBeth Skach",
         "2.69"
        ],
        [
         2014,
         "MS-17710",
         "Maurice Satty",
         "40.73"
        ],
        [
         2014,
         "MS-17770",
         "Maxwell Schwartz",
         "-102.26"
        ],
        [
         2014,
         "MS-17830",
         "Melanie Seite",
         "10.92"
        ],
        [
         2014,
         "MS-17980",
         "Michael Stewart",
         "16.26"
        ],
        [
         2014,
         "MT-18070",
         "Michelle Tran",
         "-89.70"
        ],
        [
         2014,
         "MV-17485",
         "MarkVan Huff",
         "15.08"
        ],
        [
         2014,
         "MV-18190",
         "Mike Vittorini",
         "11.90"
        ],
        [
         2014,
         "MW-18220",
         "Mitch Webber",
         "1204.43"
        ],
        [
         2014,
         "MW-18235",
         "Mitch Willingham",
         "1449.52"
        ],
        [
         2014,
         "MY-18295",
         "Muhammed YeDwab",
         "-103.13"
        ],
        [
         2014,
         "MZ-17515",
         "Mary Zewe",
         "786.80"
        ],
        [
         2014,
         "NB-18580",
         "Nicole Brennan",
         "24.79"
        ],
        [
         2014,
         "NB-18655",
         "Nona Balk",
         "87.38"
        ],
        [
         2014,
         "NC-18340",
         "Nat Carroll",
         "11.15"
        ],
        [
         2014,
         "NC-18415",
         "Nathan Cano",
         "10.04"
        ],
        [
         2014,
         "NC-18535",
         "Nick Crebassa",
         "690.20"
        ],
        [
         2014,
         "NC-18625",
         "Noah Childs",
         "36.66"
        ],
        [
         2014,
         "ND-18370",
         "Natalie DeCherney",
         "47.61"
        ],
        [
         2014,
         "ND-18460",
         "Neil Ducich",
         "45.43"
        ],
        [
         2014,
         "NF-18385",
         "Natalie Fritzler",
         "186.74"
        ],
        [
         2014,
         "NF-18475",
         "Neil Französisch",
         "31.87"
        ],
        [
         2014,
         "NF-18595",
         "Nicole Fjeld",
         "42.35"
        ],
        [
         2014,
         "NG-18355",
         "Nat Gilpin",
         "219.08"
        ],
        [
         2014,
         "NG-18430",
         "Nathan Gelder",
         "134.82"
        ],
        [
         2014,
         "NH-18610",
         "Nicole Hansen",
         "33.20"
        ],
        [
         2014,
         "NL-18310",
         "Nancy Lomonaco",
         "8.28"
        ],
        [
         2014,
         "NM-18445",
         "Nathan Mautz",
         "2413.85"
        ],
        [
         2014,
         "NP-18325",
         "NA",
         "314.39"
        ],
        [
         2014,
         "NP-18685",
         "Nora Pelletier",
         "33.64"
        ],
        [
         2014,
         "NP-18700",
         "Nora Preis",
         "285.95"
        ],
        [
         2014,
         "NR-18550",
         "Nick Radford",
         "-123.79"
        ],
        [
         2014,
         "NS-18640",
         "Noel Staavos",
         "11.20"
        ],
        [
         2014,
         "NW-18400",
         "Natalie Webber",
         "-387.79"
        ],
        [
         2014,
         "NZ-18565",
         "Nick Zandusky",
         "248.03"
        ],
        [
         2014,
         "ON-18715",
         "Odella Nelson",
         "183.11"
        ],
        [
         2014,
         "PA-19060",
         "Pete Armstrong",
         "45.84"
        ],
        [
         2014,
         "PB-19105",
         "Peter Bhler",
         "204.07"
        ],
        [
         2014,
         "PB-19150",
         "Philip Brown",
         "12.30"
        ],
        [
         2014,
         "PB-19210",
         "Phillip Breyer",
         "21.20"
        ],
        [
         2014,
         "PC-18745",
         "Pamela Coakley",
         "196.69"
        ],
        [
         2014,
         "PC-19000",
         "Pauline Chand",
         "-11.83"
        ],
        [
         2014,
         "PF-19120",
         "Peter Fuller",
         "17.68"
        ],
        [
         2014,
         "PF-19165",
         "Philip Fox",
         "-407.68"
        ],
        [
         2014,
         "PG-18820",
         "Patrick Gardner",
         "54.45"
        ],
        [
         2014,
         "PG-18895",
         "Paul Gonzalez",
         "-70.73"
        ],
        [
         2014,
         "PJ-18835",
         "Patrick Jones",
         "7.95"
        ],
        [
         2014,
         "PJ-19015",
         "Pauline Johnson",
         "2.78"
        ],
        [
         2014,
         "PK-18910",
         "Paul Knutson",
         "9.07"
        ],
        [
         2014,
         "PK-19075",
         "Pete Kriz",
         "13.32"
        ],
        [
         2014,
         "PL-18925",
         "Paul Lucas",
         "31.83"
        ],
        [
         2014,
         "PM-18940",
         "Paul MacIntyre",
         "21.06"
        ],
        [
         2014,
         "PO-18850",
         "Patrick O'Brill",
         "56.31"
        ],
        [
         2014,
         "PO-18865",
         "Patrick O'Donnell",
         "132.18"
        ],
        [
         2014,
         "PO-19195",
         "Phillina Ober",
         "-65.99"
        ],
        [
         2014,
         "PP-18955",
         "Paul Prost",
         "472.39"
        ],
        [
         2014,
         "PR-18880",
         "Patrick Ryan",
         "2.00"
        ],
        [
         2014,
         "PS-18760",
         "Pamela Stobb",
         "11.88"
        ],
        [
         2014,
         "PS-18970",
         "Paul Stevenson",
         "108.00"
        ],
        [
         2014,
         "PS-19045",
         "Penelope Sewall",
         "623.20"
        ],
        [
         2014,
         "PT-19090",
         "PeteTakahito",
         "-8.03"
        ],
        [
         2014,
         "PV-18985",
         "PaulVan Hugh",
         "-4.56"
        ],
        [
         2014,
         "PW-19030",
         "Pauline Webber",
         "17.47"
        ],
        [
         2014,
         "PW-19240",
         "Pierre Wener",
         "-86.27"
        ],
        [
         2014,
         "QJ-19255",
         "Quincy Jones",
         "120.04"
        ],
        [
         2014,
         "RA-19285",
         "Ralph Arnett",
         "0.00"
        ],
        [
         2014,
         "RA-19885",
         "Ruben Ausman",
         "776.48"
        ],
        [
         2014,
         "RA-19915",
         "Russell Applegate",
         "278.43"
        ],
        [
         2014,
         "RA-19945",
         "Ryan Akin",
         "-436.73"
        ],
        [
         2014,
         "RB-19330",
         "Randy Bradley",
         "-90.10"
        ],
        [
         2014,
         "RB-19435",
         "Richard Bierner",
         "65.12"
        ],
        [
         2014,
         "RB-19465",
         "Rick Bensley",
         "336.96"
        ],
        [
         2014,
         "RB-19645",
         "Robert Barroso",
         "24.92"
        ],
        [
         2014,
         "RB-19795",
         "Ross Baird",
         "7.49"
        ],
        [
         2014,
         "RC-19825",
         "Roy Collins",
         "6.88"
        ],
        [
         2014,
         "RC-19960",
         "Ryan Crowe",
         "-98.43"
        ],
        [
         2014,
         "RD-19480",
         "Rick Duston",
         "109.52"
        ],
        [
         2014,
         "RD-19585",
         "Rob Dowd",
         "341.38"
        ],
        [
         2014,
         "RD-19720",
         "Roger Demir",
         "73.68"
        ],
        [
         2014,
         "RD-19810",
         "Ross DeVincentis",
         "7.66"
        ],
        [
         2014,
         "RD-19900",
         "Ruben Dartt",
         "186.49"
        ],
        [
         2014,
         "RD-19930",
         "Russell D'Ascenzo",
         "-23.29"
        ],
        [
         2014,
         "RE-19405",
         "Ricardo Emerson",
         "6.04"
        ],
        [
         2014,
         "RE-19450",
         "Richard Eichhorn",
         "-24.87"
        ],
        [
         2014,
         "RF-19345",
         "Randy Ferguson",
         "92.94"
        ],
        [
         2014,
         "RF-19735",
         "Roland Fjeld",
         "22.65"
        ],
        [
         2014,
         "RF-19840",
         "Roy Französisch",
         "16.17"
        ],
        [
         2014,
         "RH-19495",
         "Rick Hansen",
         "34.94"
        ],
        [
         2014,
         "RH-19510",
         "Rick Huthwaite",
         "10.96"
        ],
        [
         2014,
         "RL-19615",
         "Rob Lucas",
         "42.29"
        ],
        [
         2014,
         "RM-19375",
         "Raymond Messe",
         "13.83"
        ],
        [
         2014,
         "RM-19675",
         "Robert Marley",
         "200.12"
        ],
        [
         2014,
         "RP-19270",
         "Rachel Payne",
         "97.86"
        ],
        [
         2014,
         "RP-19390",
         "Resi Pölking",
         "262.81"
        ],
        [
         2014,
         "RP-19855",
         "Roy Phan",
         "56.53"
        ],
        [
         2014,
         "RR-19525",
         "Rick Reed",
         "543.57"
        ],
        [
         2014,
         "RS-19420",
         "Ricardo Sperren",
         "318.93"
        ],
        [
         2014,
         "RS-19765",
         "Roland Schwarz",
         "552.00"
        ],
        [
         2014,
         "RW-19630",
         "Rob Williams",
         "30.78"
        ],
        [
         2014,
         "SA-20830",
         "SueAnn Reed",
         "351.32"
        ],
        [
         2014,
         "SB-20170",
         "Sarah Bern",
         "-33.39"
        ],
        [
         2014,
         "SB-20185",
         "Sarah Brown",
         "-66.52"
        ],
        [
         2014,
         "SB-20290",
         "Sean Braxton",
         "-1272.36"
        ],
        [
         2014,
         "SC-20020",
         "Sam Craven",
         "-360.83"
        ],
        [
         2014,
         "SC-20050",
         "SampleCompany A",
         "764.53"
        ],
        [
         2014,
         "SC-20095",
         "Sanjit Chand",
         "5462.59"
        ],
        [
         2014,
         "SC-20260",
         "Scott Cohen",
         "96.77"
        ],
        [
         2014,
         "SC-20305",
         "Sean Christensen",
         "93.40"
        ],
        [
         2014,
         "SC-20380",
         "ShahiCollister",
         "-3462.20"
        ],
        [
         2014,
         "SC-20575",
         "Sonia Cooley",
         "32.39"
        ],
        [
         2014,
         "SC-20680",
         "Steve Carroll",
         "31.53"
        ],
        [
         2014,
         "SC-20695",
         "Steve Chapman",
         "52.53"
        ],
        [
         2014,
         "SC-20725",
         "Steven Cartwright",
         "114.84"
        ],
        [
         2014,
         "SD-20485",
         "Shirley Daniels",
         "122.77"
        ],
        [
         2014,
         "SE-20110",
         "Sanjit Engle",
         "54.41"
        ],
        [
         2014,
         "SF-20065",
         "Sandra Flanagan",
         "98.59"
        ],
        [
         2014,
         "SF-20200",
         "Sarah Foster",
         "58.03"
        ],
        [
         2014,
         "SF-20965",
         "Sylvia Foulston",
         "12.27"
        ],
        [
         2014,
         "SG-20470",
         "Sheri Gordon",
         "150.92"
        ],
        [
         2014,
         "SG-20605",
         "Speros Goranitis",
         "274.85"
        ],
        [
         2014,
         "SG-20890",
         "Susan Gilcrest",
         "2.94"
        ],
        [
         2014,
         "SH-19975",
         "NA",
         "54.47"
        ],
        [
         2014,
         "SH-20395",
         "ShahiHopkins",
         "-252.19"
        ],
        [
         2014,
         "SH-20635",
         "Stefanie Holloman",
         "70.20"
        ],
        [
         2014,
         "SJ-20500",
         "Shirley Jackson",
         "57.93"
        ],
        [
         2014,
         "SL-20155",
         "Sara Luxemburg",
         "22.25"
        ],
        [
         2014,
         "SM-20005",
         "Sally Matthias",
         "51.25"
        ],
        [
         2014,
         "SM-20320",
         "Sean Miller",
         "-1789.74"
        ],
        [
         2014,
         "SM-20950",
         "Suzanne McNair",
         "-372.11"
        ],
        [
         2014,
         "SN-20710",
         "Steve Nguyen",
         "32.94"
        ],
        [
         2014,
         "SP-20545",
         "Sibella Parks",
         "2.81"
        ],
        [
         2014,
         "SP-20620",
         "Stefania Perrino",
         "67.46"
        ],
        [
         2014,
         "SP-20650",
         "Stephanie Phelps",
         "72.40"
        ],
        [
         2014,
         "SP-20860",
         "Sung Pak",
         "1.19"
        ],
        [
         2014,
         "SP-20920",
         "Susan Pistek",
         "24.22"
        ],
        [
         2014,
         "SR-20425",
         "Sharelle Roach",
         "57.49"
        ],
        [
         2014,
         "SR-20740",
         "Steven Roelle",
         "130.18"
        ],
        [
         2014,
         "SS-20140",
         "Saphhira Shifley",
         "-88.04"
        ],
        [
         2014,
         "SS-20410",
         "ShahiShariari",
         "-565.75"
        ],
        [
         2014,
         "SS-20515",
         "Shirley Schmidt",
         "11.05"
        ],
        [
         2014,
         "SS-20590",
         "Sonia Sunley",
         "15.51"
        ],
        [
         2014,
         "SS-20875",
         "Sung Shariari",
         "-9.15"
        ],
        [
         2014,
         "ST-20530",
         "Shui Tom",
         "45.32"
        ],
        [
         2014,
         "SV-20365",
         "Seth Vernon",
         "-218.93"
        ],
        [
         2014,
         "SV-20785",
         "Stewart Visinsky",
         "189.13"
        ],
        [
         2014,
         "SW-20245",
         "Scot Wooten",
         "-27.20"
        ],
        [
         2014,
         "SW-20275",
         "Scott Williamson",
         "11.00"
        ],
        [
         2014,
         "SW-20755",
         "Steven Ward",
         "19.72"
        ],
        [
         2014,
         "SZ-20035",
         "Sam Zeldin",
         "6.49"
        ],
        [
         2014,
         "TA-21385",
         "Tom Ashbrook",
         "180.52"
        ],
        [
         2014,
         "TB-21175",
         "Thomas Boland",
         "6.04"
        ],
        [
         2014,
         "TB-21190",
         "Thomas Brumley",
         "161.97"
        ],
        [
         2014,
         "TB-21250",
         "Tim Brockman",
         "13.80"
        ],
        [
         2014,
         "TB-21280",
         "Toby Braunhardt",
         "200.14"
        ],
        [
         2014,
         "TB-21400",
         "Tom Boeckenhauer",
         "2567.33"
        ],
        [
         2014,
         "TB-21520",
         "Tracy Blumstein",
         "-125.24"
        ],
        [
         2014,
         "TB-21595",
         "Troy Blackwell",
         "6.75"
        ],
        [
         2014,
         "TB-21625",
         "Trudy Brown",
         "83.99"
        ],
        [
         2014,
         "TC-20980",
         "Tamara Chand",
         "178.65"
        ],
        [
         2014,
         "TC-21295",
         "Toby Carlisle",
         "402.54"
        ],
        [
         2014,
         "TC-21475",
         "Tony Chapman",
         "-16.47"
        ],
        [
         2014,
         "TC-21535",
         "Tracy Collins",
         "3.36"
        ],
        [
         2014,
         "TD-20995",
         "Tamara Dahlen",
         "9.23"
        ],
        [
         2014,
         "TG-21640",
         "Trudy Glocke",
         "89.42"
        ],
        [
         2014,
         "TH-21100",
         "Thea Hendricks",
         "-155.27"
        ],
        [
         2014,
         "TH-21115",
         "Thea Hudgings",
         "5.45"
        ],
        [
         2014,
         "TH-21235",
         "Tiffany House",
         "-2.93"
        ],
        [
         2014,
         "TH-21550",
         "Tracy Hopkins",
         "26.63"
        ],
        [
         2014,
         "TM-21010",
         "Tamara Manning",
         "112.58"
        ],
        [
         2014,
         "TN-21040",
         "Tanja Norvell",
         "21.25"
        ],
        [
         2014,
         "TR-21325",
         "Toby Ritter",
         "28.52"
        ],
        [
         2014,
         "TS-21160",
         "Theresa Swint",
         "-2.00"
        ],
        [
         2014,
         "TS-21205",
         "Thomas Seio",
         "471.81"
        ],
        [
         2014,
         "TS-21340",
         "Toby Swindell",
         "-285.00"
        ],
        [
         2014,
         "TS-21370",
         "Todd Sumrall",
         "18.62"
        ],
        [
         2014,
         "TS-21430",
         "Tom Stivers",
         "17.14"
        ],
        [
         2014,
         "TS-21505",
         "NA",
         "87.45"
        ],
        [
         2014,
         "TS-21610",
         "Troy Staebel",
         "-227.49"
        ],
        [
         2014,
         "TT-21070",
         "Ted Trevino",
         "121.40"
        ],
        [
         2014,
         "TT-21220",
         "Thomas Thornton",
         "18.38"
        ],
        [
         2014,
         "TW-21025",
         "Tamara Willingham",
         "100.14"
        ],
        [
         2014,
         "TZ-21580",
         "Tracy Zic",
         "132.30"
        ],
        [
         2014,
         "VD-21670",
         "Valerie Dominguez",
         "576.56"
        ],
        [
         2014,
         "VF-21715",
         "Vicky Freymann",
         "-158.76"
        ],
        [
         2014,
         "VG-21790",
         "Vivek Gonzalez",
         "19.54"
        ],
        [
         2014,
         "VG-21805",
         "Vivek Grady",
         "-82.88"
        ],
        [
         2014,
         "VM-21685",
         "Valerie Mitchum",
         "78.23"
        ],
        [
         2014,
         "VM-21835",
         "Vivian Mathis",
         "6.51"
        ],
        [
         2014,
         "VP-21760",
         "Victoria Pisteka",
         "118.07"
        ],
        [
         2014,
         "VS-21820",
         "Vivek Sundaresam",
         "-72.25"
        ],
        [
         2014,
         "VT-21700",
         "Valerie Takahito",
         "33.00"
        ],
        [
         2014,
         "VW-21775",
         "Victoria Wilson",
         "-65.32"
        ],
        [
         2014,
         "WB-21850",
         "William Brown",
         "106.42"
        ],
        [
         2014,
         "XP-21865",
         "Xylona Preis",
         "202.31"
        ],
        [
         2014,
         "YC-21895",
         "Yoseph Carroll",
         "833.77"
        ],
        [
         2014,
         "ZC-21910",
         "Zuschuss Carroll",
         "328.83"
        ],
        [
         2014,
         "ZD-21925",
         "Zuschuss Donatelli",
         "25.49"
        ],
        [
         2015,
         "AA-10315",
         "Alex Avila",
         "7.00"
        ],
        [
         2015,
         "AA-10375",
         "Allen Armold",
         "69.03"
        ],
        [
         2015,
         "AA-10645",
         "Anna Andreadi",
         "439.31"
        ],
        [
         2015,
         "AB-10060",
         "Adam Bellavance",
         "8.71"
        ],
        [
         2015,
         "AB-10105",
         "Adrian Barton",
         "-142.67"
        ],
        [
         2015,
         "AB-10150",
         "Aimee Bixby",
         "7.02"
        ],
        [
         2015,
         "AB-10165",
         "Alan Barnes",
         "79.94"
        ],
        [
         2015,
         "AB-10255",
         "Alejandro Ballentine",
         "34.34"
        ],
        [
         2015,
         "AB-10600",
         "Ann Blume",
         "5.07"
        ],
        [
         2015,
         "AC-10450",
         "Amy Cox",
         "24.98"
        ],
        [
         2015,
         "AC-10615",
         "Ann Chong",
         "-32.30"
        ],
        [
         2015,
         "AD-10180",
         "Alan Dominguez",
         "9.60"
        ],
        [
         2015,
         "AF-10870",
         "Art Ferguson",
         "2.02"
        ],
        [
         2015,
         "AF-10885",
         "Art Foster",
         "101.18"
        ],
        [
         2015,
         "AG-10270",
         "Alejandro Grove",
         "16.96"
        ],
        [
         2015,
         "AG-10300",
         "Aleksandra Gannaway",
         "8.39"
        ],
        [
         2015,
         "AG-10495",
         "Andrew Gjertsen",
         "264.76"
        ],
        [
         2015,
         "AG-10525",
         "Andy Gerbode",
         "-59.22"
        ],
        [
         2015,
         "AG-10675",
         "Anna Gayman",
         "-25.99"
        ],
        [
         2015,
         "AG-10765",
         "Anthony Garverick",
         "61.71"
        ],
        [
         2015,
         "AG-10900",
         "Arthur Gainer",
         "18.82"
        ],
        [
         2015,
         "AH-10030",
         "Aaron Hawkins",
         "136.56"
        ],
        [
         2015,
         "AH-10075",
         "Adam Hart",
         "0.34"
        ],
        [
         2015,
         "AH-10195",
         "Alan Haines",
         "-12.10"
        ],
        [
         2015,
         "AH-10210",
         "Alan Hwang",
         "269.15"
        ],
        [
         2015,
         "AH-10465",
         "Amy Hunt",
         "-342.08"
        ],
        [
         2015,
         "AH-10690",
         "Anna Hberlin",
         "106.62"
        ],
        [
         2015,
         "AI-10855",
         "Arianne Irving",
         "17.03"
        ],
        [
         2015,
         "AJ-10780",
         "Anthony Jacobs",
         "5.32"
        ],
        [
         2015,
         "AJ-10945",
         "Ashley Jarboe",
         "316.58"
        ],
        [
         2015,
         "AM-10360",
         "Alice McCarthy",
         "178.90"
        ],
        [
         2015,
         "AM-10705",
         "Anne McFarland",
         "14.70"
        ],
        [
         2015,
         "AP-10720",
         "Anne Pryor",
         "-1.36"
        ],
        [
         2015,
         "AR-10345",
         "Alex Russell",
         "-2.57"
        ],
        [
         2015,
         "AR-10405",
         "Allen Rosenblatt",
         "105.47"
        ],
        [
         2015,
         "AR-10510",
         "Andrew Roberts",
         "27.99"
        ],
        [
         2015,
         "AR-10540",
         "Andy Reiter",
         "247.28"
        ],
        [
         2015,
         "AR-10825",
         "Anthony Rawles",
         "9.33"
        ],
        [
         2015,
         "AS-10090",
         "Adam Shillingsburg",
         "243.86"
        ],
        [
         2015,
         "AS-10225",
         "Alan Schoenberger",
         "12.86"
        ],
        [
         2015,
         "AS-10240",
         "Alan Shonely",
         "5.08"
        ],
        [
         2015,
         "AS-10630",
         "Ann Steele",
         "-10.81"
        ],
        [
         2015,
         "AT-10435",
         "Alyssa Tate",
         "-2.53"
        ],
        [
         2015,
         "AT-10735",
         "Annie Thurman",
         "739.52"
        ],
        [
         2015,
         "AW-10840",
         "Anthony Witt",
         "-13.50"
        ],
        [
         2015,
         "AW-10930",
         "Arthur Wiediger",
         "64.24"
        ],
        [
         2015,
         "AZ-10750",
         "Annie Zypern",
         "34.34"
        ],
        [
         2015,
         "BB-10990",
         "Barry Blumstein",
         "-8.22"
        ],
        [
         2015,
         "BB-11545",
         "Brenda Bowman",
         "-77.85"
        ],
        [
         2015,
         "BC-11125",
         "Becky Castell",
         "92.00"
        ],
        [
         2015,
         "BD-11320",
         "Bil Donatelli",
         "799.49"
        ],
        [
         2015,
         "BD-11500",
         "Bradley Drucker",
         "70.98"
        ],
        [
         2015,
         "BD-11560",
         "Brendan Dodson",
         "36.47"
        ],
        [
         2015,
         "BD-11605",
         "Brian Dahlen",
         "79.41"
        ],
        [
         2015,
         "BD-11635",
         "Brian Derr",
         "102.25"
        ],
        [
         2015,
         "BD-11725",
         "Bruce Degenhardt",
         "149.49"
        ],
        [
         2015,
         "BE-11455",
         "Brad Eason",
         "120.21"
        ],
        [
         2015,
         "BF-10975",
         "Barbara Fisher",
         "0.96"
        ],
        [
         2015,
         "BF-11020",
         "Barry Französisch",
         "269.31"
        ],
        [
         2015,
         "BF-11170",
         "Ben Ferrer",
         "137.03"
        ],
        [
         2015,
         "BG-11035",
         "Barry Gonzalez",
         "-998.91"
        ],
        [
         2015,
         "BG-11695",
         "Brooke Gillingham",
         "28.31"
        ],
        [
         2015,
         "BG-11740",
         "Bruce Geld",
         "15.07"
        ],
        [
         2015,
         "BH-11710",
         "Brosina Hoffman",
         "5.84"
        ],
        [
         2015,
         "BK-11260",
         "Berenike Kampe",
         "42.04"
        ],
        [
         2015,
         "BM-11575",
         "Brendan Murry",
         "37.33"
        ],
        [
         2015,
         "BM-11650",
         "Brian Moss",
         "181.48"
        ],
        [
         2015,
         "BM-11785",
         "Bryan Mills",
         "-39.67"
        ],
        [
         2015,
         "BN-11470",
         "Brad Norvell",
         "4.09"
        ],
        [
         2015,
         "BO-11425",
         "Bobby Odegard",
         "2.07"
        ],
        [
         2015,
         "BP-11095",
         "Bart Pistole",
         "53.56"
        ],
        [
         2015,
         "BP-11155",
         "''Becky Pak",
         "431.98"
        ],
        [
         2015,
         "BP-11185",
         "Ben Peterman",
         "66.76"
        ],
        [
         2015,
         "BP-11230",
         "Benjamin Patterson",
         "-255.74"
        ],
        [
         2015,
         "BS-11380",
         "Bil Stewart",
         "206.62"
        ],
        [
         2015,
         "BS-11590",
         "Brendan Sweed",
         "103.10"
        ],
        [
         2015,
         "BS-11665",
         "Brian Stugart",
         "175.39"
        ],
        [
         2015,
         "BS-11755",
         "Bruce Stewart",
         "18.45"
        ],
        [
         2015,
         "BS-11800",
         "Bryan Spruell",
         "77.11"
        ],
        [
         2015,
         "BT-11305",
         "Beth Thompson",
         "87.46"
        ],
        [
         2015,
         "BT-11395",
         "Bil Tyler",
         "194.73"
        ],
        [
         2015,
         "BT-11485",
         "Brad Thomas",
         "117.39"
        ],
        [
         2015,
         "BT-11680",
         "Brian Thompson",
         "435.64"
        ],
        [
         2015,
         "BV-11245",
         "Benjamin Venier",
         "82.27"
        ],
        [
         2015,
         "BW-11065",
         "Barry Weirich",
         "12.11"
        ],
        [
         2015,
         "BW-11110",
         "Bart Watters",
         "103.49"
        ],
        [
         2015,
         "CA-11965",
         "Carol Adams",
         "182.16"
        ],
        [
         2015,
         "CA-12055",
         "Cthy Armstrong",
         "-47.73"
        ],
        [
         2015,
         "CA-12265",
         "Christina Anderson",
         "118.66"
        ],
        [
         2015,
         "CA-12775",
         "Cynthia Arntzen",
         "-101.60"
        ],
        [
         2015,
         "CB-12025",
         "Cassandra Brandow",
         "223.45"
        ],
        [
         2015,
         "CB-12415",
         "Christy Brittain",
         "-3.49"
        ],
        [
         2015,
         "CB-12535",
         "Claudia Bergmann",
         "249.13"
        ],
        [
         2015,
         "CC-12100",
         "Chad Cunningham",
         "77.45"
        ],
        [
         2015,
         "CC-12145",
         "Charles Crestani",
         "297.36"
        ],
        [
         2015,
         "CC-12220",
         "Chris Cortes",
         "21.01"
        ],
        [
         2015,
         "CC-12430",
         "Chuck Clark",
         "60.39"
        ],
        [
         2015,
         "CC-12610",
         "Corey Catlett",
         "18.31"
        ],
        [
         2015,
         "CC-12670",
         "Craig Carreira",
         "8.57"
        ],
        [
         2015,
         "CC-12685",
         "Craig Carroll",
         "895.35"
        ],
        [
         2015,
         "CD-11920",
         "Carlos Daly",
         "17.75"
        ],
        [
         2015,
         "CD-12790",
         "Cynthia Delaney",
         "2.53"
        ],
        [
         2015,
         "CG-12040",
         "Catherine Glotzbach",
         "5.76"
        ],
        [
         2015,
         "CG-12520",
         "Claire Gute",
         "-93.38"
        ],
        [
         2015,
         "CH-12070",
         "Cathy Hwang",
         "57.39"
        ],
        [
         2015,
         "CK-12205",
         "Chloris Kastensmidt",
         "5.53"
        ],
        [
         2015,
         "CK-12595",
         "Clytie Kelty",
         "-36.93"
        ],
        [
         2015,
         "CK-12760",
         "Cyma Kinney",
         "14.50"
        ],
        [
         2015,
         "CL-12565",
         "Clay Ludtke",
         "490.36"
        ],
        [
         2015,
         "CM-11935",
         "Carlos Meador",
         "13.17"
        ],
        [
         2015,
         "CM-12115",
         "Chad McGuire",
         "8.11"
        ],
        [
         2015,
         "CM-12190",
         "Charlotte Melton",
         "16.89"
        ],
        [
         2015,
         "CM-12385",
         "Christopher Martinez",
         "3197.77"
        ],
        [
         2015,
         "CM-12655",
         "Corinna Mitchell",
         "116.62"
        ],
        [
         2015,
         "CM-12715",
         "Craig Molinari",
         "-29.90"
        ],
        [
         2015,
         "CP-12085",
         "Cathy Prescott",
         "102.44"
        ],
        [
         2015,
         "CP-12340",
         "Christine Phan",
         "-1044.46"
        ],
        [
         2015,
         "CR-12820",
         "Cyra Reiten",
         "2.13"
        ],
        [
         2015,
         "CS-11845",
         "Cari Sayre",
         "-5.73"
        ],
        [
         2015,
         "CS-11860",
         "Cari Schnelling",
         "-2.84"
        ],
        [
         2015,
         "CS-11950",
         "Carlos Soltero",
         "16.46"
        ],
        [
         2015,
         "CS-12130",
         "Chad Sievert",
         "45.72"
        ],
        [
         2015,
         "CS-12250",
         "Chris Selesnick",
         "95.26"
        ],
        [
         2015,
         "CS-12355",
         "Christine Sundaresam",
         "288.11"
        ],
        [
         2015,
         "CS-12400",
         "Christopher Schild",
         "75.70"
        ],
        [
         2015,
         "CS-12490",
         "Cindy Schnelling",
         "-58.13"
        ],
        [
         2015,
         "CS-12505",
         "Cindy Stewart",
         "17.34"
        ],
        [
         2015,
         "CT-11995",
         "Carol Triggs",
         "19.45"
        ],
        [
         2015,
         "CW-11905",
         "Carl Weiss",
         "21.11"
        ],
        [
         2015,
         "CY-12745",
         "Craig Yedwab",
         "107.00"
        ],
        [
         2015,
         "Co-12640",
         "CoreyLock",
         "44.03"
        ],
        [
         2015,
         "DB-12970",
         "Darren Budd",
         "45.65"
        ],
        [
         2015,
         "DB-13120",
         "David Bremer",
         "-285.06"
        ],
        [
         2015,
         "DB-13210",
         "Dean Braden",
         "-41.79"
        ],
        [
         2015,
         "DB-13270",
         "Deborah Brumfield",
         "1.72"
        ],
        [
         2015,
         "DB-13360",
         "Dennis Bolton",
         "15.61"
        ],
        [
         2015,
         "DB-13405",
         "Denny Blanton",
         "266.33"
        ],
        [
         2015,
         "DB-13615",
         "Doug Bickford",
         "342.08"
        ],
        [
         2015,
         "DB-13660",
         "Duane Benoit",
         "-17.29"
        ],
        [
         2015,
         "DC-12850",
         "Dan Campbell",
         "4.89"
        ],
        [
         2015,
         "DC-13285",
         "Debra Catini",
         "55.75"
        ],
        [
         2015,
         "DE-13255",
         "NA",
         "438.48"
        ],
        [
         2015,
         "DF-13135",
         "David Flashing",
         "99.94"
        ],
        [
         2015,
         "DG-13300",
         "Deirdre Greer",
         "0.42"
        ],
        [
         2015,
         "DH-13075",
         "Dave Hallsten",
         "783.23"
        ],
        [
         2015,
         "DH-13675",
         "Duane Huffman",
         "28.89"
        ],
        [
         2015,
         "DJ-13420",
         "Denny Joy",
         "64.99"
        ],
        [
         2015,
         "DJ-13630",
         "Doug Jacobs",
         "36.00"
        ],
        [
         2015,
         "DK-12835",
         "Damala Kotsonis",
         "369.26"
        ],
        [
         2015,
         "DK-12895",
         "Dana Kaydos",
         "609.59"
        ],
        [
         2015,
         "DK-12985",
         "Darren Koutras",
         "-76.43"
        ],
        [
         2015,
         "DK-13090",
         "Dave Kipp",
         "173.71"
        ],
        [
         2015,
         "DK-13225",
         "Dean Katz",
         "-339.65"
        ],
        [
         2015,
         "DK-13375",
         "Dennis Kane",
         "-95.80"
        ],
        [
         2015,
         "DL-12865",
         "Dan Lawera",
         "9.04"
        ],
        [
         2015,
         "DL-12925",
         "Daniel Lacy",
         "304.39"
        ],
        [
         2015,
         "DL-13330",
         "Denise Leinenbach",
         "197.98"
        ],
        [
         2015,
         "DL-13495",
         "Dionis Lloyd",
         "50.35"
        ],
        [
         2015,
         "DM-12955",
         "Dario Medina",
         "42.96"
        ],
        [
         2015,
         "DM-13015",
         "Darrin Martin",
         "6.60"
        ],
        [
         2015,
         "DM-13345",
         "Denise Monton",
         "2.84"
        ],
        [
         2015,
         "DM-13525",
         "Don Miller",
         "167.54"
        ],
        [
         2015,
         "DO-13435",
         "Denny Ordway",
         "-136.09"
        ],
        [
         2015,
         "DO-13645",
         "Doug O'Connell",
         "26.82"
        ],
        [
         2015,
         "DP-13000",
         "Darren Powers",
         "260.74"
        ],
        [
         2015,
         "DP-13105",
         "Dave Poirier",
         "16.29"
        ],
        [
         2015,
         "DP-13165",
         "David Philippe",
         "1.00"
        ],
        [
         2015,
         "DP-13390",
         "Dennis Pardue",
         "-223.85"
        ],
        [
         2015,
         "DR-12880",
         "Dan Reichenbach",
         "428.64"
        ],
        [
         2015,
         "DR-12940",
         "Daniel Raglin",
         "296.67"
        ],
        [
         2015,
         "DS-13180",
         "David Smith",
         "182.58"
        ],
        [
         2015,
         "DV-13465",
         "Dianna Vittorini",
         "101.77"
        ],
        [
         2015,
         "DW-13585",
         "Dorothy Wardle",
         "-371.25"
        ],
        [
         2015,
         "Dp-13240",
         "Dean perceR",
         "1145.83"
        ],
        [
         2015,
         "EA-14035",
         "Erin Ashbrook",
         "321.74"
        ],
        [
         2015,
         "EB-13705",
         "Ed Braxton",
         "47.96"
        ],
        [
         2015,
         "EB-13750",
         "Edward Becker",
         "177.41"
        ],
        [
         2015,
         "EB-13840",
         "Ellis Ballard",
         "610.86"
        ],
        [
         2015,
         "EB-13870",
         "Emily Burns",
         "242.30"
        ],
        [
         2015,
         "EB-14110",
         "Eugene Barchas",
         "44.54"
        ],
        [
         2015,
         "EB-14170",
         "Evan Bailliet",
         "119.43"
        ],
        [
         2015,
         "ED-13885",
         "NA",
         "574.81"
        ],
        [
         2015,
         "EG-13900",
         "Emily Grady",
         "55.00"
        ],
        [
         2015,
         "EH-13765",
         "Edward Hooks",
         "224.83"
        ],
        [
         2015,
         "EH-13945",
         "Eric Hoffmann",
         "10.62"
        ],
        [
         2015,
         "EH-13990",
         "Erica Hackney",
         "28.38"
        ],
        [
         2015,
         "EH-14125",
         "Eugene Hildebrand",
         "-117.87"
        ],
        [
         2015,
         "EJ-13720",
         "Ed Jacobs",
         "15.86"
        ],
        [
         2015,
         "EK-13795",
         "Eileen Kiefer",
         "20.54"
        ],
        [
         2015,
         "EM-13810",
         "NA",
         "-202.06"
        ],
        [
         2015,
         "EM-13825",
         "Elizabeth Moffitt",
         "238.47"
        ],
        [
         2015,
         "EM-13960",
         "Eric Murdock",
         "51.93"
        ],
        [
         2015,
         "EM-14095",
         "Eudokia Martin",
         "192.67"
        ],
        [
         2015,
         "EM-14140",
         "Eugene Moren",
         "271.41"
        ],
        [
         2015,
         "EM-14200",
         "Evan Minnotte",
         "4.00"
        ],
        [
         2015,
         "EN-13780",
         "Edward Nazzal",
         "51.27"
        ],
        [
         2015,
         "EP-13915",
         "Emily Phan",
         "361.20"
        ],
        [
         2015,
         "ER-13855",
         "Elpida Rittenbach",
         "4.57"
        ],
        [
         2015,
         "ES-14020",
         "Erica Smith",
         "44.05"
        ],
        [
         2015,
         "ES-14080",
         "Erin Smith",
         "-27.16"
        ],
        [
         2015,
         "FA-14230",
         "Frank Atkinson",
         "224.56"
        ],
        [
         2015,
         "FC-14245",
         "Frank Carlisle",
         "35.53"
        ],
        [
         2015,
         "FC-14335",
         "Fred Chung",
         "12.60"
        ],
        [
         2015,
         "FH-14350",
         "Fred Harton",
         "365.68"
        ],
        [
         2015,
         "FH-14365",
         "Fred Hopkins",
         "2139.74"
        ],
        [
         2015,
         "FM-14290",
         "Frank Merwin",
         "1.03"
        ],
        [
         2015,
         "FM-14380",
         "Fred McMath",
         "17.48"
        ],
        [
         2015,
         "FO-14305",
         "Frank Olsen",
         "18.98"
        ],
        [
         2015,
         "FP-14320",
         "Frank Preis",
         "-140.57"
        ],
        [
         2015,
         "FW-14395",
         "Fred Waerman",
         "5.48"
        ],
        [
         2015,
         "GA-14515",
         "George Ashbrook",
         "625.85"
        ],
        [
         2015,
         "GA-14725",
         "Guy Armstrong",
         "11.54"
        ],
        [
         2015,
         "GB-14530",
         "George Bell",
         "74.29"
        ],
        [
         2015,
         "GB-14575",
         "Giulietta Baptist",
         "767.60"
        ],
        [
         2015,
         "GG-14650",
         "Greg Guthrie",
         "-115.72"
        ],
        [
         2015,
         "GH-14410",
         "GaryHansen",
         "38.97"
        ],
        [
         2015,
         "GH-14425",
         "Gary Hwang",
         "59.65"
        ],
        [
         2015,
         "GH-14485",
         "Gene Hale",
         "-71.00"
        ],
        [
         2015,
         "GH-14665",
         "Greg Hansen",
         "3.07"
        ],
        [
         2015,
         "GK-14620",
         "Grace Kelly",
         "86.65"
        ],
        [
         2015,
         "GM-14500",
         "Gene McClure",
         "359.46"
        ],
        [
         2015,
         "GP-14740",
         "Guy Phonely",
         "67.77"
        ],
        [
         2015,
         "GT-14635",
         "Grant Thornton",
         "8.87"
        ],
        [
         2015,
         "GT-14710",
         "Greg Tran",
         "974.31"
        ],
        [
         2015,
         "GT-14755",
         "Guy Thornton",
         "27.20"
        ],
        [
         2015,
         "GW-14605",
         "Giulietta Weimer",
         "134.33"
        ],
        [
         2015,
         "GZ-14470",
         "Gary Zandusky",
         "126.31"
        ],
        [
         2015,
         "HA-14905",
         "Helen Abelman",
         "111.28"
        ],
        [
         2015,
         "HA-14920",
         "Helen Andreada",
         "197.83"
        ],
        [
         2015,
         "HD-14785",
         "Harold Dahlen",
         "30.99"
        ],
        [
         2015,
         "HG-14845",
         "Harry Greene",
         "-2.01"
        ],
        [
         2015,
         "HG-14965",
         "Henry Goldwyn",
         "34.84"
        ],
        [
         2015,
         "HG-15025",
         "Hunter Glantz",
         "55.90"
        ],
        [
         2015,
         "HJ-14875",
         "Heather Jas",
         "28.71"
        ],
        [
         2015,
         "HK-14890",
         "Heather Kirkland",
         "300.07"
        ],
        [
         2015,
         "HM-14860",
         "Harry Marie",
         "2451.01"
        ],
        [
         2015,
         "HM-14980",
         "Henry MacAllister",
         "73.82"
        ],
        [
         2015,
         "HP-14815",
         "Harold Pawlan",
         "-21.70"
        ],
        [
         2015,
         "HR-14770",
         "Hallie Redmond",
         "48.12"
        ],
        [
         2015,
         "HR-14830",
         "Harold Ryan",
         "116.94"
        ],
        [
         2015,
         "HW-14935",
         "Helen Waerman",
         "17.20"
        ],
        [
         2015,
         "IG-15085",
         "Ivan Gibson",
         "144.35"
        ],
        [
         2015,
         "IL-15100",
         "Ivan Liston",
         "656.68"
        ],
        [
         2015,
         "IM-15070",
         "Irene Maddox",
         "-55.70"
        ],
        [
         2015,
         "JB-15400",
         "Jennifer Braxton",
         "128.05"
        ],
        [
         2015,
         "JB-15925",
         "Joni Blumstein",
         "-359.56"
        ],
        [
         2015,
         "JB-16045",
         "Julia Barnett",
         "106.54"
        ],
        [
         2015,
         "JC-15775",
         "John Castell",
         "27.63"
        ],
        [
         2015,
         "JC-16105",
         "Julie Creighton",
         "62.81"
        ],
        [
         2015,
         "JD-15790",
         "John Dryer",
         "-313.52"
        ],
        [
         2015,
         "JD-15895",
         "Jonathan Doherty",
         "64.82"
        ],
        [
         2015,
         "JD-16060",
         "Julia Dunbar",
         "-29.25"
        ],
        [
         2015,
         "JD-16150",
         "Justin Deggeller",
         "212.64"
        ],
        [
         2015,
         "JE-15475",
         "Jeremy Ellison",
         "57.22"
        ],
        [
         2015,
         "JE-15610",
         "Jim Epp",
         "-129.89"
        ],
        [
         2015,
         "JE-15715",
         "Joe Elijah",
         "50.83"
        ],
        [
         2015,
         "JE-15745",
         "Joel Eaton",
         "-507.06"
        ],
        [
         2015,
         "JF-15190",
         "Jamie Frazer",
         "17.99"
        ],
        [
         2015,
         "JF-15355",
         "Jay Fein",
         "161.11"
        ],
        [
         2015,
         "JF-15415",
         "Jennifer Ferguson",
         "56.64"
        ],
        [
         2015,
         "JF-15490",
         "Jeremy Farry",
         "-103.54"
        ],
        [
         2015,
         "JF-15565",
         "Jill Fjeld",
         "147.35"
        ],
        [
         2015,
         "JG-15115",
         "Jack Garza",
         "-50.17"
        ],
        [
         2015,
         "JG-15160",
         "James Galang",
         "736.76"
        ],
        [
         2015,
         "JG-15805",
         "John Grady",
         "8.69"
        ],
        [
         2015,
         "JH-15820",
         "John Huston",
         "19.60"
        ],
        [
         2015,
         "JH-15910",
         "Jonathan Howell",
         "48.66"
        ],
        [
         2015,
         "JH-15985",
         "Joseph Holt",
         "-1429.38"
        ],
        [
         2015,
         "JH-16180",
         "Justin Hirsh",
         "106.41"
        ],
        [
         2015,
         "JJ-15445",
         "Jennifer Jackson",
         "181.85"
        ],
        [
         2015,
         "JJ-15760",
         "Joel Jenkins",
         "34.46"
        ],
        [
         2015,
         "JK-15205",
         "Jamie Kunitz",
         "615.03"
        ],
        [
         2015,
         "JK-15370",
         "Jay Kimmel",
         "37.34"
        ],
        [
         2015,
         "JK-15625",
         "Jim Karlsson",
         "438.00"
        ],
        [
         2015,
         "JK-15640",
         "Jim Kriz",
         "181.04"
        ],
        [
         2015,
         "JK-15730",
         "Joe Kamberova",
         "42.08"
        ],
        [
         2015,
         "JK-16090",
         "Juliana Krohn",
         "228.90"
        ],
        [
         2015,
         "JK-16120",
         "Julie Kriz",
         "47.93"
        ],
        [
         2015,
         "JL-15175",
         "James Lanier",
         "41.14"
        ],
        [
         2015,
         "JL-15235",
         "Janet Lee",
         "53.47"
        ],
        [
         2015,
         "JL-15835",
         "John Lee",
         "252.42"
        ],
        [
         2015,
         "JL-15850",
         "John Lucas",
         "816.51"
        ],
        [
         2015,
         "JM-15265",
         "Janet Molinari",
         "-11.90"
        ],
        [
         2015,
         "JM-15535",
         "Jessica Myrick",
         "46.85"
        ],
        [
         2015,
         "JM-15865",
         "John Murray",
         "371.88"
        ],
        [
         2015,
         "JM-16195",
         "Justin MacKendrick",
         "221.33"
        ],
        [
         2015,
         "JO-15280",
         "Jas O'Carroll",
         "203.94"
        ],
        [
         2015,
         "JO-15550",
         "Jesus Ocampo",
         "153.91"
        ],
        [
         2015,
         "JP-15460",
         "Jennifer Patt",
         "100.93"
        ],
        [
         2015,
         "JP-15520",
         "Jeremy Pistek",
         "5.01"
        ],
        [
         2015,
         "JP-16135",
         "Julie Prescott",
         "7.43"
        ],
        [
         2015,
         "JR-15670",
         "Jim Radford",
         "-785.16"
        ],
        [
         2015,
         "JR-16210",
         "Justin Ritter",
         "152.39"
        ],
        [
         2015,
         "JS-15595",
         "JiStevenson",
         "4.53"
        ],
        [
         2015,
         "JS-15880",
         "John Stevenson",
         "392.89"
        ],
        [
         2015,
         "JS-15940",
         "Joni Sundaresam",
         "-312.06"
        ],
        [
         2015,
         "JW-15220",
         "Jane Waco",
         "89.20"
        ],
        [
         2015,
         "JW-15955",
         "Joni Waerman",
         "-201.65"
        ],
        [
         2015,
         "JW-16075",
         "Julia West",
         "133.51"
        ],
        [
         2015,
         "KA-16525",
         "Kelly Andreada",
         "77.97"
        ],
        [
         2015,
         "KB-16240",
         "Karen Bern",
         "19.85"
        ],
        [
         2015,
         "KB-16315",
         "Karl Braun",
         "-18.21"
        ],
        [
         2015,
         "KB-16405",
         "Katrina Bavinger",
         "42.96"
        ],
        [
         2015,
         "KB-16585",
         "Ken Black",
         "66.42"
        ],
        [
         2015,
         "KB-16600",
         "Ken Brennan",
         "17.00"
        ],
        [
         2015,
         "KC-16255",
         "Karen Carlisle",
         "279.99"
        ],
        [
         2015,
         "KC-16540",
         "Kelly Collister",
         "49.27"
        ],
        [
         2015,
         "KD-16270",
         "Karen Danels",
         "129.49"
        ],
        [
         2015,
         "KD-16345",
         "Katherine Ducich",
         "243.53"
        ],
        [
         2015,
         "KD-16495",
         "Keith Dawkins",
         "2810.35"
        ],
        [
         2015,
         "KD-16615",
         "NA",
         "272.58"
        ],
        [
         2015,
         "KE-16420",
         "Katrina Edelman",
         "235.64"
        ],
        [
         2015,
         "KH-16510",
         "Keith Herrera",
         "227.57"
        ],
        [
         2015,
         "KH-16630",
         "Ken Heidel",
         "501.54"
        ],
        [
         2015,
         "KH-16690",
         "Kristen Hastings",
         "-36.13"
        ],
        [
         2015,
         "KL-16645",
         "Ken Lonsdale",
         "252.53"
        ],
        [
         2015,
         "KM-16225",
         "Kalyca Meade",
         "450.16"
        ],
        [
         2015,
         "KM-16375",
         "Katherine Murray",
         "29.31"
        ],
        [
         2015,
         "KM-16660",
         "Khloe Miller",
         "34.35"
        ],
        [
         2015,
         "KM-16720",
         "Kunst Miller",
         "112.10"
        ],
        [
         2015,
         "KN-16390",
         "Katherine Nockton",
         "-191.36"
        ],
        [
         2015,
         "KN-16450",
         "Kean Nguyen",
         "-118.58"
        ],
        [
         2015,
         "KN-16705",
         "Kristi'na Nunn",
         "-183.11"
        ],
        [
         2015,
         "KS-16300",
         "Karen Seio",
         "6.49"
        ],
        [
         2015,
         "KT-16465",
         "Kean Takahito",
         "28.81"
        ],
        [
         2015,
         "KT-16480",
         "Kean Thornton",
         "36.70"
        ],
        [
         2015,
         "KW-16435",
         "Katrina Willman",
         "1600.85"
        ],
        [
         2015,
         "KW-16570",
         "Kelly Williams",
         "97.14"
        ],
        [
         2015,
         "LA-16780",
         "Laura Armstrong",
         "-0.12"
        ],
        [
         2015,
         "LC-16870",
         "NA",
         "107.63"
        ],
        [
         2015,
         "LC-16885",
         "Lena Creighton",
         "1007.75"
        ],
        [
         2015,
         "LC-16960",
         "Lindsay Castell",
         "278.20"
        ],
        [
         2015,
         "LC-17140",
         "Logan Currie",
         "19.40"
        ],
        [
         2015,
         "LE-16810",
         "Laurel Elliston",
         "5.08"
        ],
        [
         2015,
         "LF-17185",
         "Luke Foster",
         "146.21"
        ],
        [
         2015,
         "LH-16900",
         "Lena Hernandez",
         "121.11"
        ],
        [
         2015,
         "LH-17020",
         "Lisa Hazard",
         "-27.00"
        ],
        [
         2015,
         "LH-17155",
         "Logan Haushalter",
         "94.85"
        ],
        [
         2015,
         "LL-16840",
         "Lauren Leatherbury",
         "404.91"
        ],
        [
         2015,
         "LM-17065",
         "Liz MacKendrick",
         "-142.52"
        ],
        [
         2015,
         "LO-17170",
         "Lori Olson",
         "34.45"
        ],
        [
         2015,
         "LR-16915",
         "Lena Radford",
         "30.79"
        ],
        [
         2015,
         "LR-17035",
         "Lisa Ryan",
         "-142.91"
        ],
        [
         2015,
         "LS-16945",
         "Linda Southworth",
         "9.82"
        ],
        [
         2015,
         "LS-16975",
         "Lindsay Shagiari",
         "-108.20"
        ],
        [
         2015,
         "LS-17230",
         "Lycoris Saunders",
         "55.24"
        ],
        [
         2015,
         "LS-17245",
         "Lynn Smith",
         "4.80"
        ],
        [
         2015,
         "LT-16765",
         "Larry Tron",
         "20.16"
        ],
        [
         2015,
         "LT-17110",
         "Liz Thompson",
         "76.22"
        ],
        [
         2015,
         "MA-17560",
         "Matt Abelman",
         "619.06"
        ],
        [
         2015,
         "MA-17995",
         "Michelle Arnett",
         "3.48"
        ],
        [
         2015,
         "MB-17305",
         "Maria Bertelson",
         "77.99"
        ],
        [
         2015,
         "MC-17275",
         "Marc Crier",
         "197.66"
        ],
        [
         2015,
         "MC-17425",
         "Mark Cousins",
         "57.20"
        ],
        [
         2015,
         "MC-17575",
         "Matt Collins",
         "62.77"
        ],
        [
         2015,
         "MC-17605",
         "Matt Connell",
         "13.08"
        ],
        [
         2015,
         "MC-18100",
         "Mick Crebagga",
         "-73.30"
        ],
        [
         2015,
         "MC-18130",
         "Mike Caudle",
         "9.81"
        ],
        [
         2015,
         "MD-17350",
         "Maribeth Dona",
         "51.66"
        ],
        [
         2015,
         "ME-17320",
         "Maria Etezadi",
         "-9.56"
        ],
        [
         2015,
         "ME-17725",
         "Max Engle",
         "39.77"
        ],
        [
         2015,
         "ME-18010",
         "Michelle Ellison",
         "8.77"
        ],
        [
         2015,
         "MF-18250",
         "Monica Federle",
         "152.73"
        ],
        [
         2015,
         "MG-17680",
         "Maureen Gastineau",
         "-1.20"
        ],
        [
         2015,
         "MG-17695",
         "Maureen Gnade",
         "-392.86"
        ],
        [
         2015,
         "MG-17875",
         "Michael Grace",
         "-499.05"
        ],
        [
         2015,
         "MG-17890",
         "Michael Granlund",
         "112.32"
        ],
        [
         2015,
         "MG-18145",
         "Mike Gockenbach",
         "-137.49"
        ],
        [
         2015,
         "MH-17290",
         "Marc Harrigan",
         "2.18"
        ],
        [
         2015,
         "MH-17455",
         "Mark Hamilton",
         "16.18"
        ],
        [
         2015,
         "MH-17620",
         "Matt Hagelstein",
         "14.67"
        ],
        [
         2015,
         "MH-17785",
         "Maya Herman",
         "94.71"
        ],
        [
         2015,
         "MH-18025",
         "Michelle Huthwaite",
         "91.16"
        ],
        [
         2015,
         "MJ-17740",
         "Max Jones",
         "-77.93"
        ],
        [
         2015,
         "MK-17905",
         "Michael Kennedy",
         "0.60"
        ],
        [
         2015,
         "ML-17395",
         "Marina Lichtenstein",
         "-4.94"
        ],
        [
         2015,
         "ML-18265",
         "Muhammed Lee",
         "1.16"
        ],
        [
         2015,
         "MM-17920",
         "Michael Moore",
         "-373.30"
        ],
        [
         2015,
         "MM-18055",
         "Michelle Moray",
         "-247.37"
        ],
        [
         2015,
         "MM-18280",
         "Muhammed MacIntyre",
         "68.20"
        ],
        [
         2015,
         "MO-17800",
         "Meg O'Connel",
         "-16.97"
        ],
        [
         2015,
         "MO-17950",
         "Michael Oakman",
         "-79.31"
        ],
        [
         2015,
         "MP-17470",
         "Mark Packer",
         "311.50"
        ],
        [
         2015,
         "MP-17965",
         "Michael Paige",
         "255.75"
        ],
        [
         2015,
         "MP-18175",
         "Mike Pelletier",
         "526.73"
        ],
        [
         2015,
         "MS-17365",
         "Maribethchnelling",
         "145.50"
        ],
        [
         2015,
         "MS-17530",
         "MaryBeth Skach",
         "45.29"
        ],
        [
         2015,
         "MS-17710",
         "Maurice Satty",
         "299.80"
        ],
        [
         2015,
         "MS-17770",
         "Maxwell Schwartz",
         "209.33"
        ],
        [
         2015,
         "MS-17830",
         "Melanie Seite",
         "32.45"
        ],
        [
         2015,
         "MS-17980",
         "Michael Stewart",
         "59.35"
        ],
        [
         2015,
         "MT-17815",
         "Meg Tillman",
         "1.78"
        ],
        [
         2015,
         "MT-18070",
         "Michelle Tran",
         "-6.29"
        ],
        [
         2015,
         "MV-17485",
         "MarkVan Huff",
         "-1.28"
        ],
        [
         2015,
         "MV-18190",
         "Mike Vittorini",
         "15.36"
        ],
        [
         2015,
         "MW-18220",
         "Mitch Webber",
         "24.50"
        ],
        [
         2015,
         "MY-17380",
         "Maribeth Yedwab",
         "2.65"
        ],
        [
         2015,
         "MZ-17335",
         "Maria Zettner",
         "69.35"
        ],
        [
         2015,
         "MZ-17515",
         "Mary Zewe",
         "8.21"
        ],
        [
         2015,
         "NB-18655",
         "Nona Balk",
         "127.06"
        ],
        [
         2015,
         "NC-18340",
         "Nat Carroll",
         "326.28"
        ],
        [
         2015,
         "NC-18415",
         "Nathan Cano",
         "36.23"
        ],
        [
         2015,
         "NC-18625",
         "Noah Childs",
         "16.85"
        ],
        [
         2015,
         "ND-18370",
         "Natalie DeCherney",
         "330.80"
        ],
        [
         2015,
         "ND-18460",
         "Neil Ducich",
         "18.66"
        ],
        [
         2015,
         "NF-18385",
         "Natalie Fritzler",
         "-1980.38"
        ],
        [
         2015,
         "NF-18475",
         "Neil Französisch",
         "72.89"
        ],
        [
         2015,
         "NF-18595",
         "Nicole Fjeld",
         "258.10"
        ],
        [
         2015,
         "NG-18355",
         "Nat Gilpin",
         "8.05"
        ],
        [
         2015,
         "NG-18430",
         "Nathan Gelder",
         "54.00"
        ],
        [
         2015,
         "NH-18610",
         "Nicole Hansen",
         "85.82"
        ],
        [
         2015,
         "NK-18490",
         "Neil Knudson",
         "1.79"
        ],
        [
         2015,
         "NL-18310",
         "Nancy Lomonaco",
         "34.59"
        ],
        [
         2015,
         "NM-18445",
         "Nathan Mautz",
         "333.50"
        ],
        [
         2015,
         "NM-18520",
         "Neoma Murray",
         "-26.66"
        ],
        [
         2015,
         "NP-18325",
         "NA",
         "852.92"
        ],
        [
         2015,
         "NP-18670",
         "Nra Paige",
         "80.84"
        ],
        [
         2015,
         "NP-18685",
         "Nora Pelletier",
         "449.44"
        ],
        [
         2015,
         "NS-18640",
         "Noel Staavos",
         "151.68"
        ],
        [
         2015,
         "NW-18400",
         "Natalie Webber",
         "1654.06"
        ],
        [
         2015,
         "NZ-18565",
         "Nick Zandusky",
         "82.82"
        ],
        [
         2015,
         "ON-18715",
         "Odella Nelson",
         "-31.11"
        ],
        [
         2015,
         "OT-18730",
         "Olvera Toch",
         "81.00"
        ],
        [
         2015,
         "PA-19060",
         "Pete Armstrong",
         "121.57"
        ],
        [
         2015,
         "PB-18805",
         "Patrick Bzostek",
         "7.56"
        ],
        [
         2015,
         "PB-19150",
         "Philip Brown",
         "157.66"
        ],
        [
         2015,
         "PC-19000",
         "Pauline Chand",
         "-172.51"
        ],
        [
         2015,
         "PF-19120",
         "Peter Fuller",
         "-631.70"
        ],
        [
         2015,
         "PF-19165",
         "Philip Fox",
         "75.23"
        ],
        [
         2015,
         "PG-18820",
         "Patrick Gardner",
         "-564.68"
        ],
        [
         2015,
         "PG-18895",
         "Paul Gonzalez",
         "174.73"
        ],
        [
         2015,
         "PJ-18835",
         "Patrick Jones",
         "382.38"
        ],
        [
         2015,
         "PJ-19015",
         "Pauline Johnson",
         "40.07"
        ],
        [
         2015,
         "PM-18940",
         "Paul MacIntyre",
         "-21.71"
        ],
        [
         2015,
         "PM-19135",
         "Peter McVee",
         "426.81"
        ],
        [
         2015,
         "PN-18775",
         "Parhena Norris",
         "6.46"
        ],
        [
         2015,
         "PO-18850",
         "Patrick O'Brill",
         "7.32"
        ],
        [
         2015,
         "PO-19180",
         "Philisse Overcash",
         "823.24"
        ],
        [
         2015,
         "PO-19195",
         "Phillina Ober",
         "-12.50"
        ],
        [
         2015,
         "PP-18955",
         "Paul Prost",
         "67.56"
        ],
        [
         2015,
         "PR-18880",
         "Patrick Ryan",
         "38.27"
        ],
        [
         2015,
         "PS-18760",
         "Pamela Stobb",
         "-113.10"
        ],
        [
         2015,
         "PS-18970",
         "Paul Stevenson",
         "42.15"
        ],
        [
         2015,
         "PS-19045",
         "Penelope Sewall",
         "1493.94"
        ],
        [
         2015,
         "PW-19030",
         "Pauline Webber",
         "15.15"
        ],
        [
         2015,
         "PW-19240",
         "Pierre Wener",
         "1378.01"
        ],
        [
         2015,
         "QJ-19255",
         "Quincy Jones",
         "1014.47"
        ],
        [
         2015,
         "RA-19285",
         "Ralph Arnett",
         "234.81"
        ],
        [
         2015,
         "RA-19885",
         "Ruben Ausman",
         "1.67"
        ],
        [
         2015,
         "RA-19915",
         "Russell Applegate",
         "-118.15"
        ],
        [
         2015,
         "RA-19945",
         "Ryan Akin",
         "96.54"
        ],
        [
         2015,
         "RB-19435",
         "Richard Bierner",
         "49.57"
        ],
        [
         2015,
         "RB-19645",
         "Robert Barroso",
         "28.43"
        ],
        [
         2015,
         "RB-19705",
         "Roger Barcio",
         "-82.78"
        ],
        [
         2015,
         "RB-19795",
         "Ross Baird",
         "-18.46"
        ],
        [
         2015,
         "RD-19480",
         "Rick Duston",
         "25.41"
        ],
        [
         2015,
         "RD-19585",
         "Rob Dowd",
         "302.64"
        ],
        [
         2015,
         "RD-19660",
         "Robert Dilbeck",
         "-73.41"
        ],
        [
         2015,
         "RD-19720",
         "Roger Demir",
         "23.85"
        ],
        [
         2015,
         "RD-19900",
         "Ruben Dartt",
         "9.09"
        ],
        [
         2015,
         "RD-19930",
         "Russell D'Ascenzo",
         "39.00"
        ],
        [
         2015,
         "RE-19450",
         "Richard Eichhorn",
         "211.06"
        ],
        [
         2015,
         "RF-19345",
         "Randy Ferguson",
         "102.01"
        ],
        [
         2015,
         "RF-19735",
         "Roland Fjeld",
         "187.10"
        ],
        [
         2015,
         "RF-19840",
         "Roy Französisch",
         "0.06"
        ],
        [
         2015,
         "RH-19495",
         "Rick Hansen",
         "480.63"
        ],
        [
         2015,
         "RH-19510",
         "Rick Huthwaite",
         "125.67"
        ],
        [
         2015,
         "RH-19555",
         "Ritsa Hightower",
         "-6.03"
        ],
        [
         2015,
         "RH-19600",
         "Rob Haberlin",
         "165.37"
        ],
        [
         2015,
         "RK-19300",
         "Ralph Kennedy",
         "265.57"
        ],
        [
         2015,
         "RL-19615",
         "Rob Lucas",
         "110.11"
        ],
        [
         2015,
         "RM-19375",
         "Raymond Messe",
         "19.97"
        ],
        [
         2015,
         "RM-19675",
         "Robert Marley",
         "660.52"
        ],
        [
         2015,
         "RO-19780",
         "Rose O'Brian",
         "-998.00"
        ],
        [
         2015,
         "RP-19270",
         "Rachel Payne",
         "-50.04"
        ],
        [
         2015,
         "RP-19390",
         "Resi Pölking",
         "19.71"
        ],
        [
         2015,
         "RP-19855",
         "Roy Phan",
         "375.38"
        ],
        [
         2015,
         "RR-19525",
         "Rick Reed",
         "32.50"
        ],
        [
         2015,
         "RS-19765",
         "Roland Schwarz",
         "5.01"
        ],
        [
         2015,
         "RW-19540",
         "Rick Wilson",
         "-74.62"
        ],
        [
         2015,
         "SA-20830",
         "SueAnn Reed",
         "98.08"
        ],
        [
         2015,
         "SB-20185",
         "Sarah Brown",
         "939.16"
        ],
        [
         2015,
         "SB-20290",
         "Sean Braxton",
         "79.76"
        ],
        [
         2015,
         "SC-20020",
         "Sam Craven",
         "43.32"
        ],
        [
         2015,
         "SC-20050",
         "SampleCompany A",
         "9.10"
        ],
        [
         2015,
         "SC-20095",
         "Sanjit Chand",
         "92.68"
        ],
        [
         2015,
         "SC-20260",
         "Scott Cohen",
         "373.95"
        ],
        [
         2015,
         "SC-20305",
         "Sean Christensen",
         "0.00"
        ],
        [
         2015,
         "SC-20380",
         "ShahiCollister",
         "52.91"
        ],
        [
         2015,
         "SC-20440",
         "Shaun Chance",
         "375.28"
        ],
        [
         2015,
         "SC-20575",
         "Sonia Cooley",
         "-2.43"
        ],
        [
         2015,
         "SC-20680",
         "Steve Carroll",
         "213.70"
        ],
        [
         2015,
         "SC-20695",
         "Steve Chapman",
         "222.93"
        ],
        [
         2015,
         "SC-20725",
         "Steven Cartwright",
         "404.63"
        ],
        [
         2015,
         "SC-20770",
         "Stewart Carmichael",
         "147.72"
        ],
        [
         2015,
         "SC-20800",
         "Stuart Calhoun",
         "40.63"
        ],
        [
         2015,
         "SD-20485",
         "Shirley Daniels",
         "1954.79"
        ],
        [
         2015,
         "SE-20110",
         "Sanjit Engle",
         "159.32"
        ],
        [
         2015,
         "SF-20065",
         "Sandra Flanagan",
         "15.98"
        ],
        [
         2015,
         "SF-20200",
         "Sarah Foster",
         "-87.01"
        ],
        [
         2015,
         "SF-20965",
         "Sylvia Foulston",
         "448.98"
        ],
        [
         2015,
         "SG-20080",
         "Sandra Glassco",
         "352.19"
        ],
        [
         2015,
         "SG-20470",
         "Sheri Gordon",
         "44.50"
        ],
        [
         2015,
         "SG-20605",
         "Speros Goranitis",
         "162.96"
        ],
        [
         2015,
         "SH-19975",
         "NA",
         "51.87"
        ],
        [
         2015,
         "SH-20395",
         "ShahiHopkins",
         "2.24"
        ],
        [
         2015,
         "SH-20635",
         "Stefanie Holloman",
         "190.43"
        ],
        [
         2015,
         "SJ-20125",
         "Sanjit Jacobs",
         "-65.82"
        ],
        [
         2015,
         "SJ-20215",
         "Sarah Jordon",
         "5.90"
        ],
        [
         2015,
         "SL-20155",
         "Sara Luxemburg",
         "64.77"
        ],
        [
         2015,
         "SM-20320",
         "Sean Miller",
         "-225.52"
        ],
        [
         2015,
         "SM-20950",
         "Suzanne McNair",
         "468.40"
        ],
        [
         2015,
         "SN-20560",
         "Skye Norling",
         "184.58"
        ],
        [
         2015,
         "SN-20710",
         "Steve Nguyen",
         "91.21"
        ],
        [
         2015,
         "SO-20335",
         "Sean O'Donnell",
         "-282.31"
        ],
        [
         2015,
         "SP-20620",
         "Stefania Perrino",
         "-0.62"
        ],
        [
         2015,
         "SP-20650",
         "Stephanie Phelps",
         "95.84"
        ],
        [
         2015,
         "SP-20860",
         "Sung Pak",
         "-65.06"
        ],
        [
         2015,
         "SR-20740",
         "Steven Roelle",
         "2.40"
        ],
        [
         2015,
         "SS-20140",
         "Saphhira Shifley",
         "25.79"
        ],
        [
         2015,
         "SS-20410",
         "ShahiShariari",
         "-504.24"
        ],
        [
         2015,
         "SS-20515",
         "Shirley Schmidt",
         "174.01"
        ],
        [
         2015,
         "SS-20590",
         "Sonia Sunley",
         "8.02"
        ],
        [
         2015,
         "SS-20875",
         "Sung Shariari",
         "-79.33"
        ],
        [
         2015,
         "ST-20530",
         "Shui Tom",
         "27.01"
        ],
        [
         2015,
         "SU-20665",
         "Stephanie Ulpright",
         "76.40"
        ],
        [
         2015,
         "SV-20365",
         "Seth Vernon",
         "-191.64"
        ],
        [
         2015,
         "SV-20785",
         "Stewart Visinsky",
         "209.66"
        ],
        [
         2015,
         "SV-20815",
         "Stuart Van",
         "184.20"
        ],
        [
         2015,
         "SW-20245",
         "Scot Wooten",
         "-10.84"
        ],
        [
         2015,
         "SW-20455",
         "Shaun Weien",
         "618.44"
        ],
        [
         2015,
         "SZ-20035",
         "Sam Zeldin",
         "260.19"
        ],
        [
         2015,
         "TB-21190",
         "Thomas Brumley",
         "3.06"
        ],
        [
         2015,
         "TB-21250",
         "Tim Brockman",
         "318.53"
        ],
        [
         2015,
         "TB-21520",
         "Tracy Blumstein",
         "-1524.01"
        ],
        [
         2015,
         "TB-21625",
         "Trudy Brown",
         "-8.47"
        ],
        [
         2015,
         "TC-20980",
         "Tamara Chand",
         "37.72"
        ],
        [
         2015,
         "TC-21475",
         "Tony Chapman",
         "27.00"
        ],
        [
         2015,
         "TC-21535",
         "Tracy Collins",
         "30.65"
        ],
        [
         2015,
         "TD-20995",
         "Tamara Dahlen",
         "-4.52"
        ],
        [
         2015,
         "TG-21310",
         "Toby Gnade",
         "-198.33"
        ],
        [
         2015,
         "TG-21640",
         "Trudy Glocke",
         "191.28"
        ],
        [
         2015,
         "TH-21100",
         "Thea Hendricks",
         "0.81"
        ],
        [
         2015,
         "TH-21550",
         "Tracy Hopkins",
         "391.55"
        ],
        [
         2015,
         "TM-21010",
         "Tamara Manning",
         "255.04"
        ],
        [
         2015,
         "TN-21040",
         "Tanja Norvell",
         "167.98"
        ],
        [
         2015,
         "TP-21130",
         "Theone Pippenger",
         "-1.85"
        ],
        [
         2015,
         "TP-21415",
         "Tom Prescott",
         "64.52"
        ],
        [
         2015,
         "TP-21565",
         "Tracy Poddar",
         "34.74"
        ],
        [
         2015,
         "TS-21085",
         "Thais Sissman",
         "-1.35"
        ],
        [
         2015,
         "TS-21160",
         "Theresa Swint",
         "311.54"
        ],
        [
         2015,
         "TS-21340",
         "Toby Swindell",
         "92.71"
        ],
        [
         2015,
         "TS-21370",
         "Todd Sumrall",
         "1135.10"
        ],
        [
         2015,
         "TS-21655",
         "Trudy Schmidt",
         "-34.09"
        ],
        [
         2015,
         "TT-21070",
         "Ted Trevino",
         "205.15"
        ],
        [
         2015,
         "TT-21220",
         "Thomas Thornton",
         "52.52"
        ],
        [
         2015,
         "TT-21265",
         "Tim Taslimi",
         "61.39"
        ],
        [
         2015,
         "TT-21460",
         "Tonja Turnell",
         "281.00"
        ],
        [
         2015,
         "TW-21025",
         "Tamara Willingham",
         "610.30"
        ],
        [
         2015,
         "TZ-21580",
         "Tracy Zic",
         "15.28"
        ],
        [
         2015,
         "VB-21745",
         "Victoria Brennan",
         "84.62"
        ],
        [
         2015,
         "VD-21670",
         "Valerie Dominguez",
         "990.86"
        ],
        [
         2015,
         "VM-21685",
         "Valerie Mitchum",
         "-3.71"
        ],
        [
         2015,
         "VP-21730",
         "Victor Preis",
         "8.93"
        ],
        [
         2015,
         "VP-21760",
         "Victoria Pisteka",
         "-204.15"
        ],
        [
         2015,
         "VS-21820",
         "Vivek Sundaresam",
         "-176.60"
        ],
        [
         2015,
         "VT-21700",
         "Valerie Takahito",
         "-257.93"
        ],
        [
         2015,
         "VW-21775",
         "Victoria Wilson",
         "-1186.41"
        ],
        [
         2015,
         "WB-21850",
         "William Brown",
         "-87.06"
        ],
        [
         2015,
         "XP-21865",
         "Xylona Preis",
         "24.85"
        ],
        [
         2015,
         "YC-21895",
         "Yoseph Carroll",
         "7.07"
        ],
        [
         2015,
         "YS-21880",
         "Yana Sorensen",
         "254.18"
        ],
        [
         2015,
         "ZC-21910",
         "Zuschuss Carroll",
         "307.48"
        ],
        [
         2016,
         "AA-10315",
         "Alex Avila",
         "-747.09"
        ],
        [
         2016,
         "AA-10375",
         "Allen Armold",
         "122.73"
        ],
        [
         2016,
         "AA-10480",
         "Andrew Allen",
         "420.75"
        ],
        [
         2016,
         "AA-10645",
         "Anna Andreadi",
         "334.63"
        ],
        [
         2016,
         "AB-10015",
         "Aaron Bergman",
         "116.86"
        ],
        [
         2016,
         "AB-10060",
         "Adam Bellavance",
         "1568.05"
        ],
        [
         2016,
         "AB-10105",
         "Adrian Barton",
         "4748.27"
        ],
        [
         2016,
         "AB-10150",
         "Aimee Bixby",
         "5.44"
        ],
        [
         2016,
         "AB-10255",
         "Alejandro Ballentine",
         "26.07"
        ],
        [
         2016,
         "AC-10420",
         "Alyssa Crouse",
         "21.59"
        ],
        [
         2016,
         "AC-10450",
         "Amy Cox",
         "381.04"
        ],
        [
         2016,
         "AC-10660",
         "Anna Chung",
         "8.61"
        ],
        [
         2016,
         "AF-10870",
         "Art Ferguson",
         "390.79"
        ],
        [
         2016,
         "AF-10885",
         "Art Foster",
         "-5.75"
        ],
        [
         2016,
         "AG-10270",
         "Alejandro Grove",
         "696.30"
        ],
        [
         2016,
         "AG-10300",
         "Aleksandra Gannaway",
         "20.48"
        ],
        [
         2016,
         "AG-10330",
         "Alex Grayson",
         "61.74"
        ],
        [
         2016,
         "AG-10390",
         "Allen Goldenen",
         "-7.00"
        ],
        [
         2016,
         "AG-10495",
         "Andrew Gjertsen",
         "6.03"
        ],
        [
         2016,
         "AG-10675",
         "Anna Gayman",
         "-281.56"
        ],
        [
         2016,
         "AG-10900",
         "Arthur Gainer",
         "252.36"
        ],
        [
         2016,
         "AH-10030",
         "Aaron Hawkins",
         "38.04"
        ],
        [
         2016,
         "AH-10075",
         "Adam Hart",
         "332.64"
        ],
        [
         2016,
         "AH-10120",
         "Adrian Hane",
         "-299.15"
        ],
        [
         2016,
         "AH-10195",
         "Alan Haines",
         "-349.36"
        ],
        [
         2016,
         "AH-10210",
         "Alan Hwang",
         "5.57"
        ],
        [
         2016,
         "AH-10465",
         "Amy Hunt",
         "-1.78"
        ],
        [
         2016,
         "AH-10585",
         "Angele Hood",
         "13.45"
        ],
        [
         2016,
         "AH-10690",
         "Anna Hberlin",
         "1144.05"
        ],
        [
         2016,
         "AI-10855",
         "Arianne Irving",
         "485.32"
        ],
        [
         2016,
         "AJ-10780",
         "Anthony Jacobs",
         "-5.70"
        ],
        [
         2016,
         "AJ-10795",
         "Anthony Johnson",
         "400.21"
        ],
        [
         2016,
         "AJ-10945",
         "Ashley Jarboe",
         "33.22"
        ],
        [
         2016,
         "AM-10360",
         "Alice McCarthy",
         "9.97"
        ],
        [
         2016,
         "AM-10705",
         "Anne McFarland",
         "90.26"
        ],
        [
         2016,
         "AO-10810",
         "Anthony O'Donnell",
         "12.10"
        ],
        [
         2016,
         "AP-10720",
         "Anne Pryor",
         "243.58"
        ],
        [
         2016,
         "AP-10915",
         "Arthur Prichep",
         "338.85"
        ],
        [
         2016,
         "AR-10510",
         "Andrew Roberts",
         "18.89"
        ],
        [
         2016,
         "AR-10540",
         "Andy Reiter",
         "9.53"
        ],
        [
         2016,
         "AR-10570",
         "Anemone Ratner",
         "32.64"
        ],
        [
         2016,
         "AR-10825",
         "Anthony Rawles",
         "370.30"
        ],
        [
         2016,
         "AS-10045",
         "Aaron Smayling",
         "92.14"
        ],
        [
         2016,
         "AS-10090",
         "Adam Shillingsburg",
         "22.55"
        ],
        [
         2016,
         "AS-10135",
         "Adrian Shami",
         "1.50"
        ],
        [
         2016,
         "AS-10225",
         "Alan Schoenberger",
         "-6.21"
        ],
        [
         2016,
         "AS-10240",
         "Alan Shonely",
         "23.18"
        ],
        [
         2016,
         "AS-10285",
         "Alejandro Savely",
         "331.37"
        ],
        [
         2016,
         "AS-10630",
         "Ann Steele",
         "6.37"
        ],
        [
         2016,
         "AT-10435",
         "Alyssa Tate",
         "6.43"
        ],
        [
         2016,
         "AT-10735",
         "Annie Thurman",
         "51.67"
        ],
        [
         2016,
         "AW-10930",
         "Arthur Wiediger",
         "-213.35"
        ],
        [
         2016,
         "AY-10555",
         "Andy Yotov",
         "6.70"
        ],
        [
         2016,
         "AZ-10750",
         "Annie Zypern",
         "32.57"
        ],
        [
         2016,
         "BB-10990",
         "Barry Blumstein",
         "12.87"
        ],
        [
         2016,
         "BB-11545",
         "Brenda Bowman",
         "431.81"
        ],
        [
         2016,
         "BC-11125",
         "Becky Castell",
         "62.26"
        ],
        [
         2016,
         "BD-11320",
         "Bil Donatelli",
         "97.23"
        ],
        [
         2016,
         "BD-11605",
         "Brian Dahlen",
         "124.50"
        ],
        [
         2016,
         "BD-11620",
         "Brian DeCherney",
         "20.18"
        ],
        [
         2016,
         "BD-11725",
         "Bruce Degenhardt",
         "18.00"
        ],
        [
         2016,
         "BD-11770",
         "Bryan Davis",
         "110.70"
        ],
        [
         2016,
         "BE-11335",
         "Bil Eplett",
         "47.24"
        ],
        [
         2016,
         "BE-11410",
         "Bobby Elias",
         "577.20"
        ],
        [
         2016,
         "BE-11455",
         "Brad Eason",
         "71.06"
        ],
        [
         2016,
         "BF-10975",
         "Barbara Fisher",
         "157.38"
        ],
        [
         2016,
         "BF-11005",
         "Barry Franz",
         "-365.72"
        ],
        [
         2016,
         "BF-11020",
         "Barry Französisch",
         "20.32"
        ],
        [
         2016,
         "BF-11170",
         "Ben Ferrer",
         "697.47"
        ],
        [
         2016,
         "BF-11215",
         "Benjamin Farhat",
         "173.24"
        ],
        [
         2016,
         "BG-11035",
         "Barry Gonzalez",
         "12.24"
        ],
        [
         2016,
         "BG-11695",
         "Brooke Gillingham",
         "57.92"
        ],
        [
         2016,
         "BG-11740",
         "Bruce Geld",
         "59.29"
        ],
        [
         2016,
         "BH-11710",
         "Brosina Hoffman",
         "428.93"
        ],
        [
         2016,
         "BK-11260",
         "Berenike Kampe",
         "2.23"
        ],
        [
         2016,
         "BM-11140",
         "Becky Martin",
         "118.92"
        ],
        [
         2016,
         "BM-11575",
         "Brendan Murry",
         "109.44"
        ],
        [
         2016,
         "BM-11650",
         "Brian Moss",
         "-2.03"
        ],
        [
         2016,
         "BM-11785",
         "Bryan Mills",
         "56.37"
        ],
        [
         2016,
         "BN-11515",
         "Bradley Nguyen",
         "112.78"
        ],
        [
         2016,
         "BO-11350",
         "Bil Overfelt",
         "358.03"
        ],
        [
         2016,
         "BP-11050",
         "Barry Pond",
         "182.98"
        ],
        [
         2016,
         "BP-11095",
         "Bart Pistole",
         "19.68"
        ],
        [
         2016,
         "BP-11155",
         "''Becky Pak",
         "188.78"
        ],
        [
         2016,
         "BP-11185",
         "Ben Peterman",
         "-33.89"
        ],
        [
         2016,
         "BP-11230",
         "Benjamin Patterson",
         "10.21"
        ],
        [
         2016,
         "BP-11290",
         "Beth Paige",
         "-65.75"
        ],
        [
         2016,
         "BS-11365",
         "Bil Shonely",
         "2405.71"
        ],
        [
         2016,
         "BS-11590",
         "Brendan Sweed",
         "12.36"
        ],
        [
         2016,
         "BS-11665",
         "Brian Stugart",
         "62.26"
        ],
        [
         2016,
         "BS-11755",
         "Bruce Stewart",
         "82.95"
        ],
        [
         2016,
         "BT-11395",
         "Bil Tyler",
         "3.35"
        ],
        [
         2016,
         "BT-11440",
         "Bobby Trafton",
         "-71.90"
        ],
        [
         2016,
         "BT-11485",
         "Brad Thomas",
         "9.48"
        ],
        [
         2016,
         "BT-11530",
         "Bradley Talbott",
         "-4.38"
        ],
        [
         2016,
         "BT-11680",
         "Brian Thompson",
         "176.51"
        ],
        [
         2016,
         "BV-11245",
         "Benjamin Venier",
         "127.01"
        ],
        [
         2016,
         "BW-11110",
         "Bart Watters",
         "97.06"
        ],
        [
         2016,
         "BW-11200",
         "Ben Wallace",
         "173.66"
        ],
        [
         2016,
         "CA-11965",
         "Carol Adams",
         "899.98"
        ],
        [
         2016,
         "CA-12055",
         "Cthy Armstrong",
         "259.37"
        ],
        [
         2016,
         "CA-12265",
         "Christina Anderson",
         "24.60"
        ],
        [
         2016,
         "CA-12310",
         "Christine Abelman",
         "2.10"
        ],
        [
         2016,
         "CA-12775",
         "Cynthia Arntzen",
         "1.67"
        ],
        [
         2016,
         "CB-12025",
         "Cassandra Brandow",
         "161.25"
        ],
        [
         2016,
         "CB-12415",
         "Christy Brittain",
         "201.66"
        ],
        [
         2016,
         "CB-12535",
         "Claudia Bergmann",
         "458.64"
        ],
        [
         2016,
         "CC-12100",
         "Chad Cunningham",
         "-11.70"
        ],
        [
         2016,
         "CC-12145",
         "Charles Crestani",
         "7.86"
        ],
        [
         2016,
         "CC-12220",
         "Chris Cortes",
         "-33.06"
        ],
        [
         2016,
         "CC-12370",
         "Christopher Conant",
         "2083.34"
        ],
        [
         2016,
         "CC-12430",
         "Chuck Clark",
         "255.32"
        ],
        [
         2016,
         "CC-12475",
         "Cindy Chapman",
         "111.12"
        ],
        [
         2016,
         "CC-12610",
         "Corey Catlett",
         "-202.27"
        ],
        [
         2016,
         "CC-12670",
         "Craig Carreira",
         "53.66"
        ],
        [
         2016,
         "CD-11920",
         "Carlos Daly",
         "46.94"
        ],
        [
         2016,
         "CD-11980",
         "Carol Darley",
         "7.75"
        ],
        [
         2016,
         "CD-12790",
         "Cynthia Delaney",
         "346.71"
        ],
        [
         2016,
         "CG-12040",
         "Catherine Glotzbach",
         "58.68"
        ],
        [
         2016,
         "CG-12520",
         "Claire Gute",
         "261.49"
        ],
        [
         2016,
         "CH-12070",
         "Cathy Hwang",
         "126.90"
        ],
        [
         2016,
         "CJ-11875",
         "Carl Jackson",
         "1.65"
        ],
        [
         2016,
         "CJ-12010",
         "Caroline Jumper",
         "1382.97"
        ],
        [
         2016,
         "CK-12205",
         "Chloris Kastensmidt",
         "-128.01"
        ],
        [
         2016,
         "CK-12325",
         "Christine Kargatis",
         "59.08"
        ],
        [
         2016,
         "CK-12595",
         "Clytie Kelty",
         "315.73"
        ],
        [
         2016,
         "CK-12760",
         "Cyma Kinney",
         "101.86"
        ],
        [
         2016,
         "CL-11890",
         "Carl Ludwig",
         "4.35"
        ],
        [
         2016,
         "CL-12565",
         "Clay Ludtke",
         "713.45"
        ],
        [
         2016,
         "CL-12700",
         "Craig Leslie",
         "64.09"
        ],
        [
         2016,
         "CM-11815",
         "Candace McMahon",
         "3.69"
        ],
        [
         2016,
         "CM-11935",
         "Carlos Meador",
         "-56.90"
        ],
        [
         2016,
         "CM-12160",
         "Charles McCrossin",
         "-315.75"
        ],
        [
         2016,
         "CM-12235",
         "Chris McAfee",
         "365.03"
        ],
        [
         2016,
         "CM-12445",
         "Chuck Magee",
         "53.19"
        ],
        [
         2016,
         "CM-12655",
         "Corinna Mitchell",
         "599.89"
        ],
        [
         2016,
         "CP-12085",
         "Cathy Prescott",
         "31.54"
        ],
        [
         2016,
         "CP-12340",
         "Christine Phan",
         "242.84"
        ],
        [
         2016,
         "CR-12580",
         "Clay Rozendal",
         "-34.40"
        ],
        [
         2016,
         "CR-12625",
         "Corey Roper",
         "30.45"
        ],
        [
         2016,
         "CR-12730",
         "Craig Reiter",
         "59.57"
        ],
        [
         2016,
         "CS-11950",
         "Carlos Soltero",
         "-131.20"
        ],
        [
         2016,
         "CS-12130",
         "Chad Sievert",
         "13.75"
        ],
        [
         2016,
         "CS-12175",
         "Charles Sheldon",
         "18.35"
        ],
        [
         2016,
         "CS-12250",
         "Chris Selesnick",
         "22.14"
        ],
        [
         2016,
         "CS-12355",
         "Christine Sundaresam",
         "10.32"
        ],
        [
         2016,
         "CS-12400",
         "Christopher Schild",
         "-114.17"
        ],
        [
         2016,
         "CS-12490",
         "Cindy Schnelling",
         "-244.73"
        ],
        [
         2016,
         "CS-12505",
         "Cindy Stewart",
         "-6696.29"
        ],
        [
         2016,
         "CT-11995",
         "Carol Triggs",
         "-303.26"
        ],
        [
         2016,
         "CV-12295",
         "Christina VanderZanden",
         "51.98"
        ],
        [
         2016,
         "CV-12805",
         "Cynthia Voltz",
         "-35.39"
        ],
        [
         2016,
         "CW-11905",
         "Carl Weiss",
         "22.76"
        ],
        [
         2016,
         "CY-12745",
         "Craig Yedwab",
         "49.73"
        ],
        [
         2016,
         "Co-12640",
         "CoreyLock",
         "19.19"
        ],
        [
         2016,
         "DB-12910",
         "Daniel Byrd",
         "146.83"
        ],
        [
         2016,
         "DB-12970",
         "Darren Budd",
         "84.30"
        ],
        [
         2016,
         "DB-13060",
         "Dave Brooks",
         "294.18"
        ],
        [
         2016,
         "DB-13210",
         "Dean Braden",
         "-66.47"
        ],
        [
         2016,
         "DB-13270",
         "Deborah Brumfield",
         "810.57"
        ],
        [
         2016,
         "DB-13360",
         "Dennis Bolton",
         "81.97"
        ],
        [
         2016,
         "DB-13615",
         "Doug Bickford",
         "22.73"
        ],
        [
         2016,
         "DB-13660",
         "Duane Benoit",
         "-35.22"
        ],
        [
         2016,
         "DC-12850",
         "Dan Campbell",
         "-239.55"
        ],
        [
         2016,
         "DC-13285",
         "Debra Catini",
         "10.46"
        ],
        [
         2016,
         "DD-13570",
         "Dorothy Dickinson",
         "-6.90"
        ],
        [
         2016,
         "DE-13255",
         "NA",
         "16.15"
        ],
        [
         2016,
         "DF-13135",
         "David Flashing",
         "-397.13"
        ],
        [
         2016,
         "DG-13300",
         "Deirdre Greer",
         "9.33"
        ],
        [
         2016,
         "DH-13075",
         "Dave Hallsten",
         "-19.60"
        ],
        [
         2016,
         "DJ-13420",
         "Denny Joy",
         "378.27"
        ],
        [
         2016,
         "DJ-13510",
         "Don Jones",
         "100.20"
        ],
        [
         2016,
         "DJ-13630",
         "Doug Jacobs",
         "25.78"
        ],
        [
         2016,
         "DK-12835",
         "Damala Kotsonis",
         "185.34"
        ],
        [
         2016,
         "DK-13090",
         "Dave Kipp",
         "-38.31"
        ],
        [
         2016,
         "DK-13225",
         "Dean Katz",
         "227.45"
        ],
        [
         2016,
         "DK-13375",
         "Dennis Kane",
         "360.97"
        ],
        [
         2016,
         "DL-12865",
         "Dan Lawera",
         "311.98"
        ],
        [
         2016,
         "DL-13315",
         "Delfina Latchford",
         "206.58"
        ],
        [
         2016,
         "DL-13330",
         "Denise Leinenbach",
         "5.22"
        ],
        [
         2016,
         "DL-13495",
         "Dionis Lloyd",
         "97.84"
        ],
        [
         2016,
         "DM-12955",
         "Dario Medina",
         "0.26"
        ],
        [
         2016,
         "DM-13015",
         "Darrin Martin",
         "-35.45"
        ],
        [
         2016,
         "DM-13345",
         "Denise Monton",
         "-61.90"
        ],
        [
         2016,
         "DM-13525",
         "Don Miller",
         "18.17"
        ],
        [
         2016,
         "DN-13690",
         "Duane Noonan",
         "222.39"
        ],
        [
         2016,
         "DO-13435",
         "Denny Ordway",
         "8.50"
        ],
        [
         2016,
         "DP-13000",
         "Darren Powers",
         "4.88"
        ],
        [
         2016,
         "DP-13105",
         "Dave Poirier",
         "486.12"
        ],
        [
         2016,
         "DP-13390",
         "Dennis Pardue",
         "1694.64"
        ],
        [
         2016,
         "DR-12880",
         "Dan Reichenbach",
         "126.06"
        ],
        [
         2016,
         "DR-12940",
         "Daniel Raglin",
         "2337.76"
        ],
        [
         2016,
         "DS-13180",
         "David Smith",
         "-46.95"
        ],
        [
         2016,
         "DV-13045",
         "DarrinVan Huff",
         "17.48"
        ],
        [
         2016,
         "DV-13465",
         "Dianna Vittorini",
         "89.95"
        ],
        [
         2016,
         "DW-13195",
         "David Wiener",
         "-34.16"
        ],
        [
         2016,
         "DW-13480",
         "Dianna Wilson",
         "31.09"
        ],
        [
         2016,
         "DW-13540",
         "Don Weiss",
         "16.01"
        ],
        [
         2016,
         "DW-13585",
         "Dorothy Wardle",
         "92.61"
        ],
        [
         2016,
         "Dl-13600",
         "Dorris liebe",
         "146.39"
        ],
        [
         2016,
         "Dp-13240",
         "Dean perceR",
         "117.74"
        ],
        [
         2016,
         "EA-14035",
         "Erin Ashbrook",
         "-342.69"
        ],
        [
         2016,
         "EB-13705",
         "Ed Braxton",
         "82.42"
        ],
        [
         2016,
         "EB-13750",
         "Edward Becker",
         "139.81"
        ],
        [
         2016,
         "EB-13840",
         "Ellis Ballard",
         "0.00"
        ],
        [
         2016,
         "EB-13870",
         "Emily Burns",
         "84.07"
        ],
        [
         2016,
         "EB-13930",
         "Eric Barreto",
         "74.27"
        ],
        [
         2016,
         "EB-13975",
         "Erica Bern",
         "151.89"
        ],
        [
         2016,
         "EB-14110",
         "Eugene Barchas",
         "187.62"
        ],
        [
         2016,
         "EB-14170",
         "Evan Bailliet",
         "4.44"
        ],
        [
         2016,
         "EC-14050",
         "Erin Creighton",
         "43.09"
        ],
        [
         2016,
         "ED-13885",
         "NA",
         "185.14"
        ],
        [
         2016,
         "EG-13900",
         "Emily Grady",
         "46.31"
        ],
        [
         2016,
         "EH-13765",
         "Edward Hooks",
         "758.80"
        ],
        [
         2016,
         "EH-13945",
         "Eric Hoffmann",
         "-13.38"
        ],
        [
         2016,
         "EH-13990",
         "Erica Hackney",
         "67.90"
        ],
        [
         2016,
         "EH-14005",
         "Erica Hernandez",
         "9.95"
        ],
        [
         2016,
         "EH-14125",
         "Eugene Hildebrand",
         "-71.64"
        ],
        [
         2016,
         "EH-14185",
         "Evan Henry",
         "209.28"
        ],
        [
         2016,
         "EJ-14155",
         "Eva Jacobs",
         "335.35"
        ],
        [
         2016,
         "EL-13735",
         "Ed Ludwig",
         "8.66"
        ],
        [
         2016,
         "EM-13810",
         "NA",
         "57.59"
        ],
        [
         2016,
         "EM-13825",
         "Elizabeth Moffitt",
         "-8.32"
        ],
        [
         2016,
         "EM-14065",
         "ErinMull",
         "-4.79"
        ],
        [
         2016,
         "EM-14095",
         "Eudokia Martin",
         "30.63"
        ],
        [
         2016,
         "EM-14140",
         "Eugene Moren",
         "968.57"
        ],
        [
         2016,
         "EN-13780",
         "Edward Nazzal",
         "438.40"
        ],
        [
         2016,
         "EP-13915",
         "Emily Phan",
         "-393.67"
        ],
        [
         2016,
         "ER-13855",
         "Elpida Rittenbach",
         "-299.90"
        ],
        [
         2016,
         "ES-14020",
         "Erica Smith",
         "71.99"
        ],
        [
         2016,
         "ES-14080",
         "Erin Smith",
         "-99.22"
        ],
        [
         2016,
         "FA-14230",
         "Frank Atkinson",
         "39.81"
        ],
        [
         2016,
         "FC-14245",
         "Frank Carlisle",
         "972.25"
        ],
        [
         2016,
         "FC-14335",
         "Fred Chung",
         "86.15"
        ],
        [
         2016,
         "FH-14275",
         "Frank Hawley",
         "166.29"
        ],
        [
         2016,
         "FH-14365",
         "Fred Hopkins",
         "6.91"
        ],
        [
         2016,
         "FM-14215",
         "Filia McAdams",
         "45.93"
        ],
        [
         2016,
         "FM-14290",
         "Frank Merwin",
         "-356.98"
        ],
        [
         2016,
         "FM-14380",
         "Fred McMath",
         "134.91"
        ],
        [
         2016,
         "FO-14305",
         "Frank Olsen",
         "22.56"
        ],
        [
         2016,
         "FP-14320",
         "Frank Preis",
         "359.70"
        ],
        [
         2016,
         "FW-14395",
         "Fred Waerman",
         "12.21"
        ],
        [
         2016,
         "GA-14515",
         "George Ashbrook",
         "53.56"
        ],
        [
         2016,
         "GB-14530",
         "George Bell",
         "-77.54"
        ],
        [
         2016,
         "GB-14575",
         "Giulietta Baptist",
         "73.22"
        ],
        [
         2016,
         "GD-14590",
         "Giulietta Dortch",
         "-155.30"
        ],
        [
         2016,
         "GG-14650",
         "Greg Guthrie",
         "15.93"
        ],
        [
         2016,
         "GH-14410",
         "GaryHansen",
         "-173.08"
        ],
        [
         2016,
         "GH-14485",
         "Gene Hale",
         "-24.49"
        ],
        [
         2016,
         "GK-14620",
         "Grace Kelly",
         "1315.57"
        ],
        [
         2016,
         "GM-14440",
         "Gary McGarr",
         "108.18"
        ],
        [
         2016,
         "GM-14455",
         "Gary Mitchum",
         "102.52"
        ],
        [
         2016,
         "GM-14500",
         "Gene McClure",
         "17.57"
        ],
        [
         2016,
         "GM-14680",
         "Greg Matthias",
         "-121.94"
        ],
        [
         2016,
         "GM-14695",
         "Greg Maxwell",
         "175.36"
        ],
        [
         2016,
         "GT-14710",
         "Greg Tran",
         "366.71"
        ],
        [
         2016,
         "GT-14755",
         "Guy Thornton",
         "6.30"
        ],
        [
         2016,
         "GW-14605",
         "Giulietta Weimer",
         "44.58"
        ],
        [
         2016,
         "GZ-14470",
         "Gary Zandusky",
         "652.31"
        ],
        [
         2016,
         "HA-14905",
         "Helen Abelman",
         "129.77"
        ],
        [
         2016,
         "HA-14920",
         "Helen Andreada",
         "-55.04"
        ],
        [
         2016,
         "HE-14800",
         "Harold Engle",
         "112.71"
        ],
        [
         2016,
         "HF-14995",
         "Herbert Flentye",
         "-167.31"
        ],
        [
         2016,
         "HG-14965",
         "Henry Goldwyn",
         "136.13"
        ],
        [
         2016,
         "HG-15025",
         "Hunter Glantz",
         "50.24"
        ],
        [
         2016,
         "HJ-14875",
         "Heather Jas",
         "55.99"
        ],
        [
         2016,
         "HK-14890",
         "Heather Kirkland",
         "17.02"
        ],
        [
         2016,
         "HL-15040",
         "Hunter Lopez",
         "128.54"
        ],
        [
         2016,
         "HM-14860",
         "Harry Marie",
         "82.75"
        ],
        [
         2016,
         "HM-14980",
         "Henry MacAllister",
         "1.73"
        ],
        [
         2016,
         "HW-14935",
         "Helen Waerman",
         "200.27"
        ],
        [
         2016,
         "HZ-14950",
         "Henia Zydlo",
         "6.29"
        ],
        [
         2016,
         "IG-15085",
         "Ivan Gibson",
         "54.86"
        ],
        [
         2016,
         "IL-15100",
         "Ivan Liston",
         "19.56"
        ],
        [
         2016,
         "IM-15055",
         "Ionia McGrath",
         "956.54"
        ],
        [
         2016,
         "IM-15070",
         "Irene Maddox",
         "329.30"
        ],
        [
         2016,
         "JA-15970",
         "Joseph Airdo",
         "114.19"
        ],
        [
         2016,
         "JB-15400",
         "Jennifer Braxton",
         "-98.62"
        ],
        [
         2016,
         "JB-16000",
         "Joy Bell",
         "15.97"
        ],
        [
         2016,
         "JB-16045",
         "Julia Barnett",
         "84.97"
        ],
        [
         2016,
         "JC-15340",
         "Jasper Cacioppo",
         "-4.08"
        ],
        [
         2016,
         "JC-15775",
         "John Castell",
         "70.55"
        ],
        [
         2016,
         "JD-15790",
         "John Dryer",
         "36.47"
        ],
        [
         2016,
         "JD-15895",
         "Jonathan Doherty",
         "1179.82"
        ],
        [
         2016,
         "JD-16150",
         "Justin Deggeller",
         "272.20"
        ],
        [
         2016,
         "JE-15475",
         "Jeremy Ellison",
         "185.63"
        ],
        [
         2016,
         "JE-15610",
         "Jim Epp",
         "22.24"
        ],
        [
         2016,
         "JE-15715",
         "Joe Elijah",
         "1210.66"
        ],
        [
         2016,
         "JE-15745",
         "Joel Eaton",
         "126.62"
        ],
        [
         2016,
         "JE-16165",
         "Justin Ellison",
         "776.35"
        ],
        [
         2016,
         "JF-15190",
         "Jamie Frazer",
         "173.31"
        ],
        [
         2016,
         "JF-15295",
         "Jason Fortune",
         "-9.88"
        ],
        [
         2016,
         "JF-15355",
         "Jay Fein",
         "40.75"
        ],
        [
         2016,
         "JF-15490",
         "Jeremy Farry",
         "13.11"
        ],
        [
         2016,
         "JF-15565",
         "Jill Fjeld",
         "849.66"
        ],
        [
         2016,
         "JG-15160",
         "James Galang",
         "230.36"
        ],
        [
         2016,
         "JG-15310",
         "Jason Gross",
         "-22.93"
        ],
        [
         2016,
         "JG-15805",
         "John Grady",
         "91.13"
        ],
        [
         2016,
         "JH-15910",
         "Jonathan Howell",
         "63.17"
        ],
        [
         2016,
         "JH-15985",
         "Joseph Holt",
         "72.03"
        ],
        [
         2016,
         "JH-16180",
         "Justin Hirsh",
         "-203.37"
        ],
        [
         2016,
         "JJ-15445",
         "Jennifer Jackson",
         "18.71"
        ],
        [
         2016,
         "JK-15205",
         "Jamie Kunitz",
         "1.03"
        ],
        [
         2016,
         "JK-15325",
         "Jason Klamczynski",
         "11.68"
        ],
        [
         2016,
         "JK-15370",
         "Jay Kimmel",
         "83.50"
        ],
        [
         2016,
         "JK-15730",
         "Joe Kamberova",
         "194.58"
        ],
        [
         2016,
         "JK-16120",
         "Julie Kriz",
         "108.52"
        ],
        [
         2016,
         "JL-15130",
         "Jack Lebron",
         "1.39"
        ],
        [
         2016,
         "JL-15175",
         "James Lanier",
         "-2.00"
        ],
        [
         2016,
         "JL-15235",
         "Janet Lee",
         "103.36"
        ],
        [
         2016,
         "JL-15505",
         "Jeremy Lonsdale",
         "21.75"
        ],
        [
         2016,
         "JL-15835",
         "John Lee",
         "2.80"
        ],
        [
         2016,
         "JL-15850",
         "John Lucas",
         "-37.95"
        ],
        [
         2016,
         "JM-15250",
         "Janet Martin",
         "155.23"
        ],
        [
         2016,
         "JM-15265",
         "Janet Molinari",
         "306.55"
        ],
        [
         2016,
         "JM-15535",
         "Jessica Myrick",
         "232.13"
        ],
        [
         2016,
         "JM-15580",
         "Jill Matthias",
         "113.72"
        ],
        [
         2016,
         "JM-15655",
         "Jim Mitchum",
         "65.90"
        ],
        [
         2016,
         "JM-15865",
         "John Murray",
         "-49.62"
        ],
        [
         2016,
         "JM-16195",
         "Justin MacKendrick",
         "23.86"
        ],
        [
         2016,
         "JO-15145",
         "Jack O'Briant",
         "440.01"
        ],
        [
         2016,
         "JO-15280",
         "Jas O'Carroll",
         "51.21"
        ],
        [
         2016,
         "JP-15460",
         "Jennifer Patt",
         "307.33"
        ],
        [
         2016,
         "JP-15520",
         "Jeremy Pistek",
         "130.51"
        ],
        [
         2016,
         "JP-16135",
         "Julie Prescott",
         "275.44"
        ],
        [
         2016,
         "JR-15670",
         "Jim Radford",
         "0.00"
        ],
        [
         2016,
         "JR-16210",
         "Justin Ritter",
         "44.21"
        ],
        [
         2016,
         "JS-15595",
         "JiStevenson",
         "78.40"
        ],
        [
         2016,
         "JS-15685",
         "Jim Sink",
         "-99.99"
        ],
        [
         2016,
         "JS-15880",
         "John Stevenson",
         "266.74"
        ],
        [
         2016,
         "JS-15940",
         "Joni Sundaresam",
         "-18.74"
        ],
        [
         2016,
         "JS-16030",
         "Joy Smith",
         "451.91"
        ],
        [
         2016,
         "JW-15220",
         "Jane Waco",
         "131.25"
        ],
        [
         2016,
         "JW-15955",
         "Joni Waerman",
         "1.20"
        ],
        [
         2016,
         "JW-16075",
         "Julia West",
         "20.38"
        ],
        [
         2016,
         "KA-16525",
         "Kelly Andreada",
         "67.44"
        ],
        [
         2016,
         "KB-16240",
         "Karen Bern",
         "-18.18"
        ],
        [
         2016,
         "KB-16315",
         "Karl Braun",
         "27.52"
        ],
        [
         2016,
         "KB-16585",
         "Ken Black",
         "96.32"
        ],
        [
         2016,
         "KB-16600",
         "Ken Brennan",
         "14.62"
        ],
        [
         2016,
         "KC-16255",
         "Karen Carlisle",
         "523.09"
        ],
        [
         2016,
         "KC-16540",
         "Kelly Collister",
         "635.68"
        ],
        [
         2016,
         "KC-16675",
         "Kimberly Carter",
         "-4.96"
        ],
        [
         2016,
         "KD-16270",
         "Karen Danels",
         "2318.70"
        ],
        [
         2016,
         "KD-16495",
         "Keith Dawkins",
         "58.71"
        ],
        [
         2016,
         "KD-16615",
         "NA",
         "68.22"
        ],
        [
         2016,
         "KE-16420",
         "Katrina Edelman",
         "19.00"
        ],
        [
         2016,
         "KF-16285",
         "Karen Ferguson",
         "371.05"
        ],
        [
         2016,
         "KH-16330",
         "Katharine Harms",
         "43.90"
        ],
        [
         2016,
         "KH-16360",
         "Katherine Hughes",
         "57.83"
        ],
        [
         2016,
         "KH-16630",
         "Ken Heidel",
         "30.61"
        ],
        [
         2016,
         "KH-16690",
         "Kristen Hastings",
         "7.18"
        ],
        [
         2016,
         "KL-16555",
         "Kelly Lampkin",
         "50.12"
        ],
        [
         2016,
         "KL-16645",
         "Ken Lonsdale",
         "-3.35"
        ],
        [
         2016,
         "KM-16225",
         "Kalyca Meade",
         "56.34"
        ],
        [
         2016,
         "KM-16375",
         "Katherine Murray",
         "128.90"
        ],
        [
         2016,
         "KM-16660",
         "Khloe Miller",
         "11.83"
        ],
        [
         2016,
         "KM-16720",
         "Kunst Miller",
         "54.92"
        ],
        [
         2016,
         "KN-16705",
         "Kristi'na Nunn",
         "25.00"
        ],
        [
         2016,
         "KT-16465",
         "Kean Takahito",
         "156.14"
        ],
        [
         2016,
         "KT-16480",
         "Kean Thornton",
         "19.61"
        ],
        [
         2016,
         "KW-16435",
         "Katrina Willman",
         "32.16"
        ],
        [
         2016,
         "LA-16780",
         "Laura Armstrong",
         "1526.65"
        ],
        [
         2016,
         "LB-16735",
         "Larry Blacks",
         "10.74"
        ],
        [
         2016,
         "LB-16795",
         "Laurel Beltran",
         "-658.62"
        ],
        [
         2016,
         "LC-16870",
         "NA",
         "-291.75"
        ],
        [
         2016,
         "LC-16885",
         "Lena Creighton",
         "147.88"
        ],
        [
         2016,
         "LC-16930",
         "Linda Cazamias",
         "246.91"
        ],
        [
         2016,
         "LC-16960",
         "Lindsay Castell",
         "21.27"
        ],
        [
         2016,
         "LC-17050",
         "Liz Carlisle",
         "225.26"
        ],
        [
         2016,
         "LC-17140",
         "Logan Currie",
         "235.33"
        ],
        [
         2016,
         "LD-16855",
         "Lela Donovan",
         "0.46"
        ],
        [
         2016,
         "LD-17005",
         "Lisa DeCherney",
         "111.26"
        ],
        [
         2016,
         "LE-16810",
         "Laurel Elliston",
         "179.75"
        ],
        [
         2016,
         "LF-17185",
         "Luke Foster",
         "0.72"
        ],
        [
         2016,
         "LH-16900",
         "Lena Hernandez",
         "56.70"
        ],
        [
         2016,
         "LH-17020",
         "Lisa Hazard",
         "16.46"
        ],
        [
         2016,
         "LH-17155",
         "Logan Haushalter",
         "212.10"
        ],
        [
         2016,
         "LM-17065",
         "Liz MacKendrick",
         "21.54"
        ],
        [
         2016,
         "LP-17080",
         "Liz Pelletier",
         "21.94"
        ],
        [
         2016,
         "LP-17095",
         "Liz Preis",
         "79.36"
        ],
        [
         2016,
         "LR-16915",
         "Lena Radford",
         "172.49"
        ],
        [
         2016,
         "LR-17035",
         "Lisa Ryan",
         "-387.68"
        ],
        [
         2016,
         "LS-16945",
         "Linda Southworth",
         "21.74"
        ],
        [
         2016,
         "LS-16975",
         "Lindsay Shagiari",
         "2.94"
        ],
        [
         2016,
         "LS-17200",
         "Luke Schmidt",
         "18.28"
        ],
        [
         2016,
         "LS-17245",
         "Lynn Smith",
         "60.37"
        ],
        [
         2016,
         "LT-17110",
         "Liz Thompson",
         "28.38"
        ],
        [
         2016,
         "LW-16825",
         "Laurel Workman",
         "-393.34"
        ],
        [
         2016,
         "LW-16990",
         "Lindsay Williams",
         "322.32"
        ],
        [
         2016,
         "LW-17125",
         "Liz Willingham",
         "165.80"
        ],
        [
         2016,
         "LW-17215",
         "Luke Weiss",
         "350.01"
        ],
        [
         2016,
         "MA-17560",
         "Matt Abelman",
         "28.38"
        ],
        [
         2016,
         "MA-17995",
         "Michelle Arnett",
         "191.39"
        ],
        [
         2016,
         "MB-17305",
         "Maria Bertelson",
         "83.51"
        ],
        [
         2016,
         "MB-18085",
         "Mick Brown",
         "45.32"
        ],
        [
         2016,
         "MC-17275",
         "Marc Crier",
         "20.91"
        ],
        [
         2016,
         "MC-17425",
         "Mark Cousins",
         "1610.20"
        ],
        [
         2016,
         "MC-17575",
         "Matt Collins",
         "15.59"
        ],
        [
         2016,
         "MC-17590",
         "Matt Collister",
         "379.01"
        ],
        [
         2016,
         "MC-17605",
         "Matt Connell",
         "11.31"
        ],
        [
         2016,
         "MC-17635",
         "Matthew Clasen",
         "27.42"
        ],
        [
         2016,
         "MC-17845",
         "Michael Chen",
         "60.54"
        ],
        [
         2016,
         "MC-18100",
         "Mick Crebagga",
         "0.93"
        ],
        [
         2016,
         "MC-18130",
         "Mike Caudle",
         "86.95"
        ],
        [
         2016,
         "MD-17350",
         "Maribeth Dona",
         "-14.22"
        ],
        [
         2016,
         "ME-17320",
         "Maria Etezadi",
         "451.46"
        ],
        [
         2016,
         "ME-17725",
         "Max Engle",
         "-1.62"
        ],
        [
         2016,
         "MF-17665",
         "Maureen Fritzler",
         "118.46"
        ],
        [
         2016,
         "MG-17650",
         "Matthew Grinstein",
         "204.84"
        ],
        [
         2016,
         "MG-17695",
         "Maureen Gnade",
         "16.70"
        ],
        [
         2016,
         "MG-17875",
         "Michael Grace",
         "62.24"
        ],
        [
         2016,
         "MG-17890",
         "Michael Granlund",
         "25.93"
        ],
        [
         2016,
         "MH-17290",
         "Marc Harrigan",
         "57.20"
        ],
        [
         2016,
         "MH-17440",
         "Mark Haberlin",
         "12.58"
        ],
        [
         2016,
         "MH-17455",
         "Mark Hamilton",
         "375.67"
        ],
        [
         2016,
         "MH-17620",
         "Matt Hagelstein",
         "-0.37"
        ],
        [
         2016,
         "MH-17785",
         "Maya Herman",
         "7.00"
        ],
        [
         2016,
         "MH-18115",
         "Mick Hernandez",
         "-216.22"
        ],
        [
         2016,
         "MJ-17740",
         "Max Jones",
         "728.75"
        ],
        [
         2016,
         "MK-17905",
         "Michael Kennedy",
         "-456.26"
        ],
        [
         2016,
         "MK-18160",
         "Mike Kennedy",
         "41.08"
        ],
        [
         2016,
         "ML-17395",
         "Marina Lichtenstein",
         "192.19"
        ],
        [
         2016,
         "ML-17410",
         "Maris LaWare",
         "15.00"
        ],
        [
         2016,
         "ML-17755",
         "Max Ludwig",
         "63.83"
        ],
        [
         2016,
         "MM-17260",
         "Magdelene Morse",
         "166.51"
        ],
        [
         2016,
         "MM-17920",
         "Michael Moore",
         "447.84"
        ],
        [
         2016,
         "MM-18280",
         "Muhammed MacIntyre",
         "8.84"
        ],
        [
         2016,
         "MN-17935",
         "Michael Nguyen",
         "5.52"
        ],
        [
         2016,
         "MO-17500",
         "Mary O'Rourke",
         "120.86"
        ],
        [
         2016,
         "MO-17800",
         "Meg O'Connel",
         "5.50"
        ],
        [
         2016,
         "MP-17470",
         "Mark Packer",
         "8.94"
        ],
        [
         2016,
         "MP-17965",
         "Michael Paige",
         "265.54"
        ],
        [
         2016,
         "MP-18175",
         "Mike Pelletier",
         "-295.64"
        ],
        [
         2016,
         "MS-17365",
         "Maribethchnelling",
         "514.79"
        ],
        [
         2016,
         "MS-17530",
         "MaryBeth Skach",
         "36.04"
        ],
        [
         2016,
         "MS-17710",
         "Maurice Satty",
         "-93.10"
        ],
        [
         2016,
         "MS-17770",
         "Maxwell Schwartz",
         "164.04"
        ],
        [
         2016,
         "MS-17830",
         "Melanie Seite",
         "-23.94"
        ],
        [
         2016,
         "MT-17815",
         "Meg Tillman",
         "432.25"
        ],
        [
         2016,
         "MT-18070",
         "Michelle Tran",
         "70.49"
        ],
        [
         2016,
         "MV-17485",
         "MarkVan Huff",
         "106.42"
        ],
        [
         2016,
         "MV-18190",
         "Mike Vittorini",
         "225.26"
        ],
        [
         2016,
         "MW-18220",
         "Mitch Webber",
         "0.50"
        ],
        [
         2016,
         "MY-17380",
         "Maribeth Yedwab",
         "33.05"
        ],
        [
         2016,
         "MY-18295",
         "Muhammed YeDwab",
         "-290.17"
        ],
        [
         2016,
         "MZ-17335",
         "Maria Zettner",
         "0.16"
        ],
        [
         2016,
         "MZ-17515",
         "Mary Zewe",
         "-25.24"
        ],
        [
         2016,
         "NB-18655",
         "Nona Balk",
         "-157.96"
        ],
        [
         2016,
         "NC-18340",
         "Nat Carroll",
         "26.29"
        ],
        [
         2016,
         "NC-18415",
         "Nathan Cano",
         "79.19"
        ],
        [
         2016,
         "NC-18535",
         "Nick Crebassa",
         "16.79"
        ],
        [
         2016,
         "NC-18625",
         "Noah Childs",
         "-461.20"
        ],
        [
         2016,
         "ND-18370",
         "Natalie DeCherney",
         "58.86"
        ],
        [
         2016,
         "NF-18385",
         "Natalie Fritzler",
         "-66.17"
        ],
        [
         2016,
         "NF-18475",
         "Neil Französisch",
         "-18.84"
        ],
        [
         2016,
         "NH-18610",
         "Nicole Hansen",
         "5.18"
        ],
        [
         2016,
         "NK-18490",
         "Neil Knudson",
         "39.41"
        ],
        [
         2016,
         "NL-18310",
         "Nancy Lomonaco",
         "18.66"
        ],
        [
         2016,
         "NM-18520",
         "Neoma Murray",
         "812.79"
        ],
        [
         2016,
         "NP-18670",
         "Nra Paige",
         "246.10"
        ],
        [
         2016,
         "NP-18685",
         "Nora Pelletier",
         "31.42"
        ],
        [
         2016,
         "NP-18700",
         "Nora Preis",
         "272.92"
        ],
        [
         2016,
         "NR-18550",
         "Nick Radford",
         "50.59"
        ],
        [
         2016,
         "NS-18505",
         "Neola Schneider",
         "19.54"
        ],
        [
         2016,
         "NS-18640",
         "Noel Staavos",
         "-298.25"
        ],
        [
         2016,
         "NW-18400",
         "Natalie Webber",
         "-255.45"
        ],
        [
         2016,
         "NZ-18565",
         "Nick Zandusky",
         "-30.61"
        ],
        [
         2016,
         "ON-18715",
         "Odella Nelson",
         "-157.53"
        ],
        [
         2016,
         "OT-18730",
         "Olvera Toch",
         "-1182.11"
        ],
        [
         2016,
         "PA-19060",
         "Pete Armstrong",
         "22.56"
        ],
        [
         2016,
         "PB-18805",
         "Patrick Bzostek",
         "95.85"
        ],
        [
         2016,
         "PB-19105",
         "Peter Bhler",
         "0.90"
        ],
        [
         2016,
         "PB-19150",
         "Philip Brown",
         "38.38"
        ],
        [
         2016,
         "PB-19210",
         "Phillip Breyer",
         "0.70"
        ],
        [
         2016,
         "PC-18745",
         "Pamela Coakley",
         "76.98"
        ],
        [
         2016,
         "PF-19165",
         "Philip Fox",
         "478.68"
        ],
        [
         2016,
         "PF-19225",
         "Phillip Flathmann",
         "513.27"
        ],
        [
         2016,
         "PG-18820",
         "Patrick Gardner",
         "551.29"
        ],
        [
         2016,
         "PG-18895",
         "Paul Gonzalez",
         "10.71"
        ],
        [
         2016,
         "PJ-18835",
         "Patrick Jones",
         "8.20"
        ],
        [
         2016,
         "PJ-19015",
         "Pauline Johnson",
         "30.40"
        ],
        [
         2016,
         "PK-18910",
         "Paul Knutson",
         "-807.78"
        ],
        [
         2016,
         "PK-19075",
         "Pete Kriz",
         "407.41"
        ],
        [
         2016,
         "PL-18925",
         "Paul Lucas",
         "-13.65"
        ],
        [
         2016,
         "PM-18940",
         "Paul MacIntyre",
         "158.53"
        ],
        [
         2016,
         "PM-19135",
         "Peter McVee",
         "30.35"
        ],
        [
         2016,
         "PN-18775",
         "Parhena Norris",
         "137.23"
        ],
        [
         2016,
         "PO-18850",
         "Patrick O'Brill",
         "-316.63"
        ],
        [
         2016,
         "PO-18865",
         "Patrick O'Donnell",
         "67.60"
        ],
        [
         2016,
         "PO-19180",
         "Philisse Overcash",
         "178.45"
        ],
        [
         2016,
         "PP-18955",
         "Paul Prost",
         "707.59"
        ],
        [
         2016,
         "PS-18760",
         "Pamela Stobb",
         "133.29"
        ],
        [
         2016,
         "PS-18970",
         "Paul Stevenson",
         "3.44"
        ],
        [
         2016,
         "PS-19045",
         "Penelope Sewall",
         "6.32"
        ],
        [
         2016,
         "PT-19090",
         "PeteTakahito",
         "-17.52"
        ],
        [
         2016,
         "PV-18985",
         "PaulVan Hugh",
         "155.32"
        ],
        [
         2016,
         "PW-19030",
         "Pauline Webber",
         "437.40"
        ],
        [
         2016,
         "PW-19240",
         "Pierre Wener",
         "-0.59"
        ],
        [
         2016,
         "QJ-19255",
         "Quincy Jones",
         "168.88"
        ],
        [
         2016,
         "RA-19285",
         "Ralph Arnett",
         "-6.57"
        ],
        [
         2016,
         "RA-19885",
         "Ruben Ausman",
         "3.89"
        ],
        [
         2016,
         "RA-19915",
         "Russell Applegate",
         "115.46"
        ],
        [
         2016,
         "RB-19360",
         "Raymond Buch",
         "195.46"
        ],
        [
         2016,
         "RB-19465",
         "Rick Bensley",
         "123.82"
        ],
        [
         2016,
         "RB-19570",
         "Rob Beeghly",
         "-5.98"
        ],
        [
         2016,
         "RB-19645",
         "Robert Barroso",
         "19.33"
        ],
        [
         2016,
         "RB-19795",
         "Ross Baird",
         "51.79"
        ],
        [
         2016,
         "RC-19825",
         "Roy Collins",
         "56.69"
        ],
        [
         2016,
         "RC-19960",
         "Ryan Crowe",
         "102.93"
        ],
        [
         2016,
         "RD-19480",
         "Rick Duston",
         "69.39"
        ],
        [
         2016,
         "RD-19585",
         "Rob Dowd",
         "24.23"
        ],
        [
         2016,
         "RD-19660",
         "Robert Dilbeck",
         "151.77"
        ],
        [
         2016,
         "RD-19720",
         "Roger Demir",
         "31.20"
        ],
        [
         2016,
         "RD-19810",
         "Ross DeVincentis",
         "115.76"
        ],
        [
         2016,
         "RD-19900",
         "Ruben Dartt",
         "177.10"
        ],
        [
         2016,
         "RE-19450",
         "Richard Eichhorn",
         "13.32"
        ],
        [
         2016,
         "RF-19345",
         "Randy Ferguson",
         "438.72"
        ],
        [
         2016,
         "RF-19735",
         "Roland Fjeld",
         "110.61"
        ],
        [
         2016,
         "RF-19840",
         "Roy Französisch",
         "264.16"
        ],
        [
         2016,
         "RH-19510",
         "Rick Huthwaite",
         "1152.82"
        ],
        [
         2016,
         "RH-19555",
         "Ritsa Hightower",
         "6.34"
        ],
        [
         2016,
         "RH-19600",
         "Rob Haberlin",
         "7.25"
        ],
        [
         2016,
         "RL-19615",
         "Rob Lucas",
         "-6.57"
        ],
        [
         2016,
         "RM-19375",
         "Raymond Messe",
         "162.04"
        ],
        [
         2016,
         "RO-19780",
         "Rose O'Brian",
         "-90.48"
        ],
        [
         2016,
         "RP-19270",
         "Rachel Payne",
         "11.70"
        ],
        [
         2016,
         "RP-19390",
         "Resi Pölking",
         "154.14"
        ],
        [
         2016,
         "RP-19855",
         "Roy Phan",
         "143.06"
        ],
        [
         2016,
         "RR-19315",
         "Ralph Ritter",
         "3.47"
        ],
        [
         2016,
         "RR-19525",
         "Rick Reed",
         "45.68"
        ],
        [
         2016,
         "RS-19420",
         "Ricardo Sperren",
         "14.42"
        ],
        [
         2016,
         "RS-19870",
         "Roy Skaria",
         "3.50"
        ],
        [
         2016,
         "RW-19630",
         "Rob Williams",
         "346.37"
        ],
        [
         2016,
         "RW-19690",
         "Robert Waldorf",
         "-2.63"
        ],
        [
         2016,
         "SA-20830",
         "SueAnn Reed",
         "-17.11"
        ],
        [
         2016,
         "SB-20290",
         "Sean Braxton",
         "16.89"
        ],
        [
         2016,
         "SC-20050",
         "SampleCompany A",
         "146.65"
        ],
        [
         2016,
         "SC-20095",
         "Sanjit Chand",
         "196.19"
        ],
        [
         2016,
         "SC-20230",
         "Scot Coram",
         "435.64"
        ],
        [
         2016,
         "SC-20305",
         "Sean Christensen",
         "37.46"
        ],
        [
         2016,
         "SC-20380",
         "ShahiCollister",
         "-25.00"
        ],
        [
         2016,
         "SC-20680",
         "Steve Carroll",
         "109.82"
        ],
        [
         2016,
         "SC-20695",
         "Steve Chapman",
         "347.96"
        ],
        [
         2016,
         "SC-20725",
         "Steven Cartwright",
         "273.18"
        ],
        [
         2016,
         "SC-20770",
         "Stewart Carmichael",
         "-734.27"
        ],
        [
         2016,
         "SC-20800",
         "Stuart Calhoun",
         "9.00"
        ],
        [
         2016,
         "SC-20845",
         "Sung Chung",
         "1.23"
        ],
        [
         2016,
         "SD-20485",
         "Shirley Daniels",
         "20.82"
        ],
        [
         2016,
         "SE-20110",
         "Sanjit Engle",
         "2673.77"
        ],
        [
         2016,
         "SF-20065",
         "Sandra Flanagan",
         "3.06"
        ],
        [
         2016,
         "SF-20200",
         "Sarah Foster",
         "21.14"
        ],
        [
         2016,
         "SF-20965",
         "Sylvia Foulston",
         "70.20"
        ],
        [
         2016,
         "SG-20470",
         "Sheri Gordon",
         "-18.45"
        ],
        [
         2016,
         "SG-20890",
         "Susan Gilcrest",
         "6.63"
        ],
        [
         2016,
         "SH-19975",
         "NA",
         "317.46"
        ],
        [
         2016,
         "SH-20395",
         "ShahiHopkins",
         "-1.48"
        ],
        [
         2016,
         "SJ-20125",
         "Sanjit Jacobs",
         "266.13"
        ],
        [
         2016,
         "SJ-20215",
         "Sarah Jordon",
         "-3.24"
        ],
        [
         2016,
         "SJ-20500",
         "Shirley Jackson",
         "253.82"
        ],
        [
         2016,
         "SK-19990",
         "Sally Knutson",
         "3.44"
        ],
        [
         2016,
         "SL-20155",
         "Sara Luxemburg",
         "3.11"
        ],
        [
         2016,
         "SM-20005",
         "Sally Matthias",
         "-77.84"
        ],
        [
         2016,
         "SM-20905",
         "Susan MacKendrick",
         "-16510.34"
        ],
        [
         2016,
         "SM-20950",
         "Suzanne McNair",
         "43.00"
        ],
        [
         2016,
         "SN-20560",
         "Skye Norling",
         "229.01"
        ],
        [
         2016,
         "SN-20710",
         "Steve Nguyen",
         "375.78"
        ],
        [
         2016,
         "SP-20545",
         "Sibella Parks",
         "-203.15"
        ],
        [
         2016,
         "SP-20620",
         "Stefania Perrino",
         "-171.23"
        ],
        [
         2016,
         "SP-20650",
         "Stephanie Phelps",
         "100.23"
        ],
        [
         2016,
         "SP-20860",
         "Sung Pak",
         "619.14"
        ],
        [
         2016,
         "SP-20920",
         "Susan Pistek",
         "8.70"
        ],
        [
         2016,
         "SR-20740",
         "Steven Roelle",
         "181.53"
        ],
        [
         2016,
         "SS-20140",
         "Saphhira Shifley",
         "6.55"
        ],
        [
         2016,
         "SS-20515",
         "Shirley Schmidt",
         "14.87"
        ],
        [
         2016,
         "SS-20590",
         "Sonia Sunley",
         "112.38"
        ],
        [
         2016,
         "SS-20875",
         "Sung Shariari",
         "-1.91"
        ],
        [
         2016,
         "SU-20665",
         "Stephanie Ulpright",
         "64.19"
        ],
        [
         2016,
         "SV-20365",
         "Seth Vernon",
         "39.77"
        ],
        [
         2016,
         "SV-20785",
         "Stewart Visinsky",
         "76.77"
        ],
        [
         2016,
         "SV-20815",
         "Stuart Van",
         "11.24"
        ],
        [
         2016,
         "SV-20935",
         "Susan Vittorini",
         "-30.20"
        ],
        [
         2016,
         "SW-20245",
         "Scot Wooten",
         "82.53"
        ],
        [
         2016,
         "SW-20275",
         "Scott Williamson",
         "221.48"
        ],
        [
         2016,
         "SW-20350",
         "Sean Wendt",
         "146.09"
        ],
        [
         2016,
         "SW-20455",
         "Shaun Weien",
         "125.20"
        ],
        [
         2016,
         "SW-20755",
         "Steven Ward",
         "48.51"
        ],
        [
         2016,
         "SZ-20035",
         "Sam Zeldin",
         "49.32"
        ],
        [
         2016,
         "TA-21385",
         "Tom Ashbrook",
         "-76.00"
        ],
        [
         2016,
         "TB-21055",
         "Ted Butterfield",
         "267.71"
        ],
        [
         2016,
         "TB-21175",
         "Thomas Boland",
         "-6.98"
        ],
        [
         2016,
         "TB-21250",
         "Tim Brockman",
         "-40.36"
        ],
        [
         2016,
         "TB-21280",
         "Toby Braunhardt",
         "290.98"
        ],
        [
         2016,
         "TB-21355",
         "Todd Boyes",
         "62.39"
        ],
        [
         2016,
         "TB-21400",
         "Tom Boeckenhauer",
         "12.18"
        ],
        [
         2016,
         "TB-21520",
         "Tracy Blumstein",
         "3.95"
        ],
        [
         2016,
         "TB-21595",
         "Troy Blackwell",
         "-144.59"
        ],
        [
         2016,
         "TB-21625",
         "Trudy Brown",
         "70.93"
        ],
        [
         2016,
         "TC-20980",
         "Tamara Chand",
         "8764.95"
        ],
        [
         2016,
         "TC-21295",
         "Toby Carlisle",
         "-27.83"
        ],
        [
         2016,
         "TC-21475",
         "Tony Chapman",
         "32.39"
        ],
        [
         2016,
         "TC-21535",
         "Tracy Collins",
         "161.53"
        ],
        [
         2016,
         "TD-20995",
         "Tamara Dahlen",
         "70.25"
        ],
        [
         2016,
         "TG-21310",
         "Toby Gnade",
         "844.64"
        ],
        [
         2016,
         "TH-21100",
         "Thea Hendricks",
         "9.19"
        ],
        [
         2016,
         "TH-21115",
         "Thea Hudgings",
         "-76.64"
        ],
        [
         2016,
         "TH-21235",
         "Tiffany House",
         "70.78"
        ],
        [
         2016,
         "TN-21040",
         "Tanja Norvell",
         "-903.28"
        ],
        [
         2016,
         "TP-21130",
         "Theone Pippenger",
         "376.74"
        ],
        [
         2016,
         "TP-21415",
         "Tom Prescott",
         "-91.11"
        ],
        [
         2016,
         "TP-21565",
         "Tracy Poddar",
         "104.74"
        ],
        [
         2016,
         "TR-21325",
         "Toby Ritter",
         "115.04"
        ],
        [
         2016,
         "TS-21160",
         "Theresa Swint",
         "-48.91"
        ],
        [
         2016,
         "TS-21205",
         "Thomas Seio",
         "104.77"
        ],
        [
         2016,
         "TS-21430",
         "Tom Stivers",
         "17.05"
        ],
        [
         2016,
         "TS-21505",
         "NA",
         "-69.83"
        ],
        [
         2016,
         "TS-21610",
         "Troy Staebel",
         "-57.29"
        ],
        [
         2016,
         "TS-21655",
         "Trudy Schmidt",
         "364.87"
        ],
        [
         2016,
         "TT-21070",
         "Ted Trevino",
         "2.69"
        ],
        [
         2016,
         "TT-21220",
         "Thomas Thornton",
         "60.39"
        ],
        [
         2016,
         "TT-21265",
         "Tim Taslimi",
         "32.53"
        ],
        [
         2016,
         "TT-21460",
         "Tonja Turnell",
         "2.40"
        ],
        [
         2016,
         "TW-21025",
         "Tamara Willingham",
         "33.01"
        ],
        [
         2016,
         "TZ-21580",
         "Tracy Zic",
         "75.97"
        ],
        [
         2016,
         "VB-21745",
         "Victoria Brennan",
         "105.42"
        ],
        [
         2016,
         "VD-21670",
         "Valerie Dominguez",
         "50.19"
        ],
        [
         2016,
         "VG-21790",
         "Vivek Gonzalez",
         "18.48"
        ],
        [
         2016,
         "VG-21805",
         "Vivek Grady",
         "28.14"
        ],
        [
         2016,
         "VM-21685",
         "Valerie Mitchum",
         "371.69"
        ],
        [
         2016,
         "VM-21835",
         "Vivian Mathis",
         "103.16"
        ],
        [
         2016,
         "VP-21760",
         "Victoria Pisteka",
         "31.65"
        ],
        [
         2016,
         "VS-21820",
         "Vivek Sundaresam",
         "-7.81"
        ],
        [
         2016,
         "VW-21775",
         "Victoria Wilson",
         "-188.81"
        ],
        [
         2016,
         "WB-21850",
         "William Brown",
         "293.65"
        ],
        [
         2016,
         "XP-21865",
         "Xylona Preis",
         "314.09"
        ],
        [
         2016,
         "YC-21895",
         "Yoseph Carroll",
         "427.27"
        ],
        [
         2016,
         "ZC-21910",
         "Zuschuss Carroll",
         "-1731.01"
        ],
        [
         2016,
         "ZD-21925",
         "Zuschuss Donatelli",
         "206.67"
        ],
        [
         2017,
         "AA-10315",
         "Alex Avila",
         "96.50"
        ],
        [
         2017,
         "AA-10375",
         "Allen Armold",
         "68.92"
        ],
        [
         2017,
         "AA-10480",
         "Andrew Allen",
         "5.44"
        ],
        [
         2017,
         "AA-10645",
         "Anna Andreadi",
         "6.22"
        ],
        [
         2017,
         "AB-10060",
         "Adam Bellavance",
         "477.84"
        ],
        [
         2017,
         "AB-10105",
         "Adrian Barton",
         "340.64"
        ],
        [
         2017,
         "AB-10150",
         "Aimee Bixby",
         "40.00"
        ],
        [
         2017,
         "AB-10165",
         "Alan Barnes",
         "141.73"
        ],
        [
         2017,
         "AB-10255",
         "Alejandro Ballentine",
         "197.67"
        ],
        [
         2017,
         "AB-10600",
         "Ann Blume",
         "-256.46"
        ],
        [
         2017,
         "AC-10420",
         "Alyssa Crouse",
         "-69.06"
        ],
        [
         2017,
         "AC-10450",
         "Amy Cox",
         "876.48"
        ],
        [
         2017,
         "AC-10615",
         "Ann Chong",
         "330.91"
        ],
        [
         2017,
         "AC-10660",
         "Anna Chung",
         "-32.34"
        ],
        [
         2017,
         "AD-10180",
         "Alan Dominguez",
         "1866.92"
        ],
        [
         2017,
         "AF-10870",
         "Art Ferguson",
         "-75.19"
        ],
        [
         2017,
         "AG-10270",
         "Alejandro Grove",
         "1.50"
        ],
        [
         2017,
         "AG-10300",
         "Aleksandra Gannaway",
         "1.67"
        ],
        [
         2017,
         "AG-10330",
         "Alex Grayson",
         "-67.10"
        ],
        [
         2017,
         "AG-10390",
         "Allen Goldenen",
         "8.30"
        ],
        [
         2017,
         "AG-10495",
         "Andrew Gjertsen",
         "25.05"
        ],
        [
         2017,
         "AG-10675",
         "Anna Gayman",
         "61.15"
        ],
        [
         2017,
         "AG-10765",
         "Anthony Garverick",
         "-66.01"
        ],
        [
         2017,
         "AG-10900",
         "Arthur Gainer",
         "-71.97"
        ],
        [
         2017,
         "AH-10030",
         "Aaron Hawkins",
         "2.34"
        ],
        [
         2017,
         "AH-10075",
         "Adam Hart",
         "-54.58"
        ],
        [
         2017,
         "AH-10120",
         "Adrian Hane",
         "322.56"
        ],
        [
         2017,
         "AH-10195",
         "Alan Haines",
         "-16.58"
        ],
        [
         2017,
         "AH-10210",
         "Alan Hwang",
         "946.65"
        ],
        [
         2017,
         "AH-10465",
         "Amy Hunt",
         "147.87"
        ],
        [
         2017,
         "AH-10585",
         "Angele Hood",
         "28.92"
        ],
        [
         2017,
         "AI-10855",
         "Arianne Irving",
         "77.28"
        ],
        [
         2017,
         "AJ-10780",
         "Anthony Jacobs",
         "208.05"
        ],
        [
         2017,
         "AJ-10795",
         "Anthony Johnson",
         "255.24"
        ],
        [
         2017,
         "AJ-10945",
         "Ashley Jarboe",
         "167.94"
        ],
        [
         2017,
         "AJ-10960",
         "Astrea Jones",
         "2.77"
        ],
        [
         2017,
         "AM-10360",
         "Alice McCarthy",
         "-1.57"
        ],
        [
         2017,
         "AM-10705",
         "Anne McFarland",
         "392.01"
        ],
        [
         2017,
         "AP-10720",
         "Anne Pryor",
         "-11.07"
        ],
        [
         2017,
         "AP-10915",
         "Arthur Prichep",
         "-179.86"
        ],
        [
         2017,
         "AR-10345",
         "Alex Russell",
         "23.95"
        ],
        [
         2017,
         "AR-10405",
         "Allen Rosenblatt",
         "-221.58"
        ],
        [
         2017,
         "AR-10510",
         "Andrew Roberts",
         "5.18"
        ],
        [
         2017,
         "AR-10540",
         "Andy Reiter",
         "2607.68"
        ],
        [
         2017,
         "AR-10825",
         "Anthony Rawles",
         "105.07"
        ],
        [
         2017,
         "AS-10045",
         "Aaron Smayling",
         "-377.96"
        ],
        [
         2017,
         "AS-10090",
         "Adam Shillingsburg",
         "-331.65"
        ],
        [
         2017,
         "AS-10135",
         "Adrian Shami",
         "20.34"
        ],
        [
         2017,
         "AS-10225",
         "Alan Schoenberger",
         "268.43"
        ],
        [
         2017,
         "AS-10240",
         "Alan Shonely",
         "-31.92"
        ],
        [
         2017,
         "AS-10285",
         "Alejandro Savely",
         "23.26"
        ],
        [
         2017,
         "AS-10630",
         "Ann Steele",
         "69.09"
        ],
        [
         2017,
         "AT-10435",
         "Alyssa Tate",
         "96.13"
        ],
        [
         2017,
         "AT-10735",
         "Annie Thurman",
         "111.72"
        ],
        [
         2017,
         "AW-10840",
         "Anthony Witt",
         "79.28"
        ],
        [
         2017,
         "AW-10930",
         "Arthur Wiediger",
         "87.22"
        ],
        [
         2017,
         "AY-10555",
         "Andy Yotov",
         "31.04"
        ],
        [
         2017,
         "AZ-10750",
         "Annie Zypern",
         "15.00"
        ],
        [
         2017,
         "BB-10990",
         "Barry Blumstein",
         "6.92"
        ],
        [
         2017,
         "BB-11545",
         "Brenda Bowman",
         "660.69"
        ],
        [
         2017,
         "BC-11125",
         "Becky Castell",
         "58.80"
        ],
        [
         2017,
         "BD-11320",
         "Bil Donatelli",
         "197.79"
        ],
        [
         2017,
         "BD-11500",
         "Bradley Drucker",
         "762.06"
        ],
        [
         2017,
         "BD-11560",
         "Brendan Dodson",
         "80.24"
        ],
        [
         2017,
         "BD-11605",
         "Brian Dahlen",
         "87.99"
        ],
        [
         2017,
         "BD-11620",
         "Brian DeCherney",
         "78.10"
        ],
        [
         2017,
         "BD-11635",
         "Brian Derr",
         "27.69"
        ],
        [
         2017,
         "BD-11725",
         "Bruce Degenhardt",
         "166.98"
        ],
        [
         2017,
         "BD-11770",
         "Bryan Davis",
         "30.58"
        ],
        [
         2017,
         "BE-11335",
         "Bil Eplett",
         "1440.55"
        ],
        [
         2017,
         "BE-11410",
         "Bobby Elias",
         "178.71"
        ],
        [
         2017,
         "BE-11455",
         "Brad Eason",
         "-52.07"
        ],
        [
         2017,
         "BF-10975",
         "Barbara Fisher",
         "6.97"
        ],
        [
         2017,
         "BF-11005",
         "Barry Franz",
         "71.98"
        ],
        [
         2017,
         "BF-11020",
         "Barry Französisch",
         "4.60"
        ],
        [
         2017,
         "BF-11080",
         "Bart Folk",
         "107.03"
        ],
        [
         2017,
         "BF-11170",
         "Ben Ferrer",
         "437.78"
        ],
        [
         2017,
         "BF-11215",
         "Benjamin Farhat",
         "328.37"
        ],
        [
         2017,
         "BF-11275",
         "Beth Fritzler",
         "38.00"
        ],
        [
         2017,
         "BG-11035",
         "Barry Gonzalez",
         "221.68"
        ],
        [
         2017,
         "BG-11695",
         "Brooke Gillingham",
         "11.66"
        ],
        [
         2017,
         "BG-11740",
         "Bruce Geld",
         "41.76"
        ],
        [
         2017,
         "BH-11710",
         "Brosina Hoffman",
         "119.51"
        ],
        [
         2017,
         "BK-11260",
         "Berenike Kampe",
         "21.45"
        ],
        [
         2017,
         "BM-11140",
         "Becky Martin",
         "99.90"
        ],
        [
         2017,
         "BM-11575",
         "Brendan Murry",
         "-51.19"
        ],
        [
         2017,
         "BM-11650",
         "Brian Moss",
         "1937.73"
        ],
        [
         2017,
         "BM-11785",
         "Bryan Mills",
         "6.92"
        ],
        [
         2017,
         "BN-11470",
         "Brad Norvell",
         "7.84"
        ],
        [
         2017,
         "BN-11515",
         "Bradley Nguyen",
         "42.57"
        ],
        [
         2017,
         "BO-11350",
         "Bil Overfelt",
         "-79.60"
        ],
        [
         2017,
         "BO-11425",
         "Bobby Odegard",
         "57.38"
        ],
        [
         2017,
         "BP-11050",
         "Barry Pond",
         "24.18"
        ],
        [
         2017,
         "BP-11095",
         "Bart Pistole",
         "228.63"
        ],
        [
         2017,
         "BP-11155",
         "''Becky Pak",
         "26.24"
        ],
        [
         2017,
         "BP-11185",
         "Ben Peterman",
         "330.74"
        ],
        [
         2017,
         "BP-11230",
         "Benjamin Patterson",
         "20.58"
        ],
        [
         2017,
         "BP-11290",
         "Beth Paige",
         "-183.00"
        ],
        [
         2017,
         "BS-11380",
         "Bil Stewart",
         "-228.10"
        ],
        [
         2017,
         "BS-11590",
         "Brendan Sweed",
         "168.47"
        ],
        [
         2017,
         "BS-11755",
         "Bruce Stewart",
         "115.84"
        ],
        [
         2017,
         "BS-11800",
         "Bryan Spruell",
         "116.94"
        ],
        [
         2017,
         "BT-11305",
         "Beth Thompson",
         "39.23"
        ],
        [
         2017,
         "BT-11395",
         "Bil Tyler",
         "-14.99"
        ],
        [
         2017,
         "BT-11530",
         "Bradley Talbott",
         "347.10"
        ],
        [
         2017,
         "BT-11680",
         "Brian Thompson",
         "35.43"
        ],
        [
         2017,
         "BV-11245",
         "Benjamin Venier",
         "105.94"
        ],
        [
         2017,
         "BW-11065",
         "Barry Weirich",
         "-77.13"
        ],
        [
         2017,
         "BW-11110",
         "Bart Watters",
         "720.83"
        ],
        [
         2017,
         "BW-11200",
         "Ben Wallace",
         "-14.11"
        ],
        [
         2017,
         "CA-11965",
         "Carol Adams",
         "16.48"
        ],
        [
         2017,
         "CA-12265",
         "Christina Anderson",
         "119.67"
        ],
        [
         2017,
         "CA-12310",
         "Christine Abelman",
         "143.36"
        ],
        [
         2017,
         "CA-12775",
         "Cynthia Arntzen",
         "191.87"
        ],
        [
         2017,
         "CB-12025",
         "Cassandra Brandow",
         "-239.46"
        ],
        [
         2017,
         "CB-12415",
         "Christy Brittain",
         "74.23"
        ],
        [
         2017,
         "CB-12535",
         "Claudia Bergmann",
         "341.51"
        ],
        [
         2017,
         "CC-12145",
         "Charles Crestani",
         "8.33"
        ],
        [
         2017,
         "CC-12220",
         "Chris Cortes",
         "393.60"
        ],
        [
         2017,
         "CC-12370",
         "Christopher Conant",
         "93.73"
        ],
        [
         2017,
         "CC-12430",
         "Chuck Clark",
         "108.97"
        ],
        [
         2017,
         "CC-12475",
         "Cindy Chapman",
         "40.35"
        ],
        [
         2017,
         "CC-12550",
         "Clay Cheatham",
         "34.30"
        ],
        [
         2017,
         "CC-12610",
         "Corey Catlett",
         "33.78"
        ],
        [
         2017,
         "CC-12670",
         "Craig Carreira",
         "114.35"
        ],
        [
         2017,
         "CD-11920",
         "Carlos Daly",
         "349.82"
        ],
        [
         2017,
         "CD-11980",
         "Carol Darley",
         "-214.46"
        ],
        [
         2017,
         "CD-12280",
         "Christina DeMoss",
         "233.48"
        ],
        [
         2017,
         "CG-12040",
         "Catherine Glotzbach",
         "21.87"
        ],
        [
         2017,
         "CG-12520",
         "Claire Gute",
         "1.82"
        ],
        [
         2017,
         "CJ-12010",
         "Caroline Jumper",
         "-524.22"
        ],
        [
         2017,
         "CK-12205",
         "Chloris Kastensmidt",
         "181.08"
        ],
        [
         2017,
         "CK-12325",
         "Christine Kargatis",
         "-124.27"
        ],
        [
         2017,
         "CK-12595",
         "Clytie Kelty",
         "211.09"
        ],
        [
         2017,
         "CK-12760",
         "Cyma Kinney",
         "-521.39"
        ],
        [
         2017,
         "CL-11890",
         "Carl Ludwig",
         "353.07"
        ],
        [
         2017,
         "CL-12565",
         "Clay Ludtke",
         "529.60"
        ],
        [
         2017,
         "CL-12700",
         "Craig Leslie",
         "164.91"
        ],
        [
         2017,
         "CM-11815",
         "Candace McMahon",
         "185.93"
        ],
        [
         2017,
         "CM-12115",
         "Chad McGuire",
         "400.47"
        ],
        [
         2017,
         "CM-12160",
         "Charles McCrossin",
         "-78.62"
        ],
        [
         2017,
         "CM-12190",
         "Charlotte Melton",
         "74.32"
        ],
        [
         2017,
         "CM-12385",
         "Christopher Martinez",
         "702.26"
        ],
        [
         2017,
         "CM-12655",
         "Corinna Mitchell",
         "855.93"
        ],
        [
         2017,
         "CP-12085",
         "Cathy Prescott",
         "230.57"
        ],
        [
         2017,
         "CP-12340",
         "Christine Phan",
         "-17.02"
        ],
        [
         2017,
         "CR-12580",
         "Clay Rozendal",
         "108.80"
        ],
        [
         2017,
         "CR-12730",
         "Craig Reiter",
         "253.37"
        ],
        [
         2017,
         "CR-12820",
         "Cyra Reiten",
         "81.14"
        ],
        [
         2017,
         "CS-11845",
         "Cari Sayre",
         "205.18"
        ],
        [
         2017,
         "CS-11860",
         "Cari Schnelling",
         "14.92"
        ],
        [
         2017,
         "CS-11950",
         "Carlos Soltero",
         "76.20"
        ],
        [
         2017,
         "CS-12175",
         "Charles Sheldon",
         "-3.31"
        ],
        [
         2017,
         "CS-12250",
         "Chris Selesnick",
         "174.26"
        ],
        [
         2017,
         "CS-12355",
         "Christine Sundaresam",
         "456.48"
        ],
        [
         2017,
         "CS-12400",
         "Christopher Schild",
         "-384.96"
        ],
        [
         2017,
         "CS-12460",
         "Chuck Sachs",
         "156.27"
        ],
        [
         2017,
         "CS-12505",
         "Cindy Stewart",
         "43.71"
        ],
        [
         2017,
         "CT-11995",
         "Carol Triggs",
         "159.26"
        ],
        [
         2017,
         "CV-12295",
         "Christina VanderZanden",
         "277.62"
        ],
        [
         2017,
         "CV-12805",
         "Cynthia Voltz",
         "134.09"
        ],
        [
         2017,
         "CW-11905",
         "Carl Weiss",
         "309.80"
        ],
        [
         2017,
         "CY-12745",
         "Craig Yedwab",
         "240.54"
        ],
        [
         2017,
         "DA-13450",
         "Dianna Arnett",
         "35.07"
        ],
        [
         2017,
         "DB-12910",
         "Daniel Byrd",
         "280.92"
        ],
        [
         2017,
         "DB-12970",
         "Darren Budd",
         "64.81"
        ],
        [
         2017,
         "DB-13060",
         "Dave Brooks",
         "-231.31"
        ],
        [
         2017,
         "DB-13120",
         "David Bremer",
         "-1136.72"
        ],
        [
         2017,
         "DB-13210",
         "Dean Braden",
         "277.97"
        ],
        [
         2017,
         "DB-13270",
         "Deborah Brumfield",
         "-15.55"
        ],
        [
         2017,
         "DB-13360",
         "Dennis Bolton",
         "113.54"
        ],
        [
         2017,
         "DB-13405",
         "Denny Blanton",
         "172.59"
        ],
        [
         2017,
         "DB-13555",
         "Dorothy Badders",
         "101.28"
        ],
        [
         2017,
         "DB-13615",
         "Doug Bickford",
         "60.50"
        ],
        [
         2017,
         "DB-13660",
         "Duane Benoit",
         "199.44"
        ],
        [
         2017,
         "DC-12850",
         "Dan Campbell",
         "-1128.75"
        ],
        [
         2017,
         "DC-13285",
         "Debra Catini",
         "11.06"
        ],
        [
         2017,
         "DD-13570",
         "Dorothy Dickinson",
         "51.97"
        ],
        [
         2017,
         "DG-13300",
         "Deirdre Greer",
         "530.95"
        ],
        [
         2017,
         "DH-13075",
         "Dave Hallsten",
         "106.98"
        ],
        [
         2017,
         "DJ-13510",
         "Don Jones",
         "57.32"
        ],
        [
         2017,
         "DJ-13630",
         "Doug Jacobs",
         "669.79"
        ],
        [
         2017,
         "DK-12835",
         "Damala Kotsonis",
         "349.28"
        ],
        [
         2017,
         "DK-12895",
         "Dana Kaydos",
         "316.38"
        ],
        [
         2017,
         "DK-12985",
         "Darren Koutras",
         "-22.94"
        ],
        [
         2017,
         "DK-13090",
         "Dave Kipp",
         "400.99"
        ],
        [
         2017,
         "DK-13150",
         "DavidK 'lendrick",
         "171.77"
        ],
        [
         2017,
         "DK-13225",
         "Dean Katz",
         "316.47"
        ],
        [
         2017,
         "DK-13375",
         "Dennis Kane",
         "2.65"
        ],
        [
         2017,
         "DL-12865",
         "Dan Lawera",
         "-6.90"
        ],
        [
         2017,
         "DL-12925",
         "Daniel Lacy",
         "24.87"
        ],
        [
         2017,
         "DL-13315",
         "Delfina Latchford",
         "94.23"
        ],
        [
         2017,
         "DL-13330",
         "Denise Leinenbach",
         "17.38"
        ],
        [
         2017,
         "DL-13495",
         "Dionis Lloyd",
         "-200.58"
        ],
        [
         2017,
         "DM-12955",
         "Dario Medina",
         "7.14"
        ],
        [
         2017,
         "DM-13015",
         "Darrin Martin",
         "106.77"
        ],
        [
         2017,
         "DM-13345",
         "Denise Monton",
         "1374.42"
        ],
        [
         2017,
         "DN-13690",
         "Duane Noonan",
         "138.42"
        ],
        [
         2017,
         "DO-13435",
         "Denny Ordway",
         "83.17"
        ],
        [
         2017,
         "DO-13645",
         "Doug O'Connell",
         "267.02"
        ],
        [
         2017,
         "DP-13000",
         "Darren Powers",
         "-48.17"
        ],
        [
         2017,
         "DP-13105",
         "Dave Poirier",
         "60.54"
        ],
        [
         2017,
         "DP-13390",
         "Dennis Pardue",
         "17.25"
        ],
        [
         2017,
         "DR-12880",
         "Dan Reichenbach",
         "1086.84"
        ],
        [
         2017,
         "DR-12940",
         "Daniel Raglin",
         "211.97"
        ],
        [
         2017,
         "DS-13030",
         "Darrin Sayre",
         "164.31"
        ],
        [
         2017,
         "DS-13180",
         "David Smith",
         "-29.56"
        ],
        [
         2017,
         "DV-13045",
         "DarrinVan Huff",
         "-445.11"
        ],
        [
         2017,
         "DV-13465",
         "Dianna Vittorini",
         "151.65"
        ],
        [
         2017,
         "DW-13195",
         "David Wiener",
         "-108.28"
        ],
        [
         2017,
         "DW-13480",
         "Dianna Wilson",
         "162.99"
        ],
        [
         2017,
         "DW-13540",
         "Don Weiss",
         "53.65"
        ],
        [
         2017,
         "DW-13585",
         "Dorothy Wardle",
         "5.11"
        ],
        [
         2017,
         "Dl-13600",
         "Dorris liebe",
         "-0.33"
        ],
        [
         2017,
         "Dp-13240",
         "Dean perceR",
         "-1031.12"
        ],
        [
         2017,
         "EA-14035",
         "Erin Ashbrook",
         "21.83"
        ],
        [
         2017,
         "EB-13705",
         "Ed Braxton",
         "10.60"
        ],
        [
         2017,
         "EB-13750",
         "Edward Becker",
         "-397.51"
        ],
        [
         2017,
         "EB-13840",
         "Ellis Ballard",
         "81.70"
        ],
        [
         2017,
         "EB-13870",
         "Emily Burns",
         "-80.44"
        ],
        [
         2017,
         "EB-13930",
         "Eric Barreto",
         "-75.19"
        ],
        [
         2017,
         "EB-13975",
         "Erica Bern",
         "10.99"
        ],
        [
         2017,
         "EB-14110",
         "Eugene Barchas",
         "-47.40"
        ],
        [
         2017,
         "EB-14170",
         "Evan Bailliet",
         "3.52"
        ],
        [
         2017,
         "EC-14050",
         "Erin Creighton",
         "57.37"
        ],
        [
         2017,
         "ED-13885",
         "NA",
         "-107.98"
        ],
        [
         2017,
         "EG-13900",
         "Emily Grady",
         "2.59"
        ],
        [
         2017,
         "EH-13765",
         "Edward Hooks",
         "405.82"
        ],
        [
         2017,
         "EH-13945",
         "Eric Hoffmann",
         "34.40"
        ],
        [
         2017,
         "EH-14005",
         "Erica Hernandez",
         "144.29"
        ],
        [
         2017,
         "EH-14125",
         "Eugene Hildebrand",
         "265.62"
        ],
        [
         2017,
         "EH-14185",
         "Evan Henry",
         "6.42"
        ],
        [
         2017,
         "EJ-13720",
         "Ed Jacobs",
         "423.72"
        ],
        [
         2017,
         "EJ-14155",
         "Eva Jacobs",
         "140.02"
        ],
        [
         2017,
         "EK-13795",
         "Eileen Kiefer",
         "6.07"
        ],
        [
         2017,
         "EL-13735",
         "Ed Ludwig",
         "18.45"
        ],
        [
         2017,
         "EM-13810",
         "NA",
         "10.48"
        ],
        [
         2017,
         "EM-13825",
         "Elizabeth Moffitt",
         "444.41"
        ],
        [
         2017,
         "EM-13960",
         "Eric Murdock",
         "50.37"
        ],
        [
         2017,
         "EM-14065",
         "ErinMull",
         "-14.44"
        ],
        [
         2017,
         "EM-14095",
         "Eudokia Martin",
         "16.93"
        ],
        [
         2017,
         "EM-14140",
         "Eugene Moren",
         "76.76"
        ],
        [
         2017,
         "EM-14200",
         "Evan Minnotte",
         "17.83"
        ],
        [
         2017,
         "EN-13780",
         "Edward Nazzal",
         "6.55"
        ],
        [
         2017,
         "EP-13915",
         "Emily Phan",
         "2.60"
        ],
        [
         2017,
         "ES-14020",
         "Erica Smith",
         "871.82"
        ],
        [
         2017,
         "ES-14080",
         "Erin Smith",
         "239.29"
        ],
        [
         2017,
         "FA-14230",
         "Frank Atkinson",
         "252.38"
        ],
        [
         2017,
         "FC-14245",
         "Frank Carlisle",
         "209.40"
        ],
        [
         2017,
         "FC-14335",
         "Fred Chung",
         "502.97"
        ],
        [
         2017,
         "FG-14260",
         "Frank Gastineau",
         "80.43"
        ],
        [
         2017,
         "FH-14275",
         "Frank Hawley",
         "12936.86"
        ],
        [
         2017,
         "FH-14350",
         "Fred Harton",
         "340.37"
        ],
        [
         2017,
         "FH-14365",
         "Fred Hopkins",
         "76.82"
        ],
        [
         2017,
         "FM-14215",
         "Filia McAdams",
         "-24.75"
        ],
        [
         2017,
         "FM-14290",
         "Frank Merwin",
         "530.86"
        ],
        [
         2017,
         "FM-14380",
         "Fred McMath",
         "38.70"
        ],
        [
         2017,
         "FO-14305",
         "Frank Olsen",
         "-70.98"
        ],
        [
         2017,
         "FP-14320",
         "Frank Preis",
         "49.32"
        ],
        [
         2017,
         "FW-14395",
         "Fred Waerman",
         "5.81"
        ],
        [
         2017,
         "GA-14515",
         "George Ashbrook",
         "139.07"
        ],
        [
         2017,
         "GA-14725",
         "Guy Armstrong",
         "23.50"
        ],
        [
         2017,
         "GB-14530",
         "George Bell",
         "44.29"
        ],
        [
         2017,
         "GB-14575",
         "Giulietta Baptist",
         "295.02"
        ],
        [
         2017,
         "GD-14590",
         "Giulietta Dortch",
         "364.23"
        ],
        [
         2017,
         "GG-14650",
         "Greg Guthrie",
         "-10.07"
        ],
        [
         2017,
         "GH-14410",
         "GaryHansen",
         "-496.24"
        ],
        [
         2017,
         "GH-14425",
         "Gary Hwang",
         "43.60"
        ],
        [
         2017,
         "GH-14665",
         "Greg Hansen",
         "-8.88"
        ],
        [
         2017,
         "GK-14620",
         "Grace Kelly",
         "3.45"
        ],
        [
         2017,
         "GM-14440",
         "Gary McGarr",
         "36.31"
        ],
        [
         2017,
         "GM-14455",
         "Gary Mitchum",
         "374.61"
        ],
        [
         2017,
         "GM-14500",
         "Gene McClure",
         "61.60"
        ],
        [
         2017,
         "GM-14680",
         "Greg Matthias",
         "-57.12"
        ],
        [
         2017,
         "GM-14695",
         "Greg Maxwell",
         "-99.18"
        ],
        [
         2017,
         "GT-14635",
         "Grant Thornton",
         "-3825.34"
        ],
        [
         2017,
         "GT-14710",
         "Greg Tran",
         "83.62"
        ],
        [
         2017,
         "GT-14755",
         "Guy Thornton",
         "-39.64"
        ],
        [
         2017,
         "GW-14605",
         "Giulietta Weimer",
         "-451.09"
        ],
        [
         2017,
         "GZ-14470",
         "Gary Zandusky",
         "259.10"
        ],
        [
         2017,
         "GZ-14545",
         "George Zrebassa",
         "816.17"
        ],
        [
         2017,
         "HA-14905",
         "Helen Abelman",
         "-79.00"
        ],
        [
         2017,
         "HA-14920",
         "Helen Andreada",
         "12.71"
        ],
        [
         2017,
         "HE-14800",
         "Harold Engle",
         "161.26"
        ],
        [
         2017,
         "HF-14995",
         "Herbert Flentye",
         "20.49"
        ],
        [
         2017,
         "HG-14845",
         "Harry Greene",
         "127.42"
        ],
        [
         2017,
         "HG-14965",
         "Henry Goldwyn",
         "-2971.38"
        ],
        [
         2017,
         "HG-15025",
         "Hunter Glantz",
         "82.02"
        ],
        [
         2017,
         "HH-15010",
         "Hilary Holden",
         "26.46"
        ],
        [
         2017,
         "HJ-14875",
         "Heather Jas",
         "13.97"
        ],
        [
         2017,
         "HK-14890",
         "Heather Kirkland",
         "399.00"
        ],
        [
         2017,
         "HL-15040",
         "Hunter Lopez",
         "5045.86"
        ],
        [
         2017,
         "HM-14860",
         "Harry Marie",
         "-16.56"
        ],
        [
         2017,
         "HM-14980",
         "Henry MacAllister",
         "41.23"
        ],
        [
         2017,
         "HP-14815",
         "Harold Pawlan",
         "293.88"
        ],
        [
         2017,
         "HR-14770",
         "Hallie Redmond",
         "135.68"
        ],
        [
         2017,
         "HR-14830",
         "Harold Ryan",
         "1000.69"
        ],
        [
         2017,
         "HW-14935",
         "Helen Waerman",
         "1946.70"
        ],
        [
         2017,
         "HZ-14950",
         "Henia Zydlo",
         "-136.68"
        ],
        [
         2017,
         "IG-15085",
         "Ivan Gibson",
         "92.92"
        ],
        [
         2017,
         "IL-15100",
         "Ivan Liston",
         "438.68"
        ],
        [
         2017,
         "JA-15970",
         "Joseph Airdo",
         "-1031.00"
        ],
        [
         2017,
         "JB-15400",
         "Jennifer Braxton",
         "251.19"
        ],
        [
         2017,
         "JB-16000",
         "Joy Bell",
         "111.09"
        ],
        [
         2017,
         "JB-16045",
         "Julia Barnett",
         "9.89"
        ],
        [
         2017,
         "JC-15340",
         "Jasper Cacioppo",
         "2.40"
        ],
        [
         2017,
         "JC-15385",
         "Jenna Caffey",
         "502.93"
        ],
        [
         2017,
         "JC-15775",
         "John Castell",
         "117.31"
        ],
        [
         2017,
         "JC-16105",
         "Julie Creighton",
         "62.30"
        ],
        [
         2017,
         "JD-15790",
         "John Dryer",
         "10.49"
        ],
        [
         2017,
         "JD-16015",
         "Joy Daniels",
         "37.07"
        ],
        [
         2017,
         "JD-16060",
         "Julia Dunbar",
         "131.89"
        ],
        [
         2017,
         "JD-16150",
         "Justin Deggeller",
         "1116.33"
        ],
        [
         2017,
         "JE-15475",
         "Jeremy Ellison",
         "33.59"
        ],
        [
         2017,
         "JE-15610",
         "Jim Epp",
         "1703.57"
        ],
        [
         2017,
         "JE-15715",
         "Joe Elijah",
         "60.42"
        ],
        [
         2017,
         "JE-15745",
         "Joel Eaton",
         "560.58"
        ],
        [
         2017,
         "JE-16165",
         "Justin Ellison",
         "13.67"
        ],
        [
         2017,
         "JF-15190",
         "Jamie Frazer",
         "347.08"
        ],
        [
         2017,
         "JF-15295",
         "Jason Fortune",
         "59.94"
        ],
        [
         2017,
         "JF-15355",
         "Jay Fein",
         "128.34"
        ],
        [
         2017,
         "JF-15415",
         "Jennifer Ferguson",
         "550.86"
        ],
        [
         2017,
         "JF-15490",
         "Jeremy Farry",
         "36.98"
        ],
        [
         2017,
         "JF-15565",
         "Jill Fjeld",
         "-1.49"
        ],
        [
         2017,
         "JG-15160",
         "James Galang",
         "69.85"
        ],
        [
         2017,
         "JG-15310",
         "Jason Gross",
         "26.52"
        ],
        [
         2017,
         "JG-15805",
         "John Grady",
         "78.02"
        ],
        [
         2017,
         "JH-15430",
         "Jennifer Halladay",
         "-42.85"
        ],
        [
         2017,
         "JH-15820",
         "John Huston",
         "-19.94"
        ],
        [
         2017,
         "JH-15910",
         "Jonathan Howell",
         "-125.37"
        ],
        [
         2017,
         "JH-15985",
         "Joseph Holt",
         "68.87"
        ],
        [
         2017,
         "JK-15205",
         "Jamie Kunitz",
         "557.69"
        ],
        [
         2017,
         "JK-15325",
         "Jason Klamczynski",
         "26.35"
        ],
        [
         2017,
         "JK-15370",
         "Jay Kimmel",
         "79.47"
        ],
        [
         2017,
         "JK-15625",
         "Jim Karlsson",
         "8.86"
        ],
        [
         2017,
         "JK-15640",
         "Jim Kriz",
         "981.67"
        ],
        [
         2017,
         "JK-15730",
         "Joe Kamberova",
         "30.95"
        ],
        [
         2017,
         "JK-16090",
         "Juliana Krohn",
         "357.77"
        ],
        [
         2017,
         "JK-16120",
         "Julie Kriz",
         "-273.77"
        ],
        [
         2017,
         "JL-15130",
         "Jack Lebron",
         "-218.58"
        ],
        [
         2017,
         "JL-15175",
         "James Lanier",
         "110.48"
        ],
        [
         2017,
         "JL-15235",
         "Janet Lee",
         "88.19"
        ],
        [
         2017,
         "JL-15505",
         "Jeremy Lonsdale",
         "529.02"
        ],
        [
         2017,
         "JL-15835",
         "John Lee",
         "837.22"
        ],
        [
         2017,
         "JM-15250",
         "Janet Martin",
         "-135.65"
        ],
        [
         2017,
         "JM-15265",
         "Janet Molinari",
         "149.28"
        ],
        [
         2017,
         "JM-15535",
         "Jessica Myrick",
         "18.56"
        ],
        [
         2017,
         "JM-15580",
         "Jill Matthias",
         "-0.60"
        ],
        [
         2017,
         "JM-15655",
         "Jim Mitchum",
         "43.58"
        ],
        [
         2017,
         "JM-15865",
         "John Murray",
         "24.63"
        ],
        [
         2017,
         "JM-16195",
         "Justin MacKendrick",
         "235.11"
        ],
        [
         2017,
         "JO-15145",
         "Jack O'Briant",
         "40.40"
        ],
        [
         2017,
         "JO-15280",
         "Jas O'Carroll",
         "-54.88"
        ],
        [
         2017,
         "JO-15550",
         "Jesus Ocampo",
         "13.22"
        ],
        [
         2017,
         "JP-15460",
         "Jennifer Patt",
         "10.66"
        ],
        [
         2017,
         "JP-15520",
         "Jeremy Pistek",
         "422.26"
        ],
        [
         2017,
         "JP-16135",
         "Julie Prescott",
         "19.51"
        ],
        [
         2017,
         "JR-15700",
         "Jocasta Rupert",
         "107.98"
        ],
        [
         2017,
         "JR-16210",
         "Justin Ritter",
         "255.77"
        ],
        [
         2017,
         "JS-15595",
         "JiStevenson",
         "-53.72"
        ],
        [
         2017,
         "JS-15685",
         "Jim Sink",
         "45.12"
        ],
        [
         2017,
         "JS-16030",
         "Joy Smith",
         "-766.57"
        ],
        [
         2017,
         "JW-15220",
         "Jane Waco",
         "1953.59"
        ],
        [
         2017,
         "JW-15955",
         "Joni Waerman",
         "170.87"
        ],
        [
         2017,
         "KA-16525",
         "Kelly Andreada",
         "39.94"
        ],
        [
         2017,
         "KB-16240",
         "Karen Bern",
         "763.56"
        ],
        [
         2017,
         "KB-16315",
         "Karl Braun",
         "69.64"
        ],
        [
         2017,
         "KB-16405",
         "Katrina Bavinger",
         "230.90"
        ],
        [
         2017,
         "KB-16585",
         "Ken Black",
         "240.99"
        ],
        [
         2017,
         "KB-16600",
         "Ken Brennan",
         "259.43"
        ],
        [
         2017,
         "KC-16540",
         "Kelly Collister",
         "24.48"
        ],
        [
         2017,
         "KC-16675",
         "Kimberly Carter",
         "156.37"
        ],
        [
         2017,
         "KD-16345",
         "Katherine Ducich",
         "20.36"
        ],
        [
         2017,
         "KD-16495",
         "Keith Dawkins",
         "134.84"
        ],
        [
         2017,
         "KD-16615",
         "NA",
         "198.92"
        ],
        [
         2017,
         "KE-16420",
         "Katrina Edelman",
         "-18.38"
        ],
        [
         2017,
         "KF-16285",
         "Karen Ferguson",
         "1206.84"
        ],
        [
         2017,
         "KH-16330",
         "Katharine Harms",
         "150.47"
        ],
        [
         2017,
         "KH-16360",
         "Katherine Hughes",
         "502.50"
        ],
        [
         2017,
         "KH-16510",
         "Keith Herrera",
         "431.29"
        ],
        [
         2017,
         "KH-16630",
         "Ken Heidel",
         "66.93"
        ],
        [
         2017,
         "KH-16690",
         "Kristen Hastings",
         "217.49"
        ],
        [
         2017,
         "KL-16555",
         "Kelly Lampkin",
         "-163.66"
        ],
        [
         2017,
         "KL-16645",
         "Ken Lonsdale",
         "161.72"
        ],
        [
         2017,
         "KM-16225",
         "Kalyca Meade",
         "128.93"
        ],
        [
         2017,
         "KM-16375",
         "Katherine Murray",
         "-140.70"
        ],
        [
         2017,
         "KM-16660",
         "Khloe Miller",
         "41.49"
        ],
        [
         2017,
         "KM-16720",
         "Kunst Miller",
         "364.68"
        ],
        [
         2017,
         "KN-16390",
         "Katherine Nockton",
         "10.26"
        ],
        [
         2017,
         "KN-16450",
         "Kean Nguyen",
         "112.42"
        ],
        [
         2017,
         "KN-16705",
         "Kristi'na Nunn",
         "301.88"
        ],
        [
         2017,
         "KS-16300",
         "Karen Seio",
         "-6.38"
        ],
        [
         2017,
         "KT-16480",
         "Kean Thornton",
         "34.32"
        ],
        [
         2017,
         "KW-16435",
         "Katrina Willman",
         "123.13"
        ],
        [
         2017,
         "LA-16780",
         "Laura Armstrong",
         "16.07"
        ],
        [
         2017,
         "LB-16735",
         "Larry Blacks",
         "7.91"
        ],
        [
         2017,
         "LB-16795",
         "Laurel Beltran",
         "627.99"
        ],
        [
         2017,
         "LC-16870",
         "NA",
         "-3.90"
        ],
        [
         2017,
         "LC-16885",
         "Lena Creighton",
         "-67.97"
        ],
        [
         2017,
         "LC-16930",
         "Linda Cazamias",
         "12.04"
        ],
        [
         2017,
         "LC-17050",
         "Liz Carlisle",
         "-10.39"
        ],
        [
         2017,
         "LC-17140",
         "Logan Currie",
         "2.40"
        ],
        [
         2017,
         "LE-16810",
         "Laurel Elliston",
         "-10.24"
        ],
        [
         2017,
         "LF-17185",
         "Luke Foster",
         "71.54"
        ],
        [
         2017,
         "LH-16750",
         "Larry Hughes",
         "17.67"
        ],
        [
         2017,
         "LH-16900",
         "Lena Hernandez",
         "65.22"
        ],
        [
         2017,
         "LH-17020",
         "Lisa Hazard",
         "-152.87"
        ],
        [
         2017,
         "LL-16840",
         "Lauren Leatherbury",
         "44.72"
        ],
        [
         2017,
         "LO-17170",
         "Lori Olson",
         "115.71"
        ],
        [
         2017,
         "LP-17080",
         "Liz Pelletier",
         "87.89"
        ],
        [
         2017,
         "LP-17095",
         "Liz Preis",
         "259.10"
        ],
        [
         2017,
         "LR-16915",
         "Lena Radford",
         "-272.58"
        ],
        [
         2017,
         "LR-17035",
         "Lisa Ryan",
         "99.27"
        ],
        [
         2017,
         "LS-16945",
         "Linda Southworth",
         "-350.00"
        ],
        [
         2017,
         "LS-16975",
         "Lindsay Shagiari",
         "229.37"
        ],
        [
         2017,
         "LS-17200",
         "Luke Schmidt",
         "57.82"
        ],
        [
         2017,
         "LS-17245",
         "Lynn Smith",
         "52.59"
        ],
        [
         2017,
         "LT-16765",
         "Larry Tron",
         "23.23"
        ],
        [
         2017,
         "LT-17110",
         "Liz Thompson",
         "-22.02"
        ],
        [
         2017,
         "LW-16825",
         "Laurel Workman",
         "2.32"
        ],
        [
         2017,
         "LW-16990",
         "Lindsay Williams",
         "340.51"
        ],
        [
         2017,
         "LW-17125",
         "Liz Willingham",
         "5.08"
        ],
        [
         2017,
         "LW-17215",
         "Luke Weiss",
         "67.07"
        ],
        [
         2017,
         "MA-17560",
         "Matt Abelman",
         "30.13"
        ],
        [
         2017,
         "MA-17995",
         "Michelle Arnett",
         "31.94"
        ],
        [
         2017,
         "MB-17305",
         "Maria Bertelson",
         "65.66"
        ],
        [
         2017,
         "MB-18085",
         "Mick Brown",
         "67.85"
        ],
        [
         2017,
         "MC-17275",
         "Marc Crier",
         "7.22"
        ],
        [
         2017,
         "MC-17575",
         "Matt Collins",
         "138.90"
        ],
        [
         2017,
         "MC-17590",
         "Matt Collister",
         "47.18"
        ],
        [
         2017,
         "MC-17605",
         "Matt Connell",
         "121.69"
        ],
        [
         2017,
         "MC-17635",
         "Matthew Clasen",
         "-317.03"
        ],
        [
         2017,
         "MC-17845",
         "Michael Chen",
         "242.12"
        ],
        [
         2017,
         "MC-18100",
         "Mick Crebagga",
         "26.70"
        ],
        [
         2017,
         "MD-17350",
         "Maribeth Dona",
         "-194.56"
        ],
        [
         2017,
         "MD-17860",
         "Michael Dominguez",
         "43.31"
        ],
        [
         2017,
         "ME-17320",
         "Maria Etezadi",
         "74.00"
        ],
        [
         2017,
         "ME-17725",
         "Max Engle",
         "23.16"
        ],
        [
         2017,
         "ME-18010",
         "Michelle Ellison",
         "-6.40"
        ],
        [
         2017,
         "MF-18250",
         "Monica Federle",
         "287.24"
        ],
        [
         2017,
         "MG-17650",
         "Matthew Grinstein",
         "112.69"
        ],
        [
         2017,
         "MG-17680",
         "Maureen Gastineau",
         "14.18"
        ],
        [
         2017,
         "MG-17875",
         "Michael Grace",
         "-29.44"
        ],
        [
         2017,
         "MG-17890",
         "Michael Granlund",
         "37.99"
        ],
        [
         2017,
         "MG-18145",
         "Mike Gockenbach",
         "196.72"
        ],
        [
         2017,
         "MG-18205",
         "Mitch Gastineau",
         "-1.24"
        ],
        [
         2017,
         "MH-17290",
         "Marc Harrigan",
         "-42.61"
        ],
        [
         2017,
         "MH-17455",
         "Mark Hamilton",
         "84.94"
        ],
        [
         2017,
         "MH-17620",
         "Matt Hagelstein",
         "108.05"
        ],
        [
         2017,
         "MH-17785",
         "Maya Herman",
         "3.35"
        ],
        [
         2017,
         "MH-18025",
         "Michelle Huthwaite",
         "374.93"
        ],
        [
         2017,
         "MH-18115",
         "Mick Hernandez",
         "387.20"
        ],
        [
         2017,
         "MJ-17740",
         "Max Jones",
         "403.72"
        ],
        [
         2017,
         "MK-17905",
         "Michael Kennedy",
         "7.01"
        ],
        [
         2017,
         "MK-18160",
         "Mike Kennedy",
         "209.04"
        ],
        [
         2017,
         "ML-17395",
         "Marina Lichtenstein",
         "11.10"
        ],
        [
         2017,
         "ML-17410",
         "Maris LaWare",
         "-345.71"
        ],
        [
         2017,
         "ML-17755",
         "Max Ludwig",
         "346.16"
        ],
        [
         2017,
         "ML-18040",
         "Michelle Lonsdale",
         "138.72"
        ],
        [
         2017,
         "ML-18265",
         "Muhammed Lee",
         "41.51"
        ],
        [
         2017,
         "MM-17260",
         "Magdelene Morse",
         "-39.46"
        ],
        [
         2017,
         "MM-17920",
         "Michael Moore",
         "-48.12"
        ],
        [
         2017,
         "MM-18055",
         "Michelle Moray",
         "-403.77"
        ],
        [
         2017,
         "MM-18280",
         "Muhammed MacIntyre",
         "33.04"
        ],
        [
         2017,
         "MN-17935",
         "Michael Nguyen",
         "254.13"
        ],
        [
         2017,
         "MO-17500",
         "Mary O'Rourke",
         "-67.54"
        ],
        [
         2017,
         "MO-17800",
         "Meg O'Connel",
         "180.45"
        ],
        [
         2017,
         "MO-17950",
         "Michael Oakman",
         "-2.70"
        ],
        [
         2017,
         "MP-17965",
         "Michael Paige",
         "116.45"
        ],
        [
         2017,
         "MP-18175",
         "Mike Pelletier",
         "119.69"
        ],
        [
         2017,
         "MR-17545",
         "Mathew Reese",
         "153.34"
        ],
        [
         2017,
         "MS-17365",
         "Maribethchnelling",
         "40.74"
        ],
        [
         2017,
         "MS-17770",
         "Maxwell Schwartz",
         "9.70"
        ],
        [
         2017,
         "MS-17980",
         "Michael Stewart",
         "-20.38"
        ],
        [
         2017,
         "MT-17815",
         "Meg Tillman",
         "74.97"
        ],
        [
         2017,
         "MT-18070",
         "Michelle Tran",
         "2.05"
        ],
        [
         2017,
         "MV-17485",
         "MarkVan Huff",
         "68.79"
        ],
        [
         2017,
         "MV-18190",
         "Mike Vittorini",
         "21.47"
        ],
        [
         2017,
         "MW-18220",
         "Mitch Webber",
         "8.49"
        ],
        [
         2017,
         "MW-18235",
         "Mitch Willingham",
         "216.00"
        ],
        [
         2017,
         "MY-17380",
         "Maribeth Yedwab",
         "283.44"
        ],
        [
         2017,
         "MY-18295",
         "Muhammed YeDwab",
         "21.59"
        ],
        [
         2017,
         "MZ-17335",
         "Maria Zettner",
         "15.51"
        ],
        [
         2017,
         "MZ-17515",
         "Mary Zewe",
         "17.38"
        ],
        [
         2017,
         "NB-18655",
         "Nona Balk",
         "61.16"
        ],
        [
         2017,
         "NC-18340",
         "Nat Carroll",
         "216.57"
        ],
        [
         2017,
         "NC-18415",
         "Nathan Cano",
         "-2330.27"
        ],
        [
         2017,
         "NC-18535",
         "Nick Crebassa",
         "607.03"
        ],
        [
         2017,
         "NC-18625",
         "Noah Childs",
         "48.78"
        ],
        [
         2017,
         "ND-18370",
         "Natalie DeCherney",
         "-84.03"
        ],
        [
         2017,
         "ND-18460",
         "Neil Ducich",
         "379.25"
        ],
        [
         2017,
         "NF-18385",
         "Natalie Fritzler",
         "163.46"
        ],
        [
         2017,
         "NF-18595",
         "Nicole Fjeld",
         "87.86"
        ],
        [
         2017,
         "NG-18355",
         "Nat Gilpin",
         "86.50"
        ],
        [
         2017,
         "NG-18430",
         "Nathan Gelder",
         "28.27"
        ],
        [
         2017,
         "NH-18610",
         "Nicole Hansen",
         "635.96"
        ],
        [
         2017,
         "NK-18490",
         "Neil Knudson",
         "80.02"
        ],
        [
         2017,
         "NL-18310",
         "Nancy Lomonaco",
         "282.27"
        ],
        [
         2017,
         "NM-18445",
         "Nathan Mautz",
         "4.35"
        ],
        [
         2017,
         "NM-18520",
         "Neoma Murray",
         "2.82"
        ],
        [
         2017,
         "NP-18325",
         "NA",
         "41.82"
        ],
        [
         2017,
         "NP-18670",
         "Nra Paige",
         "186.21"
        ],
        [
         2017,
         "NP-18700",
         "Nora Preis",
         "71.95"
        ],
        [
         2017,
         "NR-18550",
         "Nick Radford",
         "48.06"
        ],
        [
         2017,
         "NS-18505",
         "Neola Schneider",
         "-31.86"
        ],
        [
         2017,
         "NS-18640",
         "Noel Staavos",
         "-99.52"
        ],
        [
         2017,
         "NW-18400",
         "Natalie Webber",
         "11.82"
        ],
        [
         2017,
         "NZ-18565",
         "Nick Zandusky",
         "102.32"
        ],
        [
         2017,
         "OT-18730",
         "Olvera Toch",
         "175.55"
        ],
        [
         2017,
         "PA-19060",
         "Pete Armstrong",
         "35.89"
        ],
        [
         2017,
         "PB-18805",
         "Patrick Bzostek",
         "125.36"
        ],
        [
         2017,
         "PB-19105",
         "Peter Bhler",
         "13.19"
        ],
        [
         2017,
         "PB-19150",
         "Philip Brown",
         "71.93"
        ],
        [
         2017,
         "PC-18745",
         "Pamela Coakley",
         "-0.99"
        ],
        [
         2017,
         "PF-19165",
         "Philip Fox",
         "50.65"
        ],
        [
         2017,
         "PF-19225",
         "Phillip Flathmann",
         "78.02"
        ],
        [
         2017,
         "PG-18820",
         "Patrick Gardner",
         "96.42"
        ],
        [
         2017,
         "PG-18895",
         "Paul Gonzalez",
         "220.26"
        ],
        [
         2017,
         "PH-18790",
         "Patricia Hirasaki",
         "47.89"
        ],
        [
         2017,
         "PJ-18835",
         "Patrick Jones",
         "43.61"
        ],
        [
         2017,
         "PJ-19015",
         "Pauline Johnson",
         "609.43"
        ],
        [
         2017,
         "PK-19075",
         "Pete Kriz",
         "1617.17"
        ],
        [
         2017,
         "PL-18925",
         "Paul Lucas",
         "-18.95"
        ],
        [
         2017,
         "PM-19135",
         "Peter McVee",
         "69.60"
        ],
        [
         2017,
         "PN-18775",
         "Parhena Norris",
         "48.35"
        ],
        [
         2017,
         "PO-18850",
         "Patrick O'Brill",
         "290.64"
        ],
        [
         2017,
         "PO-18865",
         "Patrick O'Donnell",
         "238.16"
        ],
        [
         2017,
         "PO-19180",
         "Philisse Overcash",
         "153.55"
        ],
        [
         2017,
         "PO-19195",
         "Phillina Ober",
         "28.80"
        ],
        [
         2017,
         "PP-18955",
         "Paul Prost",
         "247.93"
        ],
        [
         2017,
         "PR-18880",
         "Patrick Ryan",
         "5555.93"
        ],
        [
         2017,
         "PS-18760",
         "Pamela Stobb",
         "-166.52"
        ],
        [
         2017,
         "PS-18970",
         "Paul Stevenson",
         "44.94"
        ],
        [
         2017,
         "PS-19045",
         "Penelope Sewall",
         "1060.31"
        ],
        [
         2017,
         "PT-19090",
         "PeteTakahito",
         "5.50"
        ],
        [
         2017,
         "PV-18985",
         "PaulVan Hugh",
         "283.49"
        ],
        [
         2017,
         "PW-19030",
         "Pauline Webber",
         "333.80"
        ],
        [
         2017,
         "QJ-19255",
         "Quincy Jones",
         "-99.70"
        ],
        [
         2017,
         "RA-19285",
         "Ralph Arnett",
         "317.48"
        ],
        [
         2017,
         "RA-19885",
         "Ruben Ausman",
         "510.77"
        ],
        [
         2017,
         "RA-19915",
         "Russell Applegate",
         "29.55"
        ],
        [
         2017,
         "RA-19945",
         "Ryan Akin",
         "-105.50"
        ],
        [
         2017,
         "RB-19330",
         "Randy Bradley",
         "-74.31"
        ],
        [
         2017,
         "RB-19360",
         "Raymond Buch",
         "6780.90"
        ],
        [
         2017,
         "RB-19435",
         "Richard Bierner",
         "362.94"
        ],
        [
         2017,
         "RB-19465",
         "Rick Bensley",
         "179.78"
        ],
        [
         2017,
         "RB-19570",
         "Rob Beeghly",
         "82.87"
        ],
        [
         2017,
         "RB-19705",
         "Roger Barcio",
         "325.85"
        ],
        [
         2017,
         "RB-19795",
         "Ross Baird",
         "-502.56"
        ],
        [
         2017,
         "RC-19960",
         "Ryan Crowe",
         "6.04"
        ],
        [
         2017,
         "RD-19480",
         "Rick Duston",
         "276.27"
        ],
        [
         2017,
         "RD-19585",
         "Rob Dowd",
         "66.27"
        ],
        [
         2017,
         "RD-19660",
         "Robert Dilbeck",
         "757.41"
        ],
        [
         2017,
         "RD-19720",
         "Roger Demir",
         "78.99"
        ],
        [
         2017,
         "RD-19810",
         "Ross DeVincentis",
         "195.03"
        ],
        [
         2017,
         "RD-19900",
         "Ruben Dartt",
         "82.83"
        ],
        [
         2017,
         "RD-19930",
         "Russell D'Ascenzo",
         "19.33"
        ],
        [
         2017,
         "RE-19450",
         "Richard Eichhorn",
         "9.74"
        ],
        [
         2017,
         "RF-19735",
         "Roland Fjeld",
         "391.47"
        ],
        [
         2017,
         "RF-19840",
         "Roy Französisch",
         "-0.30"
        ],
        [
         2017,
         "RH-19495",
         "Rick Hansen",
         "48.21"
        ],
        [
         2017,
         "RK-19300",
         "Ralph Kennedy",
         "4.11"
        ],
        [
         2017,
         "RL-19615",
         "Rob Lucas",
         "68.15"
        ],
        [
         2017,
         "RM-19375",
         "Raymond Messe",
         "196.75"
        ],
        [
         2017,
         "RM-19675",
         "Robert Marley",
         "1041.91"
        ],
        [
         2017,
         "RM-19750",
         "Roland Murray",
         "28.68"
        ],
        [
         2017,
         "RO-19780",
         "Rose O'Brian",
         "-174.33"
        ],
        [
         2017,
         "RP-19390",
         "Resi Pölking",
         "28.30"
        ],
        [
         2017,
         "RP-19855",
         "Roy Phan",
         "19.81"
        ],
        [
         2017,
         "RR-19315",
         "Ralph Ritter",
         "-77.30"
        ],
        [
         2017,
         "RR-19525",
         "Rick Reed",
         "99.94"
        ],
        [
         2017,
         "RS-19420",
         "Ricardo Sperren",
         "300.10"
        ],
        [
         2017,
         "RS-19765",
         "Roland Schwarz",
         "649.38"
        ],
        [
         2017,
         "RS-19870",
         "Roy Skaria",
         "6.08"
        ],
        [
         2017,
         "RW-19540",
         "Rick Wilson",
         "1660.85"
        ],
        [
         2017,
         "RW-19630",
         "Rob Williams",
         "321.91"
        ],
        [
         2017,
         "RW-19690",
         "Robert Waldorf",
         "710.18"
        ],
        [
         2017,
         "SA-20830",
         "SueAnn Reed",
         "177.85"
        ],
        [
         2017,
         "SB-20170",
         "Sarah Bern",
         "191.07"
        ],
        [
         2017,
         "SB-20185",
         "Sarah Brown",
         "13.32"
        ],
        [
         2017,
         "SB-20290",
         "Sean Braxton",
         "-907.05"
        ],
        [
         2017,
         "SC-20050",
         "SampleCompany A",
         "91.45"
        ],
        [
         2017,
         "SC-20095",
         "Sanjit Chand",
         "5.84"
        ],
        [
         2017,
         "SC-20230",
         "Scot Coram",
         "4.18"
        ],
        [
         2017,
         "SC-20260",
         "Scott Cohen",
         "200.26"
        ],
        [
         2017,
         "SC-20305",
         "Sean Christensen",
         "98.25"
        ],
        [
         2017,
         "SC-20380",
         "ShahiCollister",
         "270.29"
        ],
        [
         2017,
         "SC-20440",
         "Shaun Chance",
         "4.29"
        ],
        [
         2017,
         "SC-20575",
         "Sonia Cooley",
         "70.27"
        ],
        [
         2017,
         "SC-20680",
         "Steve Carroll",
         "15.12"
        ],
        [
         2017,
         "SC-20695",
         "Steve Chapman",
         "-11.60"
        ],
        [
         2017,
         "SC-20725",
         "Steven Cartwright",
         "483.77"
        ],
        [
         2017,
         "SC-20770",
         "Stewart Carmichael",
         "-84.83"
        ],
        [
         2017,
         "SC-20800",
         "Stuart Calhoun",
         "2.58"
        ],
        [
         2017,
         "SC-20845",
         "Sung Chung",
         "29.94"
        ],
        [
         2017,
         "SD-20485",
         "Shirley Daniels",
         "-113.20"
        ],
        [
         2017,
         "SE-20110",
         "Sanjit Engle",
         "-236.83"
        ],
        [
         2017,
         "SF-20065",
         "Sandra Flanagan",
         "110.13"
        ],
        [
         2017,
         "SF-20200",
         "Sarah Foster",
         "294.84"
        ],
        [
         2017,
         "SF-20965",
         "Sylvia Foulston",
         "8.49"
        ],
        [
         2017,
         "SG-20080",
         "Sandra Glassco",
         "218.25"
        ],
        [
         2017,
         "SG-20470",
         "Sheri Gordon",
         "-295.98"
        ],
        [
         2017,
         "SG-20605",
         "Speros Goranitis",
         "25.46"
        ],
        [
         2017,
         "SG-20890",
         "Susan Gilcrest",
         "-13.27"
        ],
        [
         2017,
         "SH-19975",
         "NA",
         "129.85"
        ],
        [
         2017,
         "SH-20395",
         "ShahiHopkins",
         "106.91"
        ],
        [
         2017,
         "SJ-20125",
         "Sanjit Jacobs",
         "-56.59"
        ],
        [
         2017,
         "SJ-20215",
         "Sarah Jordon",
         "-26.04"
        ],
        [
         2017,
         "SJ-20500",
         "Shirley Jackson",
         "-243.16"
        ],
        [
         2017,
         "SK-19990",
         "Sally Knutson",
         "165.35"
        ],
        [
         2017,
         "SL-20155",
         "Sara Luxemburg",
         "437.91"
        ],
        [
         2017,
         "SM-20320",
         "Sean Miller",
         "34.28"
        ],
        [
         2017,
         "SM-20950",
         "Suzanne McNair",
         "442.28"
        ],
        [
         2017,
         "SN-20560",
         "Skye Norling",
         "-1130.43"
        ],
        [
         2017,
         "SN-20710",
         "Steve Nguyen",
         "-18.19"
        ],
        [
         2017,
         "SO-20335",
         "Sean O'Donnell",
         "200.88"
        ],
        [
         2017,
         "SP-20545",
         "Sibella Parks",
         "81.96"
        ],
        [
         2017,
         "SP-20620",
         "Stefania Perrino",
         "-165.80"
        ],
        [
         2017,
         "SP-20860",
         "Sung Pak",
         "11.84"
        ],
        [
         2017,
         "SP-20920",
         "Susan Pistek",
         "-18.55"
        ],
        [
         2017,
         "SR-20425",
         "Sharelle Roach",
         "-3391.66"
        ],
        [
         2017,
         "SR-20740",
         "Steven Roelle",
         "1676.31"
        ],
        [
         2017,
         "SS-20140",
         "Saphhira Shifley",
         "387.73"
        ],
        [
         2017,
         "SS-20410",
         "ShahiShariari",
         "58.91"
        ],
        [
         2017,
         "SS-20875",
         "Sung Shariari",
         "14.82"
        ],
        [
         2017,
         "ST-20530",
         "Shui Tom",
         "12.79"
        ],
        [
         2017,
         "SU-20665",
         "Stephanie Ulpright",
         "623.11"
        ],
        [
         2017,
         "SV-20365",
         "Seth Vernon",
         "1570.94"
        ],
        [
         2017,
         "SV-20785",
         "Stewart Visinsky",
         "9.29"
        ],
        [
         2017,
         "SV-20815",
         "Stuart Van",
         "4.20"
        ],
        [
         2017,
         "SV-20935",
         "Susan Vittorini",
         "136.82"
        ],
        [
         2017,
         "SW-20245",
         "Scot Wooten",
         "-64.07"
        ],
        [
         2017,
         "SW-20275",
         "Scott Williamson",
         "100.28"
        ],
        [
         2017,
         "SW-20350",
         "Sean Wendt",
         "-50.25"
        ],
        [
         2017,
         "SW-20455",
         "Shaun Weien",
         "50.00"
        ],
        [
         2017,
         "SZ-20035",
         "Sam Zeldin",
         "50.42"
        ],
        [
         2017,
         "TA-21385",
         "Tom Ashbrook",
         "4599.20"
        ],
        [
         2017,
         "TB-21055",
         "Ted Butterfield",
         "122.05"
        ],
        [
         2017,
         "TB-21175",
         "Thomas Boland",
         "829.65"
        ],
        [
         2017,
         "TB-21190",
         "Thomas Brumley",
         "13.98"
        ],
        [
         2017,
         "TB-21250",
         "Tim Brockman",
         "-31.68"
        ],
        [
         2017,
         "TB-21355",
         "Todd Boyes",
         "206.56"
        ],
        [
         2017,
         "TB-21400",
         "Tom Boeckenhauer",
         "218.55"
        ],
        [
         2017,
         "TB-21520",
         "Tracy Blumstein",
         "42.26"
        ],
        [
         2017,
         "TB-21595",
         "Troy Blackwell",
         "1.37"
        ],
        [
         2017,
         "TB-21625",
         "Trudy Brown",
         "233.35"
        ],
        [
         2017,
         "TC-21145",
         "Theresa Coyne",
         "265.59"
        ],
        [
         2017,
         "TC-21295",
         "Toby Carlisle",
         "231.67"
        ],
        [
         2017,
         "TC-21475",
         "Tony Chapman",
         "76.21"
        ],
        [
         2017,
         "TC-21535",
         "Tracy Collins",
         "22.41"
        ],
        [
         2017,
         "TD-20995",
         "Tamara Dahlen",
         "13.68"
        ],
        [
         2017,
         "TG-21310",
         "Toby Gnade",
         "35.86"
        ],
        [
         2017,
         "TG-21640",
         "Trudy Glocke",
         "84.42"
        ],
        [
         2017,
         "TH-21100",
         "Thea Hendricks",
         "10.05"
        ],
        [
         2017,
         "TH-21115",
         "Thea Hudgings",
         "-181.36"
        ],
        [
         2017,
         "TH-21235",
         "Tiffany House",
         "24.70"
        ],
        [
         2017,
         "TH-21550",
         "Tracy Hopkins",
         "-990.17"
        ],
        [
         2017,
         "TM-21010",
         "Tamara Manning",
         "205.84"
        ],
        [
         2017,
         "TM-21490",
         "Tony Molinari",
         "292.53"
        ],
        [
         2017,
         "TN-21040",
         "Tanja Norvell",
         "22.00"
        ],
        [
         2017,
         "TP-21130",
         "Theone Pippenger",
         "753.76"
        ],
        [
         2017,
         "TP-21415",
         "Tom Prescott",
         "-1060.79"
        ],
        [
         2017,
         "TP-21565",
         "Tracy Poddar",
         "-0.04"
        ],
        [
         2017,
         "TR-21325",
         "Toby Ritter",
         "76.80"
        ],
        [
         2017,
         "TS-21085",
         "Thais Sissman",
         "-1.97"
        ],
        [
         2017,
         "TS-21205",
         "Thomas Seio",
         "286.36"
        ],
        [
         2017,
         "TS-21340",
         "Toby Swindell",
         "7.29"
        ],
        [
         2017,
         "TS-21370",
         "Todd Sumrall",
         "1218.01"
        ],
        [
         2017,
         "TS-21430",
         "Tom Stivers",
         "14.71"
        ],
        [
         2017,
         "TS-21505",
         "NA",
         "-6.23"
        ],
        [
         2017,
         "TS-21610",
         "Troy Staebel",
         "-10.11"
        ],
        [
         2017,
         "TS-21655",
         "Trudy Schmidt",
         "-110.05"
        ],
        [
         2017,
         "TT-21070",
         "Ted Trevino",
         "422.93"
        ],
        [
         2017,
         "TT-21220",
         "Thomas Thornton",
         "147.47"
        ],
        [
         2017,
         "TT-21460",
         "Tonja Turnell",
         "840.99"
        ],
        [
         2017,
         "TW-21025",
         "Tamara Willingham",
         "-6.06"
        ],
        [
         2017,
         "TZ-21580",
         "Tracy Zic",
         "1.34"
        ],
        [
         2017,
         "VB-21745",
         "Victoria Brennan",
         "181.21"
        ],
        [
         2017,
         "VF-21715",
         "Vicky Freymann",
         "62.48"
        ],
        [
         2017,
         "VG-21790",
         "Vivek Gonzalez",
         "106.10"
        ],
        [
         2017,
         "VG-21805",
         "Vivek Grady",
         "2.41"
        ],
        [
         2017,
         "VM-21685",
         "Valerie Mitchum",
         "67.41"
        ],
        [
         2017,
         "VM-21835",
         "Vivian Mathis",
         "6.97"
        ],
        [
         2017,
         "VP-21730",
         "Victor Preis",
         "196.46"
        ],
        [
         2017,
         "VP-21760",
         "Victoria Pisteka",
         "-964.48"
        ],
        [
         2017,
         "VS-21820",
         "Vivek Sundaresam",
         "-6.42"
        ],
        [
         2017,
         "VW-21775",
         "Victoria Wilson",
         "565.88"
        ],
        [
         2017,
         "WB-21850",
         "William Brown",
         "401.51"
        ],
        [
         2017,
         "XP-21865",
         "Xylona Preis",
         "80.12"
        ],
        [
         2017,
         "YC-21895",
         "Yoseph Carroll",
         "37.53"
        ],
        [
         2017,
         "YS-21880",
         "Yana Sorensen",
         "1524.13"
        ],
        [
         2017,
         "ZC-21910",
         "Zuschuss Carroll",
         "62.34"
        ],
        [
         2017,
         "ZD-21925",
         "Zuschuss Donatelli",
         "16.59"
        ]
       ],
       "datasetInfos": [],
       "dbfsResultPath": null,
       "isJsonSchema": true,
       "metadata": {},
       "overflow": false,
       "plotOptions": {
        "customPlotOptions": {},
        "displayType": "table",
        "pivotAggregation": null,
        "pivotColumns": null,
        "xColumns": null,
        "yColumns": null
       },
       "removedWidgets": [],
       "schema": [
        {
         "metadata": "{}",
         "name": "year",
         "type": "\"integer\""
        },
        {
         "metadata": "{}",
         "name": "Customer_ID",
         "type": "\"string\""
        },
        {
         "metadata": "{}",
         "name": "Customer_Name",
         "type": "\"string\""
        },
        {
         "metadata": "{}",
         "name": "profit_by_cust",
         "type": "\"decimal(38,2)\""
        }
       ],
       "type": "table"
      }
     },
     "output_type": "display_data"
    }
   ],
   "source": [
    "%sql\n",
    "select year(Order_Date) as `year`,Customer_ID,Customer_Name,\n",
    "round(sum(Profit),2) as profit_by_cust from enriched_order_with_cust_and_product\n",
    "group by year(Order_Date),Customer_ID,Customer_Name order by year(Order_Date),Customer_ID;"
   ]
  },
  {
   "cell_type": "code",
   "execution_count": 0,
   "metadata": {
    "application/vnd.databricks.v1+cell": {
     "cellMetadata": {
      "byteLimit": 2048000,
      "rowLimit": 10000
     },
     "inputWidgets": {},
     "nuid": "80879bdc-b9f7-4da5-8d53-cf3eea4d4266",
     "showTitle": false,
     "tableResultSettingsMap": {},
     "title": ""
    }
   },
   "outputs": [],
   "source": [
    "# %fs ls dbfs:/FileStore/tables/\n",
    "# % dbutils.fs.head(\"/FileStore/tables/orders.json\", 1000)\n",
    "# %pip install pytest\n",
    "# dbutils.fs.rm(\"dbfs:/mnt/raw/customer_data\", recurse=True)\n",
    "# dbutils.fs.rm(\"dbfs:/mnt/raw/product_data\", recurse=True)\n",
    "# dbutils.fs.rm(\"dbfs:/mnt/raw/order_data_1\", recurse=True)\n",
    "# dbutils.fs.rm(\"dbfs:/mnt/enriched/enriched_order_with_cust_and_product\", recurse=True)\n",
    "# dbutils.fs.rm(\"dbfs:/mnt/enriched/enriched_aggregated_data\", recurse=True)"
   ]
  }
 ],
 "metadata": {
  "application/vnd.databricks.v1+notebook": {
   "computePreferences": null,
   "dashboards": [],
   "environmentMetadata": {
    "base_environment": "",
    "environment_version": "1"
   },
   "inputWidgetPreferences": null,
   "language": "python",
   "notebookMetadata": {
    "mostRecentlyExecutedCommandWithImplicitDF": {
     "commandId": 4431730533624082,
     "dataframes": [
      "_sqldf"
     ]
    },
    "pythonIndentUnit": 4
   },
   "notebookName": "PEIworkshop",
   "widgets": {}
  }
 },
 "nbformat": 4,
 "nbformat_minor": 0
}